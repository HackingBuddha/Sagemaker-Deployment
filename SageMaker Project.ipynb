{
 "cells": [
  {
   "cell_type": "markdown",
   "metadata": {},
   "source": [
    "# Creating a Sentiment Analysis Web App\n",
    "## Using PyTorch and SageMaker\n",
    "\n",
    "_Deep Learning Nanodegree Program | Deployment_\n",
    "\n",
    "---\n",
    "\n",
    "Now that we have a basic understanding of how SageMaker works we will try to use it to construct a complete project from end to end. Our goal will be to have a simple web page which a user can use to enter a movie review. The web page will then send the review off to our deployed model which will predict the sentiment of the entered review.\n",
    "\n",
    "## Instructions\n",
    "\n",
    "Some template code has already been provided for you, and you will need to implement additional functionality to successfully complete this notebook. You will not need to modify the included code beyond what is requested. Sections that begin with '**TODO**' in the header indicate that you need to complete or implement some portion within them. Instructions will be provided for each section and the specifics of the implementation are marked in the code block with a `# TODO: ...` comment. Please be sure to read the instructions carefully!\n",
    "\n",
    "In addition to implementing code, there will be questions for you to answer which relate to the task and your implementation. Each section where you will answer a question is preceded by a '**Question:**' header. Carefully read each question and provide your answer below the '**Answer:**' header by editing the Markdown cell.\n",
    "\n",
    "> **Note**: Code and Markdown cells can be executed using the **Shift+Enter** keyboard shortcut. In addition, a cell can be edited by typically clicking it (double-click for Markdown cells) or by pressing **Enter** while it is highlighted.\n",
    "\n",
    "## General Outline\n",
    "\n",
    "Recall the general outline for SageMaker projects using a notebook instance.\n",
    "\n",
    "1. Download or otherwise retrieve the data.\n",
    "2. Process / Prepare the data.\n",
    "3. Upload the processed data to S3.\n",
    "4. Train a chosen model.\n",
    "5. Test the trained model (typically using a batch transform job).\n",
    "6. Deploy the trained model.\n",
    "7. Use the deployed model.\n",
    "\n",
    "For this project, you will be following the steps in the general outline with some modifications. \n",
    "\n",
    "First, you will not be testing the model in its own step. You will still be testing the model, however, you will do it by deploying your model and then using the deployed model by sending the test data to it. One of the reasons for doing this is so that you can make sure that your deployed model is working correctly before moving forward.\n",
    "\n",
    "In addition, you will deploy and use your trained model a second time. In the second iteration you will customize the way that your trained model is deployed by including some of your own code. In addition, your newly deployed model will be used in the sentiment analysis web app."
   ]
  },
  {
   "cell_type": "markdown",
   "metadata": {},
   "source": [
    "## Step 1: Downloading the data\n",
    "\n",
    "As in the XGBoost in SageMaker notebook, we will be using the [IMDb dataset](http://ai.stanford.edu/~amaas/data/sentiment/)\n",
    "\n",
    "> Maas, Andrew L., et al. [Learning Word Vectors for Sentiment Analysis](http://ai.stanford.edu/~amaas/data/sentiment/). In _Proceedings of the 49th Annual Meeting of the Association for Computational Linguistics: Human Language Technologies_. Association for Computational Linguistics, 2011."
   ]
  },
  {
   "cell_type": "code",
   "execution_count": 1,
   "metadata": {},
   "outputs": [],
   "source": [
    "#%mkdir ../data\n",
    "#!wget -O ../data/aclImdb_v1.tar.gz http://ai.stanford.edu/~amaas/data/sentiment/aclImdb_v1.tar.gz\n",
    "#!tar -zxf ../data/aclImdb_v1.tar.gz -C ../data"
   ]
  },
  {
   "cell_type": "markdown",
   "metadata": {},
   "source": [
    "## Step 2: Preparing and Processing the data\n",
    "\n",
    "Also, as in the XGBoost notebook, we will be doing some initial data processing. The first few steps are the same as in the XGBoost example. To begin with, we will read in each of the reviews and combine them into a single input structure. Then, we will split the dataset into a training set and a testing set."
   ]
  },
  {
   "cell_type": "code",
   "execution_count": 2,
   "metadata": {},
   "outputs": [],
   "source": [
    "import os\n",
    "import glob\n",
    "\n",
    "def read_imdb_data(data_dir='../data/aclImdb'):\n",
    "    data = {}\n",
    "    labels = {}\n",
    "    \n",
    "    for data_type in ['train', 'test']:\n",
    "        data[data_type] = {}\n",
    "        labels[data_type] = {}\n",
    "        \n",
    "        for sentiment in ['pos', 'neg']:\n",
    "            data[data_type][sentiment] = []\n",
    "            labels[data_type][sentiment] = []\n",
    "            \n",
    "            path = os.path.join(data_dir, data_type, sentiment, '*.txt')\n",
    "            files = glob.glob(path)\n",
    "            \n",
    "            for f in files:\n",
    "                with open(f) as review:\n",
    "                    data[data_type][sentiment].append(review.read())\n",
    "                    # Here we represent a positive review by '1' and a negative review by '0'\n",
    "                    labels[data_type][sentiment].append(1 if sentiment == 'pos' else 0)\n",
    "                    \n",
    "            assert len(data[data_type][sentiment]) == len(labels[data_type][sentiment]), \\\n",
    "                    \"{}/{} data size does not match labels size\".format(data_type, sentiment)\n",
    "                \n",
    "    return data, labels"
   ]
  },
  {
   "cell_type": "code",
   "execution_count": 3,
   "metadata": {},
   "outputs": [
    {
     "name": "stdout",
     "output_type": "stream",
     "text": [
      "IMDB reviews: train = 12500 pos / 12500 neg, test = 12500 pos / 12500 neg\n"
     ]
    }
   ],
   "source": [
    "data, labels = read_imdb_data()\n",
    "print(\"IMDB reviews: train = {} pos / {} neg, test = {} pos / {} neg\".format(\n",
    "            len(data['train']['pos']), len(data['train']['neg']),\n",
    "            len(data['test']['pos']), len(data['test']['neg'])))"
   ]
  },
  {
   "cell_type": "markdown",
   "metadata": {},
   "source": [
    "Now that we've read the raw training and testing data from the downloaded dataset, we will combine the positive and negative reviews and shuffle the resulting records."
   ]
  },
  {
   "cell_type": "code",
   "execution_count": 4,
   "metadata": {},
   "outputs": [],
   "source": [
    "from sklearn.utils import shuffle\n",
    "\n",
    "def prepare_imdb_data(data, labels):\n",
    "    \"\"\"Prepare training and test sets from IMDb movie reviews.\"\"\"\n",
    "    \n",
    "    #Combine positive and negative reviews and labels\n",
    "    data_train = data['train']['pos'] + data['train']['neg']\n",
    "    data_test = data['test']['pos'] + data['test']['neg']\n",
    "    labels_train = labels['train']['pos'] + labels['train']['neg']\n",
    "    labels_test = labels['test']['pos'] + labels['test']['neg']\n",
    "    \n",
    "    #Shuffle reviews and corresponding labels within training and test sets\n",
    "    data_train, labels_train = shuffle(data_train, labels_train)\n",
    "    data_test, labels_test = shuffle(data_test, labels_test)\n",
    "    \n",
    "    # Return a unified training data, test data, training labels, test labets\n",
    "    return data_train, data_test, labels_train, labels_test"
   ]
  },
  {
   "cell_type": "code",
   "execution_count": 5,
   "metadata": {},
   "outputs": [
    {
     "name": "stdout",
     "output_type": "stream",
     "text": [
      "IMDb reviews (combined): train = 25000, test = 25000\n"
     ]
    }
   ],
   "source": [
    "train_X, test_X, train_y, test_y = prepare_imdb_data(data, labels)\n",
    "print(\"IMDb reviews (combined): train = {}, test = {}\".format(len(train_X), len(test_X)))"
   ]
  },
  {
   "cell_type": "markdown",
   "metadata": {},
   "source": [
    "Now that we have our training and testing sets unified and prepared, we should do a quick check and see an example of the data our model will be trained on. This is generally a good idea as it allows you to see how each of the further processing steps affects the reviews and it also ensures that the data has been loaded correctly."
   ]
  },
  {
   "cell_type": "code",
   "execution_count": 6,
   "metadata": {},
   "outputs": [
    {
     "name": "stdout",
     "output_type": "stream",
     "text": [
      "Rajkumar Santoshi Without Any Doubt Has Directed The Greatest Movies And Biggest Box Office Hits Of Indian Cinema.<br /><br />This Movie Falls Short Of All Expectations As This Movie Stars Two Great Actors Mr. Amitabh Bachchan And Akshay Kumar And When You Have These Two Actors In The Same Movie You Have To Make A Magnum Opus.<br /><br />In The Later Part Of The Movie You Can Make Out That Amitabh Bachchan's Voice Has Been Dubbed By Some Other Person Which Was Due To His Illness.<br /><br />Still The Movie Did'nt Had Proper Character Development Plus Cinematography Was'nt Good Too And One Thing That Bollywood Should Learn Is That They Should Use Visual Effects Only When It Is Needed And When Applied Should Be Done With A High Budget.The Script Had So Many Flaws Which Gives The Viewer Excuses To Attend His Phone Calls Rather Than Watching The Movie.<br /><br />The New Comer Shakes The Leg Well But Could Not Act Well But Where The Movie Loses Big Time Is The Storyline Screenplay And Cinematography.<br /><br />A Talented Actor Like Bhoomika Chawla Has Been Wasted In The Movie As Well As Sushant Singh.<br /><br />But Every Director Once In A While In His Career Makes A Bad Film.<br /><br />So Watch It Only If You Are A Fan Of Multi-Starrer Flop Movies.\n",
      "0\n"
     ]
    }
   ],
   "source": [
    "print(train_X[100])\n",
    "print(train_y[100])"
   ]
  },
  {
   "cell_type": "markdown",
   "metadata": {},
   "source": [
    "The first step in processing the reviews is to make sure that any html tags that appear should be removed. In addition we wish to tokenize our input, that way words such as *entertained* and *entertaining* are considered the same with regard to sentiment analysis."
   ]
  },
  {
   "cell_type": "code",
   "execution_count": 7,
   "metadata": {},
   "outputs": [],
   "source": [
    "import nltk\n",
    "from nltk.corpus import stopwords\n",
    "from nltk.stem.porter import *\n",
    "\n",
    "import re\n",
    "from bs4 import BeautifulSoup\n",
    "\n",
    "def review_to_words(review):\n",
    "    nltk.download(\"stopwords\", quiet=True)\n",
    "    stemmer = PorterStemmer()\n",
    "    \n",
    "    text = BeautifulSoup(review, \"html.parser\").get_text() # Remove HTML tags\n",
    "    text = re.sub(r\"[^a-zA-Z0-9]\", \" \", text.lower()) # Convert to lower case\n",
    "    words = text.split() # Split string into words\n",
    "    words = [w for w in words if w not in stopwords.words(\"english\")] # Remove stopwords\n",
    "    words = [PorterStemmer().stem(w) for w in words] # stem\n",
    "    \n",
    "    return words"
   ]
  },
  {
   "cell_type": "markdown",
   "metadata": {},
   "source": [
    "The `review_to_words` method defined above uses `BeautifulSoup` to remove any html tags that appear and uses the `nltk` package to tokenize the reviews. As a check to ensure we know how everything is working, try applying `review_to_words` to one of the reviews in the training set."
   ]
  },
  {
   "cell_type": "code",
   "execution_count": 8,
   "metadata": {},
   "outputs": [
    {
     "data": {
      "text/plain": [
       "['act',\n",
       " 'direct',\n",
       " 'scriptwrit',\n",
       " 'art',\n",
       " 'direct',\n",
       " 'film',\n",
       " 'entir',\n",
       " 'ill',\n",
       " 'conceiv',\n",
       " 'money',\n",
       " 'would',\n",
       " 'better',\n",
       " 'spent',\n",
       " 'shoe',\n",
       " 'land',\n",
       " 'mine',\n",
       " 'victim',\n",
       " 'get',\n",
       " 'sad',\n",
       " 'fill',\n",
       " 'children',\n",
       " 'movi',\n",
       " 'sexual',\n",
       " 'innuendo',\n",
       " 'keep',\n",
       " 'parent',\n",
       " 'attent',\n",
       " 'dr',\n",
       " 'suess',\n",
       " 'roll',\n",
       " 'grave',\n",
       " 'right',\n",
       " 'dirti',\n",
       " 'ho',\n",
       " 'h',\n",
       " 'fake',\n",
       " 'erect',\n",
       " 'scene',\n",
       " 'etc',\n",
       " 'etc',\n",
       " 'etc',\n",
       " 'shame',\n",
       " 'trade',\n",
       " 'name',\n",
       " 'suess',\n",
       " 'get',\n",
       " 'parent',\n",
       " 'bring',\n",
       " 'kid',\n",
       " 'throw',\n",
       " 'profan',\n",
       " 'tri',\n",
       " 'teen',\n",
       " 'sad',\n",
       " 'parent',\n",
       " 'watch',\n",
       " 'film',\n",
       " 'child',\n",
       " 'greed',\n",
       " 'greed',\n",
       " 'greed',\n",
       " 'compar',\n",
       " 'classic',\n",
       " 'children',\n",
       " 'film',\n",
       " 'get',\n",
       " 'disturb',\n",
       " 'view',\n",
       " 'world',\n",
       " 'turn',\n",
       " 'guy',\n",
       " 'stick',\n",
       " 'make',\n",
       " 'mtv',\n",
       " 'video',\n",
       " 'earth',\n",
       " 'movi',\n",
       " 'got',\n",
       " '400',\n",
       " 'vote',\n",
       " 'perfect',\n",
       " '10',\n",
       " 'beyond',\n",
       " 'unless',\n",
       " 'director',\n",
       " 'famili']"
      ]
     },
     "execution_count": 8,
     "metadata": {},
     "output_type": "execute_result"
    }
   ],
   "source": [
    "# TODO: Apply review_to_words to a review (train_X[100] or any other review)\n",
    "review_to_words(train_X[25])"
   ]
  },
  {
   "cell_type": "markdown",
   "metadata": {},
   "source": [
    "**Question:** Above we mentioned that `review_to_words` method removes html formatting and allows us to tokenize the words found in a review, for example, converting *entertained* and *entertaining* into *entertain* so that they are treated as though they are the same word. What else, if anything, does this method do to the input?"
   ]
  },
  {
   "cell_type": "markdown",
   "metadata": {},
   "source": [
    "**Answer:** Converts the text to lowercase, removes stopwords, stems the text"
   ]
  },
  {
   "cell_type": "markdown",
   "metadata": {},
   "source": [
    "The method below applies the `review_to_words` method to each of the reviews in the training and testing datasets. In addition it caches the results. This is because performing this processing step can take a long time. This way if you are unable to complete the notebook in the current session, you can come back without needing to process the data a second time."
   ]
  },
  {
   "cell_type": "code",
   "execution_count": 9,
   "metadata": {},
   "outputs": [],
   "source": [
    "import pickle\n",
    "\n",
    "cache_dir = os.path.join(\"../cache\", \"sentiment_analysis\")  # where to store cache files\n",
    "os.makedirs(cache_dir, exist_ok=True)  # ensure cache directory exists\n",
    "\n",
    "def preprocess_data(data_train, data_test, labels_train, labels_test,\n",
    "                    cache_dir=cache_dir, cache_file=\"preprocessed_data.pkl\"):\n",
    "    \"\"\"Convert each review to words; read from cache if available.\"\"\"\n",
    "\n",
    "    # If cache_file is not None, try to read from it first\n",
    "    cache_data = None\n",
    "    if cache_file is not None:\n",
    "        try:\n",
    "            with open(os.path.join(cache_dir, cache_file), \"rb\") as f:\n",
    "                cache_data = pickle.load(f)\n",
    "            print(\"Read preprocessed data from cache file:\", cache_file)\n",
    "        except:\n",
    "            pass  # unable to read from cache, but that's okay\n",
    "    \n",
    "    # If cache is missing, then do the heavy lifting\n",
    "    if cache_data is None:\n",
    "        # Preprocess training and test data to obtain words for each review\n",
    "        #words_train = list(map(review_to_words, data_train))\n",
    "        #words_test = list(map(review_to_words, data_test))\n",
    "        words_train = [review_to_words(review) for review in data_train]\n",
    "        words_test = [review_to_words(review) for review in data_test]\n",
    "        \n",
    "        # Write to cache file for future runs\n",
    "        if cache_file is not None:\n",
    "            cache_data = dict(words_train=words_train, words_test=words_test,\n",
    "                              labels_train=labels_train, labels_test=labels_test)\n",
    "            with open(os.path.join(cache_dir, cache_file), \"wb\") as f:\n",
    "                pickle.dump(cache_data, f)\n",
    "            print(\"Wrote preprocessed data to cache file:\", cache_file)\n",
    "    else:\n",
    "        # Unpack data loaded from cache file\n",
    "        words_train, words_test, labels_train, labels_test = (cache_data['words_train'],\n",
    "                cache_data['words_test'], cache_data['labels_train'], cache_data['labels_test'])\n",
    "    \n",
    "    return words_train, words_test, labels_train, labels_test"
   ]
  },
  {
   "cell_type": "code",
   "execution_count": 10,
   "metadata": {},
   "outputs": [],
   "source": [
    "# Preprocess data\n",
    "#train_X, test_X, train_y, test_y = preprocess_data(train_X, test_X, train_y, test_y)"
   ]
  },
  {
   "cell_type": "markdown",
   "metadata": {},
   "source": [
    "## Transform the data\n",
    "\n",
    "In the XGBoost notebook we transformed the data from its word representation to a bag-of-words feature representation. For the model we are going to construct in this notebook we will construct a feature representation which is very similar. To start, we will represent each word as an integer. Of course, some of the words that appear in the reviews occur very infrequently and so likely don't contain much information for the purposes of sentiment analysis. The way we will deal with this problem is that we will fix the size of our working vocabulary and we will only include the words that appear most frequently. We will then combine all of the infrequent words into a single category and, in our case, we will label it as `1`.\n",
    "\n",
    "Since we will be using a recurrent neural network, it will be convenient if the length of each review is the same. To do this, we will fix a size for our reviews and then pad short reviews with the category 'no word' (which we will label `0`) and truncate long reviews."
   ]
  },
  {
   "cell_type": "markdown",
   "metadata": {},
   "source": [
    "### (TODO) Create a word dictionary\n",
    "\n",
    "To begin with, we need to construct a way to map words that appear in the reviews to integers. Here we fix the size of our vocabulary (including the 'no word' and 'infrequent' categories) to be `5000` but you may wish to change this to see how it affects the model.\n",
    "\n",
    "> **TODO:** Complete the implementation for the `build_dict()` method below. Note that even though the vocab_size is set to `5000`, we only want to construct a mapping for the most frequently appearing `4998` words. This is because we want to reserve the special labels `0` for 'no word' and `1` for 'infrequent word'."
   ]
  },
  {
   "cell_type": "code",
   "execution_count": 11,
   "metadata": {},
   "outputs": [],
   "source": [
    "import numpy as np\n",
    "from collections import Counter\n",
    "\n",
    "def build_dict(data, vocab_size = 5000):\n",
    "    \"\"\"Construct and return a dictionary mapping each of the most frequently appearing words to a unique integer.\"\"\"\n",
    "    \n",
    "    # TODO: Determine how often each word appears in `data`. Note that `data` is a list of sentences and that a\n",
    "    #       sentence is a list of words.\n",
    "\n",
    "    cnt = Counter()\n",
    "    \n",
    "    #for index in range(len(data)):\n",
    "    for review in data:\n",
    "        words = review_to_words(review)\n",
    "        for word in words:\n",
    "            cnt[word] += 1\n",
    "    \n",
    "    word_count = dict(cnt) #cnt.most_common() # A dict storing the words that appear in the reviews along with how often they occur\n",
    "    #print(word_count)\n",
    "    #print(\"\\n\")\n",
    "    \n",
    "    # TODO: Sort the words found in `data` so that sorted_words[0] is the most frequently appearing word and\n",
    "    #       sorted_words[-1] is the least frequently appearing word.\n",
    "    \n",
    "    sorted_words = sorted(word_count, key=word_count.get, reverse=True)\n",
    "    #print(sorted_words)\n",
    "    \n",
    "    word_dict = {} # This is what we are building, a dictionary that translates words into integers\n",
    "    for idx, word in enumerate(sorted_words[:vocab_size - 2]): # The -2 is so that we save room for the 'no word'\n",
    "        word_dict[word] = idx + 2                              # 'infrequent' labels\n",
    "        \n",
    "    return word_dict"
   ]
  },
  {
   "cell_type": "code",
   "execution_count": 12,
   "metadata": {},
   "outputs": [],
   "source": [
    "word_dict = build_dict(train_X)"
   ]
  },
  {
   "cell_type": "markdown",
   "metadata": {},
   "source": [
    "**Question:** What are the five most frequently appearing (tokenized) words in the training set? Does it makes sense that these words appear frequently in the training set?"
   ]
  },
  {
   "cell_type": "markdown",
   "metadata": {},
   "source": [
    "**Answer:** movi, film, one, like, time. Since these are pretty generic words, it makes sense that they are so common in the training set."
   ]
  },
  {
   "cell_type": "code",
   "execution_count": 13,
   "metadata": {},
   "outputs": [
    {
     "name": "stdout",
     "output_type": "stream",
     "text": [
      "{'movi': 2, 'film': 3, 'one': 4, 'like': 5, 'time': 6, 'good': 7, 'make': 8, 'charact': 9, 'get': 10, 'see': 11, 'watch': 12, 'stori': 13, 'even': 14, 'would': 15, 'realli': 16, 'well': 17, 'scene': 18, 'look': 19, 'show': 20, 'much': 21, 'end': 22, 'peopl': 23, 'bad': 24, 'go': 25, 'great': 26, 'also': 27, 'first': 28, 'love': 29, 'think': 30, 'way': 31, 'act': 32, 'play': 33, 'made': 34, 'thing': 35, 'could': 36, 'know': 37, 'say': 38, 'seem': 39, 'work': 40, 'plot': 41, 'two': 42, 'actor': 43, 'year': 44, 'come': 45, 'mani': 46, 'seen': 47, 'take': 48, 'life': 49, 'want': 50, 'never': 51, 'littl': 52, 'best': 53, 'tri': 54, 'man': 55, 'ever': 56, 'give': 57, 'better': 58, 'still': 59, 'perform': 60, 'find': 61, 'feel': 62, 'part': 63, 'back': 64, 'use': 65, 'someth': 66, 'director': 67, 'actual': 68, 'interest': 69, 'lot': 70, 'real': 71, 'old': 72, 'cast': 73, 'though': 74, 'live': 75, 'star': 76, 'enjoy': 77, 'guy': 78, 'anoth': 79, 'new': 80, 'role': 81, 'noth': 82, '10': 83, 'funni': 84, 'music': 85, 'point': 86, 'start': 87, 'set': 88, 'girl': 89, 'origin': 90, 'day': 91, 'world': 92, 'everi': 93, 'believ': 94, 'turn': 95, 'quit': 96, 'direct': 97, 'us': 98, 'thought': 99, 'fact': 100, 'minut': 101, 'horror': 102, 'kill': 103, 'action': 104, 'comedi': 105, 'pretti': 106, 'young': 107, 'wonder': 108, 'happen': 109, 'around': 110, 'got': 111, 'effect': 112, 'right': 113, 'long': 114, 'howev': 115, 'big': 116, 'line': 117, 'famili': 118, 'enough': 119, 'seri': 120, 'may': 121, 'need': 122, 'fan': 123, 'bit': 124, 'script': 125, 'beauti': 126, 'person': 127, 'becom': 128, 'without': 129, 'must': 130, 'alway': 131, 'friend': 132, 'tell': 133, 'reason': 134, 'saw': 135, 'last': 136, 'final': 137, 'kid': 138, 'almost': 139, 'put': 140, 'least': 141, 'sure': 142, 'done': 143, 'whole': 144, 'place': 145, 'complet': 146, 'kind': 147, 'differ': 148, 'expect': 149, 'shot': 150, 'far': 151, 'mean': 152, 'anyth': 153, 'book': 154, 'laugh': 155, 'might': 156, 'name': 157, 'sinc': 158, 'begin': 159, '2': 160, 'probabl': 161, 'woman': 162, 'help': 163, 'entertain': 164, 'let': 165, 'screen': 166, 'call': 167, 'tv': 168, 'moment': 169, 'away': 170, 'read': 171, 'yet': 172, 'rather': 173, 'worst': 174, 'run': 175, 'fun': 176, 'lead': 177, 'hard': 178, 'audienc': 179, 'idea': 180, 'anyon': 181, 'episod': 182, 'american': 183, 'found': 184, 'appear': 185, 'bore': 186, 'especi': 187, 'although': 188, 'hope': 189, 'keep': 190, 'cours': 191, 'anim': 192, 'job': 193, 'goe': 194, 'move': 195, 'sens': 196, 'dvd': 197, 'version': 198, 'war': 199, 'money': 200, 'someon': 201, 'mind': 202, 'mayb': 203, 'problem': 204, 'true': 205, 'hous': 206, 'everyth': 207, 'nice': 208, 'second': 209, 'rate': 210, 'three': 211, 'night': 212, 'face': 213, 'follow': 214, 'recommend': 215, 'product': 216, 'main': 217, 'worth': 218, 'leav': 219, 'human': 220, 'special': 221, 'excel': 222, 'togeth': 223, 'wast': 224, 'sound': 225, 'everyon': 226, 'john': 227, 'hand': 228, '1': 229, 'father': 230, 'later': 231, 'eye': 232, 'said': 233, 'view': 234, 'instead': 235, 'review': 236, 'boy': 237, 'high': 238, 'hour': 239, 'miss': 240, 'talk': 241, 'classic': 242, 'wife': 243, 'understand': 244, 'left': 245, 'care': 246, 'black': 247, 'death': 248, 'open': 249, 'murder': 250, 'write': 251, 'half': 252, 'head': 253, 'rememb': 254, 'chang': 255, 'viewer': 256, 'fight': 257, 'gener': 258, 'surpris': 259, 'short': 260, 'includ': 261, 'die': 262, 'fall': 263, 'less': 264, 'els': 265, 'entir': 266, 'piec': 267, 'involv': 268, 'pictur': 269, 'simpli': 270, 'power': 271, 'home': 272, 'top': 273, 'total': 274, 'usual': 275, 'budget': 276, 'attempt': 277, 'suppos': 278, 'releas': 279, 'hollywood': 280, 'terribl': 281, 'song': 282, 'men': 283, 'possibl': 284, 'featur': 285, 'portray': 286, 'disappoint': 287, 'poor': 288, '3': 289, 'coupl': 290, 'stupid': 291, 'camera': 292, 'dead': 293, 'wrong': 294, 'produc': 295, 'low': 296, 'either': 297, 'video': 298, 'aw': 299, 'definit': 300, 'except': 301, 'rest': 302, 'given': 303, 'absolut': 304, 'women': 305, 'lack': 306, 'word': 307, 'writer': 308, 'titl': 309, 'talent': 310, 'decid': 311, 'full': 312, 'perfect': 313, 'along': 314, 'style': 315, 'close': 316, 'truli': 317, 'school': 318, 'save': 319, 'emot': 320, 'sex': 321, 'age': 322, 'next': 323, 'bring': 324, 'mr': 325, 'case': 326, 'killer': 327, 'heart': 328, 'comment': 329, 'sort': 330, 'creat': 331, 'perhap': 332, 'came': 333, 'brother': 334, 'sever': 335, 'joke': 336, 'art': 337, 'dialogu': 338, 'game': 339, 'small': 340, 'base': 341, 'flick': 342, 'written': 343, 'sequenc': 344, 'meet': 345, 'earli': 346, 'often': 347, 'other': 348, 'mother': 349, 'develop': 350, 'humor': 351, 'actress': 352, 'consid': 353, 'dark': 354, 'guess': 355, 'amaz': 356, 'unfortun': 357, 'light': 358, 'lost': 359, 'exampl': 360, 'cinema': 361, 'drama': 362, 'white': 363, 'ye': 364, 'experi': 365, 'imagin': 366, 'mention': 367, 'stop': 368, 'natur': 369, 'forc': 370, 'manag': 371, 'felt': 372, 'cut': 373, 'present': 374, 'children': 375, 'fail': 376, 'son': 377, 'support': 378, 'qualiti': 379, 'car': 380, 'ask': 381, 'hit': 382, 'side': 383, 'voic': 384, 'extrem': 385, 'impress': 386, 'wors': 387, 'evil': 388, 'stand': 389, 'went': 390, 'certainli': 391, 'basic': 392, 'oh': 393, 'overal': 394, 'favorit': 395, 'horribl': 396, 'mysteri': 397, 'number': 398, 'type': 399, 'danc': 400, 'wait': 401, 'hero': 402, '5': 403, 'alreadi': 404, 'learn': 405, 'matter': 406, '4': 407, 'michael': 408, 'genr': 409, 'fine': 410, 'despit': 411, 'throughout': 412, 'walk': 413, 'success': 414, 'histori': 415, 'question': 416, 'zombi': 417, 'town': 418, 'realiz': 419, 'relationship': 420, 'child': 421, 'past': 422, 'daughter': 423, 'late': 424, 'b': 425, 'wish': 426, 'credit': 427, 'hate': 428, 'event': 429, 'theme': 430, 'touch': 431, 'citi': 432, 'today': 433, 'sometim': 434, 'behind': 435, 'god': 436, 'twist': 437, 'sit': 438, 'stay': 439, 'annoy': 440, 'deal': 441, 'abl': 442, 'rent': 443, 'pleas': 444, 'edit': 445, 'blood': 446, 'deserv': 447, 'comic': 448, 'anyway': 449, 'appar': 450, 'soon': 451, 'gave': 452, 'etc': 453, 'level': 454, 'slow': 455, 'chanc': 456, 'score': 457, 'bodi': 458, 'brilliant': 459, 'incred': 460, 'figur': 461, 'situat': 462, 'major': 463, 'self': 464, 'stuff': 465, 'decent': 466, 'element': 467, 'dream': 468, 'return': 469, 'obvious': 470, 'continu': 471, 'order': 472, 'pace': 473, 'ridicul': 474, 'happi': 475, 'add': 476, 'group': 477, 'highli': 478, 'thank': 479, 'ladi': 480, 'novel': 481, 'pain': 482, 'speak': 483, 'career': 484, 'shoot': 485, 'strang': 486, 'heard': 487, 'sad': 488, 'husband': 489, 'polic': 490, 'import': 491, 'break': 492, 'took': 493, 'cannot': 494, 'strong': 495, 'predict': 496, 'robert': 497, 'violenc': 498, 'hilari': 499, 'recent': 500, 'countri': 501, 'known': 502, 'particularli': 503, 'pick': 504, 'documentari': 505, 'season': 506, 'critic': 507, 'jame': 508, 'compar': 509, 'alon': 510, 'obviou': 511, 'told': 512, 'state': 513, 'rock': 514, 'visual': 515, 'exist': 516, 'offer': 517, 'theater': 518, 'opinion': 519, 'gore': 520, 'crap': 521, 'hold': 522, 'result': 523, 'hear': 524, 'room': 525, 'realiti': 526, 'clich': 527, 'effort': 528, 'thriller': 529, 'caus': 530, 'explain': 531, 'serious': 532, 'sequel': 533, 'king': 534, 'local': 535, 'ago': 536, 'none': 537, 'hell': 538, 'note': 539, 'allow': 540, 'david': 541, 'sister': 542, 'simpl': 543, 'femal': 544, 'deliv': 545, 'ok': 546, 'convinc': 547, 'class': 548, 'check': 549, 'suspens': 550, 'win': 551, 'buy': 552, 'oscar': 553, 'huge': 554, 'valu': 555, 'sexual': 556, 'scari': 557, 'cool': 558, 'excit': 559, 'similar': 560, 'provid': 561, 'apart': 562, 'exactli': 563, 'shown': 564, 'avoid': 565, 'seriou': 566, 'english': 567, 'whose': 568, 'taken': 569, 'cinematographi': 570, 'shock': 571, 'polit': 572, 'spoiler': 573, 'offic': 574, 'across': 575, 'middl': 576, 'street': 577, 'pass': 578, 'messag': 579, 'silli': 580, 'charm': 581, 'somewhat': 582, 'modern': 583, 'filmmak': 584, 'confus': 585, 'form': 586, 'tale': 587, 'singl': 588, 'jack': 589, 'mostli': 590, 'carri': 591, 'attent': 592, 'william': 593, 'sing': 594, 'five': 595, 'subject': 596, 'prove': 597, 'richard': 598, 'stage': 599, 'team': 600, 'cop': 601, 'unlik': 602, 'georg': 603, 'monster': 604, 'televis': 605, 'earth': 606, 'cover': 607, 'villain': 608, 'pay': 609, 'marri': 610, 'toward': 611, 'build': 612, 'pull': 613, 'parent': 614, 'due': 615, 'respect': 616, 'fill': 617, 'dialog': 618, 'four': 619, 'remind': 620, 'futur': 621, 'weak': 622, 'typic': 623, '7': 624, 'cheap': 625, 'intellig': 626, 'british': 627, 'atmospher': 628, 'clearli': 629, '80': 630, 'non': 631, 'dog': 632, 'paul': 633, 'artist': 634, '8': 635, 'fast': 636, 'knew': 637, 'crime': 638, 'easili': 639, 'escap': 640, 'doubt': 641, 'adult': 642, 'detail': 643, 'date': 644, 'fire': 645, 'member': 646, 'romant': 647, 'gun': 648, 'drive': 649, 'straight': 650, 'fit': 651, 'beyond': 652, 'attack': 653, 'imag': 654, 'upon': 655, 'posit': 656, 'whether': 657, 'peter': 658, 'fantast': 659, 'appreci': 660, 'aspect': 661, 'captur': 662, 'ten': 663, 'plan': 664, 'discov': 665, 'remain': 666, 'near': 667, 'period': 668, 'realist': 669, 'air': 670, 'mark': 671, 'red': 672, 'dull': 673, 'adapt': 674, 'within': 675, 'spend': 676, 'lose': 677, 'materi': 678, 'color': 679, 'chase': 680, 'mari': 681, 'storylin': 682, 'forget': 683, 'bunch': 684, 'clear': 685, 'lee': 686, 'victim': 687, 'nearli': 688, 'box': 689, 'york': 690, 'match': 691, 'inspir': 692, 'mess': 693, 'finish': 694, 'standard': 695, 'easi': 696, 'truth': 697, 'suffer': 698, 'busi': 699, 'space': 700, 'dramat': 701, 'bill': 702, 'western': 703, 'e': 704, 'list': 705, 'battl': 706, 'notic': 707, 'de': 708, 'french': 709, 'ad': 710, '9': 711, 'tom': 712, 'larg': 713, 'among': 714, 'eventu': 715, 'accept': 716, 'train': 717, 'agre': 718, 'soundtrack': 719, 'spirit': 720, 'third': 721, 'teenag': 722, 'soldier': 723, 'adventur': 724, 'famou': 725, 'drug': 726, 'suggest': 727, 'sorri': 728, 'normal': 729, 'babi': 730, 'cri': 731, 'troubl': 732, 'ultim': 733, 'contain': 734, 'certain': 735, 'cultur': 736, 'romanc': 737, 'rare': 738, 'lame': 739, 'somehow': 740, 'mix': 741, 'disney': 742, 'gone': 743, 'cartoon': 744, 'student': 745, 'fear': 746, 'reveal': 747, 'kept': 748, 'suck': 749, 'attract': 750, 'appeal': 751, 'premis': 752, 'secret': 753, 'greatest': 754, 'design': 755, 'shame': 756, 'throw': 757, 'scare': 758, 'copi': 759, 'wit': 760, 'admit': 761, 'america': 762, 'brought': 763, 'particular': 764, 'relat': 765, 'screenplay': 766, 'whatev': 767, 'pure': 768, '70': 769, 'harri': 770, 'averag': 771, 'master': 772, 'describ': 773, 'male': 774, 'treat': 775, '20': 776, 'issu': 777, 'fantasi': 778, 'warn': 779, 'inde': 780, 'forward': 781, 'background': 782, 'free': 783, 'project': 784, 'memor': 785, 'japanes': 786, 'poorli': 787, 'award': 788, 'locat': 789, 'amus': 790, 'potenti': 791, 'struggl': 792, 'weird': 793, 'magic': 794, 'societi': 795, 'okay': 796, 'accent': 797, 'imdb': 798, 'doctor': 799, 'hot': 800, 'water': 801, '30': 802, 'dr': 803, 'alien': 804, 'express': 805, 'odd': 806, 'crazi': 807, 'choic': 808, 'fiction': 809, 'studio': 810, 'becam': 811, 'control': 812, 'masterpiec': 813, 'difficult': 814, 'fli': 815, 'joe': 816, 'scream': 817, 'costum': 818, 'lover': 819, 'refer': 820, 'uniqu': 821, 'remak': 822, 'girlfriend': 823, 'vampir': 824, 'prison': 825, 'execut': 826, 'wear': 827, 'jump': 828, 'unless': 829, 'wood': 830, 'creepi': 831, 'cheesi': 832, 'superb': 833, 'otherwis': 834, 'parti': 835, 'ghost': 836, 'roll': 837, 'mad': 838, 'public': 839, 'depict': 840, 'jane': 841, 'badli': 842, 'week': 843, 'moral': 844, 'earlier': 845, 'dumb': 846, 'fi': 847, 'flaw': 848, 'grow': 849, 'deep': 850, 'sci': 851, 'maker': 852, 'cat': 853, 'older': 854, 'footag': 855, 'connect': 856, 'bother': 857, 'plenti': 858, 'outsid': 859, 'stick': 860, 'gay': 861, 'catch': 862, 'plu': 863, 'co': 864, 'popular': 865, 'equal': 866, 'social': 867, 'disturb': 868, 'quickli': 869, 'perfectli': 870, 'dress': 871, 'era': 872, '90': 873, 'mistak': 874, 'lie': 875, 'ride': 876, 'previou': 877, 'combin': 878, 'concept': 879, 'band': 880, 'rich': 881, 'surviv': 882, 'answer': 883, 'front': 884, 'sweet': 885, 'christma': 886, 'insid': 887, 'concern': 888, 'bare': 889, 'eat': 890, 'listen': 891, 'ben': 892, 'beat': 893, 'c': 894, 'serv': 895, 'term': 896, 'meant': 897, 'german': 898, 'la': 899, 'hardli': 900, 'stereotyp': 901, 'innoc': 902, 'law': 903, 'desper': 904, 'memori': 905, 'promis': 906, 'intent': 907, 'cute': 908, 'inform': 909, 'variou': 910, 'steal': 911, 'brain': 912, 'post': 913, 'tone': 914, 'island': 915, 'amount': 916, 'nuditi': 917, 'track': 918, 'compani': 919, 'claim': 920, 'store': 921, 'flat': 922, 'hair': 923, '50': 924, 'land': 925, 'univers': 926, 'scott': 927, 'danger': 928, 'kick': 929, 'fairli': 930, 'player': 931, 'plain': 932, 'step': 933, 'crew': 934, 'toni': 935, 'share': 936, 'centuri': 937, 'tast': 938, 'achiev': 939, 'engag': 940, 'cold': 941, 'travel': 942, 'record': 943, 'suit': 944, 'rip': 945, 'sadli': 946, 'manner': 947, 'spot': 948, 'wrote': 949, 'tension': 950, 'intens': 951, 'fascin': 952, 'familiar': 953, 'remark': 954, 'depth': 955, 'burn': 956, 'destroy': 957, 'histor': 958, 'sleep': 959, 'purpos': 960, 'languag': 961, 'ignor': 962, 'ruin': 963, 'delight': 964, 'unbeliev': 965, 'italian': 966, 'soul': 967, 'collect': 968, 'abil': 969, 'clever': 970, 'detect': 971, 'violent': 972, 'rape': 973, 'reach': 974, 'door': 975, 'liter': 976, 'trash': 977, 'scienc': 978, 'reveng': 979, 'commun': 980, 'caught': 981, 'creatur': 982, 'approach': 983, 'trip': 984, 'fashion': 985, 'intrigu': 986, 'introduc': 987, 'skill': 988, 'paint': 989, 'complex': 990, 'channel': 991, 'camp': 992, 'christian': 993, 'hole': 994, 'extra': 995, 'ann': 996, 'immedi': 997, 'mental': 998, 'limit': 999, '6': 1000, 'slightli': 1001, 'mere': 1002, 'million': 1003, 'comput': 1004, 'conclus': 1005, 'slasher': 1006, 'imposs': 1007, 'suddenli': 1008, 'teen': 1009, 'neither': 1010, 'crimin': 1011, 'spent': 1012, 'physic': 1013, 'nation': 1014, 'respons': 1015, 'planet': 1016, 'fake': 1017, 'receiv': 1018, 'sick': 1019, 'blue': 1020, 'bizarr': 1021, 'embarrass': 1022, 'indian': 1023, '15': 1024, 'ring': 1025, 'pop': 1026, 'drop': 1027, 'drag': 1028, 'haunt': 1029, 'pointless': 1030, 'suspect': 1031, 'search': 1032, 'edg': 1033, 'handl': 1034, 'biggest': 1035, 'common': 1036, 'faith': 1037, 'hurt': 1038, 'arriv': 1039, 'technic': 1040, 'angel': 1041, 'dad': 1042, 'genuin': 1043, 'solid': 1044, 'f': 1045, 'awesom': 1046, 'colleg': 1047, 'former': 1048, 'focu': 1049, 'van': 1050, 'count': 1051, 'heavi': 1052, 'tear': 1053, 'rais': 1054, 'wall': 1055, 'younger': 1056, 'laughabl': 1057, 'visit': 1058, 'sign': 1059, 'fair': 1060, 'excus': 1061, 'cult': 1062, 'motion': 1063, 'key': 1064, 'tough': 1065, 'super': 1066, 'desir': 1067, 'stun': 1068, 'addit': 1069, 'exploit': 1070, 'cloth': 1071, 'smith': 1072, 'tortur': 1073, 'davi': 1074, 'race': 1075, 'cross': 1076, 'author': 1077, 'jim': 1078, 'minor': 1079, 'compel': 1080, 'focus': 1081, 'consist': 1082, 'chemistri': 1083, 'pathet': 1084, 'commit': 1085, 'park': 1086, 'obsess': 1087, 'frank': 1088, 'tradit': 1089, 'grade': 1090, 'asid': 1091, '60': 1092, 'brutal': 1093, 'somewher': 1094, 'steve': 1095, 'depress': 1096, 'grant': 1097, 'opportun': 1098, 'u': 1099, 'explor': 1100, 'rule': 1101, 'besid': 1102, 'honest': 1103, 'dub': 1104, 'anti': 1105, 'intend': 1106, 'trailer': 1107, 'bar': 1108, 'longer': 1109, 'regard': 1110, 'scientist': 1111, 'west': 1112, 'decad': 1113, 'judg': 1114, 'silent': 1115, 'armi': 1116, 'creativ': 1117, 'wild': 1118, 'south': 1119, 'stewart': 1120, 'g': 1121, 'draw': 1122, 'road': 1123, 'govern': 1124, 'ex': 1125, 'boss': 1126, 'practic': 1127, 'surprisingli': 1128, 'club': 1129, 'festiv': 1130, 'motiv': 1131, 'gang': 1132, 'page': 1133, 'redeem': 1134, 'london': 1135, 'green': 1136, 'militari': 1137, 'display': 1138, 'aliv': 1139, 'machin': 1140, 'idiot': 1141, 'repeat': 1142, 'thrill': 1143, 'folk': 1144, 'nobodi': 1145, 'yeah': 1146, '100': 1147, '40': 1148, 'garbag': 1149, 'journey': 1150, 'tire': 1151, 'smile': 1152, 'ground': 1153, 'mood': 1154, 'bought': 1155, 'sam': 1156, 'cost': 1157, 'stone': 1158, 'mouth': 1159, 'noir': 1160, 'terrif': 1161, 'agent': 1162, 'utterli': 1163, 'requir': 1164, 'sexi': 1165, 'area': 1166, 'honestli': 1167, 'geniu': 1168, 'report': 1169, 'investig': 1170, 'enter': 1171, 'glad': 1172, 'humour': 1173, 'serial': 1174, 'passion': 1175, 'occasion': 1176, 'narr': 1177, 'marriag': 1178, 'climax': 1179, 'studi': 1180, 'industri': 1181, 'nowher': 1182, 'center': 1183, 'demon': 1184, 'ship': 1185, 'charli': 1186, 'loos': 1187, 'bear': 1188, 'hors': 1189, 'wow': 1190, 'hang': 1191, 'graphic': 1192, 'giant': 1193, 'admir': 1194, 'send': 1195, 'loud': 1196, 'damn': 1197, 'profession': 1198, 'rel': 1199, 'subtl': 1200, 'nake': 1201, 'blow': 1202, 'bottom': 1203, 'insult': 1204, 'batman': 1205, 'r': 1206, 'kelli': 1207, 'doubl': 1208, 'boyfriend': 1209, 'initi': 1210, 'frame': 1211, 'gem': 1212, 'opera': 1213, 'drawn': 1214, 'cinemat': 1215, 'affect': 1216, 'church': 1217, 'challeng': 1218, 'fulli': 1219, 'nightmar': 1220, 'evid': 1221, 'j': 1222, 'l': 1223, 'seek': 1224, 'essenti': 1225, 'conflict': 1226, 'arm': 1227, 'grace': 1228, 'henri': 1229, 'christoph': 1230, 'wind': 1231, 'narrat': 1232, 'assum': 1233, 'witch': 1234, 'hunt': 1235, 'push': 1236, 'wise': 1237, 'chri': 1238, 'repres': 1239, 'nomin': 1240, 'month': 1241, 'affair': 1242, 'sceneri': 1243, 'avail': 1244, 'hide': 1245, 'thu': 1246, 'bond': 1247, 'justic': 1248, 'smart': 1249, 'interview': 1250, 'outstand': 1251, 'flashback': 1252, 'presenc': 1253, 'satisfi': 1254, 'constantli': 1255, 'central': 1256, 'bed': 1257, 'content': 1258, 'sell': 1259, 'iron': 1260, 'gag': 1261, 'everybodi': 1262, 'slowli': 1263, 'hotel': 1264, 'hire': 1265, 'system': 1266, 'individu': 1267, 'hey': 1268, 'thrown': 1269, 'charl': 1270, 'adam': 1271, 'mediocr': 1272, 'jone': 1273, 'allen': 1274, 'billi': 1275, 'ray': 1276, 'lesson': 1277, 'photographi': 1278, 'cameo': 1279, 'fellow': 1280, 'pari': 1281, 'strike': 1282, 'absurd': 1283, 'brief': 1284, 'independ': 1285, 'rise': 1286, 'neg': 1287, 'phone': 1288, 'impact': 1289, 'model': 1290, 'ill': 1291, 'born': 1292, 'angl': 1293, 'spoil': 1294, 'fresh': 1295, 'abus': 1296, 'likabl': 1297, 'discuss': 1298, 'hill': 1299, 'sight': 1300, 'ahead': 1301, 'photograph': 1302, 'sent': 1303, 'blame': 1304, 'shine': 1305, 'logic': 1306, 'occur': 1307, 'mainli': 1308, 'bruce': 1309, 'commerci': 1310, 'skip': 1311, 'forev': 1312, 'segment': 1313, 'held': 1314, 'surround': 1315, 'teacher': 1316, 'blond': 1317, 'zero': 1318, 'trap': 1319, 'satir': 1320, 'resembl': 1321, 'summer': 1322, 'fool': 1323, 'queen': 1324, 'six': 1325, 'ball': 1326, 'tragedi': 1327, 'sub': 1328, 'twice': 1329, 'pack': 1330, 'reaction': 1331, 'bomb': 1332, 'will': 1333, 'protagonist': 1334, 'hospit': 1335, 'mile': 1336, 'sport': 1337, 'mom': 1338, 'vote': 1339, 'drink': 1340, 'trust': 1341, 'jerri': 1342, 'encount': 1343, 'plane': 1344, 'current': 1345, 'program': 1346, 'station': 1347, 'al': 1348, 'martin': 1349, 'celebr': 1350, 'choos': 1351, 'join': 1352, 'favourit': 1353, 'field': 1354, 'round': 1355, 'tragic': 1356, 'lord': 1357, 'jean': 1358, 'vision': 1359, 'robot': 1360, 'tie': 1361, 'arthur': 1362, 'fortun': 1363, 'roger': 1364, 'random': 1365, 'dread': 1366, 'intern': 1367, 'psycholog': 1368, 'improv': 1369, 'prefer': 1370, 'epic': 1371, 'nonsens': 1372, 'pleasur': 1373, 'formula': 1374, 'legend': 1375, 'highlight': 1376, 'tape': 1377, 'dollar': 1378, '11': 1379, 'thin': 1380, 'object': 1381, 'fox': 1382, 'porn': 1383, 'gorgeou': 1384, 'wide': 1385, 'ugli': 1386, 'buddi': 1387, 'influenc': 1388, 'ii': 1389, 'prepar': 1390, 'nasti': 1391, 'progress': 1392, 'warm': 1393, 'reflect': 1394, 'supposedli': 1395, 'youth': 1396, 'worthi': 1397, 'latter': 1398, 'unusu': 1399, 'length': 1400, 'crash': 1401, 'seven': 1402, 'shop': 1403, 'superior': 1404, 'childhood': 1405, 'theatr': 1406, 'remot': 1407, 'disgust': 1408, 'paid': 1409, 'funniest': 1410, 'pilot': 1411, 'fell': 1412, 'castl': 1413, 'convers': 1414, 'trick': 1415, 'rob': 1416, 'disast': 1417, 'establish': 1418, 'gangster': 1419, 'disappear': 1420, 'mine': 1421, 'suicid': 1422, 'heaven': 1423, 'ident': 1424, 'heroin': 1425, 'forgotten': 1426, 'mask': 1427, 'decis': 1428, 'tend': 1429, 'singer': 1430, 'partner': 1431, 'brian': 1432, 'recogn': 1433, 'alan': 1434, 'desert': 1435, 'ms': 1436, 'p': 1437, 'thoroughli': 1438, 'stuck': 1439, 'sky': 1440, 'accur': 1441, 'replac': 1442, 'market': 1443, 'andi': 1444, 'seemingli': 1445, 'clue': 1446, 'commentari': 1447, 'danni': 1448, 'uncl': 1449, 'eddi': 1450, 'jackson': 1451, 'devil': 1452, 'pair': 1453, 'refus': 1454, 'therefor': 1455, 'that': 1456, 'fate': 1457, 'fault': 1458, 'ed': 1459, 'river': 1460, 'accid': 1461, 'unit': 1462, 'afraid': 1463, 'tune': 1464, 'stephen': 1465, 'clean': 1466, 'hidden': 1467, 'russian': 1468, 'irrit': 1469, 'convey': 1470, 'captain': 1471, 'quick': 1472, 'instanc': 1473, 'readi': 1474, 'test': 1475, 'european': 1476, 'daniel': 1477, 'insan': 1478, 'frustrat': 1479, 'food': 1480, '1950': 1481, 'rescu': 1482, 'wed': 1483, 'chines': 1484, 'dirti': 1485, 'angri': 1486, 'lock': 1487, 'joy': 1488, 'steven': 1489, 'price': 1490, 'cage': 1491, 'bland': 1492, 'rang': 1493, 'anymor': 1494, 'wooden': 1495, 'n': 1496, 'news': 1497, 'rush': 1498, 'jason': 1499, 'twenti': 1500, 'board': 1501, '12': 1502, 'martial': 1503, 'led': 1504, 'worri': 1505, 'symbol': 1506, 'cgi': 1507, 'hunter': 1508, 'transform': 1509, 'piti': 1510, 'onto': 1511, 'sentiment': 1512, 'x': 1513, 'johnni': 1514, 'invent': 1515, 'attitud': 1516, 'explan': 1517, 'process': 1518, 'awar': 1519, 'owner': 1520, 'aim': 1521, 'floor': 1522, 'favor': 1523, 'energi': 1524, 'target': 1525, 'necessari': 1526, 'religi': 1527, 'opposit': 1528, 'insight': 1529, 'chick': 1530, 'blind': 1531, 'window': 1532, 'movement': 1533, 'deepli': 1534, 'mountain': 1535, 'research': 1536, 'comparison': 1537, 'possess': 1538, 'rain': 1539, 'grand': 1540, 'comed': 1541, 'whatsoev': 1542, 'shadow': 1543, 'began': 1544, 'bank': 1545, 'mid': 1546, 'princ': 1547, 'parodi': 1548, 'pre': 1549, 'taylor': 1550, 'credibl': 1551, 'weapon': 1552, 'friendship': 1553, 'dougla': 1554, 'teach': 1555, 'flesh': 1556, 'hint': 1557, 'bloodi': 1558, 'terror': 1559, 'protect': 1560, 'marvel': 1561, 'load': 1562, 'accord': 1563, 'watchabl': 1564, 'leader': 1565, 'anybodi': 1566, 'drunk': 1567, 'superman': 1568, 'freddi': 1569, 'brown': 1570, 'tim': 1571, 'appropri': 1572, 'seat': 1573, 'jeff': 1574, 'hitler': 1575, 'keaton': 1576, 'charg': 1577, 'unknown': 1578, 'knock': 1579, 'villag': 1580, 'empti': 1581, 'england': 1582, 'unnecessari': 1583, 'media': 1584, 'enemi': 1585, 'perspect': 1586, 'utter': 1587, 'dare': 1588, 'craft': 1589, 'buck': 1590, 'strength': 1591, 'wave': 1592, 'kiss': 1593, 'nativ': 1594, 'contrast': 1595, 'correct': 1596, 'ford': 1597, 'speed': 1598, 'magnific': 1599, 'nazi': 1600, 'knowledg': 1601, 'anywher': 1602, 'chill': 1603, 'distract': 1604, 'soap': 1605, 'ice': 1606, 'mission': 1607, 'breath': 1608, 'fred': 1609, '1980': 1610, 'jr': 1611, 'joan': 1612, 'moon': 1613, 'crowd': 1614, '000': 1615, 'kate': 1616, 'frighten': 1617, 'soft': 1618, 'hundr': 1619, 'dick': 1620, 'nick': 1621, 'dan': 1622, 'somebodi': 1623, 'dozen': 1624, 'radio': 1625, 'simon': 1626, 'loss': 1627, 'thousand': 1628, 'shakespear': 1629, 'andrew': 1630, 'academi': 1631, 'vehicl': 1632, 'account': 1633, 'sum': 1634, 'quot': 1635, 'root': 1636, 'convent': 1637, '1970': 1638, 'leg': 1639, 'behavior': 1640, 'gold': 1641, 'regular': 1642, 'worker': 1643, 'demand': 1644, 'pretenti': 1645, 'compet': 1646, 'explos': 1647, 'interpret': 1648, 'privat': 1649, 'notabl': 1650, 'stretch': 1651, 'japan': 1652, 'candi': 1653, 'lynch': 1654, 'constant': 1655, 'debut': 1656, 'tarzan': 1657, 'revolv': 1658, 'translat': 1659, 'sea': 1660, 'spi': 1661, 'prais': 1662, 'failur': 1663, 'sat': 1664, 'ass': 1665, 'threaten': 1666, 'technolog': 1667, 'jesu': 1668, 'quiet': 1669, 'franc': 1670, 'punch': 1671, 'toy': 1672, 'met': 1673, 'kevin': 1674, 'aid': 1675, 'higher': 1676, 'vh': 1677, 'mike': 1678, 'interact': 1679, 'abandon': 1680, 'bet': 1681, 'command': 1682, 'separ': 1683, 'confront': 1684, 'servic': 1685, 'belong': 1686, 'gotten': 1687, 'recal': 1688, 'site': 1689, 'techniqu': 1690, 'stunt': 1691, 'cabl': 1692, 'foot': 1693, 'freak': 1694, 'bug': 1695, 'fu': 1696, 'bright': 1697, 'jimmi': 1698, 'capabl': 1699, 'african': 1700, 'clark': 1701, 'presid': 1702, 'fat': 1703, 'stock': 1704, 'boat': 1705, 'succeed': 1706, 'spanish': 1707, 'structur': 1708, 'gene': 1709, 'kidnap': 1710, 'paper': 1711, 'factor': 1712, 'belief': 1713, 'whilst': 1714, 'bob': 1715, 'educ': 1716, 'realism': 1717, 'attend': 1718, 'complic': 1719, 'realis': 1720, 'tree': 1721, 'witti': 1722, 'finest': 1723, 'assist': 1724, 'broken': 1725, 'santa': 1726, 'v': 1727, 'up': 1728, 'observ': 1729, 'smoke': 1730, 'determin': 1731, 'depart': 1732, 'oper': 1733, 'hat': 1734, 'routin': 1735, 'lewi': 1736, 'rubbish': 1737, 'domin': 1738, 'fame': 1739, 'lone': 1740, 'advanc': 1741, 'kinda': 1742, 'safe': 1743, 'morgan': 1744, 'foreign': 1745, 'hook': 1746, 'numer': 1747, 'rank': 1748, 'washington': 1749, 'shape': 1750, 'vs': 1751, 'civil': 1752, 'rose': 1753, 'shallow': 1754, 'werewolf': 1755, 'gari': 1756, 'morn': 1757, 'kong': 1758, 'ordinari': 1759, 'accomplish': 1760, 'winner': 1761, 'whenev': 1762, 'virtual': 1763, 'grab': 1764, 'peac': 1765, 'offens': 1766, 'h': 1767, 'luck': 1768, 'patient': 1769, 'contriv': 1770, 'activ': 1771, 'welcom': 1772, 'unfunni': 1773, 'bigger': 1774, 'complain': 1775, 'con': 1776, 'dimension': 1777, 'trek': 1778, 'pretend': 1779, 'dri': 1780, 'code': 1781, 'wake': 1782, 'lesbian': 1783, 'eric': 1784, 'cain': 1785, 'flash': 1786, 'statu': 1787, 'dancer': 1788, 'albert': 1789, 'corrupt': 1790, 'guard': 1791, 'manipul': 1792, 'signific': 1793, 'speech': 1794, 'context': 1795, 'gain': 1796, 'sourc': 1797, 'awkward': 1798, 'sean': 1799, 'anthoni': 1800, '13': 1801, 'clip': 1802, 'psycho': 1803, 'corni': 1804, 'curiou': 1805, 'advic': 1806, 'theatric': 1807, 'w': 1808, 'religion': 1809, 'reli': 1810, 'priest': 1811, 'addict': 1812, 'flow': 1813, 'asian': 1814, 'jennif': 1815, 'specif': 1816, 'skin': 1817, 'howard': 1818, 'secur': 1819, 'organ': 1820, 'comfort': 1821, 'luke': 1822, 'core': 1823, 'golden': 1824, 'promot': 1825, 'lucki': 1826, 'cash': 1827, 'cheat': 1828, 'lower': 1829, 'dislik': 1830, 'associ': 1831, 'frankli': 1832, 'contribut': 1833, 'frequent': 1834, 'balanc': 1835, 'wing': 1836, 'devic': 1837, 'regret': 1838, 'spell': 1839, 'degre': 1840, 'sake': 1841, 'print': 1842, 'lake': 1843, 'forgiv': 1844, 'mass': 1845, 'thoma': 1846, 'betti': 1847, 'crack': 1848, 'gordon': 1849, 'unexpect': 1850, 'amateur': 1851, 'unfold': 1852, 'categori': 1853, 'grown': 1854, 'invit': 1855, 'depend': 1856, 'construct': 1857, 'honor': 1858, 'condit': 1859, 'matur': 1860, 'grew': 1861, 'walter': 1862, 'intellectu': 1863, 'anna': 1864, 'spectacular': 1865, 'veteran': 1866, 'sole': 1867, 'sudden': 1868, 'mirror': 1869, 'gift': 1870, 'card': 1871, 'experienc': 1872, 'overli': 1873, 'liner': 1874, 'meanwhil': 1875, 'freedom': 1876, 'demonstr': 1877, 'grip': 1878, 'robin': 1879, 'circumst': 1880, 'section': 1881, 'brilliantli': 1882, 'theori': 1883, 'subtitl': 1884, 'colour': 1885, 'crappi': 1886, 'unabl': 1887, 'sheriff': 1888, 'oliv': 1889, 'drew': 1890, 'cook': 1891, 'sheer': 1892, 'parker': 1893, 'path': 1894, 'altern': 1895, 'matt': 1896, 'pile': 1897, 'laughter': 1898, 'hall': 1899, 'relief': 1900, 'lawyer': 1901, 'treatment': 1902, 'wander': 1903, 'accident': 1904, 'defin': 1905, 'sinatra': 1906, 'hank': 1907, 'captiv': 1908, 'dragon': 1909, 'moor': 1910, 'gratuit': 1911, 'halloween': 1912, 'k': 1913, 'broadway': 1914, 'jacki': 1915, 'cowboy': 1916, 'barbara': 1917, 'wayn': 1918, 'unintent': 1919, 'wound': 1920, 'kung': 1921, 'statement': 1922, 'spoof': 1923, 'winter': 1924, 'surreal': 1925, 'canadian': 1926, 'gonna': 1927, 'treasur': 1928, 'fish': 1929, 'compos': 1930, 'fare': 1931, 'cheer': 1932, 'unrealist': 1933, 'victor': 1934, 'woodi': 1935, 'emerg': 1936, 'sensit': 1937, 'neighbor': 1938, 'ran': 1939, 'driven': 1940, 'sympathet': 1941, 'overlook': 1942, 'authent': 1943, 'menac': 1944, 'expos': 1945, 'glass': 1946, 'topic': 1947, 'handsom': 1948, 'michel': 1949, 'gross': 1950, 'ancient': 1951, 'chief': 1952, 'pleasant': 1953, 'built': 1954, 'feet': 1955, 'stranger': 1956, 'network': 1957, 'cinderella': 1958, 'contemporari': 1959, 'russel': 1960, 'nevertheless': 1961, 'comedian': 1962, 'gori': 1963, 'underr': 1964, 'miser': 1965, 'endless': 1966, 'consider': 1967, 'blockbust': 1968, 'earn': 1969, 'letter': 1970, 'switch': 1971, 'solv': 1972, 'brook': 1973, 'joseph': 1974, 'bullet': 1975, 'convict': 1976, 'victoria': 1977, 'edward': 1978, 'virgin': 1979, '0': 1980, 'chosen': 1981, 'alex': 1982, 'scale': 1983, 'cynic': 1984, 'scenario': 1985, 'outrag': 1986, 'com': 1987, 'sword': 1988, 'curs': 1989, 'gut': 1990, 'juli': 1991, 'screenwrit': 1992, 'proper': 1993, 'substanc': 1994, 'driver': 1995, 'monkey': 1996, 'wrap': 1997, 'uk': 1998, 'indic': 1999, 'par': 2000, 'remov': 2001, 'court': 2002, 'bird': 2003, 'grave': 2004, 'loser': 2005, 'naiv': 2006, 'rental': 2007, 'advertis': 2008, 'inevit': 2009, 'consequ': 2010, 'nanci': 2011, 'roy': 2012, 'le': 2013, 'bridg': 2014, 'brave': 2015, 'fatal': 2016, 'slap': 2017, 'germani': 2018, 'invis': 2019, 'footbal': 2020, 'anger': 2021, 'ador': 2022, 'provok': 2023, 'loui': 2024, 'anderson': 2025, 'chan': 2026, 'alcohol': 2027, 'ryan': 2028, 'willi': 2029, 'stumbl': 2030, 'professor': 2031, 'assassin': 2032, 'australian': 2033, 'patrick': 2034, '1930': 2035, 'sharp': 2036, 'bat': 2037, 'lousi': 2038, 'heck': 2039, 'amateurish': 2040, 'strongli': 2041, 'refresh': 2042, 'saturday': 2043, 'trilog': 2044, 'ape': 2045, 'cell': 2046, 'deni': 2047, 'eight': 2048, 'liber': 2049, 'sin': 2050, 'san': 2051, 'justifi': 2052, 'vagu': 2053, 'resid': 2054, 'defeat': 2055, 'creator': 2056, 'terrifi': 2057, 'sympathi': 2058, 'indi': 2059, 'mini': 2060, 'reput': 2061, 'prevent': 2062, 'tediou': 2063, 'endur': 2064, 'tabl': 2065, 'task': 2066, 'expert': 2067, 'offend': 2068, 'rival': 2069, 'trial': 2070, 'basebal': 2071, 'imit': 2072, 'employ': 2073, 'che': 2074, 'complaint': 2075, 'europ': 2076, 'max': 2077, 'pitch': 2078, 'dig': 2079, 'weekend': 2080, 'beach': 2081, 'fairi': 2082, 'murphi': 2083, 'format': 2084, 'purchas': 2085, 'risk': 2086, 'nois': 2087, 'harsh': 2088, 'hype': 2089, 'bite': 2090, 'powel': 2091, 'glimps': 2092, 'titan': 2093, 'reminisc': 2094, 'tini': 2095, 'north': 2096, '14': 2097, 'till': 2098, 'asleep': 2099, 'prime': 2100, 'strip': 2101, 'fals': 2102, 'texa': 2103, 'africa': 2104, 'revel': 2105, 'destruct': 2106, 'descript': 2107, 'inner': 2108, 'excess': 2109, 'semi': 2110, 'surfac': 2111, 'arrest': 2112, 'uninterest': 2113, 'sitcom': 2114, 'spin': 2115, 'makeup': 2116, 'maintain': 2117, 'controversi': 2118, 'massiv': 2119, 'hitchcock': 2120, 'twin': 2121, 'argu': 2122, 'dinosaur': 2123, 'ideal': 2124, 'reject': 2125, 'expens': 2126, 'ludicr': 2127, 'insist': 2128, 'melodrama': 2129, 'stare': 2130, 'kim': 2131, 'nail': 2132, 'atroci': 2133, 'press': 2134, 'ga': 2135, 'forest': 2136, 'supernatur': 2137, 'subplot': 2138, 'columbo': 2139, 'erot': 2140, 'ala': 2141, 'host': 2142, 'cant': 2143, 'notch': 2144, 'identifi': 2145, 'dude': 2146, 'presum': 2147, 'closer': 2148, 'guest': 2149, 'forgett': 2150, 'crude': 2151, 'plagu': 2152, 'method': 2153, 'character': 2154, 'border': 2155, 'ear': 2156, 'landscap': 2157, 'lion': 2158, 'foster': 2159, 'beast': 2160, 'princess': 2161, 'bound': 2162, 'previous': 2163, 'accus': 2164, 'aunt': 2165, 'storytel': 2166, 'damag': 2167, 'birth': 2168, 'urban': 2169, 'pacino': 2170, 'jungl': 2171, 'chose': 2172, 'nude': 2173, 'jess': 2174, 'propaganda': 2175, 'thirti': 2176, 'guid': 2177, 'emma': 2178, 'doll': 2179, 'mate': 2180, 'mainstream': 2181, 'pet': 2182, 'warrior': 2183, '25': 2184, 'whoever': 2185, 'upset': 2186, 'cooper': 2187, 'merit': 2188, 'exact': 2189, 'friday': 2190, 'deadli': 2191, 'gritti': 2192, 'size': 2193, 'latest': 2194, 'poster': 2195, 'sun': 2196, 'warner': 2197, 'buff': 2198, '1990': 2199, 'settl': 2200, 'rough': 2201, 'ton': 2202, 'blend': 2203, 'wilson': 2204, 'corps': 2205, 'citizen': 2206, 'popul': 2207, 'contest': 2208, 'contact': 2209, 'metal': 2210, 'select': 2211, 'alic': 2212, 'pitt': 2213, 'rat': 2214, 'widow': 2215, 'environ': 2216, 'mgm': 2217, 'overcom': 2218, 'bu': 2219, 'lift': 2220, 'link': 2221, 'guilti': 2222, 'revolut': 2223, 'particip': 2224, 'ted': 2225, 'afternoon': 2226, 'moron': 2227, 'exagger': 2228, 'corpor': 2229, 'accompani': 2230, 'prostitut': 2231, 'corner': 2232, 'johnson': 2233, 'matrix': 2234, '1960': 2235, 'doom': 2236, 'sincer': 2237, 'friendli': 2238, 'multipl': 2239, 'clair': 2240, 'leagu': 2241, 'hood': 2242, 'instal': 2243, 'holm': 2244, 'hip': 2245, 'advis': 2246, 'campi': 2247, 'lugosi': 2248, 'sunday': 2249, 'string': 2250, 'junk': 2251, 'defend': 2252, 'grim': 2253, 'blah': 2254, 'irish': 2255, 'examin': 2256, 'aka': 2257, 'rachel': 2258, 'pro': 2259, 'icon': 2260, 'varieti': 2261, 'tight': 2262, 'shut': 2263, 'shake': 2264, 'confid': 2265, 'jaw': 2266, 'goal': 2267, 'medic': 2268, 'attach': 2269, 'directli': 2270, 'mexican': 2271, 'sullivan': 2272, 'denni': 2273, 'prior': 2274, 'terrorist': 2275, 'sentenc': 2276, 'vietnam': 2277, 'duke': 2278, 'breast': 2279, 'truck': 2280, 'sarah': 2281, 'courag': 2282, 'dean': 2283, 'legendari': 2284, 'bourn': 2285, 'nose': 2286, 'donald': 2287, 'yell': 2288, 'proceed': 2289, 'un': 2290, 'hong': 2291, 'entri': 2292, 'split': 2293, 'behav': 2294, 'forth': 2295, 'concentr': 2296, 'everywher': 2297, 'crush': 2298, 'buri': 2299, 'swim': 2300, 'stolen': 2301, 'borrow': 2302, 'gather': 2303, 'confess': 2304, 'unconvinc': 2305, 'jerk': 2306, 'lifetim': 2307, 'spite': 2308, 'lip': 2309, 'deliveri': 2310, 'turkey': 2311, 'california': 2312, 'julia': 2313, 'pan': 2314, 'hoffman': 2315, 'downright': 2316, 'proud': 2317, 'reward': 2318, 'freeman': 2319, 'offici': 2320, 'china': 2321, 'quest': 2322, 'flight': 2323, 'fabul': 2324, 'jail': 2325, 'inept': 2326, 'sir': 2327, 'worthwhil': 2328, 'fade': 2329, 'jon': 2330, 'encourag': 2331, 'sink': 2332, 'betray': 2333, 'notori': 2334, 'lazi': 2335, 'retard': 2336, 'bell': 2337, 'relev': 2338, 'bag': 2339, 'survivor': 2340, 'teeth': 2341, 'storm': 2342, 'shower': 2343, 'cousin': 2344, 'susan': 2345, 'imageri': 2346, 'lisa': 2347, 'branagh': 2348, 'mexico': 2349, 'finger': 2350, 'trade': 2351, 'summari': 2352, 'alright': 2353, 'stab': 2354, 'tremend': 2355, 'bride': 2356, 'toler': 2357, 'facial': 2358, 'quirki': 2359, 'shark': 2360, 'hugh': 2361, 'hyster': 2362, 'bitter': 2363, 'pose': 2364, 'blown': 2365, 'von': 2366, 'ha': 2367, 'afterward': 2368, 'cruel': 2369, 'address': 2370, 'christ': 2371, 'larri': 2372, 'scheme': 2373, 'ned': 2374, 'ron': 2375, 'bone': 2376, 'snake': 2377, 'feed': 2378, 'tour': 2379, 'swear': 2380, 'traci': 2381, 'beg': 2382, 'distinct': 2383, 'pursu': 2384, 'screw': 2385, 'thumb': 2386, 'stomach': 2387, 'obscur': 2388, 'chair': 2389, 'mechan': 2390, 'occas': 2391, 'raw': 2392, 'photo': 2393, 'southern': 2394, 'necessarili': 2395, 'sidney': 2396, 'holiday': 2397, 'gruesom': 2398, 'cabin': 2399, 'heavili': 2400, 'chain': 2401, 'render': 2402, 'resist': 2403, 'argument': 2404, 'hardi': 2405, 'philip': 2406, 'satan': 2407, 'india': 2408, 'indulg': 2409, 'racist': 2410, 'understood': 2411, 'midnight': 2412, 'outfit': 2413, 'obnoxi': 2414, 'fourth': 2415, 'tongu': 2416, 'forgot': 2417, 'pregnant': 2418, 'integr': 2419, 'lay': 2420, 'belov': 2421, 'stalk': 2422, 'garden': 2423, 'carol': 2424, '17': 2425, 'restor': 2426, 'ticket': 2427, 'inhabit': 2428, 'deeper': 2429, 'slapstick': 2430, 'magazin': 2431, 'devot': 2432, 'shoe': 2433, 'lincoln': 2434, 'brad': 2435, 'incid': 2436, 'elizabeth': 2437, 'divorc': 2438, 'disbelief': 2439, 'guarante': 2440, 'underground': 2441, 'anticip': 2442, 'benefit': 2443, 'lili': 2444, 'maria': 2445, 'sandler': 2446, 'bbc': 2447, 'creation': 2448, 'princip': 2449, 'explod': 2450, 'mildli': 2451, 'cring': 2452, 'amazingli': 2453, 'slave': 2454, 'capit': 2455, 'greater': 2456, 'funnier': 2457, 'halfway': 2458, 'extraordinari': 2459, 'lesli': 2460, 'introduct': 2461, 'text': 2462, 'transfer': 2463, 'punish': 2464, 'overwhelm': 2465, 'extent': 2466, 'wreck': 2467, 'tap': 2468, 'advantag': 2469, 'enhanc': 2470, 'preview': 2471, 'east': 2472, 'dynam': 2473, 'deliber': 2474, 'horrif': 2475, 'error': 2476, 'lane': 2477, 'plant': 2478, 'lo': 2479, 'jessica': 2480, 'appli': 2481, 'homosexu': 2482, 'basi': 2483, 'miller': 2484, 'ensu': 2485, 'sophist': 2486, 'vacat': 2487, 'vincent': 2488, 'miscast': 2489, '2000': 2490, 'uncomfort': 2491, 'mansion': 2492, 'extend': 2493, 'bollywood': 2494, 'measur': 2495, 'sleazi': 2496, 'steel': 2497, 'elev': 2498, 'via': 2499, 'reed': 2500, 'spoken': 2501, 'cathol': 2502, 'beer': 2503, 'conceiv': 2504, 'mous': 2505, 'stanley': 2506, 'daili': 2507, 'savag': 2508, 'hippi': 2509, 'alter': 2510, 'breathtak': 2511, 'overact': 2512, 'blair': 2513, 'goofi': 2514, 'melt': 2515, 'dentist': 2516, 'fix': 2517, 'assign': 2518, 'properli': 2519, 'nowaday': 2520, 'inspector': 2521, 'oppos': 2522, 'everyday': 2523, 'sacrific': 2524, 'burt': 2525, 'succe': 2526, 'carpent': 2527, 'subsequ': 2528, 'massacr': 2529, 'block': 2530, 'neck': 2531, 'laura': 2532, 'circl': 2533, 'grey': 2534, 'lesser': 2535, 'christi': 2536, 'seagal': 2537, 'concert': 2538, 'pool': 2539, 'fallen': 2540, 'portrait': 2541, 'fay': 2542, 'access': 2543, 'mob': 2544, 'relax': 2545, 'isol': 2546, 'react': 2547, 'sinist': 2548, 'chees': 2549, 'jake': 2550, 'jewish': 2551, 'competit': 2552, 'usa': 2553, '2006': 2554, 'appal': 2555, 'spiritu': 2556, 'nonetheless': 2557, 'stink': 2558, 'nine': 2559, 'lyric': 2560, 'suitabl': 2561, 'chop': 2562, 'ironi': 2563, 'creep': 2564, 'immens': 2565, 'reduc': 2566, 'rage': 2567, 'user': 2568, 'adopt': 2569, 'retir': 2570, 'luci': 2571, 'spring': 2572, 'navi': 2573, 'needless': 2574, 'showcas': 2575, 'nut': 2576, 'shirt': 2577, 'sold': 2578, 'franchis': 2579, 'digit': 2580, 'per': 2581, 'asham': 2582, 'bulli': 2583, 'bath': 2584, 'jay': 2585, 'zone': 2586, 'uninspir': 2587, 'nurs': 2588, 'stanwyck': 2589, 'sutherland': 2590, 'illustr': 2591, '1940': 2592, 'oddli': 2593, 'amongst': 2594, 'laid': 2595, 'broadcast': 2596, 'upper': 2597, '2001': 2598, 'baker': 2599, 'aspir': 2600, 'brando': 2601, 'fulfil': 2602, 'stylish': 2603, 'throat': 2604, 'disguis': 2605, 'impli': 2606, 'thief': 2607, 'endear': 2608, 'wwii': 2609, 'wanna': 2610, 'nobl': 2611, 'pound': 2612, 'em': 2613, 'neighborhood': 2614, 'pride': 2615, '18': 2616, 'rochest': 2617, '16': 2618, 'prop': 2619, 'shoulder': 2620, 'dinner': 2621, 'bo': 2622, 'coher': 2623, 'shift': 2624, 'bett': 2625, 'diseas': 2626, 'tens': 2627, 'cinematograph': 2628, 'dawn': 2629, 'distribut': 2630, 'albeit': 2631, 'wash': 2632, 'shout': 2633, 'silenc': 2634, 'matthau': 2635, 'function': 2636, 'surf': 2637, 'contract': 2638, 'forti': 2639, 'poignant': 2640, 'snow': 2641, 'rebel': 2642, 'knife': 2643, 'eeri': 2644, 'duti': 2645, 'height': 2646, 'derek': 2647, 'mindless': 2648, 'proof': 2649, 'horrend': 2650, 'internet': 2651, 'elvira': 2652, 'instinct': 2653, 'heat': 2654, 'reunion': 2655, 'silver': 2656, 'cancel': 2657, 'henc': 2658, 'chuck': 2659, 'widmark': 2660, 'cannib': 2661, 'elvi': 2662, 'pie': 2663, 'mill': 2664, 'innov': 2665, 'greatli': 2666, 'incoher': 2667, 'repetit': 2668, 'premier': 2669, 'etern': 2670, 'absorb': 2671, 'torn': 2672, 'neat': 2673, 'alik': 2674, 'musician': 2675, 'glori': 2676, 'spielberg': 2677, 'bang': 2678, 'redempt': 2679, 'nelson': 2680, 'blank': 2681, 'homag': 2682, 'announc': 2683, 'racism': 2684, 'fbi': 2685, 'britain': 2686, 'precis': 2687, 'itali': 2688, 'burton': 2689, 'diamond': 2690, 'horrifi': 2691, 'wealthi': 2692, 'infam': 2693, 'crisi': 2694, 'trite': 2695, 'lovabl': 2696, 'helen': 2697, 'happili': 2698, 'parallel': 2699, 'hammer': 2700, 'resolut': 2701, 'ensembl': 2702, 'flop': 2703, 'wilder': 2704, 'streisand': 2705, 'dedic': 2706, 'chaplin': 2707, 'pat': 2708, 'st': 2709, 'mar': 2710, 'factori': 2711, 'plastic': 2712, 'broke': 2713, 'triumph': 2714, 'cube': 2715, 'disagre': 2716, 'carter': 2717, 'conclud': 2718, 'oil': 2719, 'weight': 2720, 'vega': 2721, 'own': 2722, 'row': 2723, 'rocket': 2724, 'march': 2725, 'chuckl': 2726, 'fighter': 2727, 'climb': 2728, 'bush': 2729, 'unforgett': 2730, 'mst3k': 2731, 'spare': 2732, 'enorm': 2733, 'boot': 2734, 'thug': 2735, 'meaning': 2736, 'dump': 2737, 'kurt': 2738, 'sensibl': 2739, 'dane': 2740, 'wherea': 2741, 'lust': 2742, 'luca': 2743, 'rap': 2744, 'adequ': 2745, 'difficulti': 2746, 'caricatur': 2747, 'karloff': 2748, 'brand': 2749, 'fifti': 2750, 'dear': 2751, 'butt': 2752, 'threat': 2753, 'stress': 2754, 'engin': 2755, 'arnold': 2756, 'bobbi': 2757, 'fest': 2758, 'secretari': 2759, 'swing': 2760, 'elabor': 2761, 'arrog': 2762, 'journalist': 2763, 'homeless': 2764, 'ego': 2765, 'polish': 2766, 'hamlet': 2767, 'ralph': 2768, 'barri': 2769, 'flynn': 2770, 'arrang': 2771, 'conspiraci': 2772, 'fanci': 2773, 'tool': 2774, 'spike': 2775, 'float': 2776, 'resort': 2777, 'simpson': 2778, 'induc': 2779, 'unbear': 2780, 'grate': 2781, 'puppet': 2782, 'choreograph': 2783, 'muppet': 2784, 'tribut': 2785, 'boll': 2786, 'exercis': 2787, 'pig': 2788, 'basement': 2789, 'phillip': 2790, 'guilt': 2791, 'cruis': 2792, 'document': 2793, 'layer': 2794, 'item': 2795, 'editor': 2796, 'slip': 2797, 'tower': 2798, '24': 2799, 'korean': 2800, 'fianc': 2801, 'medium': 2802, 'file': 2803, 'babe': 2804, 'toilet': 2805, 'ward': 2806, 'puzzl': 2807, 'ham': 2808, 'scarecrow': 2809, 'stan': 2810, 'spark': 2811, 'assur': 2812, 'librari': 2813, 'denzel': 2814, 'larger': 2815, 'portion': 2816, 'minim': 2817, 'slaughter': 2818, 'philosoph': 2819, 'orient': 2820, 'catherin': 2821, 'inexplic': 2822, 'doc': 2823, 'superfici': 2824, 'territori': 2825, 'glover': 2826, 'persona': 2827, 'transit': 2828, 'sneak': 2829, 'shi': 2830, 'pg': 2831, 'walken': 2832, 'dorothi': 2833, 'curti': 2834, 'ban': 2835, 'boredom': 2836, 'financi': 2837, 'owe': 2838, 'wolf': 2839, 'jeremi': 2840, 'jet': 2841, 'profound': 2842, 'multi': 2843, 'ambigu': 2844, 'backdrop': 2845, 'cusack': 2846, 'metaphor': 2847, 'eleph': 2848, 'whale': 2849, 'hudson': 2850, 'implaus': 2851, 'union': 2852, '2005': 2853, 'ultra': 2854, 'notion': 2855, 'elsewher': 2856, 'gadget': 2857, 'birthday': 2858, 'rave': 2859, 'hack': 2860, 'stiff': 2861, 'viru': 2862, 'eva': 2863, 'hawk': 2864, 'canada': 2865, '1st': 2866, 'deriv': 2867, 'reader': 2868, 'pad': 2869, 'distanc': 2870, 'slight': 2871, 'poison': 2872, 'afford': 2873, 'squar': 2874, 'lloyd': 2875, 'bibl': 2876, 'disc': 2877, 'newspap': 2878, 'superhero': 2879, 'urg': 2880, 'eastwood': 2881, 'sadist': 2882, 'charisma': 2883, 'drown': 2884, 'skit': 2885, 'restaur': 2886, 'huh': 2887, 'button': 2888, 'cure': 2889, 'spread': 2890, 'health': 2891, 'essenc': 2892, 'montag': 2893, 'heston': 2894, 'dealt': 2895, 'companion': 2896, 'estat': 2897, 'peak': 2898, 'maniac': 2899, 'godfath': 2900, 'scoobi': 2901, 'invest': 2902, 'muslim': 2903, 'gradual': 2904, 'fetch': 2905, 'lab': 2906, 'gothic': 2907, 'countless': 2908, 'tea': 2909, 'ritter': 2910, 'kane': 2911, 'servant': 2912, 'subtleti': 2913, 'miik': 2914, 'alli': 2915, 'cup': 2916, 'electr': 2917, 'iii': 2918, 'heroic': 2919, 'elect': 2920, 'salli': 2921, 'briefli': 2922, 'charismat': 2923, 'tender': 2924, 'reel': 2925, 'ingredi': 2926, 'nuanc': 2927, 'admittedli': 2928, 'wannab': 2929, 'toss': 2930, 'grandmoth': 2931, 'neil': 2932, 'bud': 2933, 'cole': 2934, 'resourc': 2935, 'mafia': 2936, 'gate': 2937, 'dawson': 2938, 'shall': 2939, 'mild': 2940, 'stronger': 2941, 'stood': 2942, 'pauli': 2943, 'punk': 2944, 'poverti': 2945, 'label': 2946, 'pit': 2947, 'carrey': 2948, 'kubrick': 2949, 'reev': 2950, 'easier': 2951, 'smash': 2952, 'tag': 2953, 'cardboard': 2954, 'smooth': 2955, 'cox': 2956, 'outcom': 2957, 'burst': 2958, 'fond': 2959, 'terri': 2960, 'ian': 2961, 'useless': 2962, 'astair': 2963, 'updat': 2964, 'assault': 2965, 'bakshi': 2966, 'vulner': 2967, 'vari': 2968, 'sketch': 2969, 'fist': 2970, 'melodramat': 2971, 'increasingli': 2972, 'samurai': 2973, '2002': 2974, 'qualifi': 2975, 'exchang': 2976, 'divers': 2977, 'resolv': 2978, 'rex': 2979, 'coincid': 2980, 'be': 2981, 'brillianc': 2982, 'suspend': 2983, 'insert': 2984, 'luckili': 2985, 'conveni': 2986, 'tame': 2987, 'scratch': 2988, 'reynold': 2989, 'blast': 2990, 'templ': 2991, 'fisher': 2992, 'strictli': 2993, 'ambiti': 2994, 'meat': 2995, 'walker': 2996, 'soprano': 2997, 'matthew': 2998, 'gotta': 2999, 'coach': 3000, 'pin': 3001, 'jami': 3002, 'seventi': 3003, 'nuclear': 3004, 'hamilton': 3005, 'farm': 3006, 'cave': 3007, 'kudo': 3008, 'struck': 3009, 'joey': 3010, 'spooki': 3011, 'grasp': 3012, 'discoveri': 3013, 'timeless': 3014, 'eccentr': 3015, 'convolut': 3016, 'instantli': 3017, 'butcher': 3018, 'empir': 3019, 'worthless': 3020, 'closet': 3021, 'monk': 3022, 'clock': 3023, 'recreat': 3024, 'revers': 3025, 'ninja': 3026, 'brosnan': 3027, 'seller': 3028, 'eighti': 3029, 'inconsist': 3030, 'mitchel': 3031, 'sloppi': 3032, 'wipe': 3033, 'communist': 3034, 'miracl': 3035, 'evok': 3036, 'cliff': 3037, 'bleak': 3038, 'importantli': 3039, 'partli': 3040, 'norman': 3041, 'gray': 3042, 'sidekick': 3043, 'clown': 3044, 'selfish': 3045, 'declar': 3046, 'pal': 3047, 'fifteen': 3048, 'farc': 3049, 'piano': 3050, '45': 3051, 'ho': 3052, 'psychiatrist': 3053, 'cheek': 3054, 'seed': 3055, 'stoog': 3056, 'australia': 3057, 'flawless': 3058, 'superbl': 3059, 'enthusiast': 3060, 'lifestyl': 3061, 'aforement': 3062, 'destin': 3063, 'websit': 3064, 'chew': 3065, 'debat': 3066, 'incompet': 3067, 'emili': 3068, 'slice': 3069, 'abc': 3070, 'kitchen': 3071, 'akshay': 3072, 'pressur': 3073, 'wick': 3074, 'regardless': 3075, 'dire': 3076, 'splatter': 3077, 'directori': 3078, 'wrestl': 3079, 'dash': 3080, 'anni': 3081, 'drivel': 3082, 'soviet': 3083, 'bash': 3084, 'beaten': 3085, 'pleasantli': 3086, 'cameron': 3087, 'dave': 3088, 'cia': 3089, 'glow': 3090, 'blob': 3091, 'ken': 3092, 'boil': 3093, 'chapter': 3094, 'mann': 3095, 'helicopt': 3096, 'judi': 3097, 'increas': 3098, 'prize': 3099, 'cagney': 3100, 'distant': 3101, 'doo': 3102, 'seduc': 3103, 'flower': 3104, 'jar': 3105, 'duo': 3106, 'recov': 3107, 'lou': 3108, 'suppli': 3109, 'curios': 3110, 'artifici': 3111, 'laurel': 3112, 'hop': 3113, 'psychot': 3114, 'turner': 3115, 'perri': 3116, 'goldberg': 3117, 'francisco': 3118, 'eleg': 3119, 'splendid': 3120, 'glenn': 3121, 'ranger': 3122, 'drunken': 3123, 'craig': 3124, 'web': 3125, 'panic': 3126, 'ellen': 3127, 'favour': 3128, 'craven': 3129, 'combat': 3130, 'falk': 3131, 'min': 3132, 'greek': 3133, '20th': 3134, 'fx': 3135, 'gentl': 3136, 'flip': 3137, 'hatr': 3138, 'modesti': 3139, 'plausibl': 3140, 'ruth': 3141, 'shortli': 3142, 'slightest': 3143, 'philosophi': 3144, 'wizard': 3145, 'graduat': 3146, 'rid': 3147, 'alexand': 3148, 'gandhi': 3149, 'tall': 3150, 'lend': 3151, 'fund': 3152, 'preciou': 3153, 'legal': 3154, 'knight': 3155, 'holi': 3156, 'jealou': 3157, 'ocean': 3158, 'harm': 3159, 'futurist': 3160, 'manhattan': 3161, 'dracula': 3162, 'felix': 3163, 'we': 3164, 'unpleas': 3165, 'thread': 3166, 'reviv': 3167, 'digniti': 3168, 'mock': 3169, 'scientif': 3170, 'ami': 3171, 'tank': 3172, 'explicit': 3173, 'giallo': 3174, 'overdon': 3175, 'nod': 3176, 'forbidden': 3177, 'childish': 3178, 'bless': 3179, 'yesterday': 3180, '99': 3181, 'fever': 3182, 'broad': 3183, 'elderli': 3184, 'awe': 3185, 'awaken': 3186, 'unwatch': 3187, 'margaret': 3188, 'eve': 3189, 'pirat': 3190, 'repeatedli': 3191, 'verhoeven': 3192, 'torment': 3193, '2004': 3194, 'nerv': 3195, 'thick': 3196, 'mel': 3197, 'timothi': 3198, 'custom': 3199, 'uniform': 3200, 'rivet': 3201, 'kay': 3202, 'bin': 3203, 'automat': 3204, 'eas': 3205, 'lean': 3206, 'ambit': 3207, 'acclaim': 3208, 'ah': 3209, 'royal': 3210, 'griffith': 3211, 'roman': 3212, 'stiller': 3213, 'launch': 3214, 'publish': 3215, 'politician': 3216, 'romero': 3217, 'absenc': 3218, 'foul': 3219, 'sunshin': 3220, 'antic': 3221, 'wallac': 3222, 'homicid': 3223, 'purpl': 3224, 'warren': 3225, 'termin': 3226, 'tomato': 3227, 'crook': 3228, 'pierc': 3229, 'darker': 3230, 'bathroom': 3231, 'gabriel': 3232, 'transport': 3233, 'pulp': 3234, 'phrase': 3235, 'stinker': 3236, 'horrid': 3237, 'eyr': 3238, 'revolutionari': 3239, 'rambo': 3240, 'album': 3241, 'marin': 3242, 'q': 3243, 'sixti': 3244, 'karen': 3245, 'donna': 3246, 'contrari': 3247, 'pray': 3248, 'brazil': 3249, 'hollow': 3250, 'viciou': 3251, 'evolv': 3252, 'choreographi': 3253, 'packag': 3254, 'li': 3255, 'juvenil': 3256, 'kenneth': 3257, 'ought': 3258, 'coloni': 3259, 'saint': 3260, 'awak': 3261, 'prom': 3262, '2003': 3263, 'candid': 3264, 'defi': 3265, 'twelv': 3266, 'stole': 3267, 'mummi': 3268, 'mildr': 3269, 'nerd': 3270, 'dose': 3271, 'conserv': 3272, 'option': 3273, 'ramon': 3274, 'boast': 3275, 'ireland': 3276, 'beatti': 3277, 'blade': 3278, 'kapoor': 3279, 'overr': 3280, 'astonish': 3281, 'confirm': 3282, 'fulci': 3283, 'kirk': 3284, 'protest': 3285, 'detract': 3286, 'trio': 3287, 'global': 3288, 'collabor': 3289, 'altman': 3290, 'jazz': 3291, 'natali': 3292, 'funer': 3293, 'flame': 3294, 'blake': 3295, 'spit': 3296, 'nicholson': 3297, 'audio': 3298, 'delici': 3299, 'mystic': 3300, 'shade': 3301, 'tommi': 3302, 'leap': 3303, 'destini': 3304, 'bull': 3305, 'whip': 3306, 'bottl': 3307, 'yellow': 3308, 'enterpris': 3309, 'racial': 3310, 'threw': 3311, 'altogeth': 3312, 'adolesc': 3313, 'fonda': 3314, 'pseudo': 3315, 'harder': 3316, 'staff': 3317, 'meaningless': 3318, 'merci': 3319, 'todd': 3320, 'bedroom': 3321, 'popcorn': 3322, 'enchant': 3323, 'visibl': 3324, 'swedish': 3325, 'vivid': 3326, 'reunit': 3327, 'neo': 3328, 'inherit': 3329, 'befriend': 3330, 'decor': 3331, 'ruthless': 3332, 'leonard': 3333, 'lawrenc': 3334, 'fanat': 3335, 'tip': 3336, 'jew': 3337, 'exhibit': 3338, 'bust': 3339, 'madonna': 3340, 'lemmon': 3341, 'moodi': 3342, 'kennedi': 3343, 'respond': 3344, 'suspici': 3345, 'uneven': 3346, 'voight': 3347, 'await': 3348, 'roommat': 3349, 'synopsi': 3350, 'edi': 3351, 'atlanti': 3352, 'wire': 3353, 'reserv': 3354, 'crocodil': 3355, 'rural': 3356, 'incident': 3357, 'bold': 3358, 'audit': 3359, 'abysm': 3360, 'carl': 3361, 'bargain': 3362, '2007': 3363, 'voyag': 3364, 'clumsi': 3365, 'dimens': 3366, 'unsettl': 3367, 'clint': 3368, 'bradi': 3369, 'garner': 3370, 'ventur': 3371, 'chao': 3372, 'centr': 3373, 'palma': 3374, 'holli': 3375, 'humili': 3376, 'versu': 3377, 'trail': 3378, 'daddi': 3379, '2nd': 3380, 'troop': 3381, 'cari': 3382, 'neglect': 3383, 'hart': 3384, 'tiger': 3385, 'elimin': 3386, 'echo': 3387, 'mall': 3388, 'cd': 3389, 'lit': 3390, 'immigr': 3391, 'imperson': 3392, 'nearbi': 3393, 'timon': 3394, 'ant': 3395, 'poetic': 3396, 'characterist': 3397, 'cuba': 3398, 'wealth': 3399, 'acknowledg': 3400, 'collaps': 3401, 'domest': 3402, 'paus': 3403, 'mickey': 3404, 'saga': 3405, 'marshal': 3406, 'jeffrey': 3407, 'pun': 3408, 'solo': 3409, 'celluloid': 3410, 'repuls': 3411, 'infect': 3412, 'prejudic': 3413, 'mistaken': 3414, 'homer': 3415, 'pant': 3416, 'equip': 3417, 'coffe': 3418, 'assembl': 3419, 'undoubtedli': 3420, 'hbo': 3421, 'sore': 3422, 'inan': 3423, '1996': 3424, 'gear': 3425, 'inappropri': 3426, 'apolog': 3427, 'tribe': 3428, 'promin': 3429, 'harvey': 3430, 'coat': 3431, 'olivi': 3432, 'milk': 3433, 'leon': 3434, 'chest': 3435, 'cake': 3436, 'ginger': 3437, 'interrupt': 3438, 'retain': 3439, 'furthermor': 3440, 'brooklyn': 3441, 'humbl': 3442, 'pen': 3443, 'institut': 3444, 'instant': 3445, 'embrac': 3446, 'consum': 3447, 'airplan': 3448, 'aveng': 3449, 'exot': 3450, 'trace': 3451, 'primari': 3452, 'solut': 3453, 'colleagu': 3454, 'maggi': 3455, 'polanski': 3456, 'jenni': 3457, 'devast': 3458, 'florida': 3459, 'vulgar': 3460, 'highest': 3461, 'pot': 3462, 'colonel': 3463, 'principl': 3464, 'smaller': 3465, '3rd': 3466, 'bowl': 3467, '1999': 3468, 'strain': 3469, 'sale': 3470, 'disabl': 3471, 'illog': 3472, 'dutch': 3473, 'wive': 3474, 'outer': 3475, 'descend': 3476, 'poke': 3477, 'cope': 3478, 'seduct': 3479, 'ya': 3480, 'gender': 3481, 'godzilla': 3482, 'dian': 3483, 'rick': 3484, 'linda': 3485, 'mixtur': 3486, 'cue': 3487, 'vast': 3488, 'bubbl': 3489, 'inferior': 3490, 'beneath': 3491, 'blatant': 3492, 'devoid': 3493, 'scope': 3494, 'dive': 3495, 'primarili': 3496, 'hal': 3497, 'predecessor': 3498, 'secondli': 3499, 'dud': 3500, 'glamor': 3501, 'lol': 3502, 'rabbit': 3503, 'gloriou': 3504, 'yard': 3505, 'gundam': 3506, 'shelf': 3507, 'z': 3508, 'disjoint': 3509, 'shirley': 3510, 'hideou': 3511, 'senseless': 3512, 'arab': 3513, 'aggress': 3514, 'grinch': 3515, 'streep': 3516, 'talki': 3517, 'invas': 3518, 'alert': 3519, 'breed': 3520, 'pearl': 3521, 'myer': 3522, 'countrysid': 3523, 'et': 3524, 'casual': 3525, 'domino': 3526, 'april': 3527, 'museum': 3528, 'alfr': 3529, 'trademark': 3530, 'simplist': 3531, 'garbo': 3532, 'robinson': 3533, 'robberi': 3534, 'maci': 3535, 'stellar': 3536, 'rendit': 3537, 'sh': 3538, 'unhappi': 3539, 'acid': 3540, 'uwe': 3541, 'boom': 3542, 'slide': 3543, 'experiment': 3544, 'obtain': 3545, 'hopeless': 3546, 'vanish': 3547, 'mail': 3548, 'khan': 3549, 'disgrac': 3550, 'loyal': 3551, 'hardcor': 3552, 'applaud': 3553, 'stack': 3554, 'mayor': 3555, 'illeg': 3556, 'stir': 3557, 'oz': 3558, 'defens': 3559, 'blew': 3560, 'counter': 3561, 'topless': 3562, 'craze': 3563, 'grandfath': 3564, 'berlin': 3565, 'declin': 3566, 'scroog': 3567, 'tempt': 3568, 'fri': 3569, 'recruit': 3570, 'spider': 3571, 'rifl': 3572, 'hartley': 3573, 'incomprehens': 3574, 'emphasi': 3575, 'psychic': 3576, 'dicken': 3577, 'tenant': 3578, 'soccer': 3579, 'diana': 3580, 'amanda': 3581, 'span': 3582, 'wont': 3583, 'dismiss': 3584, 'wet': 3585, 'shaw': 3586, 'lumet': 3587, 'revolt': 3588, 'ration': 3589, 'parad': 3590, 'shed': 3591, 'sibl': 3592, 'riot': 3593, 'bitch': 3594, 'resurrect': 3595, 'goer': 3596, 'intim': 3597, 'porno': 3598, 'trashi': 3599, 'sympath': 3600, 'faster': 3601, 'ethnic': 3602, 'justin': 3603, 'niro': 3604, 'woo': 3605, 'nephew': 3606, '00': 3607, 'partial': 3608, 'ensur': 3609, 'biographi': 3610, 'region': 3611, 'patriot': 3612, 'enlighten': 3613, 'ballet': 3614, 'honesti': 3615, 'hesit': 3616, 'rider': 3617, 'gap': 3618, 'unreal': 3619, 'eager': 3620, 'choru': 3621, 'immort': 3622, 'worm': 3623, 'lena': 3624, 'commend': 3625, 'feminist': 3626, 'wendi': 3627, 'dealer': 3628, 'weakest': 3629, 'slick': 3630, 'hopper': 3631, 'jonathan': 3632, 'steam': 3633, 'andr': 3634, 'wheel': 3635, 'farmer': 3636, 'mario': 3637, 'charlott': 3638, 'snap': 3639, 'properti': 3640, 'victori': 3641, 'sappi': 3642, 'prequel': 3643, 'hung': 3644, 'leo': 3645, 'safeti': 3646, 'franco': 3647, 'util': 3648, 'psychopath': 3649, 'composit': 3650, 'nostalg': 3651, 'wore': 3652, 'owen': 3653, 'blunt': 3654, 'vice': 3655, 'skull': 3656, 'similarli': 3657, 'kingdom': 3658, 'repress': 3659, 'sandra': 3660, 'mutant': 3661, 'morri': 3662, 'confin': 3663, 'macarthur': 3664, 'nervou': 3665, 'dalton': 3666, 'despair': 3667, 'tail': 3668, 'rope': 3669, 'recycl': 3670, 'bonu': 3671, 'cg': 3672, 'compens': 3673, 'dust': 3674, 'kyle': 3675, 'acquir': 3676, 'pattern': 3677, 'heartbreak': 3678, 'rambl': 3679, 'strand': 3680, 'tad': 3681, 'campbel': 3682, 'farrel': 3683, 'snl': 3684, 'miseri': 3685, 'hyde': 3686, 'compass': 3687, 'deed': 3688, 'drain': 3689, 'bow': 3690, 'whoopi': 3691, '1972': 3692, 'thru': 3693, 'montana': 3694, 'exit': 3695, 'bergman': 3696, 'valuabl': 3697, 'drum': 3698, 'del': 3699, 'speci': 3700, 'repli': 3701, 'bumbl': 3702, 'rocki': 3703, 'emperor': 3704, 'latin': 3705, 'orson': 3706, 'pour': 3707, 'oppress': 3708, 'tonight': 3709, 'wacki': 3710, 'contempl': 3711, 'percept': 3712, 'gimmick': 3713, 'slug': 3714, 'roth': 3715, 'rapist': 3716, 'bleed': 3717, 'da': 3718, 'romp': 3719, 'chess': 3720, 'mistress': 3721, 'olli': 3722, 'gal': 3723, 'downhil': 3724, 'radic': 3725, 'rotten': 3726, '35': 3727, 'airport': 3728, 'carradin': 3729, 'martian': 3730, '1983': 3731, 'pervers': 3732, 'dazzl': 3733, 'taught': 3734, 'heal': 3735, 'mislead': 3736, 'edgar': 3737, 'pervert': 3738, 'preach': 3739, 'programm': 3740, 'arc': 3741, 'shelley': 3742, 'arguabl': 3743, 'tackl': 3744, 'tooth': 3745, 'banal': 3746, 'paltrow': 3747, 'stilt': 3748, 'belt': 3749, 'unpredict': 3750, 'slash': 3751, 'attorney': 3752, 'pursuit': 3753, 'melodi': 3754, 'champion': 3755, 'orang': 3756, 'mesmer': 3757, 'plight': 3758, 'employe': 3759, 'conneri': 3760, 'poem': 3761, 'bela': 3762, 'gambl': 3763, 'duval': 3764, 'rubi': 3765, 'vocal': 3766, 'virginia': 3767, 'sensat': 3768, 'raymond': 3769, 'dixon': 3770, 'franki': 3771, 'graham': 3772, 'marti': 3773, 'cleverli': 3774, 'tiresom': 3775, 'uplift': 3776, 'closest': 3777, 'passeng': 3778, 'vengeanc': 3779, 'maid': 3780, 'chicken': 3781, 'profan': 3782, 'abraham': 3783, 'calm': 3784, 'quarter': 3785, 'mute': 3786, 'bay': 3787, 'amitabh': 3788, 'habit': 3789, 'inject': 3790, 'tube': 3791, 'engross': 3792, 'swallow': 3793, 'secretli': 3794, 'giggl': 3795, 'pokemon': 3796, 'whine': 3797, 'crystal': 3798, 'monologu': 3799, '1968': 3800, 'numb': 3801, 'iran': 3802, 'paranoia': 3803, 'outing': 3804, 'yawn': 3805, 'convincingli': 3806, 'extens': 3807, 'scottish': 3808, 'climact': 3809, 'volum': 3810, 'gerard': 3811, 'clone': 3812, 'sirk': 3813, 'suffic': 3814, 'lundgren': 3815, 'meander': 3816, 'ethan': 3817, 'im': 3818, 'linger': 3819, 'underst': 3820, 'backward': 3821, 'fed': 3822, 'franci': 3823, 'trend': 3824, 'bend': 3825, 'taxi': 3826, 'earl': 3827, 'junior': 3828, 'austen': 3829, 'profess': 3830, 'plod': 3831, 'surpass': 3832, 'abort': 3833, 'grotesqu': 3834, 'expand': 3835, 'lowest': 3836, 'chicago': 3837, 'dispos': 3838, 'septemb': 3839, 'nichola': 3840, 'spock': 3841, 'richardson': 3842, 'poetri': 3843, 'frankenstein': 3844, 'literatur': 3845, 'stallon': 3846, 'compliment': 3847, 'der': 3848, 'econom': 3849, 'mundan': 3850, 'waitress': 3851, 'household': 3852, 'simplic': 3853, 'sue': 3854, 'rant': 3855, 'descent': 3856, 'spoke': 3857, 'dysfunct': 3858, 'eugen': 3859, 'lure': 3860, 'catchi': 3861, 'myth': 3862, 'muddl': 3863, 'greedi': 3864, 'nostalgia': 3865, 'tourist': 3866, 'instrument': 3867, 'rubber': 3868, 'hum': 3869, 'cannon': 3870, 'june': 3871, 'insur': 3872, 'phantom': 3873, 'stale': 3874, 'lang': 3875, 'occupi': 3876, 'irrelev': 3877, 'hello': 3878, 'louis': 3879, 'firstli': 3880, 'molli': 3881, 'duck': 3882, 'map': 3883, 'crucial': 3884, 'recognit': 3885, 'recognis': 3886, 'alongsid': 3887, 'dement': 3888, 'carel': 3889, 'cent': 3890, 'coast': 3891, 'bacal': 3892, 'deaf': 3893, 'mortal': 3894, 'flee': 3895, 'eaten': 3896, 'equival': 3897, 'phoni': 3898, 'sissi': 3899, 'dictat': 3900, 'furi': 3901, 'mankind': 3902, 'randi': 3903, 'damon': 3904, 'omen': 3905, '1973': 3906, 'likewis': 3907, 'ashley': 3908, 'dreari': 3909, 'antwon': 3910, 'drake': 3911, 'heel': 3912, 'wisdom': 3913, 'labor': 3914, 'loyalti': 3915, 'rooney': 3916, 'grayson': 3917, 'buffalo': 3918, 'damm': 3919, 'lengthi': 3920, 'twilight': 3921, 'bump': 3922, 'freez': 3923, 'reign': 3924, 'bike': 3925, 'distinguish': 3926, 'rude': 3927, 'blackmail': 3928, 'daisi': 3929, 'newli': 3930, 'onlin': 3931, 'biko': 3932, 'cyborg': 3933, 'sailor': 3934, 'attribut': 3935, 'nineti': 3936, 'incorpor': 3937, 'tunnel': 3938, 'basketbal': 3939, 'analysi': 3940, 'ridden': 3941, 'startl': 3942, 'prey': 3943, 'unorigin': 3944, 'vein': 3945, 'boxer': 3946, 'pink': 3947, 'provoc': 3948, 'emphas': 3949, 'inher': 3950, 'barrymor': 3951, 'butler': 3952, 'chronicl': 3953, 'exposur': 3954, 'approv': 3955, 'baddi': 3956, 'keith': 3957, 'worn': 3958, 'proce': 3959, 'interior': 3960, 'elm': 3961, 'degrad': 3962, 'hypnot': 3963, 'simmon': 3964, 'millionair': 3965, 'condemn': 3966, 'unrel': 3967, 'othello': 3968, 'substitut': 3969, 'drift': 3970, 'fleet': 3971, 'mighti': 3972, 'stalker': 3973, 'er': 3974, 'undeni': 3975, 'barrel': 3976, 'indiffer': 3977, 'predat': 3978, 'meg': 3979, 'robbin': 3980, 'carla': 3981, 'improvis': 3982, 'nicol': 3983, 'underli': 3984, 'bunni': 3985, 'julian': 3986, 'belushi': 3987, 'meyer': 3988, 'mormon': 3989, 'walsh': 3990, 'lampoon': 3991, 'firm': 3992, 'greed': 3993, 'mtv': 3994, 'warmth': 3995, 'alarm': 3996, 'rukh': 3997, 'agenda': 3998, 'priceless': 3999, 'unawar': 4000, 'exquisit': 4001, 'vital': 4002, 'shove': 4003, 'disord': 4004, 'enthusiasm': 4005, 'watson': 4006, 'alison': 4007, 'nyc': 4008, 'edgi': 4009, 'reid': 4010, 'marion': 4011, '3d': 4012, 'errol': 4013, 'palac': 4014, 'hay': 4015, 'novak': 4016, 'roof': 4017, 'dolph': 4018, 'pamela': 4019, 'thompson': 4020, 'cassidi': 4021, 'testament': 4022, 'drip': 4023, 'gestur': 4024, 'session': 4025, 'glanc': 4026, '13th': 4027, 'preserv': 4028, 'israel': 4029, 'iraq': 4030, 'angela': 4031, 'what': 4032, 'eastern': 4033, 'randomli': 4034, 'nun': 4035, 'valentin': 4036, 'spain': 4037, 'peril': 4038, 'petti': 4039, 'coup': 4040, 'unleash': 4041, 'campaign': 4042, 'simultan': 4043, 'ponder': 4044, 'championship': 4045, '1933': 4046, 'peck': 4047, 'profit': 4048, 'showdown': 4049, 'sergeant': 4050, 'minimum': 4051, 'orlean': 4052, 'distort': 4053, 'crown': 4054, 'beatl': 4055, 'zizek': 4056, 'fido': 4057, 'buster': 4058, 'bro': 4059, 'contradict': 4060, 'travesti': 4061, 'rout': 4062, 'crawl': 4063, 'stroke': 4064, 'empathi': 4065, 'calib': 4066, 'realm': 4067, 'sabrina': 4068, 'shootout': 4069, 'regist': 4070, 'cream': 4071, 'valley': 4072, 'jan': 4073, 'climat': 4074, 'brenda': 4075, 'wig': 4076, 'mon': 4077, 'quinn': 4078, 'exposit': 4079, 'reson': 4080, 'miyazaki': 4081, 'han': 4082, 'perpetu': 4083, 'kurosawa': 4084, 'cooki': 4085, 'restrain': 4086, 'unimagin': 4087, 'scotland': 4088, 'gentleman': 4089, 'crow': 4090, 'stake': 4091, '1984': 4092, 'represent': 4093, 'din': 4094, 'distress': 4095, 'demis': 4096, 'ross': 4097, 'sucker': 4098, 'painter': 4099, 'shoddi': 4100, 'passabl': 4101, 'mclaglen': 4102, 'geek': 4103, 'darren': 4104, 'shaki': 4105, 'compromis': 4106, 'warrant': 4107, 'derang': 4108, 'meryl': 4109, 'perceiv': 4110, 'unsatisfi': 4111, 'absent': 4112, 'unseen': 4113, 'ustinov': 4114, '1997': 4115, 'crawford': 4116, 'femm': 4117, 'fuller': 4118, 'josh': 4119, 'wax': 4120, 'pretens': 4121, 'baldwin': 4122, 'cloud': 4123, 'greg': 4124, 'tacki': 4125, 'abomin': 4126, 'soderbergh': 4127, 'censor': 4128, 'monoton': 4129, 'traumat': 4130, '1987': 4131, 'delic': 4132, 'businessman': 4133, 'stargat': 4134, 'spacey': 4135, 'dana': 4136, 'pole': 4137, 'sammi': 4138, 'sid': 4139, 'judgment': 4140, 'fenc': 4141, 'correctli': 4142, 'expedit': 4143, 'fog': 4144, 'kumar': 4145, 'unravel': 4146, 'deniro': 4147, 'click': 4148, 'jewel': 4149, 'reluct': 4150, 'accuraci': 4151, 'antonioni': 4152, 'furiou': 4153, 'dee': 4154, 'clash': 4155, 'uncov': 4156, 'seal': 4157, 'norm': 4158, 'tech': 4159, 'austin': 4160, 'anchor': 4161, 'polici': 4162, 'deceas': 4163, 'nathan': 4164, 'exclus': 4165, 'wholli': 4166, 'tarantino': 4167, 'verbal': 4168, 'primit': 4169, 'valid': 4170, '1993': 4171, 'darn': 4172, 'debt': 4173, 'roller': 4174, 'fabric': 4175, 'alec': 4176, 'murray': 4177, 'nicola': 4178, 'joel': 4179, 'clerk': 4180, '3000': 4181, 'unfair': 4182, 'behold': 4183, '2008': 4184, 'enforc': 4185, 'patienc': 4186, 'sand': 4187, 'bake': 4188, 'shanghai': 4189, 'pocket': 4190, 'crippl': 4191, 'fart': 4192, '1971': 4193, 'seldom': 4194, 'sheet': 4195, 'ritual': 4196, 'slam': 4197, '1995': 4198, 'tax': 4199, 'sunni': 4200, 'hallucin': 4201, 'conduct': 4202, 'sustain': 4203, 'wretch': 4204, 'vanc': 4205, 'trait': 4206, 'fought': 4207, 'temper': 4208, 'dreck': 4209, 'malon': 4210, 'mode': 4211, 'wang': 4212, 'logan': 4213, 'pete': 4214, 'scriptwrit': 4215, 'conscious': 4216, 'outlin': 4217, 'squad': 4218, 'shell': 4219, 'canyon': 4220, 'exhaust': 4221, 'grief': 4222, 'sweep': 4223, 'fundament': 4224, 'penni': 4225, 'legaci': 4226, 'soup': 4227, 'runner': 4228, 'tactic': 4229, 'technicolor': 4230, 'stark': 4231, 'isabel': 4232, 'critiqu': 4233, 'preposter': 4234, 'bridget': 4235, 'rita': 4236, 'phil': 4237, 'preston': 4238, 'guitar': 4239, 'robber': 4240, 'bias': 4241, 'divid': 4242, 'helpless': 4243, 'stuart': 4244, 'despis': 4245, 'schedul': 4246, 'clau': 4247, 'connor': 4248, 'propos': 4249, 'vomit': 4250, 'jodi': 4251, 'lacklust': 4252, 'restrict': 4253, 'culmin': 4254, 'newman': 4255, 'inabl': 4256, 'downey': 4257, 'agenc': 4258, 'kansa': 4259, 'consciou': 4260, 'boyl': 4261, 'jacket': 4262, 'flair': 4263, 'bloom': 4264, 'implic': 4265, 'passag': 4266, 'cigarett': 4267, 'sniper': 4268, 'sugar': 4269, 'rear': 4270, 'liberti': 4271, 'alicia': 4272, 'gregori': 4273, 'delv': 4274, 'invad': 4275, 'drove': 4276, 'alley': 4277, 'unexpectedli': 4278, 'rehash': 4279, 'palanc': 4280, 'marc': 4281, 'russia': 4282, 'sentinel': 4283, 'tendenc': 4284, 'rehears': 4285, 'improb': 4286, 'awhil': 4287, '22': 4288, 'horn': 4289, 'kolchak': 4290, 'sharon': 4291, 'rod': 4292, 'vet': 4293, 'feat': 4294, 'arrow': 4295, 'rampag': 4296, 'wrench': 4297, '1936': 4298, 'lush': 4299, 'karl': 4300, 'ladder': 4301, 'behaviour': 4302, 'foxx': 4303, 'bacon': 4304, 'cap': 4305, 'asylum': 4306, 'chainsaw': 4307, 'tripe': 4308, 'delet': 4309, 'mccoy': 4310, 'pale': 4311, 'aesthet': 4312, 'yeti': 4313, 'financ': 4314, 'filler': 4315, 'coaster': 4316, 'suspicion': 4317, 'rhythm': 4318, '1978': 4319, '19th': 4320, 'wagner': 4321, 'paramount': 4322, 'wildli': 4323, '1988': 4324, 'stream': 4325, 'paradis': 4326, 'underneath': 4327, 'tasteless': 4328, 'lurk': 4329, 'minu': 4330, '1920': 4331, 'prank': 4332, 'sung': 4333, 'fright': 4334, 'conscienc': 4335, 'aristocrat': 4336, 'hackney': 4337, 'visitor': 4338, 'shortcom': 4339, 'basing': 4340, 'weav': 4341, 'newcom': 4342, 'tomorrow': 4343, 'loneli': 4344, 'hungri': 4345, 'suffici': 4346, 'hulk': 4347, 'globe': 4348, 'elit': 4349, 'amazon': 4350, 'scoop': 4351, 'rumor': 4352, 'spice': 4353, 'el': 4354, 'thunderbird': 4355, 'inmat': 4356, 'dirt': 4357, 'abrupt': 4358, '75': 4359, 'choppi': 4360, 'rub': 4361, 'en': 4362, 'beverli': 4363, 'heist': 4364, 'brit': 4365, 'cancer': 4366, 'quietli': 4367, 'immers': 4368, 'hopkin': 4369, 'couch': 4370, 'counterpart': 4371, 'curli': 4372, 'teas': 4373, 'ram': 4374, 'naughti': 4375, 'posey': 4376, 'atroc': 4377, 'ingeni': 4378, 'chamberlain': 4379, 'smell': 4380, 'entranc': 4381, 'literari': 4382, 'secondari': 4383, 'standout': 4384, 'recogniz': 4385, 'lectur': 4386, 'penn': 4387, 'wwe': 4388, 'minist': 4389, 'grudg': 4390, 'straightforward': 4391, 'bread': 4392, 'iv': 4393, '1939': 4394, 'paxton': 4395, '1989': 4396, 'leigh': 4397, 'impos': 4398, 'worship': 4399, 'springer': 4400, 'tierney': 4401, 'chavez': 4402, 'net': 4403, 'ace': 4404, 'sassi': 4405, 'laurenc': 4406, 'yearn': 4407, 'variat': 4408, 'cattl': 4409, '1986': 4410, 'geni': 4411, 'watcher': 4412, 'bernard': 4413, 'policeman': 4414, 'nolan': 4415, 'convert': 4416, 'sublim': 4417, 'heartfelt': 4418, 'esther': 4419, 'morbid': 4420, 'misguid': 4421, 'transcend': 4422, 'enthral': 4423, 'skeptic': 4424, 'lindsay': 4425, 'injuri': 4426, 'entitl': 4427, 'clan': 4428, 'ratso': 4429, 'nemesi': 4430, 'attenborough': 4431, 'duel': 4432, 'moreov': 4433, 'missil': 4434, 'quaid': 4435, 'uncut': 4436, 'spiral': 4437, 'enabl': 4438, 'characteris': 4439, 'hk': 4440, 'diari': 4441, 'kitti': 4442, 'brood': 4443, 'unexplain': 4444, 'steadi': 4445, 'cruelti': 4446, 'rosemari': 4447, 'egg': 4448, 'setup': 4449, 'obstacl': 4450, 'artsi': 4451, 'moder': 4452, 'graini': 4453, 'carlito': 4454, 'hopelessli': 4455, 'mytholog': 4456, 'kidman': 4457, 'poe': 4458, 'out': 4459, 'dont': 4460, 'reliabl': 4461, 'tyler': 4462, 'puppi': 4463, 'bean': 4464, 'bye': 4465, 'youngest': 4466, '1979': 4467, 'facil': 4468, 'grin': 4469, 'vader': 4470, 'buzz': 4471, 'martha': 4472, 'clueless': 4473, 'decept': 4474, 'baffl': 4475, 'narrow': 4476, 'gina': 4477, 'exterior': 4478, 'gillian': 4479, 'bounc': 4480, 'athlet': 4481, 'spontan': 4482, 'christin': 4483, '1969': 4484, 'oblig': 4485, 'brendan': 4486, 'hammi': 4487, 'fuel': 4488, 'patricia': 4489, 'underworld': 4490, 'sweat': 4491, 'disastr': 4492, 'despic': 4493, 'bewar': 4494, 'heap': 4495, 'effici': 4496, 'bronson': 4497, 'hain': 4498, 'acquaint': 4499, 'preming': 4500, 'kline': 4501, 'weather': 4502, 'niec': 4503, 'fontain': 4504, 'outlaw': 4505, 'loath': 4506, 'mayhem': 4507, '73': 4508, 'hepburn': 4509, 'sleepwalk': 4510, 'tick': 4511, 'astound': 4512, 'scar': 4513, 'loi': 4514, 'angst': 4515, 'insipid': 4516, 'housewif': 4517, 'dandi': 4518, 'renaiss': 4519, 'circu': 4520, 'sooner': 4521, 'suprem': 4522, 'dilemma': 4523, 'lester': 4524, 'candl': 4525, 'taboo': 4526, 'biker': 4527, 'rome': 4528, 'preachi': 4529, '19': 4530, 'trigger': 4531, 'goof': 4532, 'injur': 4533, 'shatter': 4534, 'viewpoint': 4535, 'harmless': 4536, 'headach': 4537, 'mermaid': 4538, 'enlist': 4539, 'virtu': 4540, 'analyz': 4541, 'uh': 4542, 'salt': 4543, 'guin': 4544, 'slimi': 4545, 'phenomenon': 4546, 'hostag': 4547, 'hooker': 4548, 'surgeri': 4549, 'filth': 4550, 'overlong': 4551, 'amor': 4552, 'bent': 4553, 'foolish': 4554, 'dish': 4555, 'ebert': 4556, 'sox': 4557, 'camcord': 4558, 'scorses': 4559, 'immatur': 4560, 'spade': 4561, 'dismal': 4562, 'tripl': 4563, 'contempt': 4564, 'whore': 4565, 'stimul': 4566, 'macho': 4567, 'steer': 4568, 'fluff': 4569, 'intric': 4570, 'idol': 4571, 'glorifi': 4572, 'boston': 4573, 'stair': 4574, 'gere': 4575, 'zoom': 4576, 'hokey': 4577, 'oldest': 4578, 'ariel': 4579, 'corbett': 4580, 'claustrophob': 4581, 'redund': 4582, 'cassavet': 4583, 'strongest': 4584, '1976': 4585, 'spree': 4586, 'margin': 4587, 'preced': 4588, 'mutual': 4589, 'antagonist': 4590, 'astronaut': 4591, 'cohen': 4592, 'frantic': 4593, 'radiat': 4594, 'harold': 4595, 'proport': 4596, 'gasp': 4597, 'schlock': 4598, 'joker': 4599, 'conquer': 4600, 'muscl': 4601, 'spinal': 4602, 'beard': 4603, 'mount': 4604, 'flag': 4605, 'assert': 4606, 'down': 4607, 'fascist': 4608, 'obligatori': 4609, 'nolt': 4610, 'corman': 4611, 'flirt': 4612, 'rhyme': 4613, 'cow': 4614, 'remad': 4615, 'widescreen': 4616, 'flashi': 4617, 'dwarf': 4618, 'messi': 4619, 'keen': 4620, 'shield': 4621, 'trivia': 4622, 'faint': 4623, '1981': 4624, 'cush': 4625, 'shred': 4626, 'perman': 4627, 'transplant': 4628, 'zane': 4629, 'alvin': 4630, 'naschi': 4631, 'gabl': 4632, 'instruct': 4633, 'divin': 4634, 'info': 4635, 'mobil': 4636, 'deer': 4637, '1945': 4638, 'discern': 4639, 'bachelor': 4640, 'carey': 4641, 'fishburn': 4642, 'someday': 4643, 'resum': 4644, 'danish': 4645, 'repris': 4646, 'neurot': 4647, 'scandal': 4648, 'wield': 4649, 'sensual': 4650, 'persuad': 4651, 'claud': 4652, 'barn': 4653, 'triangl': 4654, 'flock': 4655, 'vaniti': 4656, 'raj': 4657, 'strive': 4658, 'off': 4659, 'inflict': 4660, 'ritchi': 4661, 'interestingli': 4662, 'hara': 4663, 'departur': 4664, 'bitten': 4665, '95': 4666, '28': 4667, 'brush': 4668, 'www': 4669, 'boob': 4670, 'archiv': 4671, 'mol': 4672, 'aborigin': 4673, 'dylan': 4674, 'carlo': 4675, 'dim': 4676, 'pixar': 4677, 'recit': 4678, 'fragil': 4679, 'pacif': 4680, 'prophet': 4681, 'heartwarm': 4682, 'cliffhang': 4683, 'dame': 4684, 'casino': 4685, 'pickford': 4686, 'clad': 4687, 'hilar': 4688, 'colin': 4689, 'neill': 4690, 'jade': 4691, 'anton': 4692, 'cher': 4693, 'luka': 4694, 'kathryn': 4695, 'hug': 4696, 'bate': 4697, 'senior': 4698, 'earnest': 4699, 'rot': 4700, 'artwork': 4701, 'cb': 4702, 'frontier': 4703, 'cycl': 4704, 'undermin': 4705, 'parson': 4706, 'traffic': 4707, 'helm': 4708, 'miracul': 4709, 'submit': 4710, 'vibrant': 4711, 'proclaim': 4712, 'biblic': 4713, 'harrison': 4714, 'ish': 4715, 'axe': 4716, 'wendigo': 4717, 'hapless': 4718, 'mobster': 4719, 'melissa': 4720, 'banter': 4721, 'europa': 4722, 'loretta': 4723, 'timberlak': 4724, 'electron': 4725, 'articl': 4726, 'wardrob': 4727, 'jordan': 4728, 'misfortun': 4729, 'cerebr': 4730, 'toronto': 4731, 'venom': 4732, 'jo': 4733, 'winchest': 4734, 'marlon': 4735, 'isra': 4736, 'static': 4737, 'pc': 4738, 'eli': 4739, 'lui': 4740, 'orphan': 4741, 'redneck': 4742, 'seedi': 4743, 'mason': 4744, 'estrang': 4745, 'lucil': 4746, 'feast': 4747, 'razor': 4748, 'akin': 4749, 'trier': 4750, 'rooki': 4751, 'foil': 4752, 'holocaust': 4753, 'breakfast': 4754, 'blatantli': 4755, 'bikini': 4756, 'vile': 4757, 'bondag': 4758, 'sicken': 4759, 'nope': 4760, 'illus': 4761, 'milo': 4762, 'uma': 4763, 'vanessa': 4764, 'mathieu': 4765, 'choke': 4766, 'token': 4767, 'aris': 4768, 'flavor': 4769, 'northern': 4770, 'http': 4771, 'shepherd': 4772, 'antholog': 4773, 'alexandr': 4774, 'legitim': 4775, 'huston': 4776, 'cartoonish': 4777, 'ideolog': 4778, 'clinic': 4779, 'comprehend': 4780, 'nightclub': 4781, 'howl': 4782, 'outdat': 4783, 'ceremoni': 4784, 'smack': 4785, 'deem': 4786, 'shorter': 4787, 'leather': 4788, 'retriev': 4789, 'turd': 4790, 'abund': 4791, 'highway': 4792, 'glare': 4793, 'tack': 4794, 'dudley': 4795, 'swept': 4796, 'psych': 4797, 'audrey': 4798, 'affleck': 4799, 'magician': 4800, 'wrestler': 4801, 'boyer': 4802, 'gilbert': 4803, 'knightley': 4804, 'disregard': 4805, 'linear': 4806, 'peer': 4807, 'charlton': 4808, 'fifth': 4809, 'oppon': 4810, 'feminin': 4811, 'frog': 4812, 'gunga': 4813, 'styliz': 4814, 'cemeteri': 4815, 'phenomen': 4816, 'energet': 4817, '4th': 4818, 'chip': 4819, 'compris': 4820, 'mitch': 4821, '1994': 4822, 'plate': 4823, 'collector': 4824, 'moe': 4825, 'summar': 4826, 'spawn': 4827, '1991': 4828, 'boo': 4829, 'potter': 4830, 'bastard': 4831, 'monument': 4832, 'snatch': 4833, 'einstein': 4834, 'senat': 4835, 'spine': 4836, 'bogu': 4837, 'deliver': 4838, 'evolut': 4839, 'salman': 4840, 'toe': 4841, 'whack': 4842, 'client': 4843, 'breakdown': 4844, 'btw': 4845, 'greet': 4846, 'conrad': 4847, 'corn': 4848, 'newer': 4849, 'tara': 4850, 'lighter': 4851, 'braveheart': 4852, 'lifeless': 4853, 'durat': 4854, 'lavish': 4855, 'sleaz': 4856, 'goldsworthi': 4857, 'cuban': 4858, 'uniformli': 4859, 'belli': 4860, 'cecil': 4861, 'healthi': 4862, 'bulk': 4863, 'armstrong': 4864, 'bori': 4865, 'embark': 4866, 'fluid': 4867, 'ie': 4868, 'firmli': 4869, 'kent': 4870, 'constitut': 4871, 'spectacl': 4872, 'clara': 4873, 'eleven': 4874, 'replay': 4875, 'ol': 4876, 'creek': 4877, 'evelyn': 4878, 'pronounc': 4879, 'judd': 4880, 'luxuri': 4881, 'mcqueen': 4882, 'inaccuraci': 4883, 'jule': 4884, 'jam': 4885, '1977': 4886, 'lex': 4887, 'wtf': 4888, 'appl': 4889, 'jare': 4890, 'undertak': 4891, 'sorrow': 4892, 'undead': 4893, 'historian': 4894, 'alleg': 4895, 'outright': 4896, 'occup': 4897, 'jedi': 4898, '1974': 4899, 'liu': 4900, 'nina': 4901, 'randolph': 4902, 'gilliam': 4903, 'neatli': 4904, 'capot': 4905, 'trauma': 4906, 'kazan': 4907, 'signal': 4908, 'unsuspect': 4909, 'carmen': 4910, 'comprehens': 4911, 'antonio': 4912, 'propheci': 4913, 'blur': 4914, 'genet': 4915, 'fruit': 4916, 'curtain': 4917, 'id': 4918, 'rosario': 4919, 'spray': 4920, 'ash': 4921, 'kiddi': 4922, 'vain': 4923, 'poker': 4924, 'groan': 4925, 'goldblum': 4926, 'comb': 4927, 'meal': 4928, 'pioneer': 4929, '1985': 4930, 'roar': 4931, 'bait': 4932, 'unattract': 4933, 'paula': 4934, 'mum': 4935, 'lauren': 4936, 'porter': 4937, 'inaccur': 4938, 'palm': 4939, 'pepper': 4940, 'forgiven': 4941, 'relentless': 4942, 'miniseri': 4943, 'inclus': 4944, 'knee': 4945, 'aussi': 4946, 'abound': 4947, 'decapit': 4948, 'conan': 4949, 'cape': 4950, 'sacrif': 4951, 'subtli': 4952, 'miami': 4953, 'walt': 4954, 'tokyo': 4955, 'basket': 4956, 'congratul': 4957, 'truman': 4958, 'vignett': 4959, 'galaxi': 4960, 'lanc': 4961, 'bsg': 4962, 'sidewalk': 4963, 'verg': 4964, 'macabr': 4965, 'asset': 4966, 'casper': 4967, 'dubiou': 4968, 'sparkl': 4969, 'weaker': 4970, 'hostil': 4971, 'bach': 4972, 'drone': 4973, 'epitom': 4974, 'masterson': 4975, 'scariest': 4976, 'handicap': 4977, '21st': 4978, 'incorrect': 4979, 'spill': 4980, 'substanti': 4981, 'hackman': 4982, 'scarfac': 4983, 'vastli': 4984, 'ghetto': 4985, 'victorian': 4986, 'reincarn': 4987, 'frontal': 4988, 'assort': 4989, 'optimist': 4990, 'modest': 4991, 'bravo': 4992, 'omin': 4993, 'mice': 4994, 'growth': 4995, 'profil': 4996, 'playboy': 4997, 'rapidli': 4998, 'monti': 4999}\n"
     ]
    }
   ],
   "source": [
    "# TODO: Use this space to determine the five most frequently appearing words in the training set.\n",
    "print(word_dict)"
   ]
  },
  {
   "cell_type": "markdown",
   "metadata": {},
   "source": [
    "### Save `word_dict`\n",
    "\n",
    "Later on when we construct an endpoint which processes a submitted review we will need to make use of the `word_dict` which we have created. As such, we will save it to a file now for future use."
   ]
  },
  {
   "cell_type": "code",
   "execution_count": 14,
   "metadata": {},
   "outputs": [],
   "source": [
    "data_dir = '../data/pytorch' # The folder we will use for storing data\n",
    "if not os.path.exists(data_dir): # Make sure that the folder exists\n",
    "    os.makedirs(data_dir)"
   ]
  },
  {
   "cell_type": "code",
   "execution_count": 15,
   "metadata": {},
   "outputs": [],
   "source": [
    "with open(os.path.join(data_dir, 'word_dict.pkl'), \"wb\") as f:\n",
    "    pickle.dump(word_dict, f)"
   ]
  },
  {
   "cell_type": "code",
   "execution_count": 16,
   "metadata": {},
   "outputs": [
    {
     "name": "stdout",
     "output_type": "stream",
     "text": [
      "total 104\r\n",
      "-rw-rw-r-- 1 ec2-user ec2-user   603 Jun 28 09:24 README.md\r\n",
      "-rw-rw-r-- 1 ec2-user ec2-user 79959 Jul 11 04:43 SageMaker Project.ipynb\r\n",
      "drwxrwxr-x 2 ec2-user ec2-user  4096 Jul 11 04:41 \u001b[0m\u001b[01;34mserve\u001b[0m/\r\n",
      "drwxrwxr-x 3 ec2-user ec2-user  4096 Jul  8 10:27 \u001b[01;34mtrain\u001b[0m/\r\n",
      "-rw-rw-r-- 1 ec2-user ec2-user  5895 Jun 28 09:24 \u001b[01;35mWeb App Diagram.svg\u001b[0m\r\n",
      "drwxrwxr-x 2 ec2-user ec2-user  4096 Jun 28 09:24 \u001b[01;34mwebsite\u001b[0m/\r\n",
      "-rw-rw-r-- 1 ec2-user ec2-user     0 Jul  3 11:18 word_dict.pkl\r\n"
     ]
    }
   ],
   "source": [
    "ls -l"
   ]
  },
  {
   "cell_type": "markdown",
   "metadata": {},
   "source": [
    "### Transform the reviews\n",
    "\n",
    "Now that we have our word dictionary which allows us to transform the words appearing in the reviews into integers, it is time to make use of it and convert our reviews to their integer sequence representation, making sure to pad or truncate to a fixed length, which in our case is `500`."
   ]
  },
  {
   "cell_type": "code",
   "execution_count": 17,
   "metadata": {},
   "outputs": [],
   "source": [
    "def convert_and_pad(word_dict, sentence, pad=500):\n",
    "    NOWORD = 0 # We will use 0 to represent the 'no word' category\n",
    "    INFREQ = 1 # and we use 1 to represent the infrequent words, i.e., words not appearing in word_dict\n",
    "    \n",
    "    working_sentence = [NOWORD] * pad\n",
    "    \n",
    "    for word_index, word in enumerate(sentence[:pad]):\n",
    "        if word in word_dict:\n",
    "            working_sentence[word_index] = word_dict[word]\n",
    "        else:\n",
    "            working_sentence[word_index] = INFREQ\n",
    "            \n",
    "    return working_sentence, min(len(sentence), pad)\n",
    "\n",
    "def convert_and_pad_data(word_dict, data, pad=500):\n",
    "    result = []\n",
    "    lengths = []\n",
    "    \n",
    "    for sentence in data:\n",
    "        converted, leng = convert_and_pad(word_dict, sentence, pad)\n",
    "        result.append(converted)\n",
    "        lengths.append(leng)\n",
    "        \n",
    "    return np.array(result), np.array(lengths)"
   ]
  },
  {
   "cell_type": "code",
   "execution_count": 18,
   "metadata": {},
   "outputs": [],
   "source": [
    "train_X, train_X_len = convert_and_pad_data(word_dict, train_X)\n",
    "test_X, test_X_len = convert_and_pad_data(word_dict, test_X)"
   ]
  },
  {
   "cell_type": "markdown",
   "metadata": {},
   "source": [
    "As a quick check to make sure that things are working as intended, check to see what one of the reviews in the training set looks like after having been processeed. Does this look reasonable? What is the length of a review in the training set?"
   ]
  },
  {
   "cell_type": "code",
   "execution_count": 19,
   "metadata": {},
   "outputs": [
    {
     "name": "stdout",
     "output_type": "stream",
     "text": [
      "[   1    1 1727  704    1  425  704  704 1496    1    1    1 1045    1\n",
      " 1496    1    1    1 1496  894  704    1 1767    1    1    1 1045    1\n",
      " 1206    1    1    1    1 1223  425 1099    1    1    1    1 1767    1\n",
      "    1    1 1045    1 1223    1    1    1    1    1    1    1    1    1\n",
      "    1    1  704 1206 1727    1  894  704    1    1    1    1 1767    1\n",
      "    1    1    1    1 1767  704    1 1437  704 1206 1045    1 1206    1\n",
      "    1 1496  894  704    1    1    1  704 1513  894  704 1437    1    1\n",
      " 1045    1 1206    1    1 1496  704    1  425    1    1    1 1099 1045\n",
      " 1099    1    1    1    1    1 1496 1808 1206    1 1121 1767    1    1\n",
      "    1 1496    1    1    1  704    1    1    1    1    1 1767    1    1\n",
      " 1437    1    1 1496    1    1 1206  704    1    1    1    1 1437 1223\n",
      "    1    1    1  704 1206 1206    1  425 1223  704    1    1    1  425\n",
      " 1206    1    1    1    1  425 1206    1    1    1    1 1767    1    1\n",
      "  704    1  425    1    1    1    1 1206    1 1767    1    1    1    1\n",
      "    1 1496 1808 1206    1 1121 1767    1    1    1    1    1  894 1913\n",
      "    1    1    1 1727  704    1    1    1 1496    1    1 1496    1    1\n",
      "    1    1 1496    1    1    1    1 1206 1727    1    1    1    1    1\n",
      "  894 1913  704 1206    1 1808  704 1206  704    1 1437    1 1206    1\n",
      "    1  894 1099 1223    1 1206 1223    1    1    1 1496 1496    1    1\n",
      "    1 1496 1121    1    1    1 1727  704 1496    1    1 1767  704    1\n",
      "    1 1496  704    1  425    1    1    1 1767  704    1    1  894    1\n",
      "    1 1206 1206    1 1121 1223  704    1    1    1    1    1  704 1206\n",
      "    1    1 1808    1    1    1 1206 1099    1 1496  704    1    1  425\n",
      "    1    1    1 1767  704    1    1    1    1  894    1 1223 1223  704\n",
      "    1    1 1767    1 1206    1    1 1496    1    1    1 1045    1    1\n",
      "    1 1206    1 1767    1    1    1    1    1 1496 1808 1206    1 1121\n",
      " 1767    1    1    1  425 1206    1    1    1    1  425 1206    1    1\n",
      "    1    1    1 1727  704    1 1496  704 1727  704 1206    1    1  704\n",
      "  704 1496    1    1    1    1 1808    1 1045  704    1 1121  704    1\n",
      "    1 1099 1437    1    1 1496    1    1 1808    1 1223 1913    1    1\n",
      " 1099    1    1    1 1045    1    1 1767  704    1 1206    1    1    1\n",
      "    1    1 1496    1    1    1 1045    1 1223    1    1  425  704 1045\n",
      "    1 1206  704    1    1 1496    1    1    1    1 1045    1 1099 1496\n",
      "    1    1    1    1    1  704 1223 1045    1 1045    1    1    1    1\n",
      " 1045    1 1206 1808    1 1206    1    1 1496 1121    1    1 1767 1206\n",
      "    1 1099 1121 1767    1    1 1767  704    1 1437]\n",
      "\n",
      "\n",
      "500\n"
     ]
    }
   ],
   "source": [
    "# Use this cell to examine one of the processed reviews to make sure everything is working as intended.\n",
    "print(train_X[51])\n",
    "print(\"\\n\")\n",
    "print(len(train_X[21]))"
   ]
  },
  {
   "cell_type": "markdown",
   "metadata": {},
   "source": [
    "**Question:** In the cells above we use the `preprocess_data` and `convert_and_pad_data` methods to process both the training and testing set. Why or why not might this be a problem?"
   ]
  },
  {
   "cell_type": "markdown",
   "metadata": {},
   "source": [
    "**Answer:** This is the right way preproces data. You want your data to be in the same format for both the Training and Testing sets otherwise you're going be optimizing for one thing and testing on another."
   ]
  },
  {
   "cell_type": "markdown",
   "metadata": {},
   "source": [
    "## Step 3: Upload the data to S3\n",
    "\n",
    "As in the XGBoost notebook, we will need to upload the training dataset to S3 in order for our training code to access it. For now we will save it locally and we will upload to S3 later on.\n",
    "\n",
    "### Save the processed training dataset locally\n",
    "\n",
    "It is important to note the format of the data that we are saving as we will need to know it when we write the training code. In our case, each row of the dataset has the form `label`, `length`, `review[500]` where `review[500]` is a sequence of `500` integers representing the words in the review."
   ]
  },
  {
   "cell_type": "code",
   "execution_count": 20,
   "metadata": {},
   "outputs": [],
   "source": [
    "import pandas as pd\n",
    "    \n",
    "pd.concat([pd.DataFrame(train_y), pd.DataFrame(train_X_len), pd.DataFrame(train_X)], axis=1) \\\n",
    "        .to_csv(os.path.join(data_dir, 'train.csv'), header=False, index=False)"
   ]
  },
  {
   "cell_type": "markdown",
   "metadata": {},
   "source": [
    "### Uploading the training data\n",
    "\n",
    "\n",
    "Next, we need to upload the training data to the SageMaker default S3 bucket so that we can provide access to it while training our model."
   ]
  },
  {
   "cell_type": "code",
   "execution_count": 21,
   "metadata": {},
   "outputs": [],
   "source": [
    "import sagemaker\n",
    "\n",
    "sagemaker_session = sagemaker.Session()\n",
    "\n",
    "bucket = sagemaker_session.default_bucket()\n",
    "prefix = 'sagemaker/sentiment_rnn'\n",
    "\n",
    "role = sagemaker.get_execution_role()"
   ]
  },
  {
   "cell_type": "code",
   "execution_count": 22,
   "metadata": {},
   "outputs": [],
   "source": [
    "input_data = sagemaker_session.upload_data(path=data_dir, bucket=bucket, key_prefix=prefix)"
   ]
  },
  {
   "cell_type": "markdown",
   "metadata": {},
   "source": [
    "**NOTE:** The cell above uploads the entire contents of our data directory. This includes the `word_dict.pkl` file. This is fortunate as we will need this later on when we create an endpoint that accepts an arbitrary review. For now, we will just take note of the fact that it resides in the data directory (and so also in the S3 training bucket) and that we will need to make sure it gets saved in the model directory."
   ]
  },
  {
   "cell_type": "markdown",
   "metadata": {},
   "source": [
    "## Step 4: Build and Train the PyTorch Model\n",
    "\n",
    "In the XGBoost notebook we discussed what a model is in the SageMaker framework. In particular, a model comprises three objects\n",
    "\n",
    " - Model Artifacts,\n",
    " - Training Code, and\n",
    " - Inference Code,\n",
    " \n",
    "each of which interact with one another. In the XGBoost example we used training and inference code that was provided by Amazon. Here we will still be using containers provided by Amazon with the added benefit of being able to include our own custom code.\n",
    "\n",
    "We will start by implementing our own neural network in PyTorch along with a training script. For the purposes of this project we have provided the necessary model object in the `model.py` file, inside of the `train` folder. You can see the provided implementation by running the cell below."
   ]
  },
  {
   "cell_type": "code",
   "execution_count": 23,
   "metadata": {},
   "outputs": [
    {
     "name": "stdout",
     "output_type": "stream",
     "text": [
      "\u001b[34mimport\u001b[39;49;00m \u001b[04m\u001b[36mtorch.nn\u001b[39;49;00m \u001b[34mas\u001b[39;49;00m \u001b[04m\u001b[36mnn\u001b[39;49;00m\r\n",
      "\r\n",
      "\u001b[34mclass\u001b[39;49;00m \u001b[04m\u001b[32mLSTMClassifier\u001b[39;49;00m(nn.Module):\r\n",
      "    \u001b[33m\"\"\"\u001b[39;49;00m\r\n",
      "\u001b[33m    This is the simple RNN model we will be using to perform Sentiment Analysis.\u001b[39;49;00m\r\n",
      "\u001b[33m    \"\"\"\u001b[39;49;00m\r\n",
      "\r\n",
      "    \u001b[34mdef\u001b[39;49;00m \u001b[32m__init__\u001b[39;49;00m(\u001b[36mself\u001b[39;49;00m, embedding_dim, hidden_dim, vocab_size):\r\n",
      "        \u001b[33m\"\"\"\u001b[39;49;00m\r\n",
      "\u001b[33m        Initialize the model by settingg up the various layers.\u001b[39;49;00m\r\n",
      "\u001b[33m        \"\"\"\u001b[39;49;00m\r\n",
      "        \u001b[36msuper\u001b[39;49;00m(LSTMClassifier, \u001b[36mself\u001b[39;49;00m).\u001b[32m__init__\u001b[39;49;00m()\r\n",
      "\r\n",
      "        \u001b[36mself\u001b[39;49;00m.embedding = nn.Embedding(vocab_size, embedding_dim, padding_idx=\u001b[34m0\u001b[39;49;00m)\r\n",
      "        \u001b[36mself\u001b[39;49;00m.lstm = nn.LSTM(embedding_dim, hidden_dim)\r\n",
      "        \u001b[36mself\u001b[39;49;00m.dense = nn.Linear(in_features=hidden_dim, out_features=\u001b[34m1\u001b[39;49;00m)\r\n",
      "        \u001b[36mself\u001b[39;49;00m.sig = nn.Sigmoid()\r\n",
      "        \r\n",
      "        \u001b[36mself\u001b[39;49;00m.word_dict = \u001b[36mNone\u001b[39;49;00m\r\n",
      "\r\n",
      "    \u001b[34mdef\u001b[39;49;00m \u001b[32mforward\u001b[39;49;00m(\u001b[36mself\u001b[39;49;00m, x):\r\n",
      "        \u001b[33m\"\"\"\u001b[39;49;00m\r\n",
      "\u001b[33m        Perform a forward pass of our model on some input.\u001b[39;49;00m\r\n",
      "\u001b[33m        \"\"\"\u001b[39;49;00m\r\n",
      "        x = x.t()\r\n",
      "        lengths = x[\u001b[34m0\u001b[39;49;00m,:]\r\n",
      "        reviews = x[\u001b[34m1\u001b[39;49;00m:,:]\r\n",
      "        embeds = \u001b[36mself\u001b[39;49;00m.embedding(reviews)\r\n",
      "        lstm_out, _ = \u001b[36mself\u001b[39;49;00m.lstm(embeds)\r\n",
      "        out = \u001b[36mself\u001b[39;49;00m.dense(lstm_out)\r\n",
      "        out = out[lengths - \u001b[34m1\u001b[39;49;00m, \u001b[36mrange\u001b[39;49;00m(\u001b[36mlen\u001b[39;49;00m(lengths))]\r\n",
      "        \u001b[34mreturn\u001b[39;49;00m \u001b[36mself\u001b[39;49;00m.sig(out.squeeze())\r\n"
     ]
    }
   ],
   "source": [
    "!pygmentize train/model.py"
   ]
  },
  {
   "cell_type": "markdown",
   "metadata": {},
   "source": [
    "The important takeaway from the implementation provided is that there are three parameters that we may wish to tweak to improve the performance of our model. These are the embedding dimension, the hidden dimension and the size of the vocabulary. We will likely want to make these parameters configurable in the training script so that if we wish to modify them we do not need to modify the script itself. We will see how to do this later on. To start we will write some of the training code in the notebook so that we can more easily diagnose any issues that arise.\n",
    "\n",
    "First we will load a small portion of the training data set to use as a sample. It would be very time consuming to try and train the model completely in the notebook as we do not have access to a gpu and the compute instance that we are using is not particularly powerful. However, we can work on a small bit of the data to get a feel for how our training script is behaving."
   ]
  },
  {
   "cell_type": "code",
   "execution_count": 24,
   "metadata": {},
   "outputs": [],
   "source": [
    "import torch\n",
    "import torch.utils.data\n",
    "\n",
    "# Read in only the first 250 rows\n",
    "train_sample = pd.read_csv(os.path.join(data_dir, 'train.csv'), header=None, names=None, nrows=250)\n",
    "\n",
    "# Turn the input pandas dataframe into tensors\n",
    "train_sample_y = torch.from_numpy(train_sample[[0]].values).float().squeeze()\n",
    "train_sample_X = torch.from_numpy(train_sample.drop([0], axis=1).values).long()\n",
    "\n",
    "# Build the dataset\n",
    "train_sample_ds = torch.utils.data.TensorDataset(train_sample_X, train_sample_y)\n",
    "# Build the dataloader\n",
    "train_sample_dl = torch.utils.data.DataLoader(train_sample_ds, batch_size=50)"
   ]
  },
  {
   "cell_type": "markdown",
   "metadata": {},
   "source": [
    "### (TODO) Writing the training method\n",
    "\n",
    "Next we need to write the training code itself. This should be very similar to training methods that you have written before to train PyTorch models. We will leave any difficult aspects such as model saving / loading and parameter loading until a little later."
   ]
  },
  {
   "cell_type": "code",
   "execution_count": 25,
   "metadata": {},
   "outputs": [],
   "source": [
    "def train(model, train_loader, epochs, optimizer, loss_fn, device):\n",
    "    for epoch in range(1, epochs + 1):\n",
    "        model.train()\n",
    "        total_loss = 0\n",
    "        \n",
    "        #hidden_state = init_hidden(model, 50)\n",
    "        \n",
    "        #hidden_state = tuple([each.data for each in hidden])\n",
    "        \n",
    "        for batch in train_loader:         \n",
    "            batch_X, batch_y = batch\n",
    "            \n",
    "            batch_X = batch_X.to(device)\n",
    "            batch_y = batch_y.to(device)\n",
    "            \n",
    "            # TODO: Complete this train method to train the model provided.\n",
    "            \n",
    "            model.zero_grad()\n",
    "            #optimizer.zero_grad()\n",
    "            output = model(batch_X)\n",
    "            loss = loss_fn(output, batch_y)\n",
    "            loss.backward()\n",
    "            optimizer.step()\n",
    "        \n",
    "            total_loss += loss.data.item()\n",
    "        print(\"Epoch: {}, BCELoss: {}\".format(epoch, total_loss / len(train_loader)))"
   ]
  },
  {
   "cell_type": "markdown",
   "metadata": {},
   "source": [
    "Supposing we have the training method above, we will test that it is working by writing a bit of code in the notebook that executes our training method on the small sample training set that we loaded earlier. The reason for doing this in the notebook is so that we have an opportunity to fix any errors that arise early when they are easier to diagnose."
   ]
  },
  {
   "cell_type": "code",
   "execution_count": 26,
   "metadata": {},
   "outputs": [
    {
     "name": "stdout",
     "output_type": "stream",
     "text": [
      "Epoch: 1, BCELoss: 0.6887625694274903\n",
      "Epoch: 2, BCELoss: 0.6837470650672912\n",
      "Epoch: 3, BCELoss: 0.6809980511665344\n",
      "Epoch: 4, BCELoss: 0.678211259841919\n",
      "Epoch: 5, BCELoss: 0.6752250909805297\n",
      "Epoch: 6, BCELoss: 0.6718721270561219\n",
      "Epoch: 7, BCELoss: 0.6682166337966919\n",
      "Epoch: 8, BCELoss: 0.6639164566993714\n",
      "Epoch: 9, BCELoss: 0.6587367415428161\n",
      "Epoch: 10, BCELoss: 0.6529945373535156\n",
      "Epoch: 11, BCELoss: 0.646163010597229\n",
      "Epoch: 12, BCELoss: 0.6366487503051758\n",
      "Epoch: 13, BCELoss: 0.6242998957633972\n",
      "Epoch: 14, BCELoss: 0.6220775604248047\n",
      "Epoch: 15, BCELoss: 0.6053381085395813\n",
      "Epoch: 16, BCELoss: 0.6009608030319213\n",
      "Epoch: 17, BCELoss: 0.597451639175415\n",
      "Epoch: 18, BCELoss: 0.6011910796165466\n",
      "Epoch: 19, BCELoss: 0.5943610429763794\n",
      "Epoch: 20, BCELoss: 0.5780333280563354\n",
      "Epoch: 21, BCELoss: 0.5589614093303681\n",
      "Epoch: 22, BCELoss: 0.5337650895118713\n",
      "Epoch: 23, BCELoss: 0.5572898924350739\n",
      "Epoch: 24, BCELoss: 0.657596230506897\n",
      "Epoch: 25, BCELoss: 0.5926530838012696\n",
      "Epoch: 26, BCELoss: 0.5749641180038452\n",
      "Epoch: 27, BCELoss: 0.56119784116745\n",
      "Epoch: 28, BCELoss: 0.549676525592804\n",
      "Epoch: 29, BCELoss: 0.5264056980609894\n",
      "Epoch: 30, BCELoss: 0.509888744354248\n"
     ]
    }
   ],
   "source": [
    "import torch.optim as optim\n",
    "from train.model import LSTMClassifier\n",
    "\n",
    "device = torch.device(\"cuda\" if torch.cuda.is_available() else \"cpu\")\n",
    "model = LSTMClassifier(32, 100, 5000).to(device)\n",
    "optimizer = optim.Adam(model.parameters())\n",
    "loss_fn = torch.nn.BCELoss()\n",
    "\n",
    "train(model, train_sample_dl, 30, optimizer, loss_fn, device)"
   ]
  },
  {
   "cell_type": "markdown",
   "metadata": {},
   "source": [
    "In order to construct a PyTorch model using SageMaker we must provide SageMaker with a training script. We may optionally include a directory which will be copied to the container and from which our training code will be run. When the training container is executed it will check the uploaded directory (if there is one) for a `requirements.txt` file and install any required Python libraries, after which the training script will be run."
   ]
  },
  {
   "cell_type": "markdown",
   "metadata": {},
   "source": [
    "### (TODO) Training the model\n",
    "\n",
    "When a PyTorch model is constructed in SageMaker, an entry point must be specified. This is the Python file which will be executed when the model is trained. Inside of the `train` directory is a file called `train.py` which has been provided and which contains most of the necessary code to train our model. The only thing that is missing is the implementation of the `train()` method which you wrote earlier in this notebook.\n",
    "\n",
    "**TODO**: Copy the `train()` method written above and paste it into the `train/train.py` file where required.\n",
    "\n",
    "The way that SageMaker passes hyperparameters to the training script is by way of arguments. These arguments can then be parsed and used in the training script. To see how this is done take a look at the provided `train/train.py` file."
   ]
  },
  {
   "cell_type": "code",
   "execution_count": 27,
   "metadata": {},
   "outputs": [],
   "source": [
    "from sagemaker.pytorch import PyTorch\n",
    "\n",
    "estimator = PyTorch(entry_point=\"train.py\",\n",
    "                    source_dir=\"train\",\n",
    "                    role=role,\n",
    "                    framework_version='0.4.0',\n",
    "                    train_instance_count=1,\n",
    "                    train_instance_type='ml.p2.xlarge',\n",
    "                    hyperparameters={\n",
    "                        'epochs': 10,\n",
    "                        'hidden_dim': 200,\n",
    "                    })"
   ]
  },
  {
   "cell_type": "code",
   "execution_count": 28,
   "metadata": {},
   "outputs": [
    {
     "name": "stdout",
     "output_type": "stream",
     "text": [
      "2019-07-11 05:17:07 Starting - Starting the training job...\n",
      "2019-07-11 05:17:09 Starting - Launching requested ML instances......\n",
      "2019-07-11 05:18:14 Starting - Preparing the instances for training......\n",
      "2019-07-11 05:19:10 Downloading - Downloading input data...\n",
      "2019-07-11 05:19:49 Training - Downloading the training image...\n",
      "2019-07-11 05:20:22 Training - Training image download completed. Training in progress.\n",
      "\u001b[31mbash: cannot set terminal process group (-1): Inappropriate ioctl for device\u001b[0m\n",
      "\u001b[31mbash: no job control in this shell\u001b[0m\n",
      "\u001b[31m2019-07-11 05:20:23,039 sagemaker-containers INFO     Imported framework sagemaker_pytorch_container.training\u001b[0m\n",
      "\u001b[31m2019-07-11 05:20:23,063 sagemaker_pytorch_container.training INFO     Block until all host DNS lookups succeed.\u001b[0m\n",
      "\u001b[31m2019-07-11 05:20:23,672 sagemaker_pytorch_container.training INFO     Invoking user training script.\u001b[0m\n",
      "\u001b[31m2019-07-11 05:20:23,901 sagemaker-containers INFO     Module train does not provide a setup.py. \u001b[0m\n",
      "\u001b[31mGenerating setup.py\u001b[0m\n",
      "\u001b[31m2019-07-11 05:20:23,901 sagemaker-containers INFO     Generating setup.cfg\u001b[0m\n",
      "\u001b[31m2019-07-11 05:20:23,901 sagemaker-containers INFO     Generating MANIFEST.in\u001b[0m\n",
      "\u001b[31m2019-07-11 05:20:23,902 sagemaker-containers INFO     Installing module with the following command:\u001b[0m\n",
      "\u001b[31m/usr/bin/python -m pip install -U . -r requirements.txt\u001b[0m\n",
      "\u001b[31mProcessing /opt/ml/code\u001b[0m\n",
      "\u001b[31mCollecting pandas (from -r requirements.txt (line 1))\n",
      "  Downloading https://files.pythonhosted.org/packages/74/24/0cdbf8907e1e3bc5a8da03345c23cbed7044330bb8f73bb12e711a640a00/pandas-0.24.2-cp35-cp35m-manylinux1_x86_64.whl (10.0MB)\u001b[0m\n",
      "\u001b[31mCollecting numpy (from -r requirements.txt (line 2))\n",
      "  Downloading https://files.pythonhosted.org/packages/bb/ef/d5a21cbc094d3f4d5b5336494dbcc9550b70c766a8345513c7c24ed18418/numpy-1.16.4-cp35-cp35m-manylinux1_x86_64.whl (17.2MB)\u001b[0m\n",
      "\u001b[31mCollecting nltk (from -r requirements.txt (line 3))\n",
      "  Downloading https://files.pythonhosted.org/packages/87/16/4d247e27c55a7b6412e7c4c86f2500ae61afcbf5932b9e3491f8462f8d9e/nltk-3.4.4.zip (1.5MB)\u001b[0m\n",
      "\u001b[31mCollecting beautifulsoup4 (from -r requirements.txt (line 4))\n",
      "  Downloading https://files.pythonhosted.org/packages/1d/5d/3260694a59df0ec52f8b4883f5d23b130bc237602a1411fa670eae12351e/beautifulsoup4-4.7.1-py3-none-any.whl (94kB)\u001b[0m\n",
      "\u001b[31mCollecting html5lib (from -r requirements.txt (line 5))\n",
      "  Downloading https://files.pythonhosted.org/packages/a5/62/bbd2be0e7943ec8504b517e62bab011b4946e1258842bc159e5dfde15b96/html5lib-1.0.1-py2.py3-none-any.whl (117kB)\u001b[0m\n",
      "\u001b[31mRequirement already satisfied, skipping upgrade: python-dateutil>=2.5.0 in /usr/local/lib/python3.5/dist-packages (from pandas->-r requirements.txt (line 1)) (2.7.5)\u001b[0m\n",
      "\u001b[31mCollecting pytz>=2011k (from pandas->-r requirements.txt (line 1))\n",
      "  Downloading https://files.pythonhosted.org/packages/3d/73/fe30c2daaaa0713420d0382b16fbb761409f532c56bdcc514bf7b6262bb6/pytz-2019.1-py2.py3-none-any.whl (510kB)\u001b[0m\n",
      "\u001b[31mRequirement already satisfied, skipping upgrade: six in /usr/local/lib/python3.5/dist-packages (from nltk->-r requirements.txt (line 3)) (1.11.0)\u001b[0m\n",
      "\u001b[31mCollecting soupsieve>=1.2 (from beautifulsoup4->-r requirements.txt (line 4))\n",
      "  Downloading https://files.pythonhosted.org/packages/35/e3/25079e8911085ab76a6f2facae0771078260c930216ab0b0c44dc5c9bf31/soupsieve-1.9.2-py2.py3-none-any.whl\u001b[0m\n",
      "\u001b[31mCollecting webencodings (from html5lib->-r requirements.txt (line 5))\n",
      "  Downloading https://files.pythonhosted.org/packages/f4/24/2a3e3df732393fed8b3ebf2ec078f05546de641fe1b667ee316ec1dcf3b7/webencodings-0.5.1-py2.py3-none-any.whl\u001b[0m\n",
      "\u001b[31mBuilding wheels for collected packages: nltk, train\n",
      "  Running setup.py bdist_wheel for nltk: started\u001b[0m\n",
      "\u001b[31m  Running setup.py bdist_wheel for nltk: finished with status 'done'\n",
      "  Stored in directory: /root/.cache/pip/wheels/41/c8/31/48ace4468e236e0e8435f30d33e43df48594e4d53e367cf061\n",
      "  Running setup.py bdist_wheel for train: started\n",
      "  Running setup.py bdist_wheel for train: finished with status 'done'\n",
      "  Stored in directory: /tmp/pip-ephem-wheel-cache-4hxh8xwu/wheels/35/24/16/37574d11bf9bde50616c67372a334f94fa8356bc7164af8ca3\u001b[0m\n",
      "\u001b[31mSuccessfully built nltk train\u001b[0m\n",
      "\u001b[31mInstalling collected packages: numpy, pytz, pandas, nltk, soupsieve, beautifulsoup4, webencodings, html5lib, train\n",
      "  Found existing installation: numpy 1.15.4\n",
      "    Uninstalling numpy-1.15.4:\u001b[0m\n",
      "\u001b[31m      Successfully uninstalled numpy-1.15.4\u001b[0m\n",
      "\u001b[31mSuccessfully installed beautifulsoup4-4.7.1 html5lib-1.0.1 nltk-3.4.4 numpy-1.16.4 pandas-0.24.2 pytz-2019.1 soupsieve-1.9.2 train-1.0.0 webencodings-0.5.1\u001b[0m\n",
      "\u001b[31mYou are using pip version 18.1, however version 19.1.1 is available.\u001b[0m\n",
      "\u001b[31mYou should consider upgrading via the 'pip install --upgrade pip' command.\u001b[0m\n",
      "\u001b[31m2019-07-11 05:20:35,192 sagemaker-containers INFO     Invoking user script\n",
      "\u001b[0m\n",
      "\u001b[31mTraining Env:\n",
      "\u001b[0m\n",
      "\u001b[31m{\n",
      "    \"channel_input_dirs\": {\n",
      "        \"training\": \"/opt/ml/input/data/training\"\n",
      "    },\n",
      "    \"log_level\": 20,\n",
      "    \"model_dir\": \"/opt/ml/model\",\n",
      "    \"job_name\": \"sagemaker-pytorch-2019-07-11-05-17-06-061\",\n",
      "    \"current_host\": \"algo-1\",\n",
      "    \"user_entry_point\": \"train.py\",\n",
      "    \"num_gpus\": 1,\n",
      "    \"input_config_dir\": \"/opt/ml/input/config\",\n",
      "    \"additional_framework_parameters\": {},\n",
      "    \"num_cpus\": 4,\n",
      "    \"resource_config\": {\n",
      "        \"current_host\": \"algo-1\",\n",
      "        \"network_interface_name\": \"eth0\",\n",
      "        \"hosts\": [\n",
      "            \"algo-1\"\n",
      "        ]\n",
      "    },\n",
      "    \"input_data_config\": {\n",
      "        \"training\": {\n",
      "            \"S3DistributionType\": \"FullyReplicated\",\n",
      "            \"RecordWrapperType\": \"None\",\n",
      "            \"TrainingInputMode\": \"File\"\n",
      "        }\n",
      "    },\n",
      "    \"hosts\": [\n",
      "        \"algo-1\"\n",
      "    ],\n",
      "    \"output_intermediate_dir\": \"/opt/ml/output/intermediate\",\n",
      "    \"framework_module\": \"sagemaker_pytorch_container.training:main\",\n",
      "    \"input_dir\": \"/opt/ml/input\",\n",
      "    \"module_name\": \"train\",\n",
      "    \"hyperparameters\": {\n",
      "        \"epochs\": 10,\n",
      "        \"hidden_dim\": 200\n",
      "    },\n",
      "    \"output_dir\": \"/opt/ml/output\",\n",
      "    \"module_dir\": \"s3://sagemaker-us-east-2-618582783151/sagemaker-pytorch-2019-07-11-05-17-06-061/source/sourcedir.tar.gz\",\n",
      "    \"network_interface_name\": \"eth0\",\n",
      "    \"output_data_dir\": \"/opt/ml/output/data\"\u001b[0m\n",
      "\u001b[31m}\n",
      "\u001b[0m\n",
      "\u001b[31mEnvironment variables:\n",
      "\u001b[0m\n",
      "\u001b[31mSM_INPUT_CONFIG_DIR=/opt/ml/input/config\u001b[0m\n",
      "\u001b[31mSM_INPUT_DATA_CONFIG={\"training\":{\"RecordWrapperType\":\"None\",\"S3DistributionType\":\"FullyReplicated\",\"TrainingInputMode\":\"File\"}}\u001b[0m\n",
      "\u001b[31mSM_HP_EPOCHS=10\u001b[0m\n",
      "\u001b[31mSM_INPUT_DIR=/opt/ml/input\u001b[0m\n",
      "\u001b[31mSM_NUM_GPUS=1\u001b[0m\n",
      "\u001b[31mSM_FRAMEWORK_MODULE=sagemaker_pytorch_container.training:main\u001b[0m\n",
      "\u001b[31mSM_NETWORK_INTERFACE_NAME=eth0\u001b[0m\n",
      "\u001b[31mSM_FRAMEWORK_PARAMS={}\u001b[0m\n",
      "\u001b[31mSM_OUTPUT_INTERMEDIATE_DIR=/opt/ml/output/intermediate\u001b[0m\n",
      "\u001b[31mSM_MODULE_DIR=s3://sagemaker-us-east-2-618582783151/sagemaker-pytorch-2019-07-11-05-17-06-061/source/sourcedir.tar.gz\u001b[0m\n",
      "\u001b[31mSM_OUTPUT_DIR=/opt/ml/output\u001b[0m\n",
      "\u001b[31mSM_HP_HIDDEN_DIM=200\u001b[0m\n",
      "\u001b[31mSM_HPS={\"epochs\":10,\"hidden_dim\":200}\u001b[0m\n",
      "\u001b[31mSM_MODULE_NAME=train\u001b[0m\n",
      "\u001b[31mPYTHONPATH=/usr/local/bin:/usr/lib/python35.zip:/usr/lib/python3.5:/usr/lib/python3.5/plat-x86_64-linux-gnu:/usr/lib/python3.5/lib-dynload:/usr/local/lib/python3.5/dist-packages:/usr/lib/python3/dist-packages\u001b[0m\n",
      "\u001b[31mSM_LOG_LEVEL=20\u001b[0m\n",
      "\u001b[31mSM_CHANNELS=[\"training\"]\u001b[0m\n",
      "\u001b[31mSM_HOSTS=[\"algo-1\"]\u001b[0m\n",
      "\u001b[31mSM_NUM_CPUS=4\u001b[0m\n",
      "\u001b[31mSM_TRAINING_ENV={\"additional_framework_parameters\":{},\"channel_input_dirs\":{\"training\":\"/opt/ml/input/data/training\"},\"current_host\":\"algo-1\",\"framework_module\":\"sagemaker_pytorch_container.training:main\",\"hosts\":[\"algo-1\"],\"hyperparameters\":{\"epochs\":10,\"hidden_dim\":200},\"input_config_dir\":\"/opt/ml/input/config\",\"input_data_config\":{\"training\":{\"RecordWrapperType\":\"None\",\"S3DistributionType\":\"FullyReplicated\",\"TrainingInputMode\":\"File\"}},\"input_dir\":\"/opt/ml/input\",\"job_name\":\"sagemaker-pytorch-2019-07-11-05-17-06-061\",\"log_level\":20,\"model_dir\":\"/opt/ml/model\",\"module_dir\":\"s3://sagemaker-us-east-2-618582783151/sagemaker-pytorch-2019-07-11-05-17-06-061/source/sourcedir.tar.gz\",\"module_name\":\"train\",\"network_interface_name\":\"eth0\",\"num_cpus\":4,\"num_gpus\":1,\"output_data_dir\":\"/opt/ml/output/data\",\"output_dir\":\"/opt/ml/output\",\"output_intermediate_dir\":\"/opt/ml/output/intermediate\",\"resource_config\":{\"current_host\":\"algo-1\",\"hosts\":[\"algo-1\"],\"network_interface_name\":\"eth0\"},\"user_entry_point\":\"train.py\"}\u001b[0m\n",
      "\u001b[31mSM_OUTPUT_DATA_DIR=/opt/ml/output/data\u001b[0m\n",
      "\u001b[31mSM_CURRENT_HOST=algo-1\u001b[0m\n",
      "\u001b[31mSM_CHANNEL_TRAINING=/opt/ml/input/data/training\u001b[0m\n",
      "\u001b[31mSM_USER_ARGS=[\"--epochs\",\"10\",\"--hidden_dim\",\"200\"]\u001b[0m\n",
      "\u001b[31mSM_MODEL_DIR=/opt/ml/model\u001b[0m\n",
      "\u001b[31mSM_RESOURCE_CONFIG={\"current_host\":\"algo-1\",\"hosts\":[\"algo-1\"],\"network_interface_name\":\"eth0\"}\u001b[0m\n",
      "\u001b[31mSM_USER_ENTRY_POINT=train.py\n",
      "\u001b[0m\n",
      "\u001b[31mInvoking script with the following command:\n",
      "\u001b[0m\n",
      "\u001b[31m/usr/bin/python -m train --epochs 10 --hidden_dim 200\n",
      "\n",
      "\u001b[0m\n",
      "\u001b[31mUsing device cuda.\u001b[0m\n",
      "\u001b[31mGet train data loader.\u001b[0m\n",
      "\u001b[31mModel loaded with embedding_dim 32, hidden_dim 200, vocab_size 5000.\u001b[0m\n"
     ]
    },
    {
     "name": "stdout",
     "output_type": "stream",
     "text": [
      "\u001b[31mEpoch: 1, BCELoss: 0.6942044837134225\u001b[0m\n",
      "\u001b[31mEpoch: 2, BCELoss: 0.6930156788047479\u001b[0m\n",
      "\u001b[31mEpoch: 3, BCELoss: 0.6928143233669047\u001b[0m\n",
      "\u001b[31mEpoch: 4, BCELoss: 0.6926264422280448\u001b[0m\n",
      "\u001b[31mEpoch: 5, BCELoss: 0.6923948757502497\u001b[0m\n",
      "\u001b[31mEpoch: 6, BCELoss: 0.6920490654147401\u001b[0m\n",
      "\u001b[31mEpoch: 7, BCELoss: 0.6917150859930077\u001b[0m\n",
      "\u001b[31mEpoch: 8, BCELoss: 0.6910056082569823\u001b[0m\n",
      "\u001b[31mEpoch: 9, BCELoss: 0.6901449731418065\u001b[0m\n",
      "\u001b[31mEpoch: 10, BCELoss: 0.6892476458938754\u001b[0m\n",
      "\u001b[31m2019-07-11 05:24:56,778 sagemaker-containers INFO     Reporting training SUCCESS\u001b[0m\n",
      "\n",
      "2019-07-11 05:25:30 Uploading - Uploading generated training model\n",
      "2019-07-11 05:25:30 Completed - Training job completed\n",
      "Billable seconds: 381\n"
     ]
    }
   ],
   "source": [
    "estimator.fit({'training': input_data})"
   ]
  },
  {
   "cell_type": "markdown",
   "metadata": {},
   "source": [
    "## Step 5: Testing the model\n",
    "\n",
    "As mentioned at the top of this notebook, we will be testing this model by first deploying it and then sending the testing data to the deployed endpoint. We will do this so that we can make sure that the deployed model is working correctly.\n",
    "\n",
    "## Step 6: Deploy the model for testing\n",
    "\n",
    "Now that we have trained our model, we would like to test it to see how it performs. Currently our model takes input of the form `review_length, review[500]` where `review[500]` is a sequence of `500` integers which describe the words present in the review, encoded using `word_dict`. Fortunately for us, SageMaker provides built-in inference code for models with simple inputs such as this.\n",
    "\n",
    "There is one thing that we need to provide, however, and that is a function which loads the saved model. This function must be called `model_fn()` and takes as its only parameter a path to the directory where the model artifacts are stored. This function must also be present in the python file which we specified as the entry point. In our case the model loading function has been provided and so no changes need to be made.\n",
    "\n",
    "**NOTE**: When the built-in inference code is run it must import the `model_fn()` method from the `train.py` file. This is why the training code is wrapped in a main guard ( ie, `if __name__ == '__main__':` )\n",
    "\n",
    "Since we don't need to change anything in the code that was uploaded during training, we can simply deploy the current model as-is.\n",
    "\n",
    "**NOTE:** When deploying a model you are asking SageMaker to launch an compute instance that will wait for data to be sent to it. As a result, this compute instance will continue to run until *you* shut it down. This is important to know since the cost of a deployed endpoint depends on how long it has been running for.\n",
    "\n",
    "In other words **If you are no longer using a deployed endpoint, shut it down!**\n",
    "\n",
    "**TODO:** Deploy the trained model."
   ]
  },
  {
   "cell_type": "code",
   "execution_count": 32,
   "metadata": {},
   "outputs": [
    {
     "name": "stderr",
     "output_type": "stream",
     "text": [
      "Using already existing model: sagemaker-pytorch-2019-07-11-05-17-06-061\n"
     ]
    },
    {
     "name": "stdout",
     "output_type": "stream",
     "text": [
      "--------------------------------------------------------------------------------------------------!"
     ]
    }
   ],
   "source": [
    "# TODO: Deploy the trained model\n",
    "predictor = estimator.deploy(initial_instance_count = 1, instance_type = 'ml.m4.xlarge')"
   ]
  },
  {
   "cell_type": "markdown",
   "metadata": {},
   "source": [
    "## Step 7 - Use the model for testing\n",
    "\n",
    "Once deployed, we can read in the test data and send it off to our deployed model to get some results. Once we collect all of the results we can determine how accurate our model is."
   ]
  },
  {
   "cell_type": "code",
   "execution_count": 33,
   "metadata": {},
   "outputs": [],
   "source": [
    "test_X = pd.concat([pd.DataFrame(test_X_len), pd.DataFrame(test_X)], axis=1)"
   ]
  },
  {
   "cell_type": "code",
   "execution_count": 34,
   "metadata": {},
   "outputs": [],
   "source": [
    "# We split the data into chunks and send each chunk seperately, accumulating the results.\n",
    "\n",
    "def predict(data, rows=512):\n",
    "    split_array = np.array_split(data, int(data.shape[0] / float(rows) + 1))\n",
    "    predictions = np.array([])\n",
    "    for array in split_array:\n",
    "        predictions = np.append(predictions, predictor.predict(array))\n",
    "    \n",
    "    return predictions"
   ]
  },
  {
   "cell_type": "code",
   "execution_count": 35,
   "metadata": {},
   "outputs": [],
   "source": [
    "predictions = predict(test_X.values)\n",
    "predictions = [round(num) for num in predictions]"
   ]
  },
  {
   "cell_type": "code",
   "execution_count": 36,
   "metadata": {},
   "outputs": [
    {
     "data": {
      "text/plain": [
       "0.51256"
      ]
     },
     "execution_count": 36,
     "metadata": {},
     "output_type": "execute_result"
    }
   ],
   "source": [
    "from sklearn.metrics import accuracy_score\n",
    "accuracy_score(test_y, predictions)"
   ]
  },
  {
   "cell_type": "markdown",
   "metadata": {},
   "source": [
    "**Question:** How does this model compare to the XGBoost model you created earlier? Why might these two models perform differently on this dataset? Which do *you* think is better for sentiment analysis?"
   ]
  },
  {
   "cell_type": "markdown",
   "metadata": {},
   "source": [
    "**Answer:** The RNN model should be better than the XGBoost"
   ]
  },
  {
   "cell_type": "markdown",
   "metadata": {},
   "source": [
    "### (TODO) More testing\n",
    "\n",
    "We now have a trained model which has been deployed and which we can send processed reviews to and which returns the predicted sentiment. However, ultimately we would like to be able to send our model an unprocessed review. That is, we would like to send the review itself as a string. For example, suppose we wish to send the following review to our model."
   ]
  },
  {
   "cell_type": "code",
   "execution_count": 37,
   "metadata": {},
   "outputs": [],
   "source": [
    "test_review = 'The simplest pleasures in life are the best, and this film is one of them. Combining a rather basic storyline of love and adventure this movie transcends the usual weekend fair with wit and unmitigated charm.'"
   ]
  },
  {
   "cell_type": "markdown",
   "metadata": {},
   "source": [
    "The question we now need to answer is, how do we send this review to our model?\n",
    "\n",
    "Recall in the first section of this notebook we did a bunch of data processing to the IMDb dataset. In particular, we did two specific things to the provided reviews.\n",
    " - Removed any html tags and stemmed the input\n",
    " - Encoded the review as a sequence of integers using `word_dict`\n",
    " \n",
    "In order process the review we will need to repeat these two steps.\n",
    "\n",
    "**TODO**: Using the `review_to_words` and `convert_and_pad` methods from section one, convert `test_review` into a numpy array `test_data` suitable to send to our model. Remember that our model expects input of the form `review_length, review[500]`."
   ]
  },
  {
   "cell_type": "code",
   "execution_count": 38,
   "metadata": {},
   "outputs": [],
   "source": [
    "# TODO: Convert test_review into a form usable by the model and save the results in test_data\n",
    "review_words = review_to_words(test_review)\n",
    "test_data = [np.array(convert_and_pad(word_dict, review_words)[0])]"
   ]
  },
  {
   "cell_type": "markdown",
   "metadata": {},
   "source": [
    "Now that we have processed the review, we can send the resulting array to our model to predict the sentiment of the review."
   ]
  },
  {
   "cell_type": "code",
   "execution_count": 39,
   "metadata": {},
   "outputs": [
    {
     "data": {
      "text/plain": [
       "array(0.5204, dtype=float32)"
      ]
     },
     "execution_count": 39,
     "metadata": {},
     "output_type": "execute_result"
    }
   ],
   "source": [
    "predictor.predict(test_data)"
   ]
  },
  {
   "cell_type": "markdown",
   "metadata": {},
   "source": [
    "Since the return value of our model is close to `1`, we can be certain that the review we submitted is positive."
   ]
  },
  {
   "cell_type": "markdown",
   "metadata": {},
   "source": [
    "### Delete the endpoint\n",
    "\n",
    "Of course, just like in the XGBoost notebook, once we've deployed an endpoint it continues to run until we tell it to shut down. Since we are done using our endpoint for now, we can delete it."
   ]
  },
  {
   "cell_type": "code",
   "execution_count": 40,
   "metadata": {},
   "outputs": [],
   "source": [
    "estimator.delete_endpoint()"
   ]
  },
  {
   "cell_type": "markdown",
   "metadata": {},
   "source": [
    "## Step 6 (again) - Deploy the model for the web app\n",
    "\n",
    "Now that we know that our model is working, it's time to create some custom inference code so that we can send the model a review which has not been processed and have it determine the sentiment of the review.\n",
    "\n",
    "As we saw above, by default the estimator which we created, when deployed, will use the entry script and directory which we provided when creating the model. However, since we now wish to accept a string as input and our model expects a processed review, we need to write some custom inference code.\n",
    "\n",
    "We will store the code that we write in the `serve` directory. Provided in this directory is the `model.py` file that we used to construct our model, a `utils.py` file which contains the `review_to_words` and `convert_and_pad` pre-processing functions which we used during the initial data processing, and `predict.py`, the file which will contain our custom inference code. Note also that `requirements.txt` is present which will tell SageMaker what Python libraries are required by our custom inference code.\n",
    "\n",
    "When deploying a PyTorch model in SageMaker, you are expected to provide four functions which the SageMaker inference container will use.\n",
    " - `model_fn`: This function is the same function that we used in the training script and it tells SageMaker how to load our model.\n",
    " - `input_fn`: This function receives the raw serialized input that has been sent to the model's endpoint and its job is to de-serialize and make the input available for the inference code.\n",
    " - `output_fn`: This function takes the output of the inference code and its job is to serialize this output and return it to the caller of the model's endpoint.\n",
    " - `predict_fn`: The heart of the inference script, this is where the actual prediction is done and is the function which you will need to complete.\n",
    "\n",
    "For the simple website that we are constructing during this project, the `input_fn` and `output_fn` methods are relatively straightforward. We only require being able to accept a string as input and we expect to return a single value as output. You might imagine though that in a more complex application the input or output may be image data or some other binary data which would require some effort to serialize.\n",
    "\n",
    "### (TODO) Writing inference code\n",
    "\n",
    "Before writing our custom inference code, we will begin by taking a look at the code which has been provided."
   ]
  },
  {
   "cell_type": "code",
   "execution_count": 47,
   "metadata": {},
   "outputs": [
    {
     "name": "stdout",
     "output_type": "stream",
     "text": [
      "\u001b[34mimport\u001b[39;49;00m \u001b[04m\u001b[36margparse\u001b[39;49;00m\r\n",
      "\u001b[34mimport\u001b[39;49;00m \u001b[04m\u001b[36mjson\u001b[39;49;00m\r\n",
      "\u001b[34mimport\u001b[39;49;00m \u001b[04m\u001b[36mos\u001b[39;49;00m\r\n",
      "\u001b[34mimport\u001b[39;49;00m \u001b[04m\u001b[36mpickle\u001b[39;49;00m\r\n",
      "\u001b[34mimport\u001b[39;49;00m \u001b[04m\u001b[36msys\u001b[39;49;00m\r\n",
      "\u001b[34mimport\u001b[39;49;00m \u001b[04m\u001b[36msagemaker_containers\u001b[39;49;00m\r\n",
      "\u001b[34mimport\u001b[39;49;00m \u001b[04m\u001b[36mpandas\u001b[39;49;00m \u001b[34mas\u001b[39;49;00m \u001b[04m\u001b[36mpd\u001b[39;49;00m\r\n",
      "\u001b[34mimport\u001b[39;49;00m \u001b[04m\u001b[36mnumpy\u001b[39;49;00m \u001b[34mas\u001b[39;49;00m \u001b[04m\u001b[36mnp\u001b[39;49;00m\r\n",
      "\u001b[34mimport\u001b[39;49;00m \u001b[04m\u001b[36mtorch\u001b[39;49;00m\r\n",
      "\u001b[34mimport\u001b[39;49;00m \u001b[04m\u001b[36mtorch.nn\u001b[39;49;00m \u001b[34mas\u001b[39;49;00m \u001b[04m\u001b[36mnn\u001b[39;49;00m\r\n",
      "\u001b[34mimport\u001b[39;49;00m \u001b[04m\u001b[36mtorch.optim\u001b[39;49;00m \u001b[34mas\u001b[39;49;00m \u001b[04m\u001b[36moptim\u001b[39;49;00m\r\n",
      "\u001b[34mimport\u001b[39;49;00m \u001b[04m\u001b[36mtorch.utils.data\u001b[39;49;00m\r\n",
      "\r\n",
      "\u001b[34mfrom\u001b[39;49;00m \u001b[04m\u001b[36mmodel\u001b[39;49;00m \u001b[34mimport\u001b[39;49;00m LSTMClassifier\r\n",
      "\r\n",
      "\u001b[34mfrom\u001b[39;49;00m \u001b[04m\u001b[36mutils\u001b[39;49;00m \u001b[34mimport\u001b[39;49;00m review_to_words, convert_and_pad\r\n",
      "\r\n",
      "\u001b[34mdef\u001b[39;49;00m \u001b[32mmodel_fn\u001b[39;49;00m(model_dir):\r\n",
      "    \u001b[33m\"\"\"Load the PyTorch model from the `model_dir` directory.\"\"\"\u001b[39;49;00m\r\n",
      "    \u001b[34mprint\u001b[39;49;00m(\u001b[33m\"\u001b[39;49;00m\u001b[33mLoading model.\u001b[39;49;00m\u001b[33m\"\u001b[39;49;00m)\r\n",
      "\r\n",
      "    \u001b[37m# First, load the parameters used to create the model.\u001b[39;49;00m\r\n",
      "    model_info = {}\r\n",
      "    model_info_path = os.path.join(model_dir, \u001b[33m'\u001b[39;49;00m\u001b[33mmodel_info.pth\u001b[39;49;00m\u001b[33m'\u001b[39;49;00m)\r\n",
      "    \u001b[34mwith\u001b[39;49;00m \u001b[36mopen\u001b[39;49;00m(model_info_path, \u001b[33m'\u001b[39;49;00m\u001b[33mrb\u001b[39;49;00m\u001b[33m'\u001b[39;49;00m) \u001b[34mas\u001b[39;49;00m f:\r\n",
      "        model_info = torch.load(f)\r\n",
      "\r\n",
      "    \u001b[34mprint\u001b[39;49;00m(\u001b[33m\"\u001b[39;49;00m\u001b[33mmodel_info: {}\u001b[39;49;00m\u001b[33m\"\u001b[39;49;00m.format(model_info))\r\n",
      "\r\n",
      "    \u001b[37m# Determine the device and construct the model.\u001b[39;49;00m\r\n",
      "    device = torch.device(\u001b[33m\"\u001b[39;49;00m\u001b[33mcuda\u001b[39;49;00m\u001b[33m\"\u001b[39;49;00m \u001b[34mif\u001b[39;49;00m torch.cuda.is_available() \u001b[34melse\u001b[39;49;00m \u001b[33m\"\u001b[39;49;00m\u001b[33mcpu\u001b[39;49;00m\u001b[33m\"\u001b[39;49;00m)\r\n",
      "    model = LSTMClassifier(model_info[\u001b[33m'\u001b[39;49;00m\u001b[33membedding_dim\u001b[39;49;00m\u001b[33m'\u001b[39;49;00m], model_info[\u001b[33m'\u001b[39;49;00m\u001b[33mhidden_dim\u001b[39;49;00m\u001b[33m'\u001b[39;49;00m], model_info[\u001b[33m'\u001b[39;49;00m\u001b[33mvocab_size\u001b[39;49;00m\u001b[33m'\u001b[39;49;00m])\r\n",
      "\r\n",
      "    \u001b[37m# Load the store model parameters.\u001b[39;49;00m\r\n",
      "    model_path = os.path.join(model_dir, \u001b[33m'\u001b[39;49;00m\u001b[33mmodel.pth\u001b[39;49;00m\u001b[33m'\u001b[39;49;00m)\r\n",
      "    \u001b[34mwith\u001b[39;49;00m \u001b[36mopen\u001b[39;49;00m(model_path, \u001b[33m'\u001b[39;49;00m\u001b[33mrb\u001b[39;49;00m\u001b[33m'\u001b[39;49;00m) \u001b[34mas\u001b[39;49;00m f:\r\n",
      "        model.load_state_dict(torch.load(f))\r\n",
      "\r\n",
      "    \u001b[37m# Load the saved word_dict.\u001b[39;49;00m\r\n",
      "    word_dict_path = os.path.join(model_dir, \u001b[33m'\u001b[39;49;00m\u001b[33mword_dict.pkl\u001b[39;49;00m\u001b[33m'\u001b[39;49;00m)\r\n",
      "    \u001b[34mwith\u001b[39;49;00m \u001b[36mopen\u001b[39;49;00m(word_dict_path, \u001b[33m'\u001b[39;49;00m\u001b[33mrb\u001b[39;49;00m\u001b[33m'\u001b[39;49;00m) \u001b[34mas\u001b[39;49;00m f:\r\n",
      "        model.word_dict = pickle.load(f)\r\n",
      "\r\n",
      "    model.to(device).eval()\r\n",
      "\r\n",
      "    \u001b[34mprint\u001b[39;49;00m(\u001b[33m\"\u001b[39;49;00m\u001b[33mDone loading model.\u001b[39;49;00m\u001b[33m\"\u001b[39;49;00m)\r\n",
      "    \u001b[34mreturn\u001b[39;49;00m model\r\n",
      "\r\n",
      "\u001b[34mdef\u001b[39;49;00m \u001b[32minput_fn\u001b[39;49;00m(serialized_input_data, content_type):\r\n",
      "    \u001b[34mprint\u001b[39;49;00m(\u001b[33m'\u001b[39;49;00m\u001b[33mDeserializing the input data.\u001b[39;49;00m\u001b[33m'\u001b[39;49;00m)\r\n",
      "    \u001b[34mif\u001b[39;49;00m content_type == \u001b[33m'\u001b[39;49;00m\u001b[33mtext/plain\u001b[39;49;00m\u001b[33m'\u001b[39;49;00m:\r\n",
      "        data = serialized_input_data.decode(\u001b[33m'\u001b[39;49;00m\u001b[33mutf-8\u001b[39;49;00m\u001b[33m'\u001b[39;49;00m)\r\n",
      "        \u001b[34mreturn\u001b[39;49;00m data\r\n",
      "    \u001b[34mraise\u001b[39;49;00m \u001b[36mException\u001b[39;49;00m(\u001b[33m'\u001b[39;49;00m\u001b[33mRequested unsupported ContentType in content_type: \u001b[39;49;00m\u001b[33m'\u001b[39;49;00m + content_type)\r\n",
      "\r\n",
      "\u001b[34mdef\u001b[39;49;00m \u001b[32moutput_fn\u001b[39;49;00m(prediction_output, accept):\r\n",
      "    \u001b[34mprint\u001b[39;49;00m(\u001b[33m'\u001b[39;49;00m\u001b[33mSerializing the generated output.\u001b[39;49;00m\u001b[33m'\u001b[39;49;00m)\r\n",
      "    \u001b[34mreturn\u001b[39;49;00m \u001b[36mstr\u001b[39;49;00m(prediction_output)\r\n",
      "\r\n",
      "\u001b[34mdef\u001b[39;49;00m \u001b[32mpredict_fn\u001b[39;49;00m(input_data, model):\r\n",
      "    \u001b[34mprint\u001b[39;49;00m(\u001b[33m'\u001b[39;49;00m\u001b[33mInferring sentiment of input data.\u001b[39;49;00m\u001b[33m'\u001b[39;49;00m)\r\n",
      "\r\n",
      "    device = torch.device(\u001b[33m\"\u001b[39;49;00m\u001b[33mcuda\u001b[39;49;00m\u001b[33m\"\u001b[39;49;00m \u001b[34mif\u001b[39;49;00m torch.cuda.is_available() \u001b[34melse\u001b[39;49;00m \u001b[33m\"\u001b[39;49;00m\u001b[33mcpu\u001b[39;49;00m\u001b[33m\"\u001b[39;49;00m)\r\n",
      "    \r\n",
      "    \u001b[34mif\u001b[39;49;00m model.word_dict \u001b[35mis\u001b[39;49;00m \u001b[36mNone\u001b[39;49;00m:\r\n",
      "        \u001b[34mraise\u001b[39;49;00m \u001b[36mException\u001b[39;49;00m(\u001b[33m'\u001b[39;49;00m\u001b[33mModel has not been loaded properly, no word_dict.\u001b[39;49;00m\u001b[33m'\u001b[39;49;00m)\r\n",
      "    \r\n",
      "    \u001b[37m# TODO: Process input_data so that it is ready to be sent to our model.\u001b[39;49;00m\r\n",
      "    \u001b[37m#       You should produce two variables:\u001b[39;49;00m\r\n",
      "    \u001b[37m#         data_X   - A sequence of length 500 which represents the converted review\u001b[39;49;00m\r\n",
      "    \u001b[37m#         data_len - The length of the review\u001b[39;49;00m\r\n",
      "\r\n",
      "    review_words = review_to_words(input_data)\r\n",
      "    data_X, data_len = convert_and_pad(model.word_dict, review_words)\r\n",
      "\r\n",
      "    \u001b[37m# Using data_X and data_len we construct an appropriate input tensor. Remember\u001b[39;49;00m\r\n",
      "    \u001b[37m# that our model expects input data of the form 'len, review[500]'.\u001b[39;49;00m\r\n",
      "    data_pack = np.hstack((data_len, data_X))\r\n",
      "    data_pack = data_pack.reshape(\u001b[34m1\u001b[39;49;00m, -\u001b[34m1\u001b[39;49;00m)\r\n",
      "    \r\n",
      "    data = torch.from_numpy(data_pack)\r\n",
      "    data = data.to(device)\r\n",
      "\r\n",
      "    \u001b[37m# Make sure to put the model into evaluation mode\u001b[39;49;00m\r\n",
      "    model.eval()\r\n",
      "\r\n",
      "    \u001b[37m# TODO: Compute the result of applying the model to the input data. The variable `result` should\u001b[39;49;00m\r\n",
      "    \u001b[37m#       be a numpy array which contains a single integer which is either 1 or 0\u001b[39;49;00m\r\n",
      "    \r\n",
      "    result = np.array()\r\n",
      "    \u001b[34mwith\u001b[39;49;00m torch.no_grad():\r\n",
      "        result = model.forward(data)\r\n",
      "    \r\n",
      "    result = np.round(result.numpy())\r\n",
      "    \r\n",
      "    result \u001b[36mint\u001b[39;49;00m(result)\r\n",
      "    \r\n",
      "    \u001b[34mreturn\u001b[39;49;00m result\r\n"
     ]
    }
   ],
   "source": [
    "!pygmentize serve/predict.py"
   ]
  },
  {
   "cell_type": "markdown",
   "metadata": {},
   "source": [
    "As mentioned earlier, the `model_fn` method is the same as the one provided in the training code and the `input_fn` and `output_fn` methods are very simple and your task will be to complete the `predict_fn` method. Make sure that you save the completed file as `predict.py` in the `serve` directory.\n",
    "\n",
    "**TODO**: Complete the `predict_fn()` method in the `serve/predict.py` file."
   ]
  },
  {
   "cell_type": "markdown",
   "metadata": {},
   "source": [
    "### Deploying the model\n",
    "\n",
    "Now that the custom inference code has been written, we will create and deploy our model. To begin with, we need to construct a new PyTorchModel object which points to the model artifacts created during training and also points to the inference code that we wish to use. Then we can call the deploy method to launch the deployment container.\n",
    "\n",
    "**NOTE**: The default behaviour for a deployed PyTorch model is to assume that any input passed to the predictor is a `numpy` array. In our case we want to send a string so we need to construct a simple wrapper around the `RealTimePredictor` class to accomodate simple strings. In a more complicated situation you may want to provide a serialization object, for example if you wanted to sent image data."
   ]
  },
  {
   "cell_type": "code",
   "execution_count": 58,
   "metadata": {},
   "outputs": [
    {
     "name": "stdout",
     "output_type": "stream",
     "text": [
      "---------------------------------------------------------------------------------------!"
     ]
    }
   ],
   "source": [
    "from sagemaker.predictor import RealTimePredictor\n",
    "from sagemaker.pytorch import PyTorchModel\n",
    "\n",
    "class StringPredictor(RealTimePredictor):\n",
    "    def __init__(self, endpoint_name, sagemaker_session):\n",
    "        super(StringPredictor, self).__init__(endpoint_name, sagemaker_session, content_type='text/plain')\n",
    "\n",
    "model = PyTorchModel(model_data=estimator.model_data,\n",
    "                     role = role,\n",
    "                     framework_version='0.4.0',\n",
    "                     entry_point='predict.py',\n",
    "                     source_dir='serve',\n",
    "                     predictor_cls=StringPredictor)\n",
    "predictor = model.deploy(initial_instance_count=1, instance_type='ml.m4.xlarge')"
   ]
  },
  {
   "cell_type": "markdown",
   "metadata": {},
   "source": [
    "### Testing the model\n",
    "\n",
    "Now that we have deployed our model with the custom inference code, we should test to see if everything is working. Here we test our model by loading the first `250` positive and negative reviews and send them to the endpoint, then collect the results. The reason for only sending some of the data is that the amount of time it takes for our model to process the input and then perform inference is quite long and so testing the entire data set would be prohibitive."
   ]
  },
  {
   "cell_type": "code",
   "execution_count": 59,
   "metadata": {},
   "outputs": [],
   "source": [
    "import glob\n",
    "\n",
    "def test_reviews(data_dir='../data/aclImdb', stop=250):\n",
    "    \n",
    "    results = []\n",
    "    ground = []\n",
    "    \n",
    "    # We make sure to test both positive and negative reviews    \n",
    "    for sentiment in ['pos', 'neg']:\n",
    "        \n",
    "        path = os.path.join(data_dir, 'test', sentiment, '*.txt')\n",
    "        files = glob.glob(path)\n",
    "        \n",
    "        files_read = 0\n",
    "        \n",
    "        print('Starting ', sentiment, ' files')\n",
    "        \n",
    "        # Iterate through the files and send them to the predictor\n",
    "        for f in files:\n",
    "            with open(f) as review:\n",
    "                # First, we store the ground truth (was the review positive or negative)\n",
    "                if sentiment == 'pos':\n",
    "                    ground.append(1)\n",
    "                else:\n",
    "                    ground.append(0)\n",
    "                # Read in the review and convert to 'utf-8' for transmission via HTTP\n",
    "                review_input = review.read().encode('utf-8')\n",
    "                # Send the review to the predictor and store the results\n",
    "                results.append(int(predictor.predict(review_input)))\n",
    "                \n",
    "            # Sending reviews to our endpoint one at a time takes a while so we\n",
    "            # only send a small number of reviews\n",
    "            files_read += 1\n",
    "            if files_read == stop:\n",
    "                break\n",
    "            \n",
    "    return ground, results"
   ]
  },
  {
   "cell_type": "code",
   "execution_count": 60,
   "metadata": {},
   "outputs": [
    {
     "name": "stdout",
     "output_type": "stream",
     "text": [
      "Starting  pos  files\n",
      "Starting  neg  files\n"
     ]
    }
   ],
   "source": [
    "ground, results = test_reviews()"
   ]
  },
  {
   "cell_type": "code",
   "execution_count": 61,
   "metadata": {},
   "outputs": [
    {
     "data": {
      "text/plain": [
       "0.5"
      ]
     },
     "execution_count": 61,
     "metadata": {},
     "output_type": "execute_result"
    }
   ],
   "source": [
    "from sklearn.metrics import accuracy_score\n",
    "accuracy_score(ground, results)"
   ]
  },
  {
   "cell_type": "markdown",
   "metadata": {},
   "source": [
    "As an additional test, we can try sending the `test_review` that we looked at earlier."
   ]
  },
  {
   "cell_type": "code",
   "execution_count": 62,
   "metadata": {},
   "outputs": [
    {
     "data": {
      "text/plain": [
       "b'1'"
      ]
     },
     "execution_count": 62,
     "metadata": {},
     "output_type": "execute_result"
    }
   ],
   "source": [
    "predictor.predict(test_review)"
   ]
  },
  {
   "cell_type": "markdown",
   "metadata": {},
   "source": [
    "Now that we know our endpoint is working as expected, we can set up the web page that will interact with it. If you don't have time to finish the project now, make sure to skip down to the end of this notebook and shut down your endpoint. You can deploy it again when you come back."
   ]
  },
  {
   "cell_type": "markdown",
   "metadata": {},
   "source": [
    "## Step 7 (again): Use the model for the web app\n",
    "\n",
    "> **TODO:** This entire section and the next contain tasks for you to complete, mostly using the AWS console.\n",
    "\n",
    "So far we have been accessing our model endpoint by constructing a predictor object which uses the endpoint and then just using the predictor object to perform inference. What if we wanted to create a web app which accessed our model? The way things are set up currently makes that not possible since in order to access a SageMaker endpoint the app would first have to authenticate with AWS using an IAM role which included access to SageMaker endpoints. However, there is an easier way! We just need to use some additional AWS services.\n",
    "\n",
    "<img src=\"Web App Diagram.svg\">\n",
    "\n",
    "The diagram above gives an overview of how the various services will work together. On the far right is the model which we trained above and which is deployed using SageMaker. On the far left is our web app that collects a user's movie review, sends it off and expects a positive or negative sentiment in return.\n",
    "\n",
    "In the middle is where some of the magic happens. We will construct a Lambda function, which you can think of as a straightforward Python function that can be executed whenever a specified event occurs. We will give this function permission to send and recieve data from a SageMaker endpoint.\n",
    "\n",
    "Lastly, the method we will use to execute the Lambda function is a new endpoint that we will create using API Gateway. This endpoint will be a url that listens for data to be sent to it. Once it gets some data it will pass that data on to the Lambda function and then return whatever the Lambda function returns. Essentially it will act as an interface that lets our web app communicate with the Lambda function.\n",
    "\n",
    "### Setting up a Lambda function\n",
    "\n",
    "The first thing we are going to do is set up a Lambda function. This Lambda function will be executed whenever our public API has data sent to it. When it is executed it will receive the data, perform any sort of processing that is required, send the data (the review) to the SageMaker endpoint we've created and then return the result.\n",
    "\n",
    "#### Part A: Create an IAM Role for the Lambda function\n",
    "\n",
    "Since we want the Lambda function to call a SageMaker endpoint, we need to make sure that it has permission to do so. To do this, we will construct a role that we can later give the Lambda function.\n",
    "\n",
    "Using the AWS Console, navigate to the **IAM** page and click on **Roles**. Then, click on **Create role**. Make sure that the **AWS service** is the type of trusted entity selected and choose **Lambda** as the service that will use this role, then click **Next: Permissions**.\n",
    "\n",
    "In the search box type `sagemaker` and select the check box next to the **AmazonSageMakerFullAccess** policy. Then, click on **Next: Review**.\n",
    "\n",
    "Lastly, give this role a name. Make sure you use a name that you will remember later on, for example `LambdaSageMakerRole`. Then, click on **Create role**.\n",
    "\n",
    "#### Part B: Create a Lambda function\n",
    "\n",
    "Now it is time to actually create the Lambda function.\n",
    "\n",
    "Using the AWS Console, navigate to the AWS Lambda page and click on **Create a function**. When you get to the next page, make sure that **Author from scratch** is selected. Now, name your Lambda function, using a name that you will remember later on, for example `sentiment_analysis_func`. Make sure that the **Python 3.6** runtime is selected and then choose the role that you created in the previous part. Then, click on **Create Function**.\n",
    "\n",
    "On the next page you will see some information about the Lambda function you've just created. If you scroll down you should see an editor in which you can write the code that will be executed when your Lambda function is triggered. In our example, we will use the code below. \n",
    "\n",
    "```python\n",
    "# We need to use the low-level library to interact with SageMaker since the SageMaker API\n",
    "# is not available natively through Lambda.\n",
    "import boto3\n",
    "\n",
    "def lambda_handler(event, context):\n",
    "\n",
    "    # The SageMaker runtime is what allows us to invoke the endpoint that we've created.\n",
    "    runtime = boto3.Session().client('sagemaker-runtime')\n",
    "\n",
    "    # Now we use the SageMaker runtime to invoke our endpoint, sending the review we were given\n",
    "    response = runtime.invoke_endpoint(EndpointName = '**ENDPOINT NAME HERE**',    # The name of the endpoint we created\n",
    "                                       ContentType = 'text/plain',                 # The data format that is expected\n",
    "                                       Body = event['body'])                       # The actual review\n",
    "\n",
    "    # The response is an HTTP response whose body contains the result of our inference\n",
    "    result = response['Body'].read().decode('utf-8')\n",
    "\n",
    "    return {\n",
    "        'statusCode' : 200,\n",
    "        'headers' : { 'Content-Type' : 'text/plain', 'Access-Control-Allow-Origin' : '*' },\n",
    "        'body' : result\n",
    "    }\n",
    "```\n",
    "\n",
    "Once you have copy and pasted the code above into the Lambda code editor, replace the `**ENDPOINT NAME HERE**` portion with the name of the endpoint that we deployed earlier. You can determine the name of the endpoint using the code cell below."
   ]
  },
  {
   "cell_type": "code",
   "execution_count": 63,
   "metadata": {},
   "outputs": [
    {
     "data": {
      "text/plain": [
       "'sagemaker-pytorch-2019-07-11-07-54-10-404'"
      ]
     },
     "execution_count": 63,
     "metadata": {},
     "output_type": "execute_result"
    }
   ],
   "source": [
    "predictor.endpoint"
   ]
  },
  {
   "cell_type": "markdown",
   "metadata": {},
   "source": [
    "Once you have added the endpoint name to the Lambda function, click on **Save**. Your Lambda function is now up and running. Next we need to create a way for our web app to execute the Lambda function.\n",
    "\n",
    "### Setting up API Gateway\n",
    "\n",
    "Now that our Lambda function is set up, it is time to create a new API using API Gateway that will trigger the Lambda function we have just created.\n",
    "\n",
    "Using AWS Console, navigate to **Amazon API Gateway** and then click on **Get started**.\n",
    "\n",
    "On the next page, make sure that **New API** is selected and give the new api a name, for example, `sentiment_analysis_api`. Then, click on **Create API**.\n",
    "\n",
    "Now we have created an API, however it doesn't currently do anything. What we want it to do is to trigger the Lambda function that we created earlier.\n",
    "\n",
    "Select the **Actions** dropdown menu and click **Create Method**. A new blank method will be created, select its dropdown menu and select **POST**, then click on the check mark beside it.\n",
    "\n",
    "For the integration point, make sure that **Lambda Function** is selected and click on the **Use Lambda Proxy integration**. This option makes sure that the data that is sent to the API is then sent directly to the Lambda function with no processing. It also means that the return value must be a proper response object as it will also not be processed by API Gateway.\n",
    "\n",
    "Type the name of the Lambda function you created earlier into the **Lambda Function** text entry box and then click on **Save**. Click on **OK** in the pop-up box that then appears, giving permission to API Gateway to invoke the Lambda function you created.\n",
    "\n",
    "The last step in creating the API Gateway is to select the **Actions** dropdown and click on **Deploy API**. You will need to create a new Deployment stage and name it anything you like, for example `prod`.\n",
    "\n",
    "You have now successfully set up a public API to access your SageMaker model. Make sure to copy or write down the URL provided to invoke your newly created public API as this will be needed in the next step. This URL can be found at the top of the page, highlighted in blue next to the text **Invoke URL**."
   ]
  },
  {
   "cell_type": "markdown",
   "metadata": {},
   "source": [
    "## Step 4: Deploying our web app\n",
    "\n",
    "Now that we have a publicly available API, we can start using it in a web app. For our purposes, we have provided a simple static html file which can make use of the public api you created earlier.\n",
    "\n",
    "In the `website` folder there should be a file called `index.html`. Download the file to your computer and open that file up in a text editor of your choice. There should be a line which contains **\\*\\*REPLACE WITH PUBLIC API URL\\*\\***. Replace this string with the url that you wrote down in the last step and then save the file.\n",
    "\n",
    "Now, if you open `index.html` on your local computer, your browser will behave as a local web server and you can use the provided site to interact with your SageMaker model.\n",
    "\n",
    "If you'd like to go further, you can host this html file anywhere you'd like, for example using github or hosting a static site on Amazon's S3. Once you have done this you can share the link with anyone you'd like and have them play with it too!\n",
    "\n",
    "> **Important Note** In order for the web app to communicate with the SageMaker endpoint, the endpoint has to actually be deployed and running. This means that you are paying for it. Make sure that the endpoint is running when you want to use the web app but that you shut it down when you don't need it, otherwise you will end up with a surprisingly large AWS bill.\n",
    "\n",
    "**TODO:** Make sure that you include the edited `index.html` file in your project submission."
   ]
  },
  {
   "cell_type": "markdown",
   "metadata": {},
   "source": [
    "Now that your web app is working, trying playing around with it and see how well it works.\n",
    "\n",
    "**Question**: Give an example of a review that you entered into your web app. What was the predicted sentiment of your example review?"
   ]
  },
  {
   "cell_type": "markdown",
   "metadata": {},
   "source": [
    "**Answer:** \"Complete waste of time it is wholly unbearable\". Predicted Sentiment: Negative"
   ]
  },
  {
   "cell_type": "markdown",
   "metadata": {},
   "source": [
    "### Delete the endpoint\n",
    "\n",
    "Remember to always shut down your endpoint if you are no longer using it. You are charged for the length of time that the endpoint is running so if you forget and leave it on you could end up with an unexpectedly large bill."
   ]
  },
  {
   "cell_type": "code",
   "execution_count": 64,
   "metadata": {},
   "outputs": [],
   "source": [
    "predictor.delete_endpoint()"
   ]
  },
  {
   "cell_type": "code",
   "execution_count": null,
   "metadata": {},
   "outputs": [],
   "source": []
  }
 ],
 "metadata": {
  "kernelspec": {
   "display_name": "conda_pytorch_p36",
   "language": "python",
   "name": "conda_pytorch_p36"
  },
  "language_info": {
   "codemirror_mode": {
    "name": "ipython",
    "version": 3
   },
   "file_extension": ".py",
   "mimetype": "text/x-python",
   "name": "python",
   "nbconvert_exporter": "python",
   "pygments_lexer": "ipython3",
   "version": "3.6.5"
  }
 },
 "nbformat": 4,
 "nbformat_minor": 2
}
