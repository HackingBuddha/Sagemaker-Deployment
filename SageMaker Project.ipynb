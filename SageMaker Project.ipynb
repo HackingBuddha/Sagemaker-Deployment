{
 "cells": [
  {
   "cell_type": "markdown",
   "metadata": {},
   "source": [
    "# Creating a Sentiment Analysis Web App\n",
    "## Using PyTorch and SageMaker\n",
    "\n",
    "_Deep Learning Nanodegree Program | Deployment_\n",
    "\n",
    "---\n",
    "\n",
    "Now that we have a basic understanding of how SageMaker works we will try to use it to construct a complete project from end to end. Our goal will be to have a simple web page which a user can use to enter a movie review. The web page will then send the review off to our deployed model which will predict the sentiment of the entered review.\n",
    "\n",
    "## Instructions\n",
    "\n",
    "Some template code has already been provided for you, and you will need to implement additional functionality to successfully complete this notebook. You will not need to modify the included code beyond what is requested. Sections that begin with '**TODO**' in the header indicate that you need to complete or implement some portion within them. Instructions will be provided for each section and the specifics of the implementation are marked in the code block with a `# TODO: ...` comment. Please be sure to read the instructions carefully!\n",
    "\n",
    "In addition to implementing code, there will be questions for you to answer which relate to the task and your implementation. Each section where you will answer a question is preceded by a '**Question:**' header. Carefully read each question and provide your answer below the '**Answer:**' header by editing the Markdown cell.\n",
    "\n",
    "> **Note**: Code and Markdown cells can be executed using the **Shift+Enter** keyboard shortcut. In addition, a cell can be edited by typically clicking it (double-click for Markdown cells) or by pressing **Enter** while it is highlighted.\n",
    "\n",
    "## General Outline\n",
    "\n",
    "Recall the general outline for SageMaker projects using a notebook instance.\n",
    "\n",
    "1. Download or otherwise retrieve the data.\n",
    "2. Process / Prepare the data.\n",
    "3. Upload the processed data to S3.\n",
    "4. Train a chosen model.\n",
    "5. Test the trained model (typically using a batch transform job).\n",
    "6. Deploy the trained model.\n",
    "7. Use the deployed model.\n",
    "\n",
    "For this project, you will be following the steps in the general outline with some modifications. \n",
    "\n",
    "First, you will not be testing the model in its own step. You will still be testing the model, however, you will do it by deploying your model and then using the deployed model by sending the test data to it. One of the reasons for doing this is so that you can make sure that your deployed model is working correctly before moving forward.\n",
    "\n",
    "In addition, you will deploy and use your trained model a second time. In the second iteration you will customize the way that your trained model is deployed by including some of your own code. In addition, your newly deployed model will be used in the sentiment analysis web app."
   ]
  },
  {
   "cell_type": "markdown",
   "metadata": {},
   "source": [
    "## Step 1: Downloading the data\n",
    "\n",
    "As in the XGBoost in SageMaker notebook, we will be using the [IMDb dataset](http://ai.stanford.edu/~amaas/data/sentiment/)\n",
    "\n",
    "> Maas, Andrew L., et al. [Learning Word Vectors for Sentiment Analysis](http://ai.stanford.edu/~amaas/data/sentiment/). In _Proceedings of the 49th Annual Meeting of the Association for Computational Linguistics: Human Language Technologies_. Association for Computational Linguistics, 2011."
   ]
  },
  {
   "cell_type": "code",
   "execution_count": 5,
   "metadata": {},
   "outputs": [],
   "source": [
    "#%mkdir ../data\n",
    "#!wget -O ../data/aclImdb_v1.tar.gz http://ai.stanford.edu/~amaas/data/sentiment/aclImdb_v1.tar.gz\n",
    "#!tar -zxf ../data/aclImdb_v1.tar.gz -C ../data"
   ]
  },
  {
   "cell_type": "markdown",
   "metadata": {},
   "source": [
    "## Step 2: Preparing and Processing the data\n",
    "\n",
    "Also, as in the XGBoost notebook, we will be doing some initial data processing. The first few steps are the same as in the XGBoost example. To begin with, we will read in each of the reviews and combine them into a single input structure. Then, we will split the dataset into a training set and a testing set."
   ]
  },
  {
   "cell_type": "code",
   "execution_count": 6,
   "metadata": {},
   "outputs": [],
   "source": [
    "import os\n",
    "import glob\n",
    "\n",
    "def read_imdb_data(data_dir='../data/aclImdb'):\n",
    "    data = {}\n",
    "    labels = {}\n",
    "    \n",
    "    for data_type in ['train', 'test']:\n",
    "        data[data_type] = {}\n",
    "        labels[data_type] = {}\n",
    "        \n",
    "        for sentiment in ['pos', 'neg']:\n",
    "            data[data_type][sentiment] = []\n",
    "            labels[data_type][sentiment] = []\n",
    "            \n",
    "            path = os.path.join(data_dir, data_type, sentiment, '*.txt')\n",
    "            files = glob.glob(path)\n",
    "            \n",
    "            for f in files:\n",
    "                with open(f) as review:\n",
    "                    data[data_type][sentiment].append(review.read())\n",
    "                    # Here we represent a positive review by '1' and a negative review by '0'\n",
    "                    labels[data_type][sentiment].append(1 if sentiment == 'pos' else 0)\n",
    "                    \n",
    "            assert len(data[data_type][sentiment]) == len(labels[data_type][sentiment]), \\\n",
    "                    \"{}/{} data size does not match labels size\".format(data_type, sentiment)\n",
    "                \n",
    "    return data, labels"
   ]
  },
  {
   "cell_type": "code",
   "execution_count": 7,
   "metadata": {},
   "outputs": [
    {
     "name": "stdout",
     "output_type": "stream",
     "text": [
      "IMDB reviews: train = 12500 pos / 12500 neg, test = 12500 pos / 12500 neg\n"
     ]
    }
   ],
   "source": [
    "data, labels = read_imdb_data()\n",
    "print(\"IMDB reviews: train = {} pos / {} neg, test = {} pos / {} neg\".format(\n",
    "            len(data['train']['pos']), len(data['train']['neg']),\n",
    "            len(data['test']['pos']), len(data['test']['neg'])))"
   ]
  },
  {
   "cell_type": "markdown",
   "metadata": {},
   "source": [
    "Now that we've read the raw training and testing data from the downloaded dataset, we will combine the positive and negative reviews and shuffle the resulting records."
   ]
  },
  {
   "cell_type": "code",
   "execution_count": 8,
   "metadata": {},
   "outputs": [],
   "source": [
    "from sklearn.utils import shuffle\n",
    "\n",
    "def prepare_imdb_data(data, labels):\n",
    "    \"\"\"Prepare training and test sets from IMDb movie reviews.\"\"\"\n",
    "    \n",
    "    #Combine positive and negative reviews and labels\n",
    "    data_train = data['train']['pos'] + data['train']['neg']\n",
    "    data_test = data['test']['pos'] + data['test']['neg']\n",
    "    labels_train = labels['train']['pos'] + labels['train']['neg']\n",
    "    labels_test = labels['test']['pos'] + labels['test']['neg']\n",
    "    \n",
    "    #Shuffle reviews and corresponding labels within training and test sets\n",
    "    data_train, labels_train = shuffle(data_train, labels_train)\n",
    "    data_test, labels_test = shuffle(data_test, labels_test)\n",
    "    \n",
    "    # Return a unified training data, test data, training labels, test labets\n",
    "    return data_train, data_test, labels_train, labels_test"
   ]
  },
  {
   "cell_type": "code",
   "execution_count": 9,
   "metadata": {},
   "outputs": [
    {
     "name": "stdout",
     "output_type": "stream",
     "text": [
      "IMDb reviews (combined): train = 25000, test = 25000\n"
     ]
    }
   ],
   "source": [
    "train_X, test_X, train_y, test_y = prepare_imdb_data(data, labels)\n",
    "print(\"IMDb reviews (combined): train = {}, test = {}\".format(len(train_X), len(test_X)))"
   ]
  },
  {
   "cell_type": "markdown",
   "metadata": {},
   "source": [
    "Now that we have our training and testing sets unified and prepared, we should do a quick check and see an example of the data our model will be trained on. This is generally a good idea as it allows you to see how each of the further processing steps affects the reviews and it also ensures that the data has been loaded correctly."
   ]
  },
  {
   "cell_type": "code",
   "execution_count": 10,
   "metadata": {},
   "outputs": [
    {
     "name": "stdout",
     "output_type": "stream",
     "text": [
      "This is an absurdist dark comedy from Belgium. Shot perfectly in crisp black and white, Benoît Poelvoorde (Man Bites Dog) is on fine form as Roger, the angry, obsessive father of a family in a small, sullen Belgian mining town. Roger is a photographer who, along with his young daughter Luise, visits road accidents to take photos. He is also obsessed with winning a car by entering a competition where the contestant has to break a record - and he decides that his son, Michel, must attempt to break the record of perpetually walking through a door - he even hires an overweight coach to train him. Michel dresses as Elvis and has a spot on a radio show called 'Cinema Lies', where he describes mistakes in films. Luise is friendly with near neighbour Felix, a pigeon fancier. Roger is a callous figure as he pushes Michel right over the limit during the record attempt, which almost results in his death. Interspersed throughout the film are Magritte-like surreal images. It's undeniably charming and well worth your time.\n",
      "1\n"
     ]
    }
   ],
   "source": [
    "print(train_X[100])\n",
    "print(train_y[100])"
   ]
  },
  {
   "cell_type": "markdown",
   "metadata": {},
   "source": [
    "The first step in processing the reviews is to make sure that any html tags that appear should be removed. In addition we wish to tokenize our input, that way words such as *entertained* and *entertaining* are considered the same with regard to sentiment analysis."
   ]
  },
  {
   "cell_type": "code",
   "execution_count": 11,
   "metadata": {},
   "outputs": [],
   "source": [
    "import nltk\n",
    "from nltk.corpus import stopwords\n",
    "from nltk.stem.porter import *\n",
    "\n",
    "import re\n",
    "from bs4 import BeautifulSoup\n",
    "\n",
    "def review_to_words(review):\n",
    "    nltk.download(\"stopwords\", quiet=True)\n",
    "    stemmer = PorterStemmer()\n",
    "    \n",
    "    text = BeautifulSoup(review, \"html.parser\").get_text() # Remove HTML tags\n",
    "    text = re.sub(r\"[^a-zA-Z0-9]\", \" \", text.lower()) # Convert to lower case\n",
    "    words = text.split() # Split string into words\n",
    "    words = [w for w in words if w not in stopwords.words(\"english\")] # Remove stopwords\n",
    "    words = [PorterStemmer().stem(w) for w in words] # stem\n",
    "    \n",
    "    return words"
   ]
  },
  {
   "cell_type": "markdown",
   "metadata": {},
   "source": [
    "The `review_to_words` method defined above uses `BeautifulSoup` to remove any html tags that appear and uses the `nltk` package to tokenize the reviews. As a check to ensure we know how everything is working, try applying `review_to_words` to one of the reviews in the training set."
   ]
  },
  {
   "cell_type": "code",
   "execution_count": 12,
   "metadata": {},
   "outputs": [
    {
     "data": {
      "text/plain": [
       "['movi',\n",
       " 'maker',\n",
       " 'even',\n",
       " 'preview',\n",
       " 'releas',\n",
       " 'script',\n",
       " 'jump',\n",
       " 'place',\n",
       " 'place',\n",
       " 'without',\n",
       " 'give',\n",
       " 'much',\n",
       " 'explan',\n",
       " 'begin',\n",
       " 'clarifi',\n",
       " 'prequel',\n",
       " 'start',\n",
       " 'superman',\n",
       " 'begin',\n",
       " 'earth',\n",
       " 'jump',\n",
       " 'point',\n",
       " 'last',\n",
       " 'movi',\n",
       " 'realli',\n",
       " 'alert',\n",
       " 'viewer',\n",
       " 'confus',\n",
       " 'superman',\n",
       " 'weak',\n",
       " 'need',\n",
       " 'prozac',\n",
       " 'portray',\n",
       " 'potenti',\n",
       " 'home',\n",
       " 'wrecker',\n",
       " 'stalker',\n",
       " 'someon',\n",
       " 'clearli',\n",
       " 'depress',\n",
       " 'confus',\n",
       " 'type',\n",
       " 'charact',\n",
       " 'rare',\n",
       " 'make',\n",
       " 'interest',\n",
       " 'hero',\n",
       " 'end',\n",
       " 'absolut',\n",
       " 'ridicul',\n",
       " 'superman',\n",
       " 'end',\n",
       " 'hospit',\n",
       " 'made',\n",
       " 'want',\n",
       " 'kill',\n",
       " 'serious',\n",
       " 'wait',\n",
       " 'snl',\n",
       " 'skit',\n",
       " 'superman',\n",
       " 'appear',\n",
       " 'mauri',\n",
       " 'povich',\n",
       " 'mauri',\n",
       " 'say',\n",
       " 'result',\n",
       " 'case',\n",
       " 'child',\n",
       " 'superman',\n",
       " 'father',\n",
       " 'sum',\n",
       " 'ok',\n",
       " 'act',\n",
       " 'superman',\n",
       " 'kevin',\n",
       " 'spacey',\n",
       " 'horribl',\n",
       " 'script',\n",
       " 'movi',\n",
       " 'basic',\n",
       " 'unwatch']"
      ]
     },
     "execution_count": 12,
     "metadata": {},
     "output_type": "execute_result"
    }
   ],
   "source": [
    "# TODO: Apply review_to_words to a review (train_X[100] or any other review)\n",
    "review_to_words(train_X[25])"
   ]
  },
  {
   "cell_type": "markdown",
   "metadata": {},
   "source": [
    "**Question:** Above we mentioned that `review_to_words` method removes html formatting and allows us to tokenize the words found in a review, for example, converting *entertained* and *entertaining* into *entertain* so that they are treated as though they are the same word. What else, if anything, does this method do to the input?"
   ]
  },
  {
   "cell_type": "markdown",
   "metadata": {},
   "source": [
    "**Answer:** Converts the text to lowercase, removes stopwords, stems the text"
   ]
  },
  {
   "cell_type": "markdown",
   "metadata": {},
   "source": [
    "The method below applies the `review_to_words` method to each of the reviews in the training and testing datasets. In addition it caches the results. This is because performing this processing step can take a long time. This way if you are unable to complete the notebook in the current session, you can come back without needing to process the data a second time."
   ]
  },
  {
   "cell_type": "code",
   "execution_count": 13,
   "metadata": {},
   "outputs": [],
   "source": [
    "import pickle\n",
    "\n",
    "cache_dir = os.path.join(\"../cache\", \"sentiment_analysis\")  # where to store cache files\n",
    "os.makedirs(cache_dir, exist_ok=True)  # ensure cache directory exists\n",
    "\n",
    "def preprocess_data(data_train, data_test, labels_train, labels_test,\n",
    "                    cache_dir=cache_dir, cache_file=\"preprocessed_data.pkl\"):\n",
    "    \"\"\"Convert each review to words; read from cache if available.\"\"\"\n",
    "\n",
    "    # If cache_file is not None, try to read from it first\n",
    "    cache_data = None\n",
    "    if cache_file is not None:\n",
    "        try:\n",
    "            with open(os.path.join(cache_dir, cache_file), \"rb\") as f:\n",
    "                cache_data = pickle.load(f)\n",
    "            print(\"Read preprocessed data from cache file:\", cache_file)\n",
    "        except:\n",
    "            pass  # unable to read from cache, but that's okay\n",
    "    \n",
    "    # If cache is missing, then do the heavy lifting\n",
    "    if cache_data is None:\n",
    "        # Preprocess training and test data to obtain words for each review\n",
    "        #words_train = list(map(review_to_words, data_train))\n",
    "        #words_test = list(map(review_to_words, data_test))\n",
    "        words_train = [review_to_words(review) for review in data_train]\n",
    "        words_test = [review_to_words(review) for review in data_test]\n",
    "        \n",
    "        # Write to cache file for future runs\n",
    "        if cache_file is not None:\n",
    "            cache_data = dict(words_train=words_train, words_test=words_test,\n",
    "                              labels_train=labels_train, labels_test=labels_test)\n",
    "            with open(os.path.join(cache_dir, cache_file), \"wb\") as f:\n",
    "                pickle.dump(cache_data, f)\n",
    "            print(\"Wrote preprocessed data to cache file:\", cache_file)\n",
    "    else:\n",
    "        # Unpack data loaded from cache file\n",
    "        words_train, words_test, labels_train, labels_test = (cache_data['words_train'],\n",
    "                cache_data['words_test'], cache_data['labels_train'], cache_data['labels_test'])\n",
    "    \n",
    "    return words_train, words_test, labels_train, labels_test"
   ]
  },
  {
   "cell_type": "code",
   "execution_count": 14,
   "metadata": {},
   "outputs": [],
   "source": [
    "# Preprocess data\n",
    "#train_X, test_X, train_y, test_y = preprocess_data(train_X, test_X, train_y, test_y)"
   ]
  },
  {
   "cell_type": "markdown",
   "metadata": {},
   "source": [
    "## Transform the data\n",
    "\n",
    "In the XGBoost notebook we transformed the data from its word representation to a bag-of-words feature representation. For the model we are going to construct in this notebook we will construct a feature representation which is very similar. To start, we will represent each word as an integer. Of course, some of the words that appear in the reviews occur very infrequently and so likely don't contain much information for the purposes of sentiment analysis. The way we will deal with this problem is that we will fix the size of our working vocabulary and we will only include the words that appear most frequently. We will then combine all of the infrequent words into a single category and, in our case, we will label it as `1`.\n",
    "\n",
    "Since we will be using a recurrent neural network, it will be convenient if the length of each review is the same. To do this, we will fix a size for our reviews and then pad short reviews with the category 'no word' (which we will label `0`) and truncate long reviews."
   ]
  },
  {
   "cell_type": "markdown",
   "metadata": {},
   "source": [
    "### (TODO) Create a word dictionary\n",
    "\n",
    "To begin with, we need to construct a way to map words that appear in the reviews to integers. Here we fix the size of our vocabulary (including the 'no word' and 'infrequent' categories) to be `5000` but you may wish to change this to see how it affects the model.\n",
    "\n",
    "> **TODO:** Complete the implementation for the `build_dict()` method below. Note that even though the vocab_size is set to `5000`, we only want to construct a mapping for the most frequently appearing `4998` words. This is because we want to reserve the special labels `0` for 'no word' and `1` for 'infrequent word'."
   ]
  },
  {
   "cell_type": "code",
   "execution_count": 15,
   "metadata": {},
   "outputs": [],
   "source": [
    "import numpy as np\n",
    "from collections import Counter\n",
    "\n",
    "def build_dict(data, vocab_size = 5000):\n",
    "    \"\"\"Construct and return a dictionary mapping each of the most frequently appearing words to a unique integer.\"\"\"\n",
    "    \n",
    "    # TODO: Determine how often each word appears in `data`. Note that `data` is a list of sentences and that a\n",
    "    #       sentence is a list of words.\n",
    "\n",
    "    cnt = Counter()\n",
    "    \n",
    "    #for index in range(len(data)):\n",
    "    for review in data:\n",
    "        words = review_to_words(review)\n",
    "        for word in words:\n",
    "            cnt[word] += 1\n",
    "    \n",
    "    word_count = dict(cnt) #cnt.most_common() # A dict storing the words that appear in the reviews along with how often they occur\n",
    "    #print(word_count)\n",
    "    #print(\"\\n\")\n",
    "    \n",
    "    # TODO: Sort the words found in `data` so that sorted_words[0] is the most frequently appearing word and\n",
    "    #       sorted_words[-1] is the least frequently appearing word.\n",
    "    \n",
    "    sorted_words = sorted(word_count, key=word_count.get, reverse=True)\n",
    "    #print(sorted_words)\n",
    "    \n",
    "    word_dict = {} # This is what we are building, a dictionary that translates words into integers\n",
    "    for idx, word in enumerate(sorted_words[:vocab_size - 2]): # The -2 is so that we save room for the 'no word'\n",
    "        word_dict[word] = idx + 2                              # 'infrequent' labels\n",
    "        \n",
    "    return word_dict"
   ]
  },
  {
   "cell_type": "code",
   "execution_count": 16,
   "metadata": {},
   "outputs": [],
   "source": [
    "word_dict = build_dict(train_X)"
   ]
  },
  {
   "cell_type": "markdown",
   "metadata": {},
   "source": [
    "**Question:** What are the five most frequently appearing (tokenized) words in the training set? Does it makes sense that these words appear frequently in the training set?"
   ]
  },
  {
   "cell_type": "markdown",
   "metadata": {},
   "source": [
    "**Answer:** movi, film, one, like, time. Since these are pretty generic words, it makes sense that they are so common in the training set."
   ]
  },
  {
   "cell_type": "code",
   "execution_count": 17,
   "metadata": {},
   "outputs": [
    {
     "name": "stdout",
     "output_type": "stream",
     "text": [
      "{'movi': 2, 'film': 3, 'one': 4, 'like': 5, 'time': 6, 'good': 7, 'make': 8, 'charact': 9, 'get': 10, 'see': 11, 'watch': 12, 'stori': 13, 'even': 14, 'would': 15, 'realli': 16, 'well': 17, 'scene': 18, 'look': 19, 'show': 20, 'much': 21, 'end': 22, 'peopl': 23, 'bad': 24, 'go': 25, 'great': 26, 'also': 27, 'first': 28, 'love': 29, 'think': 30, 'way': 31, 'act': 32, 'play': 33, 'made': 34, 'thing': 35, 'could': 36, 'know': 37, 'say': 38, 'seem': 39, 'work': 40, 'plot': 41, 'two': 42, 'actor': 43, 'year': 44, 'come': 45, 'mani': 46, 'seen': 47, 'take': 48, 'life': 49, 'want': 50, 'never': 51, 'littl': 52, 'best': 53, 'tri': 54, 'man': 55, 'ever': 56, 'give': 57, 'better': 58, 'still': 59, 'perform': 60, 'find': 61, 'feel': 62, 'part': 63, 'back': 64, 'use': 65, 'someth': 66, 'director': 67, 'actual': 68, 'interest': 69, 'lot': 70, 'real': 71, 'old': 72, 'cast': 73, 'though': 74, 'live': 75, 'star': 76, 'enjoy': 77, 'guy': 78, 'anoth': 79, 'new': 80, 'role': 81, 'noth': 82, '10': 83, 'funni': 84, 'music': 85, 'point': 86, 'start': 87, 'set': 88, 'girl': 89, 'origin': 90, 'day': 91, 'world': 92, 'everi': 93, 'believ': 94, 'turn': 95, 'quit': 96, 'direct': 97, 'us': 98, 'thought': 99, 'fact': 100, 'minut': 101, 'horror': 102, 'kill': 103, 'action': 104, 'comedi': 105, 'pretti': 106, 'young': 107, 'wonder': 108, 'happen': 109, 'around': 110, 'got': 111, 'effect': 112, 'right': 113, 'long': 114, 'howev': 115, 'big': 116, 'line': 117, 'famili': 118, 'enough': 119, 'seri': 120, 'may': 121, 'need': 122, 'fan': 123, 'bit': 124, 'script': 125, 'beauti': 126, 'person': 127, 'becom': 128, 'without': 129, 'must': 130, 'alway': 131, 'friend': 132, 'tell': 133, 'reason': 134, 'saw': 135, 'last': 136, 'final': 137, 'kid': 138, 'almost': 139, 'put': 140, 'least': 141, 'sure': 142, 'done': 143, 'whole': 144, 'place': 145, 'complet': 146, 'kind': 147, 'expect': 148, 'differ': 149, 'shot': 150, 'far': 151, 'mean': 152, 'anyth': 153, 'book': 154, 'laugh': 155, 'might': 156, 'name': 157, 'sinc': 158, 'begin': 159, '2': 160, 'probabl': 161, 'woman': 162, 'help': 163, 'entertain': 164, 'let': 165, 'screen': 166, 'call': 167, 'tv': 168, 'moment': 169, 'away': 170, 'read': 171, 'yet': 172, 'rather': 173, 'worst': 174, 'run': 175, 'fun': 176, 'lead': 177, 'hard': 178, 'audienc': 179, 'idea': 180, 'anyon': 181, 'episod': 182, 'american': 183, 'found': 184, 'appear': 185, 'bore': 186, 'especi': 187, 'although': 188, 'hope': 189, 'cours': 190, 'keep': 191, 'anim': 192, 'job': 193, 'goe': 194, 'move': 195, 'sens': 196, 'dvd': 197, 'version': 198, 'war': 199, 'money': 200, 'someon': 201, 'mind': 202, 'mayb': 203, 'problem': 204, 'true': 205, 'hous': 206, 'everyth': 207, 'nice': 208, 'second': 209, 'rate': 210, 'three': 211, 'night': 212, 'follow': 213, 'face': 214, 'recommend': 215, 'main': 216, 'product': 217, 'worth': 218, 'leav': 219, 'human': 220, 'special': 221, 'excel': 222, 'togeth': 223, 'wast': 224, 'everyon': 225, 'sound': 226, 'john': 227, 'hand': 228, '1': 229, 'father': 230, 'later': 231, 'eye': 232, 'said': 233, 'view': 234, 'instead': 235, 'review': 236, 'boy': 237, 'high': 238, 'hour': 239, 'miss': 240, 'classic': 241, 'talk': 242, 'wife': 243, 'understand': 244, 'left': 245, 'care': 246, 'black': 247, 'death': 248, 'open': 249, 'murder': 250, 'write': 251, 'half': 252, 'head': 253, 'rememb': 254, 'chang': 255, 'viewer': 256, 'fight': 257, 'gener': 258, 'surpris': 259, 'includ': 260, 'short': 261, 'die': 262, 'fall': 263, 'less': 264, 'els': 265, 'entir': 266, 'piec': 267, 'involv': 268, 'pictur': 269, 'simpli': 270, 'home': 271, 'top': 272, 'power': 273, 'total': 274, 'usual': 275, 'budget': 276, 'attempt': 277, 'suppos': 278, 'releas': 279, 'hollywood': 280, 'terribl': 281, 'song': 282, 'men': 283, 'possibl': 284, 'featur': 285, 'portray': 286, 'disappoint': 287, 'poor': 288, '3': 289, 'coupl': 290, 'stupid': 291, 'camera': 292, 'dead': 293, 'wrong': 294, 'produc': 295, 'low': 296, 'video': 297, 'either': 298, 'aw': 299, 'definit': 300, 'except': 301, 'rest': 302, 'given': 303, 'absolut': 304, 'women': 305, 'lack': 306, 'word': 307, 'writer': 308, 'titl': 309, 'talent': 310, 'decid': 311, 'full': 312, 'perfect': 313, 'along': 314, 'style': 315, 'close': 316, 'truli': 317, 'school': 318, 'save': 319, 'emot': 320, 'age': 321, 'sex': 322, 'next': 323, 'bring': 324, 'mr': 325, 'case': 326, 'killer': 327, 'heart': 328, 'comment': 329, 'sort': 330, 'creat': 331, 'perhap': 332, 'came': 333, 'brother': 334, 'sever': 335, 'joke': 336, 'art': 337, 'dialogu': 338, 'game': 339, 'small': 340, 'base': 341, 'flick': 342, 'written': 343, 'sequenc': 344, 'meet': 345, 'earli': 346, 'often': 347, 'other': 348, 'mother': 349, 'develop': 350, 'humor': 351, 'actress': 352, 'consid': 353, 'dark': 354, 'guess': 355, 'amaz': 356, 'unfortun': 357, 'light': 358, 'lost': 359, 'exampl': 360, 'cinema': 361, 'drama': 362, 'white': 363, 'ye': 364, 'experi': 365, 'imagin': 366, 'mention': 367, 'stop': 368, 'natur': 369, 'forc': 370, 'manag': 371, 'felt': 372, 'present': 373, 'cut': 374, 'children': 375, 'fail': 376, 'son': 377, 'support': 378, 'car': 379, 'qualiti': 380, 'ask': 381, 'hit': 382, 'side': 383, 'voic': 384, 'extrem': 385, 'impress': 386, 'wors': 387, 'evil': 388, 'went': 389, 'stand': 390, 'certainli': 391, 'basic': 392, 'oh': 393, 'overal': 394, 'favorit': 395, 'horribl': 396, 'mysteri': 397, 'number': 398, 'type': 399, 'danc': 400, 'wait': 401, 'hero': 402, 'alreadi': 403, '5': 404, 'learn': 405, 'matter': 406, '4': 407, 'michael': 408, 'genr': 409, 'fine': 410, 'despit': 411, 'throughout': 412, 'walk': 413, 'success': 414, 'histori': 415, 'question': 416, 'zombi': 417, 'town': 418, 'realiz': 419, 'relationship': 420, 'child': 421, 'past': 422, 'daughter': 423, 'late': 424, 'b': 425, 'wish': 426, 'credit': 427, 'hate': 428, 'event': 429, 'theme': 430, 'touch': 431, 'citi': 432, 'today': 433, 'sometim': 434, 'behind': 435, 'god': 436, 'twist': 437, 'sit': 438, 'stay': 439, 'deal': 440, 'annoy': 441, 'abl': 442, 'rent': 443, 'pleas': 444, 'edit': 445, 'blood': 446, 'deserv': 447, 'anyway': 448, 'comic': 449, 'appar': 450, 'soon': 451, 'gave': 452, 'etc': 453, 'level': 454, 'slow': 455, 'chanc': 456, 'score': 457, 'bodi': 458, 'brilliant': 459, 'incred': 460, 'figur': 461, 'situat': 462, 'major': 463, 'self': 464, 'stuff': 465, 'decent': 466, 'element': 467, 'return': 468, 'dream': 469, 'obvious': 470, 'order': 471, 'continu': 472, 'pace': 473, 'ridicul': 474, 'happi': 475, 'add': 476, 'group': 477, 'highli': 478, 'thank': 479, 'ladi': 480, 'novel': 481, 'pain': 482, 'speak': 483, 'career': 484, 'shoot': 485, 'strang': 486, 'heard': 487, 'sad': 488, 'polic': 489, 'husband': 490, 'import': 491, 'break': 492, 'took': 493, 'strong': 494, 'cannot': 495, 'robert': 496, 'predict': 497, 'violenc': 498, 'hilari': 499, 'recent': 500, 'countri': 501, 'known': 502, 'particularli': 503, 'pick': 504, 'documentari': 505, 'season': 506, 'critic': 507, 'jame': 508, 'compar': 509, 'obviou': 510, 'alon': 511, 'told': 512, 'state': 513, 'rock': 514, 'visual': 515, 'offer': 516, 'theater': 517, 'exist': 518, 'opinion': 519, 'gore': 520, 'crap': 521, 'hold': 522, 'result': 523, 'hear': 524, 'realiti': 525, 'room': 526, 'clich': 527, 'effort': 528, 'thriller': 529, 'caus': 530, 'serious': 531, 'sequel': 532, 'explain': 533, 'king': 534, 'local': 535, 'ago': 536, 'hell': 537, 'none': 538, 'note': 539, 'allow': 540, 'sister': 541, 'david': 542, 'simpl': 543, 'femal': 544, 'deliv': 545, 'ok': 546, 'convinc': 547, 'class': 548, 'check': 549, 'suspens': 550, 'win': 551, 'buy': 552, 'oscar': 553, 'huge': 554, 'valu': 555, 'sexual': 556, 'cool': 557, 'scari': 558, 'excit': 559, 'similar': 560, 'apart': 561, 'exactli': 562, 'provid': 563, 'shown': 564, 'avoid': 565, 'seriou': 566, 'english': 567, 'taken': 568, 'whose': 569, 'cinematographi': 570, 'shock': 571, 'polit': 572, 'spoiler': 573, 'offic': 574, 'across': 575, 'middl': 576, 'pass': 577, 'street': 578, 'messag': 579, 'silli': 580, 'charm': 581, 'somewhat': 582, 'modern': 583, 'filmmak': 584, 'confus': 585, 'form': 586, 'tale': 587, 'singl': 588, 'jack': 589, 'mostli': 590, 'attent': 591, 'carri': 592, 'william': 593, 'sing': 594, 'subject': 595, 'five': 596, 'prove': 597, 'richard': 598, 'team': 599, 'stage': 600, 'unlik': 601, 'cop': 602, 'georg': 603, 'monster': 604, 'televis': 605, 'earth': 606, 'cover': 607, 'villain': 608, 'pay': 609, 'marri': 610, 'toward': 611, 'build': 612, 'parent': 613, 'pull': 614, 'due': 615, 'respect': 616, 'fill': 617, 'dialog': 618, 'four': 619, 'remind': 620, 'futur': 621, 'typic': 622, 'weak': 623, '7': 624, 'cheap': 625, 'intellig': 626, 'atmospher': 627, 'british': 628, 'clearli': 629, '80': 630, 'paul': 631, 'non': 632, 'dog': 633, 'artist': 634, '8': 635, 'knew': 636, 'fast': 637, 'crime': 638, 'easili': 639, 'escap': 640, 'adult': 641, 'doubt': 642, 'detail': 643, 'date': 644, 'member': 645, 'fire': 646, 'romant': 647, 'gun': 648, 'drive': 649, 'straight': 650, 'beyond': 651, 'fit': 652, 'attack': 653, 'imag': 654, 'upon': 655, 'posit': 656, 'whether': 657, 'fantast': 658, 'peter': 659, 'captur': 660, 'appreci': 661, 'aspect': 662, 'ten': 663, 'plan': 664, 'discov': 665, 'remain': 666, 'period': 667, 'near': 668, 'realist': 669, 'air': 670, 'mark': 671, 'red': 672, 'dull': 673, 'adapt': 674, 'within': 675, 'spend': 676, 'lose': 677, 'color': 678, 'materi': 679, 'chase': 680, 'mari': 681, 'storylin': 682, 'forget': 683, 'bunch': 684, 'clear': 685, 'lee': 686, 'victim': 687, 'nearli': 688, 'box': 689, 'york': 690, 'inspir': 691, 'match': 692, 'mess': 693, 'finish': 694, 'standard': 695, 'easi': 696, 'truth': 697, 'busi': 698, 'suffer': 699, 'space': 700, 'dramat': 701, 'bill': 702, 'western': 703, 'e': 704, 'list': 705, 'battl': 706, 'notic': 707, 'de': 708, 'french': 709, 'ad': 710, '9': 711, 'tom': 712, 'larg': 713, 'among': 714, 'eventu': 715, 'accept': 716, 'train': 717, 'agre': 718, 'soundtrack': 719, 'spirit': 720, 'third': 721, 'teenag': 722, 'adventur': 723, 'soldier': 724, 'famou': 725, 'suggest': 726, 'drug': 727, 'sorri': 728, 'normal': 729, 'babi': 730, 'cri': 731, 'ultim': 732, 'troubl': 733, 'contain': 734, 'certain': 735, 'cultur': 736, 'romanc': 737, 'rare': 738, 'lame': 739, 'somehow': 740, 'disney': 741, 'mix': 742, 'gone': 743, 'cartoon': 744, 'student': 745, 'fear': 746, 'reveal': 747, 'suck': 748, 'kept': 749, 'attract': 750, 'appeal': 751, 'premis': 752, 'greatest': 753, 'secret': 754, 'design': 755, 'shame': 756, 'throw': 757, 'scare': 758, 'copi': 759, 'wit': 760, 'america': 761, 'admit': 762, 'particular': 763, 'relat': 764, 'brought': 765, 'screenplay': 766, 'whatev': 767, 'pure': 768, '70': 769, 'averag': 770, 'harri': 771, 'master': 772, 'describ': 773, 'treat': 774, 'male': 775, '20': 776, 'fantasi': 777, 'issu': 778, 'warn': 779, 'inde': 780, 'background': 781, 'forward': 782, 'project': 783, 'free': 784, 'japanes': 785, 'memor': 786, 'poorli': 787, 'award': 788, 'locat': 789, 'amus': 790, 'potenti': 791, 'struggl': 792, 'magic': 793, 'weird': 794, 'societi': 795, 'okay': 796, 'imdb': 797, 'doctor': 798, 'accent': 799, 'water': 800, 'hot': 801, '30': 802, 'express': 803, 'dr': 804, 'alien': 805, 'odd': 806, 'choic': 807, 'crazi': 808, 'fiction': 809, 'studio': 810, 'becam': 811, 'control': 812, 'masterpiec': 813, 'difficult': 814, 'fli': 815, 'joe': 816, 'scream': 817, 'costum': 818, 'lover': 819, 'uniqu': 820, 'refer': 821, 'remak': 822, 'girlfriend': 823, 'vampir': 824, 'prison': 825, 'execut': 826, 'wear': 827, 'jump': 828, 'wood': 829, 'unless': 830, 'creepi': 831, 'cheesi': 832, 'superb': 833, 'otherwis': 834, 'parti': 835, 'ghost': 836, 'roll': 837, 'mad': 838, 'public': 839, 'depict': 840, 'week': 841, 'earlier': 842, 'moral': 843, 'badli': 844, 'jane': 845, 'fi': 846, 'dumb': 847, 'grow': 848, 'flaw': 849, 'deep': 850, 'sci': 851, 'maker': 852, 'cat': 853, 'connect': 854, 'older': 855, 'footag': 856, 'plenti': 857, 'bother': 858, 'outsid': 859, 'stick': 860, 'gay': 861, 'catch': 862, 'co': 863, 'plu': 864, 'popular': 865, 'equal': 866, 'social': 867, 'disturb': 868, 'quickli': 869, 'perfectli': 870, 'dress': 871, '90': 872, 'era': 873, 'mistak': 874, 'lie': 875, 'ride': 876, 'previou': 877, 'combin': 878, 'band': 879, 'concept': 880, 'rich': 881, 'answer': 882, 'surviv': 883, 'front': 884, 'sweet': 885, 'christma': 886, 'insid': 887, 'concern': 888, 'bare': 889, 'eat': 890, 'ben': 891, 'listen': 892, 'beat': 893, 'c': 894, 'serv': 895, 'term': 896, 'meant': 897, 'german': 898, 'la': 899, 'hardli': 900, 'stereotyp': 901, 'innoc': 902, 'law': 903, 'desper': 904, 'memori': 905, 'promis': 906, 'cute': 907, 'intent': 908, 'inform': 909, 'variou': 910, 'steal': 911, 'brain': 912, 'post': 913, 'tone': 914, 'island': 915, 'amount': 916, 'track': 917, 'compani': 918, 'nuditi': 919, 'store': 920, 'claim': 921, 'hair': 922, '50': 923, 'flat': 924, 'univers': 925, 'land': 926, 'scott': 927, 'kick': 928, 'fairli': 929, 'danger': 930, 'player': 931, 'step': 932, 'plain': 933, 'crew': 934, 'toni': 935, 'share': 936, 'centuri': 937, 'tast': 938, 'achiev': 939, 'engag': 940, 'travel': 941, 'cold': 942, 'rip': 943, 'suit': 944, 'record': 945, 'manner': 946, 'sadli': 947, 'wrote': 948, 'spot': 949, 'tension': 950, 'intens': 951, 'fascin': 952, 'familiar': 953, 'remark': 954, 'depth': 955, 'burn': 956, 'destroy': 957, 'histor': 958, 'sleep': 959, 'purpos': 960, 'languag': 961, 'ruin': 962, 'ignor': 963, 'delight': 964, 'unbeliev': 965, 'italian': 966, 'collect': 967, 'soul': 968, 'abil': 969, 'detect': 970, 'clever': 971, 'violent': 972, 'rape': 973, 'reach': 974, 'door': 975, 'trash': 976, 'scienc': 977, 'liter': 978, 'reveng': 979, 'caught': 980, 'commun': 981, 'creatur': 982, 'approach': 983, 'trip': 984, 'intrigu': 985, 'fashion': 986, 'paint': 987, 'skill': 988, 'introduc': 989, 'complex': 990, 'channel': 991, 'camp': 992, 'christian': 993, 'extra': 994, 'hole': 995, 'limit': 996, 'immedi': 997, 'ann': 998, 'mental': 999, 'mere': 1000, 'slightli': 1001, '6': 1002, 'comput': 1003, 'million': 1004, 'slasher': 1005, 'conclus': 1006, 'imposs': 1007, 'suddenli': 1008, 'neither': 1009, 'crimin': 1010, 'teen': 1011, 'nation': 1012, 'physic': 1013, 'spent': 1014, 'respons': 1015, 'planet': 1016, 'fake': 1017, 'receiv': 1018, 'blue': 1019, 'sick': 1020, 'bizarr': 1021, 'embarrass': 1022, 'indian': 1023, 'ring': 1024, '15': 1025, 'drop': 1026, 'pop': 1027, 'drag': 1028, 'haunt': 1029, 'suspect': 1030, 'pointless': 1031, 'edg': 1032, 'search': 1033, 'handl': 1034, 'biggest': 1035, 'common': 1036, 'hurt': 1037, 'faith': 1038, 'arriv': 1039, 'technic': 1040, 'angel': 1041, 'genuin': 1042, 'dad': 1043, 'awesom': 1044, 'f': 1045, 'solid': 1046, 'focu': 1047, 'former': 1048, 'colleg': 1049, 'van': 1050, 'count': 1051, 'tear': 1052, 'heavi': 1053, 'wall': 1054, 'rais': 1055, 'younger': 1056, 'visit': 1057, 'laughabl': 1058, 'sign': 1059, 'fair': 1060, 'excus': 1061, 'cult': 1062, 'tough': 1063, 'key': 1064, 'motion': 1065, 'super': 1066, 'desir': 1067, 'addit': 1068, 'stun': 1069, 'cloth': 1070, 'exploit': 1071, 'smith': 1072, 'tortur': 1073, 'davi': 1074, 'race': 1075, 'author': 1076, 'cross': 1077, 'jim': 1078, 'compel': 1079, 'focus': 1080, 'consist': 1081, 'minor': 1082, 'chemistri': 1083, 'pathet': 1084, 'commit': 1085, 'park': 1086, 'tradit': 1087, 'frank': 1088, 'obsess': 1089, 'grade': 1090, 'asid': 1091, '60': 1092, 'brutal': 1093, 'steve': 1094, 'somewher': 1095, 'u': 1096, 'depress': 1097, 'rule': 1098, 'opportun': 1099, 'explor': 1100, 'grant': 1101, 'honest': 1102, 'besid': 1103, 'anti': 1104, 'dub': 1105, 'intend': 1106, 'trailer': 1107, 'bar': 1108, 'longer': 1109, 'regard': 1110, 'scientist': 1111, 'west': 1112, 'judg': 1113, 'decad': 1114, 'silent': 1115, 'armi': 1116, 'creativ': 1117, 'wild': 1118, 'stewart': 1119, 'g': 1120, 'south': 1121, 'draw': 1122, 'road': 1123, 'govern': 1124, 'boss': 1125, 'ex': 1126, 'practic': 1127, 'club': 1128, 'surprisingli': 1129, 'festiv': 1130, 'motiv': 1131, 'gang': 1132, 'redeem': 1133, 'london': 1134, 'green': 1135, 'page': 1136, 'aliv': 1137, 'idiot': 1138, 'display': 1139, 'militari': 1140, 'machin': 1141, 'thrill': 1142, 'repeat': 1143, 'nobodi': 1144, 'folk': 1145, '100': 1146, 'yeah': 1147, '40': 1148, 'journey': 1149, 'garbag': 1150, 'smile': 1151, 'tire': 1152, 'ground': 1153, 'bought': 1154, 'mood': 1155, 'cost': 1156, 'stone': 1157, 'sam': 1158, 'noir': 1159, 'mouth': 1160, 'agent': 1161, 'terrif': 1162, 'requir': 1163, 'utterli': 1164, 'sexi': 1165, 'area': 1166, 'honestli': 1167, 'report': 1168, 'geniu': 1169, 'enter': 1170, 'investig': 1171, 'humour': 1172, 'glad': 1173, 'serial': 1174, 'narr': 1175, 'passion': 1176, 'occasion': 1177, 'climax': 1178, 'marriag': 1179, 'studi': 1180, 'industri': 1181, 'center': 1182, 'charli': 1183, 'nowher': 1184, 'ship': 1185, 'demon': 1186, 'loos': 1187, 'bear': 1188, 'hors': 1189, 'wow': 1190, 'hang': 1191, 'graphic': 1192, 'giant': 1193, 'admir': 1194, 'send': 1195, 'loud': 1196, 'damn': 1197, 'subtl': 1198, 'rel': 1199, 'profession': 1200, 'nake': 1201, 'blow': 1202, 'bottom': 1203, 'insult': 1204, 'batman': 1205, 'r': 1206, 'kelli': 1207, 'doubl': 1208, 'boyfriend': 1209, 'initi': 1210, 'frame': 1211, 'gem': 1212, 'opera': 1213, 'church': 1214, 'cinemat': 1215, 'drawn': 1216, 'challeng': 1217, 'affect': 1218, 'j': 1219, 'fulli': 1220, 'nightmar': 1221, 'l': 1222, 'evid': 1223, 'seek': 1224, 'conflict': 1225, 'essenti': 1226, 'arm': 1227, 'wind': 1228, 'grace': 1229, 'christoph': 1230, 'henri': 1231, 'narrat': 1232, 'witch': 1233, 'assum': 1234, 'hunt': 1235, 'push': 1236, 'chri': 1237, 'wise': 1238, 'repres': 1239, 'month': 1240, 'nomin': 1241, 'affair': 1242, 'avail': 1243, 'hide': 1244, 'sceneri': 1245, 'thu': 1246, 'justic': 1247, 'bond': 1248, 'smart': 1249, 'flashback': 1250, 'interview': 1251, 'outstand': 1252, 'presenc': 1253, 'satisfi': 1254, 'constantli': 1255, 'central': 1256, 'bed': 1257, 'iron': 1258, 'content': 1259, 'sell': 1260, 'gag': 1261, 'everybodi': 1262, 'slowli': 1263, 'hotel': 1264, 'hire': 1265, 'system': 1266, 'hey': 1267, 'thrown': 1268, 'charl': 1269, 'adam': 1270, 'individu': 1271, 'mediocr': 1272, 'jone': 1273, 'allen': 1274, 'lesson': 1275, 'ray': 1276, 'billi': 1277, 'cameo': 1278, 'photographi': 1279, 'fellow': 1280, 'pari': 1281, 'strike': 1282, 'independ': 1283, 'absurd': 1284, 'brief': 1285, 'rise': 1286, 'neg': 1287, 'impact': 1288, 'phone': 1289, 'model': 1290, 'born': 1291, 'ill': 1292, 'fresh': 1293, 'spoil': 1294, 'angl': 1295, 'likabl': 1296, 'abus': 1297, 'discuss': 1298, 'hill': 1299, 'sight': 1300, 'ahead': 1301, 'photograph': 1302, 'sent': 1303, 'logic': 1304, 'occur': 1305, 'shine': 1306, 'blame': 1307, 'mainli': 1308, 'bruce': 1309, 'forev': 1310, 'skip': 1311, 'commerci': 1312, 'held': 1313, 'segment': 1314, 'teacher': 1315, 'surround': 1316, 'zero': 1317, 'blond': 1318, 'trap': 1319, 'satir': 1320, 'resembl': 1321, 'summer': 1322, 'six': 1323, 'ball': 1324, 'queen': 1325, 'fool': 1326, 'sub': 1327, 'twice': 1328, 'tragedi': 1329, 'pack': 1330, 'reaction': 1331, 'bomb': 1332, 'hospit': 1333, 'protagonist': 1334, 'will': 1335, 'mile': 1336, 'sport': 1337, 'vote': 1338, 'mom': 1339, 'drink': 1340, 'jerri': 1341, 'trust': 1342, 'encount': 1343, 'plane': 1344, 'current': 1345, 'station': 1346, 'al': 1347, 'program': 1348, 'choos': 1349, 'celebr': 1350, 'martin': 1351, 'join': 1352, 'lord': 1353, 'field': 1354, 'favourit': 1355, 'round': 1356, 'tragic': 1357, 'vision': 1358, 'jean': 1359, 'robot': 1360, 'arthur': 1361, 'tie': 1362, 'random': 1363, 'roger': 1364, 'fortun': 1365, 'intern': 1366, 'dread': 1367, 'psycholog': 1368, 'epic': 1369, 'nonsens': 1370, 'improv': 1371, 'prefer': 1372, 'pleasur': 1373, 'highlight': 1374, 'legend': 1375, 'formula': 1376, 'tape': 1377, 'dollar': 1378, '11': 1379, 'gorgeou': 1380, 'porn': 1381, 'fox': 1382, 'wide': 1383, 'object': 1384, 'thin': 1385, 'influenc': 1386, 'buddi': 1387, 'ugli': 1388, 'prepar': 1389, 'ii': 1390, 'nasti': 1391, 'reflect': 1392, 'supposedli': 1393, 'warm': 1394, 'progress': 1395, 'worthi': 1396, 'youth': 1397, 'latter': 1398, 'unusu': 1399, 'length': 1400, 'crash': 1401, 'superior': 1402, 'shop': 1403, 'seven': 1404, 'childhood': 1405, 'theatr': 1406, 'remot': 1407, 'paid': 1408, 'funniest': 1409, 'disgust': 1410, 'pilot': 1411, 'trick': 1412, 'convers': 1413, 'fell': 1414, 'castl': 1415, 'establish': 1416, 'gangster': 1417, 'disast': 1418, 'rob': 1419, 'heaven': 1420, 'ident': 1421, 'suicid': 1422, 'mine': 1423, 'disappear': 1424, 'forgotten': 1425, 'mask': 1426, 'decis': 1427, 'heroin': 1428, 'singer': 1429, 'tend': 1430, 'partner': 1431, 'brian': 1432, 'alan': 1433, 'desert': 1434, 'recogn': 1435, 'sky': 1436, 'stuck': 1437, 'thoroughli': 1438, 'ms': 1439, 'p': 1440, 'accur': 1441, 'replac': 1442, 'market': 1443, 'eddi': 1444, 'uncl': 1445, 'commentari': 1446, 'danni': 1447, 'andi': 1448, 'seemingli': 1449, 'clue': 1450, 'devil': 1451, 'jackson': 1452, 'pair': 1453, 'that': 1454, 'therefor': 1455, 'refus': 1456, 'ed': 1457, 'fault': 1458, 'unit': 1459, 'accid': 1460, 'fate': 1461, 'river': 1462, 'tune': 1463, 'afraid': 1464, 'hidden': 1465, 'clean': 1466, 'stephen': 1467, 'russian': 1468, 'readi': 1469, 'irrit': 1470, 'quick': 1471, 'instanc': 1472, 'convey': 1473, 'captain': 1474, 'test': 1475, 'european': 1476, 'frustrat': 1477, 'insan': 1478, 'daniel': 1479, 'chines': 1480, 'rescu': 1481, 'wed': 1482, 'food': 1483, '1950': 1484, 'dirti': 1485, 'lock': 1486, 'angri': 1487, 'joy': 1488, 'price': 1489, 'steven': 1490, 'bland': 1491, 'cage': 1492, 'anymor': 1493, 'rang': 1494, 'wooden': 1495, 'news': 1496, 'n': 1497, 'rush': 1498, 'jason': 1499, 'twenti': 1500, 'worri': 1501, 'board': 1502, '12': 1503, 'martial': 1504, 'led': 1505, 'hunter': 1506, 'symbol': 1507, 'transform': 1508, 'cgi': 1509, 'onto': 1510, 'johnni': 1511, 'x': 1512, 'sentiment': 1513, 'piti': 1514, 'invent': 1515, 'process': 1516, 'attitud': 1517, 'explan': 1518, 'awar': 1519, 'owner': 1520, 'aim': 1521, 'floor': 1522, 'favor': 1523, 'energi': 1524, 'necessari': 1525, 'target': 1526, 'religi': 1527, 'opposit': 1528, 'chick': 1529, 'blind': 1530, 'insight': 1531, 'window': 1532, 'movement': 1533, 'comparison': 1534, 'research': 1535, 'possess': 1536, 'mountain': 1537, 'deepli': 1538, 'grand': 1539, 'rain': 1540, 'comed': 1541, 'whatsoev': 1542, 'shadow': 1543, 'began': 1544, 'mid': 1545, 'bank': 1546, 'princ': 1547, 'parodi': 1548, 'credibl': 1549, 'taylor': 1550, 'friendship': 1551, 'pre': 1552, 'weapon': 1553, 'teach': 1554, 'flesh': 1555, 'dougla': 1556, 'bloodi': 1557, 'terror': 1558, 'protect': 1559, 'hint': 1560, 'marvel': 1561, 'anybodi': 1562, 'watchabl': 1563, 'superman': 1564, 'drunk': 1565, 'load': 1566, 'leader': 1567, 'accord': 1568, 'brown': 1569, 'freddi': 1570, 'appropri': 1571, 'seat': 1572, 'tim': 1573, 'hitler': 1574, 'jeff': 1575, 'knock': 1576, 'charg': 1577, 'villag': 1578, 'unknown': 1579, 'keaton': 1580, 'enemi': 1581, 'unnecessari': 1582, 'england': 1583, 'empti': 1584, 'media': 1585, 'dare': 1586, 'craft': 1587, 'strength': 1588, 'utter': 1589, 'wave': 1590, 'perspect': 1591, 'buck': 1592, 'ford': 1593, 'contrast': 1594, 'nativ': 1595, 'correct': 1596, 'kiss': 1597, 'speed': 1598, 'magnific': 1599, 'soap': 1600, 'anywher': 1601, 'knowledg': 1602, 'nazi': 1603, 'chill': 1604, 'distract': 1605, 'breath': 1606, '1980': 1607, 'fred': 1608, 'mission': 1609, 'ice': 1610, 'jr': 1611, 'moon': 1612, 'crowd': 1613, 'joan': 1614, 'frighten': 1615, 'soft': 1616, '000': 1617, 'kate': 1618, 'dan': 1619, 'hundr': 1620, 'dick': 1621, 'nick': 1622, 'somebodi': 1623, 'radio': 1624, 'dozen': 1625, 'simon': 1626, 'thousand': 1627, 'academi': 1628, 'shakespear': 1629, 'loss': 1630, 'andrew': 1631, 'sum': 1632, 'root': 1633, 'quot': 1634, 'vehicl': 1635, 'account': 1636, 'leg': 1637, 'behavior': 1638, '1970': 1639, 'convent': 1640, 'gold': 1641, 'regular': 1642, 'compet': 1643, 'demand': 1644, 'pretenti': 1645, 'worker': 1646, 'stretch': 1647, 'candi': 1648, 'lynch': 1649, 'notabl': 1650, 'interpret': 1651, 'privat': 1652, 'japan': 1653, 'explos': 1654, 'debut': 1655, 'constant': 1656, 'tarzan': 1657, 'prais': 1658, 'translat': 1659, 'sea': 1660, 'spi': 1661, 'revolv': 1662, 'sat': 1663, 'failur': 1664, 'ass': 1665, 'franc': 1666, 'threaten': 1667, 'technolog': 1668, 'jesu': 1669, 'quiet': 1670, 'higher': 1671, 'punch': 1672, 'kevin': 1673, 'met': 1674, 'aid': 1675, 'toy': 1676, 'vh': 1677, 'abandon': 1678, 'mike': 1679, 'interact': 1680, 'confront': 1681, 'separ': 1682, 'command': 1683, 'bet': 1684, 'servic': 1685, 'belong': 1686, 'gotten': 1687, 'recal': 1688, 'stunt': 1689, 'techniqu': 1690, 'site': 1691, 'freak': 1692, 'cabl': 1693, 'bug': 1694, 'foot': 1695, 'african': 1696, 'jimmi': 1697, 'bright': 1698, 'capabl': 1699, 'fu': 1700, 'stock': 1701, 'boat': 1702, 'clark': 1703, 'presid': 1704, 'succeed': 1705, 'fat': 1706, 'gene': 1707, 'structur': 1708, 'spanish': 1709, 'kidnap': 1710, 'paper': 1711, 'whilst': 1712, 'factor': 1713, 'belief': 1714, 'realism': 1715, 'complic': 1716, 'realis': 1717, 'attend': 1718, 'bob': 1719, 'witti': 1720, 'educ': 1721, 'tree': 1722, 'finest': 1723, 'broken': 1724, 'assist': 1725, 'santa': 1726, 'observ': 1727, 'depart': 1728, 'up': 1729, 'smoke': 1730, 'determin': 1731, 'v': 1732, 'fame': 1733, 'lewi': 1734, 'rubbish': 1735, 'domin': 1736, 'oper': 1737, 'hat': 1738, 'routin': 1739, 'safe': 1740, 'advanc': 1741, 'lone': 1742, 'hook': 1743, 'kinda': 1744, 'foreign': 1745, 'morgan': 1746, 'numer': 1747, 'rank': 1748, 'vs': 1749, 'shallow': 1750, 'rose': 1751, 'shape': 1752, 'civil': 1753, 'washington': 1754, 'werewolf': 1755, 'morn': 1756, 'gari': 1757, 'accomplish': 1758, 'ordinari': 1759, 'winner': 1760, 'kong': 1761, 'grab': 1762, 'whenev': 1763, 'peac': 1764, 'virtual': 1765, 'luck': 1766, 'offens': 1767, 'h': 1768, 'welcom': 1769, 'bigger': 1770, 'complain': 1771, 'unfunni': 1772, 'activ': 1773, 'contriv': 1774, 'patient': 1775, 'dimension': 1776, 'pretend': 1777, 'con': 1778, 'trek': 1779, 'lesbian': 1780, 'wake': 1781, 'flash': 1782, 'eric': 1783, 'dri': 1784, 'code': 1785, 'cain': 1786, 'dancer': 1787, 'statu': 1788, 'corrupt': 1789, 'guard': 1790, 'manipul': 1791, 'albert': 1792, 'speech': 1793, 'sourc': 1794, 'gain': 1795, 'context': 1796, 'awkward': 1797, 'signific': 1798, 'clip': 1799, 'anthoni': 1800, 'sean': 1801, 'corni': 1802, '13': 1803, 'psycho': 1804, 'priest': 1805, 'reli': 1806, 'advic': 1807, 'theatric': 1808, 'religion': 1809, 'curiou': 1810, 'w': 1811, 'addict': 1812, 'flow': 1813, 'jennif': 1814, 'secur': 1815, 'howard': 1816, 'skin': 1817, 'asian': 1818, 'specif': 1819, 'comfort': 1820, 'promot': 1821, 'golden': 1822, 'core': 1823, 'organ': 1824, 'luke': 1825, 'cheat': 1826, 'lucki': 1827, 'cash': 1828, 'dislik': 1829, 'lower': 1830, 'associ': 1831, 'wing': 1832, 'spell': 1833, 'devic': 1834, 'balanc': 1835, 'frequent': 1836, 'degre': 1837, 'regret': 1838, 'contribut': 1839, 'frankli': 1840, 'forgiv': 1841, 'print': 1842, 'lake': 1843, 'sake': 1844, 'thoma': 1845, 'betti': 1846, 'mass': 1847, 'gordon': 1848, 'crack': 1849, 'unexpect': 1850, 'grown': 1851, 'amateur': 1852, 'unfold': 1853, 'depend': 1854, 'invit': 1855, 'categori': 1856, 'construct': 1857, 'anna': 1858, 'matur': 1859, 'grew': 1860, 'walter': 1861, 'honor': 1862, 'intellectu': 1863, 'condit': 1864, 'sudden': 1865, 'sole': 1866, 'spectacular': 1867, 'veteran': 1868, 'mirror': 1869, 'meanwhil': 1870, 'card': 1871, 'gift': 1872, 'freedom': 1873, 'demonstr': 1874, 'overli': 1875, 'grip': 1876, 'liner': 1877, 'experienc': 1878, 'robin': 1879, 'unabl': 1880, 'section': 1881, 'drew': 1882, 'brilliantli': 1883, 'subtitl': 1884, 'theori': 1885, 'oliv': 1886, 'circumst': 1887, 'sheriff': 1888, 'crappi': 1889, 'colour': 1890, 'sheer': 1891, 'cook': 1892, 'pile': 1893, 'parker': 1894, 'altern': 1895, 'path': 1896, 'matt': 1897, 'laughter': 1898, 'accident': 1899, 'defin': 1900, 'relief': 1901, 'wander': 1902, 'sinatra': 1903, 'hall': 1904, 'treatment': 1905, 'lawyer': 1906, 'dragon': 1907, 'captiv': 1908, 'hank': 1909, 'moor': 1910, 'halloween': 1911, 'gratuit': 1912, 'cowboy': 1913, 'wound': 1914, 'broadway': 1915, 'k': 1916, 'jacki': 1917, 'unintent': 1918, 'wayn': 1919, 'barbara': 1920, 'kung': 1921, 'spoof': 1922, 'canadian': 1923, 'surreal': 1924, 'statement': 1925, 'winter': 1926, 'fare': 1927, 'cheer': 1928, 'compos': 1929, 'gonna': 1930, 'treasur': 1931, 'fish': 1932, 'unrealist': 1933, 'victor': 1934, 'emerg': 1935, 'woodi': 1936, 'sensit': 1937, 'sympathet': 1938, 'driven': 1939, 'neighbor': 1940, 'ran': 1941, 'overlook': 1942, 'expos': 1943, 'menac': 1944, 'glass': 1945, 'authent': 1946, 'topic': 1947, 'gross': 1948, 'chief': 1949, 'michel': 1950, 'ancient': 1951, 'handsom': 1952, 'pleasant': 1953, 'contemporari': 1954, 'cinderella': 1955, 'comedian': 1956, 'feet': 1957, 'russel': 1958, 'network': 1959, 'built': 1960, 'nevertheless': 1961, 'stranger': 1962, 'underr': 1963, 'consider': 1964, 'miser': 1965, 'blockbust': 1966, 'endless': 1967, 'earn': 1968, 'letter': 1969, 'gori': 1970, 'switch': 1971, 'brook': 1972, 'solv': 1973, 'convict': 1974, 'virgin': 1975, 'bullet': 1976, 'edward': 1977, 'joseph': 1978, 'victoria': 1979, 'cynic': 1980, 'scale': 1981, 'scenario': 1982, '0': 1983, 'alex': 1984, 'chosen': 1985, 'gut': 1986, 'com': 1987, 'sword': 1988, 'outrag': 1989, 'curs': 1990, 'proper': 1991, 'screenwrit': 1992, 'wrap': 1993, 'uk': 1994, 'substanc': 1995, 'driver': 1996, 'juli': 1997, 'monkey': 1998, 'par': 1999, 'bird': 2000, 'court': 2001, 'remov': 2002, 'indic': 2003, 'consequ': 2004, 'inevit': 2005, 'loser': 2006, 'naiv': 2007, 'nanci': 2008, 'rental': 2009, 'advertis': 2010, 'grave': 2011, 'roy': 2012, 'slap': 2013, 'bridg': 2014, 'brave': 2015, 'germani': 2016, 'fatal': 2017, 'le': 2018, 'invis': 2019, 'anger': 2020, 'loui': 2021, 'footbal': 2022, 'ador': 2023, 'provok': 2024, 'anderson': 2025, 'chan': 2026, 'alcohol': 2027, 'stumbl': 2028, 'professor': 2029, 'ryan': 2030, 'willi': 2031, 'assassin': 2032, '1930': 2033, 'sharp': 2034, 'patrick': 2035, 'bat': 2036, 'australian': 2037, 'saturday': 2038, 'deni': 2039, 'heck': 2040, 'trilog': 2041, 'amateurish': 2042, 'eight': 2043, 'liber': 2044, 'lousi': 2045, 'refresh': 2046, 'strongli': 2047, 'cell': 2048, 'ape': 2049, 'sin': 2050, 'justifi': 2051, 'resid': 2052, 'vagu': 2053, 'san': 2054, 'creator': 2055, 'defeat': 2056, 'indi': 2057, 'reput': 2058, 'mini': 2059, 'terrifi': 2060, 'sympathi': 2061, 'prevent': 2062, 'tediou': 2063, 'tabl': 2064, 'expert': 2065, 'task': 2066, 'endur': 2067, 'trial': 2068, 'employ': 2069, 'basebal': 2070, 'imit': 2071, 'offend': 2072, 'rival': 2073, 'che': 2074, 'max': 2075, 'fairi': 2076, 'europ': 2077, 'complaint': 2078, 'weekend': 2079, 'beach': 2080, 'pitch': 2081, 'dig': 2082, 'purchas': 2083, 'murphi': 2084, 'format': 2085, 'risk': 2086, 'reminisc': 2087, 'tini': 2088, 'titan': 2089, 'glimps': 2090, 'bite': 2091, 'harsh': 2092, 'hype': 2093, 'nois': 2094, 'powel': 2095, 'fals': 2096, '14': 2097, 'north': 2098, 'asleep': 2099, 'till': 2100, 'strip': 2101, 'prime': 2102, 'africa': 2103, 'descript': 2104, 'revel': 2105, 'destruct': 2106, 'texa': 2107, 'inner': 2108, 'surfac': 2109, 'semi': 2110, 'uninterest': 2111, 'arrest': 2112, 'sitcom': 2113, 'excess': 2114, 'spin': 2115, 'twin': 2116, 'hitchcock': 2117, 'argu': 2118, 'maintain': 2119, 'massiv': 2120, 'controversi': 2121, 'dinosaur': 2122, 'makeup': 2123, 'stare': 2124, 'kim': 2125, 'reject': 2126, 'expens': 2127, 'insist': 2128, 'ideal': 2129, 'melodrama': 2130, 'ludicr': 2131, 'nail': 2132, 'ala': 2133, 'subplot': 2134, 'host': 2135, 'ga': 2136, 'press': 2137, 'atroci': 2138, 'forest': 2139, 'erot': 2140, 'columbo': 2141, 'supernatur': 2142, 'dude': 2143, 'identifi': 2144, 'presum': 2145, 'notch': 2146, 'cant': 2147, 'character': 2148, 'forgett': 2149, 'guest': 2150, 'crude': 2151, 'plagu': 2152, 'method': 2153, 'closer': 2154, 'lion': 2155, 'landscap': 2156, 'border': 2157, 'princess': 2158, 'ear': 2159, 'beast': 2160, 'foster': 2161, 'previous': 2162, 'storytel': 2163, 'bound': 2164, 'aunt': 2165, 'damag': 2166, 'accus': 2167, 'urban': 2168, 'jungl': 2169, 'birth': 2170, 'pacino': 2171, 'thirti': 2172, 'guid': 2173, 'propaganda': 2174, 'jess': 2175, 'emma': 2176, 'doll': 2177, 'chose': 2178, 'nude': 2179, 'mainstream': 2180, 'pet': 2181, 'whoever': 2182, '25': 2183, 'warrior': 2184, 'mate': 2185, 'exact': 2186, 'size': 2187, 'upset': 2188, 'poster': 2189, 'gritti': 2190, 'merit': 2191, 'cooper': 2192, 'friday': 2193, 'deadli': 2194, 'latest': 2195, 'citizen': 2196, '1990': 2197, 'rough': 2198, 'corps': 2199, 'warner': 2200, 'contest': 2201, 'wilson': 2202, 'buff': 2203, 'blend': 2204, 'settl': 2205, 'popul': 2206, 'sun': 2207, 'contact': 2208, 'ton': 2209, 'bu': 2210, 'metal': 2211, 'environ': 2212, 'widow': 2213, 'select': 2214, 'mgm': 2215, 'overcom': 2216, 'alic': 2217, 'pitt': 2218, 'rat': 2219, 'guilti': 2220, 'lift': 2221, 'particip': 2222, 'link': 2223, 'revolut': 2224, 'ted': 2225, 'moron': 2226, 'afternoon': 2227, 'johnson': 2228, 'corpor': 2229, '1960': 2230, 'exagger': 2231, 'prostitut': 2232, 'accompani': 2233, 'corner': 2234, 'matrix': 2235, 'hood': 2236, 'sincer': 2237, 'clair': 2238, 'doom': 2239, 'instal': 2240, 'multipl': 2241, 'friendli': 2242, 'leagu': 2243, 'holm': 2244, 'aka': 2245, 'examin': 2246, 'string': 2247, 'junk': 2248, 'irish': 2249, 'campi': 2250, 'blah': 2251, 'grim': 2252, 'hip': 2253, 'lugosi': 2254, 'advis': 2255, 'sunday': 2256, 'defend': 2257, 'varieti': 2258, 'confid': 2259, 'rachel': 2260, 'tight': 2261, 'shut': 2262, 'pro': 2263, 'shake': 2264, 'icon': 2265, 'goal': 2266, 'directli': 2267, 'attach': 2268, 'jaw': 2269, 'medic': 2270, 'denni': 2271, 'sullivan': 2272, 'mexican': 2273, 'vietnam': 2274, 'dean': 2275, 'breast': 2276, 'legendari': 2277, 'terrorist': 2278, 'bourn': 2279, 'prior': 2280, 'duke': 2281, 'truck': 2282, 'sentenc': 2283, 'sarah': 2284, 'courag': 2285, 'un': 2286, 'donald': 2287, 'yell': 2288, 'proceed': 2289, 'split': 2290, 'entri': 2291, 'behav': 2292, 'nose': 2293, 'hong': 2294, 'crush': 2295, 'stolen': 2296, 'jerk': 2297, 'buri': 2298, 'confess': 2299, 'borrow': 2300, 'forth': 2301, 'unconvinc': 2302, 'gather': 2303, 'concentr': 2304, 'everywher': 2305, 'swim': 2306, 'lifetim': 2307, 'deliveri': 2308, 'julia': 2309, 'california': 2310, 'spite': 2311, 'pan': 2312, 'lip': 2313, 'turkey': 2314, 'proud': 2315, 'downright': 2316, 'reward': 2317, 'quest': 2318, 'flight': 2319, 'hoffman': 2320, 'offici': 2321, 'china': 2322, 'freeman': 2323, 'worthwhil': 2324, 'sink': 2325, 'betray': 2326, 'inept': 2327, 'lazi': 2328, 'fabul': 2329, 'jail': 2330, 'encourag': 2331, 'sir': 2332, 'fade': 2333, 'notori': 2334, 'jon': 2335, 'lisa': 2336, 'storm': 2337, 'teeth': 2338, 'cousin': 2339, 'bell': 2340, 'imageri': 2341, 'retard': 2342, 'survivor': 2343, 'relev': 2344, 'shower': 2345, 'susan': 2346, 'bag': 2347, 'branagh': 2348, 'quirki': 2349, 'finger': 2350, 'alright': 2351, 'mexico': 2352, 'trade': 2353, 'facial': 2354, 'bride': 2355, 'stab': 2356, 'summari': 2357, 'tremend': 2358, 'hugh': 2359, 'toler': 2360, 'shark': 2361, 'von': 2362, 'blown': 2363, 'pose': 2364, 'hyster': 2365, 'bitter': 2366, 'ha': 2367, 'cruel': 2368, 'address': 2369, 'bone': 2370, 'ron': 2371, 'larri': 2372, 'christ': 2373, 'afterward': 2374, 'scheme': 2375, 'ned': 2376, 'distinct': 2377, 'tour': 2378, 'swear': 2379, 'screw': 2380, 'beg': 2381, 'thumb': 2382, 'feed': 2383, 'pursu': 2384, 'traci': 2385, 'snake': 2386, 'chair': 2387, 'photo': 2388, 'stomach': 2389, 'obscur': 2390, 'mechan': 2391, 'occas': 2392, 'raw': 2393, 'necessarili': 2394, 'holiday': 2395, 'resist': 2396, 'render': 2397, 'hardi': 2398, 'gruesom': 2399, 'heavili': 2400, 'chain': 2401, 'argument': 2402, 'sidney': 2403, 'cabin': 2404, 'southern': 2405, 'india': 2406, 'understood': 2407, 'philip': 2408, 'racist': 2409, 'indulg': 2410, 'satan': 2411, 'outfit': 2412, 'belov': 2413, 'integr': 2414, 'midnight': 2415, 'pregnant': 2416, 'stalk': 2417, 'lay': 2418, 'fourth': 2419, 'obnoxi': 2420, 'tongu': 2421, 'forgot': 2422, 'inhabit': 2423, 'restor': 2424, 'carol': 2425, 'ticket': 2426, 'deeper': 2427, '17': 2428, 'slapstick': 2429, 'magazin': 2430, 'garden': 2431, 'shoe': 2432, 'devot': 2433, 'incid': 2434, 'brad': 2435, 'lincoln': 2436, 'disbelief': 2437, 'maria': 2438, 'underground': 2439, 'sandler': 2440, 'divorc': 2441, 'anticip': 2442, 'guarante': 2443, 'elizabeth': 2444, 'benefit': 2445, 'lili': 2446, 'princip': 2447, 'creation': 2448, 'greater': 2449, 'cring': 2450, 'bbc': 2451, 'explod': 2452, 'amazingli': 2453, 'capit': 2454, 'slave': 2455, 'mildli': 2456, 'halfway': 2457, 'introduct': 2458, 'funnier': 2459, 'extraordinari': 2460, 'lesli': 2461, 'advantag': 2462, 'punish': 2463, 'extent': 2464, 'overwhelm': 2465, 'wreck': 2466, 'text': 2467, 'transfer': 2468, 'tap': 2469, 'enhanc': 2470, 'dynam': 2471, 'preview': 2472, 'jessica': 2473, 'lo': 2474, 'east': 2475, 'error': 2476, 'plant': 2477, 'horrif': 2478, 'lane': 2479, 'deliber': 2480, 'vacat': 2481, 'appli': 2482, 'ensu': 2483, 'miller': 2484, 'sophist': 2485, 'homosexu': 2486, 'basi': 2487, '2000': 2488, 'vincent': 2489, 'miscast': 2490, 'spoken': 2491, 'extend': 2492, 'mansion': 2493, 'measur': 2494, 'reed': 2495, 'elev': 2496, 'via': 2497, 'sleazi': 2498, 'bollywood': 2499, 'steel': 2500, 'uncomfort': 2501, 'assign': 2502, 'goofi': 2503, 'mous': 2504, 'fix': 2505, 'savag': 2506, 'overact': 2507, 'cathol': 2508, 'daili': 2509, 'conceiv': 2510, 'dentist': 2511, 'blair': 2512, 'hippi': 2513, 'alter': 2514, 'breathtak': 2515, 'melt': 2516, 'beer': 2517, 'stanley': 2518, 'oppos': 2519, 'inspector': 2520, 'sacrific': 2521, 'burt': 2522, 'everyday': 2523, 'carpent': 2524, 'subsequ': 2525, 'properli': 2526, 'succe': 2527, 'nowaday': 2528, 'block': 2529, 'neck': 2530, 'circl': 2531, 'massacr': 2532, 'laura': 2533, 'mob': 2534, 'lesser': 2535, 'access': 2536, 'pool': 2537, 'fallen': 2538, 'portrait': 2539, 'seagal': 2540, 'concert': 2541, 'fay': 2542, 'grey': 2543, 'christi': 2544, 'usa': 2545, 'relax': 2546, 'jake': 2547, 'competit': 2548, 'react': 2549, 'isol': 2550, 'chees': 2551, 'jewish': 2552, 'sinist': 2553, 'immens': 2554, 'ironi': 2555, 'nine': 2556, 'suitabl': 2557, 'stink': 2558, 'lyric': 2559, '2006': 2560, 'chop': 2561, 'nonetheless': 2562, 'creep': 2563, 'appal': 2564, 'spiritu': 2565, 'user': 2566, 'adopt': 2567, 'luci': 2568, 'sold': 2569, 'showcas': 2570, 'navi': 2571, 'shirt': 2572, 'nut': 2573, 'reduc': 2574, 'rage': 2575, 'retir': 2576, 'spring': 2577, 'needless': 2578, 'franchis': 2579, 'asham': 2580, 'uninspir': 2581, 'jay': 2582, 'digit': 2583, 'bulli': 2584, 'stanwyck': 2585, 'nurs': 2586, 'per': 2587, 'zone': 2588, 'bath': 2589, 'sutherland': 2590, 'broadcast': 2591, '1940': 2592, 'laid': 2593, 'illustr': 2594, 'oddli': 2595, 'amongst': 2596, '2001': 2597, 'upper': 2598, 'aspir': 2599, 'throat': 2600, 'fulfil': 2601, 'baker': 2602, 'disguis': 2603, 'stylish': 2604, 'brando': 2605, 'pound': 2606, 'wanna': 2607, 'wwii': 2608, 'endear': 2609, '18': 2610, 'pride': 2611, 'impli': 2612, 'neighborhood': 2613, 'thief': 2614, 'em': 2615, 'nobl': 2616, '16': 2617, 'diseas': 2618, 'shoulder': 2619, 'prop': 2620, 'distribut': 2621, 'cinematograph': 2622, 'coher': 2623, 'albeit': 2624, 'dinner': 2625, 'dawn': 2626, 'shift': 2627, 'tens': 2628, 'bo': 2629, 'bett': 2630, 'rochest': 2631, 'rebel': 2632, 'snow': 2633, 'contract': 2634, 'function': 2635, 'wash': 2636, 'forti': 2637, 'poignant': 2638, 'surf': 2639, 'knife': 2640, 'shout': 2641, 'matthau': 2642, 'silenc': 2643, 'reunion': 2644, 'silver': 2645, 'height': 2646, 'heat': 2647, 'cancel': 2648, 'eeri': 2649, 'henc': 2650, 'horrend': 2651, 'mindless': 2652, 'cannib': 2653, 'instinct': 2654, 'internet': 2655, 'widmark': 2656, 'derek': 2657, 'proof': 2658, 'chuck': 2659, 'duti': 2660, 'elvira': 2661, 'neat': 2662, 'repetit': 2663, 'pie': 2664, 'musician': 2665, 'mill': 2666, 'elvi': 2667, 'premier': 2668, 'alik': 2669, 'incoher': 2670, 'torn': 2671, 'glori': 2672, 'spielberg': 2673, 'greatli': 2674, 'etern': 2675, 'absorb': 2676, 'innov': 2677, 'homag': 2678, 'crisi': 2679, 'announc': 2680, 'horrifi': 2681, 'itali': 2682, 'precis': 2683, 'blank': 2684, 'redempt': 2685, 'lovabl': 2686, 'wealthi': 2687, 'burton': 2688, 'diamond': 2689, 'bang': 2690, 'infam': 2691, 'nelson': 2692, 'britain': 2693, 'trite': 2694, 'racism': 2695, 'fbi': 2696, 'ensembl': 2697, 'pat': 2698, 'happili': 2699, 'dedic': 2700, 'flop': 2701, 'wilder': 2702, 'resolut': 2703, 'helen': 2704, 'parallel': 2705, 'streisand': 2706, 'hammer': 2707, 'chaplin': 2708, 'conclud': 2709, 'carter': 2710, 'factori': 2711, 'st': 2712, 'oil': 2713, 'cube': 2714, 'disagre': 2715, 'broke': 2716, 'triumph': 2717, 'plastic': 2718, 'mar': 2719, 'row': 2720, 'bush': 2721, 'chuckl': 2722, 'own': 2723, 'vega': 2724, 'weight': 2725, 'march': 2726, 'fighter': 2727, 'climb': 2728, 'rocket': 2729, 'boot': 2730, 'sensibl': 2731, 'luca': 2732, 'unforgett': 2733, 'mst3k': 2734, 'thug': 2735, 'dane': 2736, 'meaning': 2737, 'dump': 2738, 'lust': 2739, 'enorm': 2740, 'kurt': 2741, 'wherea': 2742, 'spare': 2743, 'fifti': 2744, 'butt': 2745, 'stress': 2746, 'dear': 2747, 'adequ': 2748, 'brand': 2749, 'rap': 2750, 'karloff': 2751, 'engin': 2752, 'difficulti': 2753, 'caricatur': 2754, 'threat': 2755, 'bobbi': 2756, 'arnold': 2757, 'secretari': 2758, 'swing': 2759, 'ralph': 2760, 'ego': 2761, 'elabor': 2762, 'arrog': 2763, 'barri': 2764, 'homeless': 2765, 'polish': 2766, 'hamlet': 2767, 'fest': 2768, 'journalist': 2769, 'flynn': 2770, 'puppet': 2771, 'float': 2772, 'grate': 2773, 'unbear': 2774, 'conspiraci': 2775, 'tool': 2776, 'simpson': 2777, 'induc': 2778, 'resort': 2779, 'arrang': 2780, 'fanci': 2781, 'spike': 2782, 'phillip': 2783, 'guilt': 2784, 'cruis': 2785, 'tribut': 2786, 'basement': 2787, 'choreograph': 2788, 'exercis': 2789, 'pig': 2790, 'muppet': 2791, 'boll': 2792, 'tower': 2793, 'puzzl': 2794, 'file': 2795, '24': 2796, 'ham': 2797, 'layer': 2798, 'toilet': 2799, 'document': 2800, 'scarecrow': 2801, 'korean': 2802, 'slip': 2803, 'medium': 2804, 'ward': 2805, 'editor': 2806, 'babe': 2807, 'fianc': 2808, 'stan': 2809, 'item': 2810, 'assur': 2811, 'inexplic': 2812, 'larger': 2813, 'spark': 2814, 'superfici': 2815, 'territori': 2816, 'librari': 2817, 'catherin': 2818, 'philosoph': 2819, 'portion': 2820, 'persona': 2821, 'transit': 2822, 'denzel': 2823, 'orient': 2824, 'doc': 2825, 'minim': 2826, 'slaughter': 2827, 'glover': 2828, 'shi': 2829, 'jeremi': 2830, 'sneak': 2831, 'curti': 2832, 'owe': 2833, 'ban': 2834, 'dorothi': 2835, 'boredom': 2836, 'walken': 2837, 'jet': 2838, 'pg': 2839, 'financi': 2840, 'wolf': 2841, 'profound': 2842, 'backdrop': 2843, 'ambigu': 2844, 'eleph': 2845, 'metaphor': 2846, 'hudson': 2847, 'multi': 2848, 'whale': 2849, 'cusack': 2850, 'hack': 2851, 'implaus': 2852, 'stiff': 2853, 'union': 2854, 'rave': 2855, 'birthday': 2856, 'notion': 2857, '2005': 2858, 'ultra': 2859, 'gadget': 2860, 'viru': 2861, 'elsewher': 2862, 'eastwood': 2863, 'bibl': 2864, 'distanc': 2865, 'lloyd': 2866, 'urg': 2867, 'disc': 2868, 'squar': 2869, 'canada': 2870, 'slight': 2871, 'pad': 2872, '1st': 2873, 'superhero': 2874, 'newspap': 2875, 'poison': 2876, 'afford': 2877, 'reader': 2878, 'eva': 2879, 'hawk': 2880, 'deriv': 2881, 'skit': 2882, 'health': 2883, 'drown': 2884, 'cure': 2885, 'restaur': 2886, 'huh': 2887, 'button': 2888, 'montag': 2889, 'heston': 2890, 'charisma': 2891, 'sadist': 2892, 'spread': 2893, 'essenc': 2894, 'gradual': 2895, 'fetch': 2896, 'dealt': 2897, 'godfath': 2898, 'companion': 2899, 'maniac': 2900, 'invest': 2901, 'estat': 2902, 'lab': 2903, 'scoobi': 2904, 'peak': 2905, 'muslim': 2906, 'ritter': 2907, 'alli': 2908, 'kane': 2909, 'countless': 2910, 'tea': 2911, 'servant': 2912, 'gothic': 2913, 'cup': 2914, 'subtleti': 2915, 'miik': 2916, 'electr': 2917, 'briefli': 2918, 'heroic': 2919, 'charismat': 2920, 'elect': 2921, 'salli': 2922, 'iii': 2923, 'wannab': 2924, 'bud': 2925, 'grandmoth': 2926, 'resourc': 2927, 'ingredi': 2928, 'admittedli': 2929, 'nuanc': 2930, 'tender': 2931, 'neil': 2932, 'toss': 2933, 'reel': 2934, 'cole': 2935, 'poverti': 2936, 'punk': 2937, 'carrey': 2938, 'stronger': 2939, 'shall': 2940, 'gate': 2941, 'pit': 2942, 'stood': 2943, 'label': 2944, 'mafia': 2945, 'mild': 2946, 'pauli': 2947, 'reev': 2948, 'dawson': 2949, 'kubrick': 2950, 'assault': 2951, 'easier': 2952, 'ian': 2953, 'smash': 2954, 'bakshi': 2955, 'outcom': 2956, 'smooth': 2957, 'fond': 2958, 'updat': 2959, 'cox': 2960, 'terri': 2961, 'cardboard': 2962, 'burst': 2963, 'useless': 2964, 'astair': 2965, 'tag': 2966, 'vari': 2967, 'resolv': 2968, 'increasingli': 2969, 'coincid': 2970, 'fist': 2971, 'melodramat': 2972, 'exchang': 2973, 'sketch': 2974, 'rex': 2975, 'qualifi': 2976, 'divers': 2977, 'samurai': 2978, '2002': 2979, 'vulner': 2980, 'suspend': 2981, 'be': 2982, 'reynold': 2983, 'blast': 2984, 'tame': 2985, 'luckili': 2986, 'insert': 2987, 'templ': 2988, 'conveni': 2989, 'scratch': 2990, 'brillianc': 2991, 'coach': 2992, 'meat': 2993, 'ambiti': 2994, 'matthew': 2995, 'seventi': 2996, 'farm': 2997, 'pin': 2998, 'walker': 2999, 'gotta': 3000, 'nuclear': 3001, 'soprano': 3002, 'hamilton': 3003, 'strictli': 3004, 'jami': 3005, 'fisher': 3006, 'monk': 3007, 'spooki': 3008, 'struck': 3009, 'empir': 3010, 'eccentr': 3011, 'discoveri': 3012, 'grasp': 3013, 'recreat': 3014, 'closet': 3015, 'clock': 3016, 'cave': 3017, 'kudo': 3018, 'brosnan': 3019, 'worthless': 3020, 'timeless': 3021, 'convolut': 3022, 'instantli': 3023, 'joey': 3024, 'butcher': 3025, 'revers': 3026, 'ninja': 3027, 'cliff': 3028, 'bleak': 3029, 'declar': 3030, 'eighti': 3031, 'seller': 3032, 'sidekick': 3033, 'norman': 3034, 'partli': 3035, 'communist': 3036, 'fifteen': 3037, 'pal': 3038, 'mitchel': 3039, 'importantli': 3040, 'evok': 3041, 'miracl': 3042, 'selfish': 3043, 'clown': 3044, 'gray': 3045, 'inconsist': 3046, 'sloppi': 3047, 'wipe': 3048, 'websit': 3049, 'chew': 3050, 'debat': 3051, 'destin': 3052, 'seed': 3053, 'flawless': 3054, 'lifestyl': 3055, '45': 3056, 'psychiatrist': 3057, 'cheek': 3058, 'superbl': 3059, 'stoog': 3060, 'piano': 3061, 'farc': 3062, 'aforement': 3063, 'enthusiast': 3064, 'australia': 3065, 'ho': 3066, 'drivel': 3067, 'pressur': 3068, 'wick': 3069, 'kitchen': 3070, 'slice': 3071, 'incompet': 3072, 'emili': 3073, 'dash': 3074, 'soviet': 3075, 'dire': 3076, 'anni': 3077, 'directori': 3078, 'wrestl': 3079, 'regardless': 3080, 'akshay': 3081, 'splatter': 3082, 'bash': 3083, 'abc': 3084, 'cia': 3085, 'chapter': 3086, 'seduc': 3087, 'pleasantli': 3088, 'duo': 3089, 'distant': 3090, 'helicopt': 3091, 'suppli': 3092, 'increas': 3093, 'prize': 3094, 'mann': 3095, 'judi': 3096, 'flower': 3097, 'blob': 3098, 'ken': 3099, 'cameron': 3100, 'recov': 3101, 'cagney': 3102, 'curios': 3103, 'boil': 3104, 'artifici': 3105, 'glow': 3106, 'beaten': 3107, 'doo': 3108, 'lou': 3109, 'dave': 3110, 'jar': 3111, 'web': 3112, 'craven': 3113, 'laurel': 3114, 'favour': 3115, 'drunken': 3116, 'psychot': 3117, 'splendid': 3118, 'glenn': 3119, 'hop': 3120, 'panic': 3121, 'turner': 3122, 'perri': 3123, 'eleg': 3124, 'combat': 3125, 'goldberg': 3126, 'ellen': 3127, 'francisco': 3128, 'craig': 3129, 'ranger': 3130, 'gentl': 3131, 'slightest': 3132, 'fx': 3133, 'shortli': 3134, 'wizard': 3135, 'flip': 3136, 'plausibl': 3137, 'modesti': 3138, 'rid': 3139, 'hatr': 3140, 'min': 3141, 'greek': 3142, 'graduat': 3143, 'falk': 3144, 'ruth': 3145, 'philosophi': 3146, '20th': 3147, 'alexand': 3148, 'gandhi': 3149, 'lend': 3150, 'we': 3151, 'preciou': 3152, 'jealou': 3153, 'fund': 3154, 'ocean': 3155, 'holi': 3156, 'dracula': 3157, 'felix': 3158, 'tall': 3159, 'legal': 3160, 'manhattan': 3161, 'knight': 3162, 'unpleas': 3163, 'harm': 3164, 'futurist': 3165, 'reviv': 3166, 'tank': 3167, 'bless': 3168, 'ami': 3169, 'overdon': 3170, 'thread': 3171, 'forbidden': 3172, 'explicit': 3173, 'scientif': 3174, 'nod': 3175, 'childish': 3176, 'digniti': 3177, 'mock': 3178, 'giallo': 3179, 'fever': 3180, 'unwatch': 3181, '99': 3182, 'nerv': 3183, 'awaken': 3184, 'awe': 3185, 'torment': 3186, 'pirat': 3187, 'elderli': 3188, 'eve': 3189, 'mel': 3190, 'repeatedli': 3191, 'thick': 3192, '2004': 3193, 'yesterday': 3194, 'broad': 3195, 'verhoeven': 3196, 'margaret': 3197, 'griffith': 3198, 'eas': 3199, 'roman': 3200, 'rivet': 3201, 'royal': 3202, 'automat': 3203, 'bin': 3204, 'ambit': 3205, 'politician': 3206, 'kay': 3207, 'romero': 3208, 'stiller': 3209, 'custom': 3210, 'uniform': 3211, 'lean': 3212, 'launch': 3213, 'timothi': 3214, 'ah': 3215, 'publish': 3216, 'acclaim': 3217, 'absenc': 3218, 'pulp': 3219, 'antic': 3220, 'darker': 3221, 'wallac': 3222, 'purpl': 3223, 'transport': 3224, 'bathroom': 3225, 'warren': 3226, 'pierc': 3227, 'crook': 3228, 'gabriel': 3229, 'sunshin': 3230, 'phrase': 3231, 'homicid': 3232, 'termin': 3233, 'foul': 3234, 'stinker': 3235, 'tomato': 3236, 'q': 3237, 'contrari': 3238, 'packag': 3239, 'hollow': 3240, 'sixti': 3241, 'pray': 3242, 'donna': 3243, 'rambo': 3244, 'album': 3245, 'marin': 3246, 'juvenil': 3247, 'kenneth': 3248, 'brazil': 3249, 'saint': 3250, '2003': 3251, 'evolv': 3252, 'horrid': 3253, 'eyr': 3254, 'coloni': 3255, 'awak': 3256, 'revolutionari': 3257, 'li': 3258, 'prom': 3259, 'viciou': 3260, 'ought': 3261, 'karen': 3262, 'choreographi': 3263, 'boast': 3264, 'kapoor': 3265, 'ireland': 3266, 'twelv': 3267, 'defi': 3268, 'conserv': 3269, 'blade': 3270, 'dose': 3271, 'candid': 3272, 'option': 3273, 'stole': 3274, 'nerd': 3275, 'mummi': 3276, 'mildr': 3277, 'beatti': 3278, 'overr': 3279, 'ramon': 3280, 'jazz': 3281, 'altman': 3282, 'confirm': 3283, 'collabor': 3284, 'global': 3285, 'flame': 3286, 'detract': 3287, 'astonish': 3288, 'natali': 3289, 'trio': 3290, 'protest': 3291, 'kirk': 3292, 'funer': 3293, 'fulci': 3294, 'whip': 3295, 'leap': 3296, 'bull': 3297, 'enterpris': 3298, 'nicholson': 3299, 'audio': 3300, 'blake': 3301, 'delici': 3302, 'tommi': 3303, 'mystic': 3304, 'racial': 3305, 'shade': 3306, 'bottl': 3307, 'yellow': 3308, 'destini': 3309, 'spit': 3310, 'reunit': 3311, 'harder': 3312, 'pseudo': 3313, 'bedroom': 3314, 'inherit': 3315, 'altogeth': 3316, 'threw': 3317, 'visibl': 3318, 'enchant': 3319, 'meaningless': 3320, 'staff': 3321, 'todd': 3322, 'swedish': 3323, 'fonda': 3324, 'popcorn': 3325, 'vivid': 3326, 'neo': 3327, 'merci': 3328, 'adolesc': 3329, 'synopsi': 3330, 'moodi': 3331, 'ruthless': 3332, 'leonard': 3333, 'edi': 3334, 'kennedi': 3335, 'respond': 3336, 'crocodil': 3337, 'lemmon': 3338, 'decor': 3339, 'reserv': 3340, 'wire': 3341, 'roommat': 3342, 'lawrenc': 3343, 'jew': 3344, 'uneven': 3345, 'bust': 3346, 'befriend': 3347, 'fanat': 3348, 'suspici': 3349, 'tip': 3350, 'atlanti': 3351, 'exhibit': 3352, 'voight': 3353, 'await': 3354, 'madonna': 3355, 'clint': 3356, 'garner': 3357, 'unsettl': 3358, 'abysm': 3359, 'incident': 3360, 'voyag': 3361, '2007': 3362, 'chao': 3363, 'bargain': 3364, 'clumsi': 3365, 'bradi': 3366, 'audit': 3367, 'holli': 3368, 'ventur': 3369, 'rural': 3370, 'bold': 3371, 'dimens': 3372, 'centr': 3373, 'carl': 3374, 'palma': 3375, 'poetic': 3376, 'troop': 3377, 'acknowledg': 3378, 'cd': 3379, 'neglect': 3380, 'imperson': 3381, 'hart': 3382, '2nd': 3383, 'immigr': 3384, 'characterist': 3385, 'wealth': 3386, 'versu': 3387, 'cari': 3388, 'echo': 3389, 'daddi': 3390, 'humili': 3391, 'elimin': 3392, 'nearbi': 3393, 'lit': 3394, 'mall': 3395, 'trail': 3396, 'tiger': 3397, 'cuba': 3398, 'ant': 3399, 'timon': 3400, 'paus': 3401, 'celluloid': 3402, 'collaps': 3403, 'repuls': 3404, 'domest': 3405, 'marshal': 3406, 'infect': 3407, 'mickey': 3408, 'pun': 3409, 'saga': 3410, 'mistaken': 3411, 'solo': 3412, 'prejudic': 3413, 'homer': 3414, 'jeffrey': 3415, 'inappropri': 3416, 'gear': 3417, 'inan': 3418, 'cake': 3419, 'milk': 3420, 'apolog': 3421, 'tribe': 3422, 'hbo': 3423, 'coat': 3424, 'harvey': 3425, 'coffe': 3426, 'promin': 3427, 'undoubtedli': 3428, 'interrupt': 3429, 'equip': 3430, '1996': 3431, 'chest': 3432, 'pant': 3433, 'sore': 3434, 'leon': 3435, 'assembl': 3436, 'olivi': 3437, 'ginger': 3438, 'embrac': 3439, 'colleagu': 3440, 'pot': 3441, 'instant': 3442, 'vulgar': 3443, 'primari': 3444, 'airplan': 3445, 'solut': 3446, 'devast': 3447, 'furthermor': 3448, 'maggi': 3449, 'aveng': 3450, 'institut': 3451, 'brooklyn': 3452, 'florida': 3453, 'trace': 3454, 'exot': 3455, 'polanski': 3456, 'consum': 3457, 'jenni': 3458, 'humbl': 3459, 'highest': 3460, 'retain': 3461, 'pen': 3462, 'colonel': 3463, 'wive': 3464, 'bowl': 3465, 'dian': 3466, '1999': 3467, 'principl': 3468, 'illog': 3469, 'poke': 3470, 'gender': 3471, 'dutch': 3472, 'smaller': 3473, 'disabl': 3474, 'outer': 3475, 'strain': 3476, 'descend': 3477, 'ya': 3478, 'sale': 3479, 'seduct': 3480, '3rd': 3481, 'godzilla': 3482, 'linda': 3483, 'rick': 3484, 'cope': 3485, 'blatant': 3486, 'yard': 3487, 'dud': 3488, 'gloriou': 3489, 'primarili': 3490, 'cue': 3491, 'predecessor': 3492, 'beneath': 3493, 'inferior': 3494, 'glamor': 3495, 'scope': 3496, 'lol': 3497, 'vast': 3498, 'secondli': 3499, 'mixtur': 3500, 'bubbl': 3501, 'hal': 3502, 'rabbit': 3503, 'dive': 3504, 'devoid': 3505, 'gundam': 3506, 'trademark': 3507, 'shelf': 3508, 'museum': 3509, 'alert': 3510, 'breed': 3511, 'disjoint': 3512, 'april': 3513, 'myer': 3514, 'et': 3515, 'aggress': 3516, 'hideou': 3517, 'invas': 3518, 'senseless': 3519, 'garbo': 3520, 'talki': 3521, 'pearl': 3522, 'z': 3523, 'arab': 3524, 'simplist': 3525, 'casual': 3526, 'grinch': 3527, 'shirley': 3528, 'alfr': 3529, 'domino': 3530, 'countrysid': 3531, 'streep': 3532, 'robberi': 3533, 'experiment': 3534, 'acid': 3535, 'hardcor': 3536, 'slide': 3537, 'stir': 3538, 'sh': 3539, 'loyal': 3540, 'disgrac': 3541, 'boom': 3542, 'defens': 3543, 'illeg': 3544, 'unhappi': 3545, 'stellar': 3546, 'maci': 3547, 'obtain': 3548, 'hopeless': 3549, 'mayor': 3550, 'rendit': 3551, 'mail': 3552, 'stack': 3553, 'applaud': 3554, 'robinson': 3555, 'vanish': 3556, 'oz': 3557, 'uwe': 3558, 'khan': 3559, 'tempt': 3560, 'recruit': 3561, 'dicken': 3562, 'scroog': 3563, 'fri': 3564, 'declin': 3565, 'counter': 3566, 'craze': 3567, 'rifl': 3568, 'wont': 3569, 'emphasi': 3570, 'spider': 3571, 'hartley': 3572, 'diana': 3573, 'soccer': 3574, 'blew': 3575, 'dismiss': 3576, 'topless': 3577, 'amanda': 3578, 'tenant': 3579, 'span': 3580, 'incomprehens': 3581, 'berlin': 3582, 'psychic': 3583, 'grandfath': 3584, 'resurrect': 3585, 'intim': 3586, 'revolt': 3587, 'sibl': 3588, 'wet': 3589, 'shed': 3590, 'faster': 3591, 'niro': 3592, 'trashi': 3593, 'bitch': 3594, 'riot': 3595, 'justin': 3596, 'porno': 3597, 'ration': 3598, 'parad': 3599, 'goer': 3600, 'ethnic': 3601, 'woo': 3602, 'lumet': 3603, 'shaw': 3604, 'sympath': 3605, 'hesit': 3606, 'farmer': 3607, 'unreal': 3608, 'eager': 3609, 'rider': 3610, 'commend': 3611, 'honesti': 3612, '00': 3613, 'andr': 3614, 'biographi': 3615, 'patriot': 3616, 'region': 3617, 'weakest': 3618, 'steam': 3619, 'partial': 3620, 'jonathan': 3621, 'hopper': 3622, 'lena': 3623, 'mario': 3624, 'worm': 3625, 'nephew': 3626, 'enlighten': 3627, 'wheel': 3628, 'gap': 3629, 'immort': 3630, 'wendi': 3631, 'dealer': 3632, 'feminist': 3633, 'choru': 3634, 'slick': 3635, 'ensur': 3636, 'ballet': 3637, 'sandra': 3638, 'blunt': 3639, 'nostalg': 3640, 'charlott': 3641, 'prequel': 3642, 'snap': 3643, 'leo': 3644, 'vice': 3645, 'psychopath': 3646, 'properti': 3647, 'repress': 3648, 'victori': 3649, 'similarli': 3650, 'morri': 3651, 'mutant': 3652, 'util': 3653, 'skull': 3654, 'composit': 3655, 'wore': 3656, 'franco': 3657, 'safeti': 3658, 'kingdom': 3659, 'hung': 3660, 'macarthur': 3661, 'sappi': 3662, 'confin': 3663, 'owen': 3664, 'deed': 3665, 'cg': 3666, 'tail': 3667, 'drum': 3668, 'snl': 3669, 'valuabl': 3670, 'rocki': 3671, 'rope': 3672, 'bumbl': 3673, 'exit': 3674, 'tad': 3675, 'repli': 3676, 'strand': 3677, 'emperor': 3678, 'farrel': 3679, 'speci': 3680, 'acquir': 3681, '1972': 3682, 'thru': 3683, 'drain': 3684, 'bow': 3685, 'bergman': 3686, 'dust': 3687, 'nervou': 3688, 'bonu': 3689, 'hyde': 3690, 'rambl': 3691, 'heartbreak': 3692, 'montana': 3693, 'recycl': 3694, 'pattern': 3695, 'compass': 3696, 'miseri': 3697, 'campbel': 3698, 'despair': 3699, 'kyle': 3700, 'compens': 3701, 'dalton': 3702, 'latin': 3703, 'whoopi': 3704, 'del': 3705, 'slug': 3706, 'airport': 3707, 'gimmick': 3708, 'romp': 3709, 'contempl': 3710, '35': 3711, 'gal': 3712, 'orson': 3713, 'oppress': 3714, 'wacki': 3715, 'downhil': 3716, 'rotten': 3717, 'pour': 3718, 'tonight': 3719, 'percept': 3720, 'carradin': 3721, 'rapist': 3722, 'mistress': 3723, 'olli': 3724, 'bleed': 3725, 'da': 3726, 'chess': 3727, 'roth': 3728, 'radic': 3729, 'martian': 3730, 'attorney': 3731, 'pursuit': 3732, 'tackl': 3733, 'unpredict': 3734, 'banal': 3735, 'heal': 3736, 'edgar': 3737, 'pervers': 3738, 'dazzl': 3739, '1983': 3740, 'programm': 3741, 'stilt': 3742, 'preach': 3743, 'melodi': 3744, 'pervert': 3745, 'paltrow': 3746, 'mislead': 3747, 'arc': 3748, 'taught': 3749, 'champion': 3750, 'belt': 3751, 'arguabl': 3752, 'slash': 3753, 'tooth': 3754, 'shelley': 3755, 'vocal': 3756, 'uplift': 3757, 'franki': 3758, 'graham': 3759, 'gambl': 3760, 'raymond': 3761, 'rubi': 3762, 'mesmer': 3763, 'duval': 3764, 'bela': 3765, 'vengeanc': 3766, 'chicken': 3767, 'closest': 3768, 'plight': 3769, 'passeng': 3770, 'employe': 3771, 'cleverli': 3772, 'sensat': 3773, 'marti': 3774, 'tiresom': 3775, 'maid': 3776, 'dixon': 3777, 'conneri': 3778, 'orang': 3779, 'virginia': 3780, 'poem': 3781, 'mute': 3782, 'gerard': 3783, 'engross': 3784, 'numb': 3785, 'secretli': 3786, 'suffic': 3787, 'lundgren': 3788, 'volum': 3789, 'habit': 3790, 'quarter': 3791, 'swallow': 3792, 'convincingli': 3793, 'monologu': 3794, 'yawn': 3795, 'tube': 3796, 'whine': 3797, 'outing': 3798, 'abraham': 3799, '1968': 3800, 'clone': 3801, 'inject': 3802, 'amitabh': 3803, 'scottish': 3804, 'bay': 3805, 'profan': 3806, 'extens': 3807, 'pokemon': 3808, 'sirk': 3809, 'climact': 3810, 'iran': 3811, 'giggl': 3812, 'calm': 3813, 'paranoia': 3814, 'crystal': 3815, 'lowest': 3816, 'frankenstein': 3817, 'surpass': 3818, 'fed': 3819, 'junior': 3820, 'chicago': 3821, 'septemb': 3822, 'linger': 3823, 'meander': 3824, 'plod': 3825, 'expand': 3826, 'nichola': 3827, 'taxi': 3828, 'richardson': 3829, 'franci': 3830, 'dispos': 3831, 'austen': 3832, 'im': 3833, 'underst': 3834, 'bend': 3835, 'abort': 3836, 'grotesqu': 3837, 'profess': 3838, 'trend': 3839, 'earl': 3840, 'spock': 3841, 'backward': 3842, 'poetri': 3843, 'ethan': 3844, 'simplic': 3845, 'hum': 3846, 'waitress': 3847, 'dysfunct': 3848, 'eugen': 3849, 'rant': 3850, 'cannon': 3851, 'literatur': 3852, 'rubber': 3853, 'spoke': 3854, 'catchi': 3855, 'descent': 3856, 'myth': 3857, 'tourist': 3858, 'lure': 3859, 'household': 3860, 'muddl': 3861, 'greedi': 3862, 'instrument': 3863, 'mundan': 3864, 'nostalgia': 3865, 'sue': 3866, 'stallon': 3867, 'compliment': 3868, 'econom': 3869, 'der': 3870, 'randi': 3871, 'deaf': 3872, 'phantom': 3873, 'june': 3874, 'occupi': 3875, 'stale': 3876, 'eaten': 3877, 'carel': 3878, 'cent': 3879, 'mankind': 3880, 'firstli': 3881, 'furi': 3882, 'crucial': 3883, 'bacal': 3884, 'sissi': 3885, 'equival': 3886, 'louis': 3887, 'hello': 3888, 'flee': 3889, 'alongsid': 3890, 'map': 3891, 'dictat': 3892, 'insur': 3893, 'irrelev': 3894, 'phoni': 3895, 'mortal': 3896, 'dement': 3897, 'coast': 3898, 'damon': 3899, 'duck': 3900, 'molli': 3901, 'recognis': 3902, 'lang': 3903, 'recognit': 3904, 'omen': 3905, 'bump': 3906, 'buffalo': 3907, 'grayson': 3908, 'likewis': 3909, 'lengthi': 3910, 'ashley': 3911, 'reign': 3912, 'onlin': 3913, 'heel': 3914, 'blackmail': 3915, 'drake': 3916, 'wisdom': 3917, 'rooney': 3918, 'labor': 3919, 'daisi': 3920, 'newli': 3921, 'dreari': 3922, 'twilight': 3923, 'bike': 3924, '1973': 3925, 'loyalti': 3926, 'freez': 3927, 'distinguish': 3928, 'rude': 3929, 'cyborg': 3930, 'antwon': 3931, 'biko': 3932, 'damm': 3933, 'provoc': 3934, 'basketbal': 3935, 'vein': 3936, 'analysi': 3937, 'startl': 3938, 'ridden': 3939, 'approv': 3940, 'pink': 3941, 'exposur': 3942, 'butler': 3943, 'proce': 3944, 'unorigin': 3945, 'emphas': 3946, 'barrymor': 3947, 'worn': 3948, 'inher': 3949, 'keith': 3950, 'incorpor': 3951, 'prey': 3952, 'tunnel': 3953, 'baddi': 3954, 'attribut': 3955, 'nineti': 3956, 'interior': 3957, 'boxer': 3958, 'sailor': 3959, 'chronicl': 3960, 'hypnot': 3961, 'improvis': 3962, 'condemn': 3963, 'drift': 3964, 'stalker': 3965, 'mighti': 3966, 'unrel': 3967, 'elm': 3968, 'carla': 3969, 'walsh': 3970, 'undeni': 3971, 'millionair': 3972, 'fleet': 3973, 'mormon': 3974, 'predat': 3975, 'othello': 3976, 'simmon': 3977, 'degrad': 3978, 'robbin': 3979, 'indiffer': 3980, 'underli': 3981, 'substitut': 3982, 'nicol': 3983, 'belushi': 3984, 'meyer': 3985, 'meg': 3986, 'er': 3987, 'bunni': 3988, 'barrel': 3989, 'julian': 3990, '3d': 3991, 'warmth': 3992, 'roof': 3993, 'firm': 3994, 'disord': 3995, 'alison': 3996, 'shove': 3997, 'edgi': 3998, 'greed': 3999, 'nyc': 4000, 'unawar': 4001, 'hay': 4002, 'vital': 4003, 'agenda': 4004, 'dolph': 4005, 'alarm': 4006, 'reid': 4007, 'palac': 4008, 'lampoon': 4009, 'rukh': 4010, 'exquisit': 4011, 'watson': 4012, 'mtv': 4013, 'priceless': 4014, 'errol': 4015, 'enthusiasm': 4016, 'marion': 4017, 'novak': 4018, 'crown': 4019, 'ponder': 4020, 'cassidi': 4021, 'peril': 4022, 'angela': 4023, 'orlean': 4024, 'session': 4025, 'testament': 4026, 'unleash': 4027, 'campaign': 4028, 'coup': 4029, 'simultan': 4030, 'beatl': 4031, 'israel': 4032, 'profit': 4033, 'preserv': 4034, 'eastern': 4035, 'championship': 4036, '13th': 4037, 'thompson': 4038, 'glanc': 4039, 'peck': 4040, '1933': 4041, 'petti': 4042, 'gestur': 4043, 'showdown': 4044, 'randomli': 4045, 'sergeant': 4046, 'spain': 4047, 'what': 4048, 'nun': 4049, 'iraq': 4050, 'distort': 4051, 'minimum': 4052, 'drip': 4053, 'valentin': 4054, 'pamela': 4055, 'zizek': 4056, 'scotland': 4057, 'shootout': 4058, 'stroke': 4059, '1984': 4060, 'restrain': 4061, 'quinn': 4062, 'perpetu': 4063, 'contradict': 4064, 'climat': 4065, 'brenda': 4066, 'rout': 4067, 'sabrina': 4068, 'reson': 4069, 'jan': 4070, 'crow': 4071, 'mon': 4072, 'buster': 4073, 'realm': 4074, 'regist': 4075, 'stake': 4076, 'gentleman': 4077, 'valley': 4078, 'han': 4079, 'calib': 4080, 'crawl': 4081, 'travesti': 4082, 'bro': 4083, 'empathi': 4084, 'represent': 4085, 'cream': 4086, 'unimagin': 4087, 'wig': 4088, 'exposit': 4089, 'fido': 4090, 'miyazaki': 4091, 'din': 4092, 'cooki': 4093, 'kurosawa': 4094, 'unseen': 4095, 'wax': 4096, 'geek': 4097, 'spacey': 4098, 'mclaglen': 4099, 'passabl': 4100, 'pretens': 4101, 'warrant': 4102, 'ustinov': 4103, 'shaki': 4104, 'pole': 4105, 'distress': 4106, 'compromis': 4107, 'josh': 4108, 'absent': 4109, 'traumat': 4110, 'dana': 4111, 'baldwin': 4112, 'femm': 4113, 'crawford': 4114, 'painter': 4115, 'stargat': 4116, 'shoddi': 4117, 'ross': 4118, 'unsatisfi': 4119, 'derang': 4120, 'businessman': 4121, 'sammi': 4122, 'delic': 4123, '1987': 4124, 'monoton': 4125, 'greg': 4126, '1997': 4127, 'abomin': 4128, 'censor': 4129, 'demis': 4130, 'tacki': 4131, 'sucker': 4132, 'fuller': 4133, 'cloud': 4134, 'meryl': 4135, 'soderbergh': 4136, 'perceiv': 4137, 'darren': 4138, 'sid': 4139, 'unravel': 4140, 'clash': 4141, 'verbal': 4142, 'deniro': 4143, 'polici': 4144, 'norm': 4145, 'furiou': 4146, 'jewel': 4147, 'reluct': 4148, 'seal': 4149, 'expedit': 4150, 'wholli': 4151, 'valid': 4152, 'tech': 4153, 'fog': 4154, 'dee': 4155, 'accuraci': 4156, 'deceas': 4157, 'kumar': 4158, 'uncov': 4159, 'anchor': 4160, '1993': 4161, 'primit': 4162, 'fenc': 4163, 'austin': 4164, 'judgment': 4165, 'click': 4166, 'correctli': 4167, 'tarantino': 4168, 'exclus': 4169, 'antonioni': 4170, 'nathan': 4171, 'darn': 4172, 'trait': 4173, 'fabric': 4174, 'alec': 4175, 'fart': 4176, 'patienc': 4177, 'vanc': 4178, 'seldom': 4179, '2008': 4180, 'debt': 4181, 'unfair': 4182, 'tax': 4183, 'sheet': 4184, 'behold': 4185, 'temper': 4186, 'hallucin': 4187, '1995': 4188, 'roller': 4189, 'slam': 4190, 'clerk': 4191, 'enforc': 4192, 'dreck': 4193, '3000': 4194, '1971': 4195, 'wretch': 4196, 'sand': 4197, 'shanghai': 4198, 'mode': 4199, 'conduct': 4200, 'nicola': 4201, 'crippl': 4202, 'malon': 4203, 'fought': 4204, 'ritual': 4205, 'pocket': 4206, 'sunni': 4207, 'wang': 4208, 'bake': 4209, 'sustain': 4210, 'logan': 4211, 'joel': 4212, 'murray': 4213, 'legaci': 4214, 'divid': 4215, 'guitar': 4216, 'soup': 4217, 'preposter': 4218, 'schedul': 4219, 'despis': 4220, 'squad': 4221, 'penni': 4222, 'bridget': 4223, 'isabel': 4224, 'rita': 4225, 'fundament': 4226, 'stark': 4227, 'scriptwrit': 4228, 'clau': 4229, 'runner': 4230, 'preston': 4231, 'robber': 4232, 'critiqu': 4233, 'technicolor': 4234, 'grief': 4235, 'sweep': 4236, 'exhaust': 4237, 'conscious': 4238, 'tactic': 4239, 'stuart': 4240, 'shell': 4241, 'bias': 4242, 'canyon': 4243, 'pete': 4244, 'helpless': 4245, 'outlin': 4246, 'phil': 4247, 'sugar': 4248, 'kansa': 4249, 'marc': 4250, 'connor': 4251, 'implic': 4252, 'drove': 4253, 'invad': 4254, 'agenc': 4255, 'inabl': 4256, 'consciou': 4257, 'newman': 4258, 'restrict': 4259, 'propos': 4260, 'boyl': 4261, 'alicia': 4262, 'sentinel': 4263, 'liberti': 4264, 'rehash': 4265, 'lacklust': 4266, 'vomit': 4267, 'jacket': 4268, 'gregori': 4269, 'culmin': 4270, 'downey': 4271, 'palanc': 4272, 'jodi': 4273, 'rear': 4274, 'delv': 4275, 'russia': 4276, 'alley': 4277, 'flair': 4278, 'bloom': 4279, 'unexpectedli': 4280, 'passag': 4281, 'sniper': 4282, 'cigarett': 4283, '22': 4284, 'wrench': 4285, 'rampag': 4286, 'behaviour': 4287, 'rehears': 4288, 'karl': 4289, 'aesthet': 4290, 'tendenc': 4291, '1936': 4292, 'improb': 4293, 'tripe': 4294, 'feat': 4295, 'horn': 4296, 'awhil': 4297, 'delet': 4298, 'mccoy': 4299, 'pale': 4300, 'arrow': 4301, 'rod': 4302, 'bacon': 4303, 'chainsaw': 4304, 'cap': 4305, 'asylum': 4306, 'sharon': 4307, 'foxx': 4308, 'ladder': 4309, 'yeti': 4310, 'vet': 4311, 'lush': 4312, 'kolchak': 4313, 'minu': 4314, 'conscienc': 4315, 'globe': 4316, '1978': 4317, 'loneli': 4318, 'paramount': 4319, 'underneath': 4320, 'fright': 4321, 'newcom': 4322, 'rhythm': 4323, '1988': 4324, 'spice': 4325, 'shortcom': 4326, 'elit': 4327, 'sung': 4328, 'financ': 4329, 'lurk': 4330, 'hungri': 4331, 'scoop': 4332, 'amazon': 4333, 'suffici': 4334, 'coaster': 4335, 'rumor': 4336, 'weav': 4337, 'prank': 4338, 'wagner': 4339, 'el': 4340, 'stream': 4341, 'tasteless': 4342, 'suspicion': 4343, 'wildli': 4344, '1920': 4345, 'hackney': 4346, 'tomorrow': 4347, 'filler': 4348, 'aristocrat': 4349, 'basing': 4350, '19th': 4351, 'visitor': 4352, 'hulk': 4353, 'paradis': 4354, 'thunderbird': 4355, 'straightforward': 4356, 'teas': 4357, 'beverli': 4358, 'brit': 4359, 'iv': 4360, 'literari': 4361, 'abrupt': 4362, 'smell': 4363, '1939': 4364, '1989': 4365, 'standout': 4366, 'en': 4367, 'recogniz': 4368, 'bread': 4369, 'heist': 4370, 'leigh': 4371, 'chavez': 4372, 'tierney': 4373, 'cancer': 4374, 'penn': 4375, 'ingeni': 4376, '75': 4377, 'atroc': 4378, 'wwe': 4379, 'dirt': 4380, 'naughti': 4381, 'curli': 4382, 'couch': 4383, 'hopkin': 4384, 'worship': 4385, 'secondari': 4386, 'ram': 4387, 'choppi': 4388, 'rub': 4389, 'entranc': 4390, 'inmat': 4391, 'paxton': 4392, 'grudg': 4393, 'posey': 4394, 'counterpart': 4395, 'minist': 4396, 'quietli': 4397, 'impos': 4398, 'springer': 4399, 'chamberlain': 4400, 'lectur': 4401, 'immers': 4402, 'yearn': 4403, 'heartfelt': 4404, 'bernard': 4405, 'watcher': 4406, 'nolan': 4407, 'cattl': 4408, 'clan': 4409, 'ace': 4410, 'morbid': 4411, 'sublim': 4412, 'lindsay': 4413, 'moreov': 4414, 'injuri': 4415, 'skeptic': 4416, 'quaid': 4417, 'attenborough': 4418, 'net': 4419, 'policeman': 4420, 'sassi': 4421, 'laurenc': 4422, '1986': 4423, 'nemesi': 4424, 'convert': 4425, 'ratso': 4426, 'enthral': 4427, 'esther': 4428, 'missil': 4429, 'geni': 4430, 'variat': 4431, 'misguid': 4432, 'entitl': 4433, 'duel': 4434, 'transcend': 4435, 'facil': 4436, 'youngest': 4437, 'puppi': 4438, 'tyler': 4439, 'bye': 4440, 'reliabl': 4441, 'diari': 4442, 'characteris': 4443, 'hopelessli': 4444, 'brood': 4445, 'uncut': 4446, 'moder': 4447, 'unexplain': 4448, 'cruelti': 4449, 'out': 4450, 'dont': 4451, 'enabl': 4452, 'vader': 4453, 'graini': 4454, 'obstacl': 4455, 'buzz': 4456, 'egg': 4457, 'spiral': 4458, 'setup': 4459, 'poe': 4460, 'hk': 4461, 'artsi': 4462, 'kitti': 4463, 'bean': 4464, 'grin': 4465, 'carlito': 4466, 'mytholog': 4467, 'steadi': 4468, 'rosemari': 4469, '1979': 4470, 'kidman': 4471, 'bronson': 4472, 'hammi': 4473, 'oblig': 4474, 'hain': 4475, 'narrow': 4476, 'heap': 4477, '1969': 4478, 'disastr': 4479, 'baffl': 4480, 'decept': 4481, 'niec': 4482, 'effici': 4483, 'bewar': 4484, 'christin': 4485, 'athlet': 4486, 'bounc': 4487, 'gina': 4488, 'clueless': 4489, 'fuel': 4490, 'patricia': 4491, 'gillian': 4492, 'exterior': 4493, 'martha': 4494, 'underworld': 4495, 'weather': 4496, 'acquaint': 4497, 'brendan': 4498, 'sweat': 4499, 'spontan': 4500, 'despic': 4501, 'kline': 4502, 'preming': 4503, 'insipid': 4504, 'trigger': 4505, 'goof': 4506, 'circu': 4507, 'preachi': 4508, 'mermaid': 4509, 'suprem': 4510, 'sleepwalk': 4511, 'hepburn': 4512, 'housewif': 4513, 'tick': 4514, 'uh': 4515, 'viewpoint': 4516, 'shatter': 4517, '19': 4518, 'candl': 4519, 'biker': 4520, 'astound': 4521, 'scar': 4522, 'dilemma': 4523, 'headach': 4524, 'harmless': 4525, 'lester': 4526, 'loi': 4527, 'taboo': 4528, 'fontain': 4529, 'analyz': 4530, 'virtu': 4531, 'rome': 4532, '73': 4533, 'loath': 4534, 'injur': 4535, 'outlaw': 4536, 'dandi': 4537, 'enlist': 4538, 'sooner': 4539, 'renaiss': 4540, 'mayhem': 4541, 'angst': 4542, 'ebert': 4543, 'cassavet': 4544, 'contempt': 4545, 'whore': 4546, 'immatur': 4547, 'guin': 4548, 'spade': 4549, 'camcord': 4550, 'dismal': 4551, 'sox': 4552, 'slimi': 4553, 'dish': 4554, 'hooker': 4555, 'steer': 4556, 'zoom': 4557, 'oldest': 4558, 'claustrophob': 4559, 'tripl': 4560, 'surgeri': 4561, 'stair': 4562, 'foolish': 4563, 'stimul': 4564, 'overlong': 4565, 'amor': 4566, 'boston': 4567, 'hokey': 4568, 'intric': 4569, 'salt': 4570, 'fluff': 4571, 'phenomenon': 4572, 'filth': 4573, 'redund': 4574, 'macho': 4575, 'scorses': 4576, 'idol': 4577, 'ariel': 4578, 'bent': 4579, 'gere': 4580, 'hostag': 4581, 'corbett': 4582, 'glorifi': 4583, 'strongest': 4584, '1981': 4585, 'conquer': 4586, 'mount': 4587, 'margin': 4588, 'zane': 4589, 'transplant': 4590, 'cow': 4591, 'alvin': 4592, 'proport': 4593, 'remad': 4594, 'cush': 4595, 'schlock': 4596, 'mutual': 4597, 'flirt': 4598, 'muscl': 4599, 'corman': 4600, 'spinal': 4601, 'gabl': 4602, 'keen': 4603, 'astronaut': 4604, 'dwarf': 4605, 'shred': 4606, 'nolt': 4607, 'down': 4608, 'assert': 4609, 'gasp': 4610, 'obligatori': 4611, 'messi': 4612, 'shield': 4613, 'flashi': 4614, '1976': 4615, 'preced': 4616, 'cohen': 4617, 'flag': 4618, 'antagonist': 4619, 'harold': 4620, 'radiat': 4621, 'spree': 4622, 'beard': 4623, 'naschi': 4624, 'rhyme': 4625, 'frantic': 4626, 'joker': 4627, 'faint': 4628, 'trivia': 4629, 'widescreen': 4630, 'fascist': 4631, 'perman': 4632, '95': 4633, 'flock': 4634, 'repris': 4635, 'www': 4636, 'neurot': 4637, 'danish': 4638, 'archiv': 4639, 'scandal': 4640, 'discern': 4641, 'sensual': 4642, 'interestingli': 4643, 'bitten': 4644, 'claud': 4645, 'bachelor': 4646, 'hara': 4647, '28': 4648, 'resum': 4649, '1945': 4650, 'someday': 4651, 'fishburn': 4652, 'info': 4653, 'strive': 4654, 'raj': 4655, 'vaniti': 4656, 'triangl': 4657, 'divin': 4658, 'carey': 4659, 'instruct': 4660, 'off': 4661, 'wield': 4662, 'barn': 4663, 'mobil': 4664, 'boob': 4665, 'persuad': 4666, 'inflict': 4667, 'brush': 4668, 'ritchi': 4669, 'aborigin': 4670, 'deer': 4671, 'departur': 4672, 'mol': 4673, 'senior': 4674, 'pixar': 4675, 'carlo': 4676, 'biblic': 4677, 'kathryn': 4678, 'europa': 4679, 'helm': 4680, 'submit': 4681, 'miracul': 4682, 'casino': 4683, 'rot': 4684, 'recit': 4685, 'dim': 4686, 'pacif': 4687, 'harrison': 4688, 'heartwarm': 4689, 'vibrant': 4690, 'colin': 4691, 'prophet': 4692, 'mobster': 4693, 'hapless': 4694, 'cher': 4695, 'fragil': 4696, 'melissa': 4697, 'dylan': 4698, 'banter': 4699, 'traffic': 4700, 'proclaim': 4701, 'undermin': 4702, 'artwork': 4703, 'cliffhang': 4704, 'hug': 4705, 'timberlak': 4706, 'loretta': 4707, 'hilar': 4708, 'clad': 4709, 'cycl': 4710, 'bate': 4711, 'jade': 4712, 'ish': 4713, 'cb': 4714, 'parson': 4715, 'frontier': 4716, 'earnest': 4717, 'neill': 4718, 'axe': 4719, 'pickford': 4720, 'wendigo': 4721, 'dame': 4722, 'luka': 4723, 'anton': 4724, 'vile': 4725, 'http': 4726, 'trier': 4727, 'orphan': 4728, 'breakfast': 4729, 'legitim': 4730, 'lucil': 4731, 'static': 4732, 'toronto': 4733, 'electron': 4734, 'estrang': 4735, 'nope': 4736, 'pc': 4737, 'token': 4738, 'foil': 4739, 'venom': 4740, 'feast': 4741, 'choke': 4742, 'akin': 4743, 'sicken': 4744, 'shepherd': 4745, 'northern': 4746, 'isra': 4747, 'alexandr': 4748, 'aris': 4749, 'jordan': 4750, 'milo': 4751, 'bikini': 4752, 'misfortun': 4753, 'holocaust': 4754, 'seedi': 4755, 'winchest': 4756, 'cerebr': 4757, 'eli': 4758, 'mason': 4759, 'blatantli': 4760, 'wardrob': 4761, 'lui': 4762, 'illus': 4763, 'vanessa': 4764, 'articl': 4765, 'marlon': 4766, 'bondag': 4767, 'flavor': 4768, 'razor': 4769, 'uma': 4770, 'jo': 4771, 'antholog': 4772, 'redneck': 4773, 'rooki': 4774, 'mathieu': 4775, 'highway': 4776, 'cartoonish': 4777, 'outdat': 4778, 'psych': 4779, 'retriev': 4780, 'deem': 4781, 'frog': 4782, 'disregard': 4783, 'feminin': 4784, 'clinic': 4785, 'peer': 4786, 'ideolog': 4787, 'howl': 4788, 'oppon': 4789, 'charlton': 4790, 'huston': 4791, 'affleck': 4792, 'boyer': 4793, 'glare': 4794, 'fifth': 4795, 'swept': 4796, 'leather': 4797, 'ceremoni': 4798, 'abund': 4799, 'dudley': 4800, 'turd': 4801, 'tack': 4802, 'smack': 4803, 'linear': 4804, 'nightclub': 4805, 'comprehend': 4806, 'knightley': 4807, 'shorter': 4808, 'wrestler': 4809, 'audrey': 4810, 'magician': 4811, 'gunga': 4812, 'styliz': 4813, 'gilbert': 4814, 'collector': 4815, 'sleaz': 4816, 'salman': 4817, 'lighter': 4818, 'newer': 4819, 'evolut': 4820, 'mitch': 4821, 'senat': 4822, 'greet': 4823, 'monument': 4824, 'cemeteri': 4825, 'boo': 4826, 'conrad': 4827, 'client': 4828, 'bastard': 4829, 'plate': 4830, 'moe': 4831, 'energet': 4832, 'breakdown': 4833, 'potter': 4834, '1991': 4835, 'btw': 4836, '1994': 4837, 'summar': 4838, 'tara': 4839, 'corn': 4840, 'compris': 4841, 'durat': 4842, '4th': 4843, 'lifeless': 4844, 'uniformli': 4845, 'toe': 4846, 'snatch': 4847, 'phenomen': 4848, 'einstein': 4849, 'spawn': 4850, 'bogu': 4851, 'deliver': 4852, 'cuban': 4853, 'chip': 4854, 'whack': 4855, 'lavish': 4856, 'braveheart': 4857, 'goldsworthi': 4858, 'spine': 4859, 'outright': 4860, 'firmli': 4861, 'replay': 4862, 'neatli': 4863, 'cecil': 4864, 'historian': 4865, 'embark': 4866, 'luxuri': 4867, 'appl': 4868, 'jam': 4869, 'ol': 4870, 'nina': 4871, 'eleven': 4872, 'fluid': 4873, 'healthi': 4874, 'spectacl': 4875, 'mcqueen': 4876, 'pronounc': 4877, 'capot': 4878, 'undertak': 4879, 'bori': 4880, 'jule': 4881, 'trauma': 4882, 'jedi': 4883, 'kent': 4884, 'constitut': 4885, 'occup': 4886, '1974': 4887, 'ie': 4888, 'evelyn': 4889, 'signal': 4890, 'jare': 4891, 'liu': 4892, 'armstrong': 4893, 'sorrow': 4894, '1977': 4895, 'clara': 4896, 'wtf': 4897, 'judd': 4898, 'undead': 4899, 'bulk': 4900, 'inaccuraci': 4901, 'randolph': 4902, 'gilliam': 4903, 'alleg': 4904, 'belli': 4905, 'creek': 4906, 'lex': 4907, 'kazan': 4908, 'blur': 4909, 'abound': 4910, 'meal': 4911, 'unsuspect': 4912, 'truman': 4913, 'mum': 4914, 'miami': 4915, 'comprehens': 4916, 'relentless': 4917, 'kiddi': 4918, 'lanc': 4919, 'unattract': 4920, 'inclus': 4921, 'lauren': 4922, 'paula': 4923, 'poker': 4924, 'vain': 4925, 'goldblum': 4926, 'pioneer': 4927, '1985': 4928, 'decapit': 4929, 'conan': 4930, 'subtli': 4931, 'spray': 4932, 'forgiven': 4933, 'groan': 4934, 'comb': 4935, 'antonio': 4936, 'cape': 4937, 'miniseri': 4938, 'id': 4939, 'galaxi': 4940, 'genet': 4941, 'knee': 4942, 'inaccur': 4943, 'basket': 4944, 'sacrif': 4945, 'bait': 4946, 'carmen': 4947, 'walt': 4948, 'curtain': 4949, 'congratul': 4950, 'ash': 4951, 'tokyo': 4952, 'aussi': 4953, 'fruit': 4954, 'palm': 4955, 'rosario': 4956, 'vignett': 4957, 'sidewalk': 4958, 'pepper': 4959, 'propheci': 4960, 'roar': 4961, 'bsg': 4962, 'porter': 4963, 'asset': 4964, 'spill': 4965, 'mice': 4966, 'evan': 4967, 'drone': 4968, 'orchestr': 4969, 'vastli': 4970, 'hackman': 4971, 'handicap': 4972, 'sparkl': 4973, 'detach': 4974, 'dubiou': 4975, 'substanti': 4976, 'assort': 4977, 'sophi': 4978, 'victorian': 4979, 'bravo': 4980, 'ghetto': 4981, 'hostil': 4982, 'playboy': 4983, 'profil': 4984, 'reincarn': 4985, 'casper': 4986, 'motorcycl': 4987, 'turtl': 4988, 'ingrid': 4989, 'macabr': 4990, 'weari': 4991, 'cypher': 4992, 'frontal': 4993, 'incorrect': 4994, 'epitom': 4995, 'verg': 4996, 'growth': 4997, 'weaker': 4998, 'monti': 4999}\n"
     ]
    }
   ],
   "source": [
    "# TODO: Use this space to determine the five most frequently appearing words in the training set.\n",
    "print(word_dict)"
   ]
  },
  {
   "cell_type": "markdown",
   "metadata": {},
   "source": [
    "### Save `word_dict`\n",
    "\n",
    "Later on when we construct an endpoint which processes a submitted review we will need to make use of the `word_dict` which we have created. As such, we will save it to a file now for future use."
   ]
  },
  {
   "cell_type": "code",
   "execution_count": 18,
   "metadata": {},
   "outputs": [],
   "source": [
    "data_dir = '../data/pytorch' # The folder we will use for storing data\n",
    "if not os.path.exists(data_dir): # Make sure that the folder exists\n",
    "    os.makedirs(data_dir)"
   ]
  },
  {
   "cell_type": "code",
   "execution_count": 19,
   "metadata": {},
   "outputs": [],
   "source": [
    "with open(os.path.join(data_dir, 'word_dict.pkl'), \"wb\") as f:\n",
    "    pickle.dump(word_dict, f)"
   ]
  },
  {
   "cell_type": "code",
   "execution_count": 20,
   "metadata": {},
   "outputs": [
    {
     "name": "stdout",
     "output_type": "stream",
     "text": [
      "total 88\r\n",
      "-rw-rw-r-- 1 ec2-user ec2-user   603 Jun 28 09:24 README.md\r\n",
      "-rw-rw-r-- 1 ec2-user ec2-user 63397 Jul 10 09:48 SageMaker Project.ipynb\r\n",
      "drwxrwxr-x 2 ec2-user ec2-user  4096 Jun 28 09:24 \u001b[0m\u001b[01;34mserve\u001b[0m/\r\n",
      "drwxrwxr-x 3 ec2-user ec2-user  4096 Jul  8 10:27 \u001b[01;34mtrain\u001b[0m/\r\n",
      "-rw-rw-r-- 1 ec2-user ec2-user  5895 Jun 28 09:24 \u001b[01;35mWeb App Diagram.svg\u001b[0m\r\n",
      "drwxrwxr-x 2 ec2-user ec2-user  4096 Jun 28 09:24 \u001b[01;34mwebsite\u001b[0m/\r\n",
      "-rw-rw-r-- 1 ec2-user ec2-user     0 Jul  3 11:18 word_dict.pkl\r\n"
     ]
    }
   ],
   "source": [
    "ls -l"
   ]
  },
  {
   "cell_type": "markdown",
   "metadata": {},
   "source": [
    "### Transform the reviews\n",
    "\n",
    "Now that we have our word dictionary which allows us to transform the words appearing in the reviews into integers, it is time to make use of it and convert our reviews to their integer sequence representation, making sure to pad or truncate to a fixed length, which in our case is `500`."
   ]
  },
  {
   "cell_type": "code",
   "execution_count": 21,
   "metadata": {},
   "outputs": [],
   "source": [
    "def convert_and_pad(word_dict, sentence, pad=500):\n",
    "    NOWORD = 0 # We will use 0 to represent the 'no word' category\n",
    "    INFREQ = 1 # and we use 1 to represent the infrequent words, i.e., words not appearing in word_dict\n",
    "    \n",
    "    working_sentence = [NOWORD] * pad\n",
    "    \n",
    "    for word_index, word in enumerate(sentence[:pad]):\n",
    "        if word in word_dict:\n",
    "            working_sentence[word_index] = word_dict[word]\n",
    "        else:\n",
    "            working_sentence[word_index] = INFREQ\n",
    "            \n",
    "    return working_sentence, min(len(sentence), pad)\n",
    "\n",
    "def convert_and_pad_data(word_dict, data, pad=500):\n",
    "    result = []\n",
    "    lengths = []\n",
    "    \n",
    "    for sentence in data:\n",
    "        converted, leng = convert_and_pad(word_dict, sentence, pad)\n",
    "        result.append(converted)\n",
    "        lengths.append(leng)\n",
    "        \n",
    "    return np.array(result), np.array(lengths)"
   ]
  },
  {
   "cell_type": "code",
   "execution_count": 22,
   "metadata": {},
   "outputs": [],
   "source": [
    "train_X, train_X_len = convert_and_pad_data(word_dict, train_X)\n",
    "test_X, test_X_len = convert_and_pad_data(word_dict, test_X)"
   ]
  },
  {
   "cell_type": "markdown",
   "metadata": {},
   "source": [
    "As a quick check to make sure that things are working as intended, check to see what one of the reviews in the training set looks like after having been processeed. Does this look reasonable? What is the length of a review in the training set?"
   ]
  },
  {
   "cell_type": "code",
   "execution_count": 23,
   "metadata": {},
   "outputs": [
    {
     "name": "stdout",
     "output_type": "stream",
     "text": [
      "[   1  704    1 1222    1    1    1    1  894    1    1    1 1732    1\n",
      "  704    1    1 1096 1206  704    1  704 1512  894  704 1440    1    1\n",
      " 1045    1 1206    1    1 1768  704    1 1045    1  894    1    1    1\n",
      " 1768    1    1    1    1 1768  704    1  894 1768    1 1206    1  894\n",
      "    1  704 1206    1    1    1    1 1497    1    1    1 1222    1    1\n",
      " 1916    1 1222    1 1916  704    1    1    1    1  425  704    1    1\n",
      "  894    1 1206  704    1    1    1    1 1768  704 1497    1    1    1\n",
      " 1222 1222    1    1    1    1 1497  704    1    1 1206    1  704    1\n",
      "    1    1    1    1 1916    1 1222 1222    1    1    1    1  704    1\n",
      " 1497  704    1    1 1768  704    1 1045  704  704 1222    1    1  425\n",
      "    1    1    1    1    1  425 1096    1    1 1768  704    1    1    1\n",
      "  704    1 1497    1    1    1 1222    1    1 1916    1 1222    1 1916\n",
      "  704    1    1    1    1    1    1 1768    1    1    1    1    1 1811\n",
      " 1768    1    1    1    1    1    1 1497    1    1    1 1222    1 1916\n",
      "  704    1 1768    1    1    1 1440  704 1206 1045    1 1206    1    1\n",
      " 1497  894  704    1    1 1497    1    1 1768    1    1    1    1    1\n",
      " 1732    1  704    1    1    1    1    1    1    1  704 1206  704 1497\n",
      " 1120  704 1206    1    1    1    1    1 1120    1    1 1497    1 1440\n",
      " 1222    1    1    1 1497 1120    1    1    1    1    1 1222    1    1\n",
      "  704 1206    1    1    1    1    1 1120    1    1    1    1    1 1768\n",
      " 1206    1 1222 1222    1    1 1206  704    1 1222    1    1    1    1\n",
      "  894    1    1  704 3237 1096  704 1497  894  704    1    1    1    1\n",
      "    1    1    1    1 1222 1811    1    1    1    1    1 1768    1    1\n",
      "    1    1 1497 1120    1    1    1 1768    1    1    1    1    1    1\n",
      "    1 1497  704    1 1120 1206  704    1    1    1    1 1768    1 1497\n",
      " 1120    1    1    1  704 1222 1222    1 1045    1 1222    1  704    1\n",
      "    1    1    1    1 1768    1    1  704    1    1 1768  704    1 1768\n",
      "  704 1222    1  894    1 1440    1  704 1206    1    1  704 3237 1096\n",
      "  704 1497  894  704    1    1  894    1 1096    1  704    1    1 1497\n",
      " 1222    1    1    1 1497  704    1    1  704 1206 1206    1 1206    1\n",
      "    1    1    1 1916    1 1222 1222    1    1    1 1222    1    1    1\n",
      "    1    1    1 1768  704    1 1811 1768    1 1222  704    1    1    1\n",
      " 1206    1 1497  704    1  425 1096 1497  894 1768    1    1    1    1\n",
      "    1 1120    1 1732  704    1    1    1    1    1    1    1 1497    1\n",
      "    1    1    1 1768    1 1222 1045    1    1 1096    1    1    1 1045\n",
      "    1    1    1    1    1    1    0    0    0    0]\n",
      "\n",
      "\n",
      "500\n"
     ]
    }
   ],
   "source": [
    "# Use this cell to examine one of the processed reviews to make sure everything is working as intended.\n",
    "print(train_X[51])\n",
    "print(\"\\n\")\n",
    "print(len(train_X[21]))"
   ]
  },
  {
   "cell_type": "markdown",
   "metadata": {},
   "source": [
    "**Question:** In the cells above we use the `preprocess_data` and `convert_and_pad_data` methods to process both the training and testing set. Why or why not might this be a problem?"
   ]
  },
  {
   "cell_type": "markdown",
   "metadata": {},
   "source": [
    "**Answer:** This is the right way preproces data. You want your data to be in the same format for both the Training and Testing sets otherwise you're going be optimizing for one thing and testing on another."
   ]
  },
  {
   "cell_type": "markdown",
   "metadata": {},
   "source": [
    "## Step 3: Upload the data to S3\n",
    "\n",
    "As in the XGBoost notebook, we will need to upload the training dataset to S3 in order for our training code to access it. For now we will save it locally and we will upload to S3 later on.\n",
    "\n",
    "### Save the processed training dataset locally\n",
    "\n",
    "It is important to note the format of the data that we are saving as we will need to know it when we write the training code. In our case, each row of the dataset has the form `label`, `length`, `review[500]` where `review[500]` is a sequence of `500` integers representing the words in the review."
   ]
  },
  {
   "cell_type": "code",
   "execution_count": 24,
   "metadata": {},
   "outputs": [],
   "source": [
    "import pandas as pd\n",
    "    \n",
    "pd.concat([pd.DataFrame(train_y), pd.DataFrame(train_X_len), pd.DataFrame(train_X)], axis=1) \\\n",
    "        .to_csv(os.path.join(data_dir, 'train.csv'), header=False, index=False)"
   ]
  },
  {
   "cell_type": "markdown",
   "metadata": {},
   "source": [
    "### Uploading the training data\n",
    "\n",
    "\n",
    "Next, we need to upload the training data to the SageMaker default S3 bucket so that we can provide access to it while training our model."
   ]
  },
  {
   "cell_type": "code",
   "execution_count": 25,
   "metadata": {},
   "outputs": [],
   "source": [
    "import sagemaker\n",
    "\n",
    "sagemaker_session = sagemaker.Session()\n",
    "\n",
    "bucket = sagemaker_session.default_bucket()\n",
    "prefix = 'sagemaker/sentiment_rnn'\n",
    "\n",
    "role = sagemaker.get_execution_role()"
   ]
  },
  {
   "cell_type": "code",
   "execution_count": 26,
   "metadata": {},
   "outputs": [],
   "source": [
    "input_data = sagemaker_session.upload_data(path=data_dir, bucket=bucket, key_prefix=prefix)"
   ]
  },
  {
   "cell_type": "markdown",
   "metadata": {},
   "source": [
    "**NOTE:** The cell above uploads the entire contents of our data directory. This includes the `word_dict.pkl` file. This is fortunate as we will need this later on when we create an endpoint that accepts an arbitrary review. For now, we will just take note of the fact that it resides in the data directory (and so also in the S3 training bucket) and that we will need to make sure it gets saved in the model directory."
   ]
  },
  {
   "cell_type": "markdown",
   "metadata": {},
   "source": [
    "## Step 4: Build and Train the PyTorch Model\n",
    "\n",
    "In the XGBoost notebook we discussed what a model is in the SageMaker framework. In particular, a model comprises three objects\n",
    "\n",
    " - Model Artifacts,\n",
    " - Training Code, and\n",
    " - Inference Code,\n",
    " \n",
    "each of which interact with one another. In the XGBoost example we used training and inference code that was provided by Amazon. Here we will still be using containers provided by Amazon with the added benefit of being able to include our own custom code.\n",
    "\n",
    "We will start by implementing our own neural network in PyTorch along with a training script. For the purposes of this project we have provided the necessary model object in the `model.py` file, inside of the `train` folder. You can see the provided implementation by running the cell below."
   ]
  },
  {
   "cell_type": "code",
   "execution_count": 27,
   "metadata": {},
   "outputs": [
    {
     "name": "stdout",
     "output_type": "stream",
     "text": [
      "\u001b[34mimport\u001b[39;49;00m \u001b[04m\u001b[36mtorch.nn\u001b[39;49;00m \u001b[34mas\u001b[39;49;00m \u001b[04m\u001b[36mnn\u001b[39;49;00m\r\n",
      "\r\n",
      "\u001b[34mclass\u001b[39;49;00m \u001b[04m\u001b[32mLSTMClassifier\u001b[39;49;00m(nn.Module):\r\n",
      "    \u001b[33m\"\"\"\u001b[39;49;00m\r\n",
      "\u001b[33m    This is the simple RNN model we will be using to perform Sentiment Analysis.\u001b[39;49;00m\r\n",
      "\u001b[33m    \"\"\"\u001b[39;49;00m\r\n",
      "\r\n",
      "    \u001b[34mdef\u001b[39;49;00m \u001b[32m__init__\u001b[39;49;00m(\u001b[36mself\u001b[39;49;00m, embedding_dim, hidden_dim, vocab_size):\r\n",
      "        \u001b[33m\"\"\"\u001b[39;49;00m\r\n",
      "\u001b[33m        Initialize the model by settingg up the various layers.\u001b[39;49;00m\r\n",
      "\u001b[33m        \"\"\"\u001b[39;49;00m\r\n",
      "        \u001b[36msuper\u001b[39;49;00m(LSTMClassifier, \u001b[36mself\u001b[39;49;00m).\u001b[32m__init__\u001b[39;49;00m()\r\n",
      "\r\n",
      "        \u001b[36mself\u001b[39;49;00m.embedding = nn.Embedding(vocab_size, embedding_dim, padding_idx=\u001b[34m0\u001b[39;49;00m)\r\n",
      "        \u001b[36mself\u001b[39;49;00m.lstm = nn.LSTM(embedding_dim, hidden_dim)\r\n",
      "        \u001b[36mself\u001b[39;49;00m.dense = nn.Linear(in_features=hidden_dim, out_features=\u001b[34m1\u001b[39;49;00m)\r\n",
      "        \u001b[36mself\u001b[39;49;00m.sig = nn.Sigmoid()\r\n",
      "        \r\n",
      "        \u001b[36mself\u001b[39;49;00m.word_dict = \u001b[36mNone\u001b[39;49;00m\r\n",
      "\r\n",
      "    \u001b[34mdef\u001b[39;49;00m \u001b[32mforward\u001b[39;49;00m(\u001b[36mself\u001b[39;49;00m, x):\r\n",
      "        \u001b[33m\"\"\"\u001b[39;49;00m\r\n",
      "\u001b[33m        Perform a forward pass of our model on some input.\u001b[39;49;00m\r\n",
      "\u001b[33m        \"\"\"\u001b[39;49;00m\r\n",
      "        x = x.t()\r\n",
      "        lengths = x[\u001b[34m0\u001b[39;49;00m,:]\r\n",
      "        reviews = x[\u001b[34m1\u001b[39;49;00m:,:]\r\n",
      "        embeds = \u001b[36mself\u001b[39;49;00m.embedding(reviews)\r\n",
      "        lstm_out, _ = \u001b[36mself\u001b[39;49;00m.lstm(embeds)\r\n",
      "        out = \u001b[36mself\u001b[39;49;00m.dense(lstm_out)\r\n",
      "        out = out[lengths - \u001b[34m1\u001b[39;49;00m, \u001b[36mrange\u001b[39;49;00m(\u001b[36mlen\u001b[39;49;00m(lengths))]\r\n",
      "        \u001b[34mreturn\u001b[39;49;00m \u001b[36mself\u001b[39;49;00m.sig(out.squeeze())\r\n"
     ]
    }
   ],
   "source": [
    "!pygmentize train/model.py"
   ]
  },
  {
   "cell_type": "markdown",
   "metadata": {},
   "source": [
    "The important takeaway from the implementation provided is that there are three parameters that we may wish to tweak to improve the performance of our model. These are the embedding dimension, the hidden dimension and the size of the vocabulary. We will likely want to make these parameters configurable in the training script so that if we wish to modify them we do not need to modify the script itself. We will see how to do this later on. To start we will write some of the training code in the notebook so that we can more easily diagnose any issues that arise.\n",
    "\n",
    "First we will load a small portion of the training data set to use as a sample. It would be very time consuming to try and train the model completely in the notebook as we do not have access to a gpu and the compute instance that we are using is not particularly powerful. However, we can work on a small bit of the data to get a feel for how our training script is behaving."
   ]
  },
  {
   "cell_type": "code",
   "execution_count": 28,
   "metadata": {},
   "outputs": [],
   "source": [
    "import torch\n",
    "import torch.utils.data\n",
    "\n",
    "# Read in only the first 250 rows\n",
    "train_sample = pd.read_csv(os.path.join(data_dir, 'train.csv'), header=None, names=None, nrows=250)\n",
    "\n",
    "# Turn the input pandas dataframe into tensors\n",
    "train_sample_y = torch.from_numpy(train_sample[[0]].values).float().squeeze()\n",
    "train_sample_X = torch.from_numpy(train_sample.drop([0], axis=1).values).long()\n",
    "\n",
    "# Build the dataset\n",
    "train_sample_ds = torch.utils.data.TensorDataset(train_sample_X, train_sample_y)\n",
    "# Build the dataloader\n",
    "train_sample_dl = torch.utils.data.DataLoader(train_sample_ds, batch_size=50)"
   ]
  },
  {
   "cell_type": "markdown",
   "metadata": {},
   "source": [
    "### (TODO) Writing the training method\n",
    "\n",
    "Next we need to write the training code itself. This should be very similar to training methods that you have written before to train PyTorch models. We will leave any difficult aspects such as model saving / loading and parameter loading until a little later."
   ]
  },
  {
   "cell_type": "code",
   "execution_count": 29,
   "metadata": {},
   "outputs": [],
   "source": [
    "def train(model, train_loader, epochs, optimizer, loss_fn, device):\n",
    "    for epoch in range(1, epochs + 1):\n",
    "        model.train()\n",
    "        total_loss = 0\n",
    "        \n",
    "        #hidden_state = init_hidden(model, 50)\n",
    "        \n",
    "        #hidden_state = tuple([each.data for each in hidden])\n",
    "        \n",
    "        for batch in train_loader:         \n",
    "            batch_X, batch_y = batch\n",
    "            \n",
    "            batch_X = batch_X.to(device)\n",
    "            batch_y = batch_y.to(device)\n",
    "            \n",
    "            # TODO: Complete this train method to train the model provided.\n",
    "            \n",
    "            model.zero_grad()\n",
    "            #optimizer.zero_grad()\n",
    "            output = model(batch_X)\n",
    "            loss = loss_fn(output, batch_y)\n",
    "            loss.backward()\n",
    "            optimizer.step()\n",
    "        \n",
    "            total_loss += loss.data.item()\n",
    "        print(\"Epoch: {}, BCELoss: {}\".format(epoch, total_loss / len(train_loader)))"
   ]
  },
  {
   "cell_type": "markdown",
   "metadata": {},
   "source": [
    "Supposing we have the training method above, we will test that it is working by writing a bit of code in the notebook that executes our training method on the small sample training set that we loaded earlier. The reason for doing this in the notebook is so that we have an opportunity to fix any errors that arise early when they are easier to diagnose."
   ]
  },
  {
   "cell_type": "code",
   "execution_count": 30,
   "metadata": {},
   "outputs": [
    {
     "name": "stdout",
     "output_type": "stream",
     "text": [
      "Epoch: 1, BCELoss: 0.6963387131690979\n",
      "Epoch: 2, BCELoss: 0.6883564233779907\n",
      "Epoch: 3, BCELoss: 0.6845295667648316\n",
      "Epoch: 4, BCELoss: 0.6818058729171753\n",
      "Epoch: 5, BCELoss: 0.679015326499939\n"
     ]
    }
   ],
   "source": [
    "import torch.optim as optim\n",
    "from train.model import LSTMClassifier\n",
    "\n",
    "device = torch.device(\"cuda\" if torch.cuda.is_available() else \"cpu\")\n",
    "model = LSTMClassifier(32, 100, 5000).to(device)\n",
    "optimizer = optim.Adam(model.parameters())\n",
    "loss_fn = torch.nn.BCELoss()\n",
    "\n",
    "train(model, train_sample_dl, 5, optimizer, loss_fn, device)"
   ]
  },
  {
   "cell_type": "markdown",
   "metadata": {},
   "source": [
    "In order to construct a PyTorch model using SageMaker we must provide SageMaker with a training script. We may optionally include a directory which will be copied to the container and from which our training code will be run. When the training container is executed it will check the uploaded directory (if there is one) for a `requirements.txt` file and install any required Python libraries, after which the training script will be run."
   ]
  },
  {
   "cell_type": "markdown",
   "metadata": {},
   "source": [
    "### (TODO) Training the model\n",
    "\n",
    "When a PyTorch model is constructed in SageMaker, an entry point must be specified. This is the Python file which will be executed when the model is trained. Inside of the `train` directory is a file called `train.py` which has been provided and which contains most of the necessary code to train our model. The only thing that is missing is the implementation of the `train()` method which you wrote earlier in this notebook.\n",
    "\n",
    "**TODO**: Copy the `train()` method written above and paste it into the `train/train.py` file where required.\n",
    "\n",
    "The way that SageMaker passes hyperparameters to the training script is by way of arguments. These arguments can then be parsed and used in the training script. To see how this is done take a look at the provided `train/train.py` file."
   ]
  },
  {
   "cell_type": "code",
   "execution_count": 31,
   "metadata": {},
   "outputs": [],
   "source": [
    "from sagemaker.pytorch import PyTorch\n",
    "\n",
    "estimator = PyTorch(entry_point=\"train.py\",\n",
    "                    source_dir=\"train\",\n",
    "                    role=role,\n",
    "                    framework_version='0.4.0',\n",
    "                    train_instance_count=1,\n",
    "                    train_instance_type='ml.p2.xlarge',\n",
    "                    hyperparameters={\n",
    "                        'epochs': 10,\n",
    "                        'hidden_dim': 200,\n",
    "                    })"
   ]
  },
  {
   "cell_type": "code",
   "execution_count": 32,
   "metadata": {},
   "outputs": [
    {
     "name": "stdout",
     "output_type": "stream",
     "text": [
      "2019-07-10 10:03:05 Starting - Starting the training job...\n",
      "2019-07-10 10:03:06 Starting - Launching requested ML instances......\n",
      "2019-07-10 10:04:06 Starting - Preparing the instances for training......\n",
      "2019-07-10 10:05:14 Downloading - Downloading input data...\n",
      "2019-07-10 10:05:54 Training - Downloading the training image...\n",
      "2019-07-10 10:06:18 Training - Training image download completed. Training in progress.\n",
      "\u001b[31mbash: cannot set terminal process group (-1): Inappropriate ioctl for device\u001b[0m\n",
      "\u001b[31mbash: no job control in this shell\u001b[0m\n",
      "\u001b[31m2019-07-10 10:06:19,379 sagemaker-containers INFO     Imported framework sagemaker_pytorch_container.training\u001b[0m\n",
      "\u001b[31m2019-07-10 10:06:19,404 sagemaker_pytorch_container.training INFO     Block until all host DNS lookups succeed.\u001b[0m\n",
      "\u001b[31m2019-07-10 10:06:22,447 sagemaker_pytorch_container.training INFO     Invoking user training script.\u001b[0m\n",
      "\u001b[31m2019-07-10 10:06:22,722 sagemaker-containers INFO     Module train does not provide a setup.py. \u001b[0m\n",
      "\u001b[31mGenerating setup.py\u001b[0m\n",
      "\u001b[31m2019-07-10 10:06:22,722 sagemaker-containers INFO     Generating setup.cfg\u001b[0m\n",
      "\u001b[31m2019-07-10 10:06:22,723 sagemaker-containers INFO     Generating MANIFEST.in\u001b[0m\n",
      "\u001b[31m2019-07-10 10:06:22,723 sagemaker-containers INFO     Installing module with the following command:\u001b[0m\n",
      "\u001b[31m/usr/bin/python -m pip install -U . -r requirements.txt\u001b[0m\n",
      "\u001b[31mProcessing /opt/ml/code\u001b[0m\n",
      "\u001b[31mCollecting pandas (from -r requirements.txt (line 1))\u001b[0m\n",
      "\u001b[31m  Downloading https://files.pythonhosted.org/packages/74/24/0cdbf8907e1e3bc5a8da03345c23cbed7044330bb8f73bb12e711a640a00/pandas-0.24.2-cp35-cp35m-manylinux1_x86_64.whl (10.0MB)\u001b[0m\n",
      "\u001b[31mCollecting numpy (from -r requirements.txt (line 2))\n",
      "  Downloading https://files.pythonhosted.org/packages/bb/ef/d5a21cbc094d3f4d5b5336494dbcc9550b70c766a8345513c7c24ed18418/numpy-1.16.4-cp35-cp35m-manylinux1_x86_64.whl (17.2MB)\u001b[0m\n",
      "\u001b[31mCollecting nltk (from -r requirements.txt (line 3))\n",
      "  Downloading https://files.pythonhosted.org/packages/87/16/4d247e27c55a7b6412e7c4c86f2500ae61afcbf5932b9e3491f8462f8d9e/nltk-3.4.4.zip (1.5MB)\u001b[0m\n",
      "\u001b[31mCollecting beautifulsoup4 (from -r requirements.txt (line 4))\n",
      "  Downloading https://files.pythonhosted.org/packages/1d/5d/3260694a59df0ec52f8b4883f5d23b130bc237602a1411fa670eae12351e/beautifulsoup4-4.7.1-py3-none-any.whl (94kB)\u001b[0m\n",
      "\u001b[31mCollecting html5lib (from -r requirements.txt (line 5))\n",
      "  Downloading https://files.pythonhosted.org/packages/a5/62/bbd2be0e7943ec8504b517e62bab011b4946e1258842bc159e5dfde15b96/html5lib-1.0.1-py2.py3-none-any.whl (117kB)\u001b[0m\n",
      "\u001b[31mRequirement already satisfied, skipping upgrade: python-dateutil>=2.5.0 in /usr/local/lib/python3.5/dist-packages (from pandas->-r requirements.txt (line 1)) (2.7.5)\u001b[0m\n",
      "\u001b[31mCollecting pytz>=2011k (from pandas->-r requirements.txt (line 1))\n",
      "  Downloading https://files.pythonhosted.org/packages/3d/73/fe30c2daaaa0713420d0382b16fbb761409f532c56bdcc514bf7b6262bb6/pytz-2019.1-py2.py3-none-any.whl (510kB)\u001b[0m\n",
      "\u001b[31mRequirement already satisfied, skipping upgrade: six in /usr/local/lib/python3.5/dist-packages (from nltk->-r requirements.txt (line 3)) (1.11.0)\u001b[0m\n",
      "\u001b[31mCollecting soupsieve>=1.2 (from beautifulsoup4->-r requirements.txt (line 4))\u001b[0m\n",
      "\u001b[31m  Downloading https://files.pythonhosted.org/packages/35/e3/25079e8911085ab76a6f2facae0771078260c930216ab0b0c44dc5c9bf31/soupsieve-1.9.2-py2.py3-none-any.whl\u001b[0m\n",
      "\u001b[31mCollecting webencodings (from html5lib->-r requirements.txt (line 5))\n",
      "  Downloading https://files.pythonhosted.org/packages/f4/24/2a3e3df732393fed8b3ebf2ec078f05546de641fe1b667ee316ec1dcf3b7/webencodings-0.5.1-py2.py3-none-any.whl\u001b[0m\n",
      "\u001b[31mBuilding wheels for collected packages: nltk, train\n",
      "  Running setup.py bdist_wheel for nltk: started\n",
      "  Running setup.py bdist_wheel for nltk: finished with status 'done'\n",
      "  Stored in directory: /root/.cache/pip/wheels/41/c8/31/48ace4468e236e0e8435f30d33e43df48594e4d53e367cf061\n",
      "  Running setup.py bdist_wheel for train: started\u001b[0m\n",
      "\u001b[31m  Running setup.py bdist_wheel for train: finished with status 'done'\n",
      "  Stored in directory: /tmp/pip-ephem-wheel-cache-lu2hcl51/wheels/35/24/16/37574d11bf9bde50616c67372a334f94fa8356bc7164af8ca3\u001b[0m\n",
      "\u001b[31mSuccessfully built nltk train\u001b[0m\n",
      "\u001b[31mInstalling collected packages: numpy, pytz, pandas, nltk, soupsieve, beautifulsoup4, webencodings, html5lib, train\n",
      "  Found existing installation: numpy 1.15.4\n",
      "    Uninstalling numpy-1.15.4:\u001b[0m\n",
      "\u001b[31m      Successfully uninstalled numpy-1.15.4\u001b[0m\n",
      "\u001b[31mSuccessfully installed beautifulsoup4-4.7.1 html5lib-1.0.1 nltk-3.4.4 numpy-1.16.4 pandas-0.24.2 pytz-2019.1 soupsieve-1.9.2 train-1.0.0 webencodings-0.5.1\u001b[0m\n",
      "\u001b[31mYou are using pip version 18.1, however version 19.1.1 is available.\u001b[0m\n",
      "\u001b[31mYou should consider upgrading via the 'pip install --upgrade pip' command.\u001b[0m\n",
      "\u001b[31m2019-07-10 10:06:34,608 sagemaker-containers INFO     Invoking user script\n",
      "\u001b[0m\n",
      "\u001b[31mTraining Env:\n",
      "\u001b[0m\n",
      "\u001b[31m{\n",
      "    \"user_entry_point\": \"train.py\",\n",
      "    \"additional_framework_parameters\": {},\n",
      "    \"channel_input_dirs\": {\n",
      "        \"training\": \"/opt/ml/input/data/training\"\n",
      "    },\n",
      "    \"output_dir\": \"/opt/ml/output\",\n",
      "    \"hosts\": [\n",
      "        \"algo-1\"\n",
      "    ],\n",
      "    \"hyperparameters\": {\n",
      "        \"hidden_dim\": 200,\n",
      "        \"epochs\": 10\n",
      "    },\n",
      "    \"resource_config\": {\n",
      "        \"hosts\": [\n",
      "            \"algo-1\"\n",
      "        ],\n",
      "        \"current_host\": \"algo-1\",\n",
      "        \"network_interface_name\": \"eth0\"\n",
      "    },\n",
      "    \"output_intermediate_dir\": \"/opt/ml/output/intermediate\",\n",
      "    \"current_host\": \"algo-1\",\n",
      "    \"num_cpus\": 4,\n",
      "    \"module_dir\": \"s3://sagemaker-us-east-2-618582783151/sagemaker-pytorch-2019-07-10-10-03-05-076/source/sourcedir.tar.gz\",\n",
      "    \"network_interface_name\": \"eth0\",\n",
      "    \"num_gpus\": 1,\n",
      "    \"module_name\": \"train\",\n",
      "    \"framework_module\": \"sagemaker_pytorch_container.training:main\",\n",
      "    \"output_data_dir\": \"/opt/ml/output/data\",\n",
      "    \"model_dir\": \"/opt/ml/model\",\n",
      "    \"log_level\": 20,\n",
      "    \"input_data_config\": {\n",
      "        \"training\": {\n",
      "            \"S3DistributionType\": \"FullyReplicated\",\n",
      "            \"RecordWrapperType\": \"None\",\n",
      "            \"TrainingInputMode\": \"File\"\n",
      "        }\n",
      "    },\n",
      "    \"job_name\": \"sagemaker-pytorch-2019-07-10-10-03-05-076\",\n",
      "    \"input_config_dir\": \"/opt/ml/input/config\",\n",
      "    \"input_dir\": \"/opt/ml/input\"\u001b[0m\n",
      "\u001b[31m}\n",
      "\u001b[0m\n",
      "\u001b[31mEnvironment variables:\n",
      "\u001b[0m\n",
      "\u001b[31mSM_USER_ENTRY_POINT=train.py\u001b[0m\n",
      "\u001b[31mSM_INPUT_CONFIG_DIR=/opt/ml/input/config\u001b[0m\n",
      "\u001b[31mSM_HP_EPOCHS=10\u001b[0m\n",
      "\u001b[31mSM_OUTPUT_INTERMEDIATE_DIR=/opt/ml/output/intermediate\u001b[0m\n",
      "\u001b[31mSM_INPUT_DIR=/opt/ml/input\u001b[0m\n",
      "\u001b[31mPYTHONPATH=/usr/local/bin:/usr/lib/python35.zip:/usr/lib/python3.5:/usr/lib/python3.5/plat-x86_64-linux-gnu:/usr/lib/python3.5/lib-dynload:/usr/local/lib/python3.5/dist-packages:/usr/lib/python3/dist-packages\u001b[0m\n",
      "\u001b[31mSM_MODEL_DIR=/opt/ml/model\u001b[0m\n",
      "\u001b[31mSM_USER_ARGS=[\"--epochs\",\"10\",\"--hidden_dim\",\"200\"]\u001b[0m\n",
      "\u001b[31mSM_CHANNEL_TRAINING=/opt/ml/input/data/training\u001b[0m\n",
      "\u001b[31mSM_FRAMEWORK_PARAMS={}\u001b[0m\n",
      "\u001b[31mSM_CURRENT_HOST=algo-1\u001b[0m\n",
      "\u001b[31mSM_NUM_CPUS=4\u001b[0m\n",
      "\u001b[31mSM_RESOURCE_CONFIG={\"current_host\":\"algo-1\",\"hosts\":[\"algo-1\"],\"network_interface_name\":\"eth0\"}\u001b[0m\n",
      "\u001b[31mSM_OUTPUT_DATA_DIR=/opt/ml/output/data\u001b[0m\n",
      "\u001b[31mSM_FRAMEWORK_MODULE=sagemaker_pytorch_container.training:main\u001b[0m\n",
      "\u001b[31mSM_NETWORK_INTERFACE_NAME=eth0\u001b[0m\n",
      "\u001b[31mSM_MODULE_NAME=train\u001b[0m\n",
      "\u001b[31mSM_HPS={\"epochs\":10,\"hidden_dim\":200}\u001b[0m\n",
      "\u001b[31mSM_OUTPUT_DIR=/opt/ml/output\u001b[0m\n",
      "\u001b[31mSM_MODULE_DIR=s3://sagemaker-us-east-2-618582783151/sagemaker-pytorch-2019-07-10-10-03-05-076/source/sourcedir.tar.gz\u001b[0m\n",
      "\u001b[31mSM_HP_HIDDEN_DIM=200\u001b[0m\n",
      "\u001b[31mSM_INPUT_DATA_CONFIG={\"training\":{\"RecordWrapperType\":\"None\",\"S3DistributionType\":\"FullyReplicated\",\"TrainingInputMode\":\"File\"}}\u001b[0m\n",
      "\u001b[31mSM_NUM_GPUS=1\u001b[0m\n",
      "\u001b[31mSM_HOSTS=[\"algo-1\"]\u001b[0m\n",
      "\u001b[31mSM_TRAINING_ENV={\"additional_framework_parameters\":{},\"channel_input_dirs\":{\"training\":\"/opt/ml/input/data/training\"},\"current_host\":\"algo-1\",\"framework_module\":\"sagemaker_pytorch_container.training:main\",\"hosts\":[\"algo-1\"],\"hyperparameters\":{\"epochs\":10,\"hidden_dim\":200},\"input_config_dir\":\"/opt/ml/input/config\",\"input_data_config\":{\"training\":{\"RecordWrapperType\":\"None\",\"S3DistributionType\":\"FullyReplicated\",\"TrainingInputMode\":\"File\"}},\"input_dir\":\"/opt/ml/input\",\"job_name\":\"sagemaker-pytorch-2019-07-10-10-03-05-076\",\"log_level\":20,\"model_dir\":\"/opt/ml/model\",\"module_dir\":\"s3://sagemaker-us-east-2-618582783151/sagemaker-pytorch-2019-07-10-10-03-05-076/source/sourcedir.tar.gz\",\"module_name\":\"train\",\"network_interface_name\":\"eth0\",\"num_cpus\":4,\"num_gpus\":1,\"output_data_dir\":\"/opt/ml/output/data\",\"output_dir\":\"/opt/ml/output\",\"output_intermediate_dir\":\"/opt/ml/output/intermediate\",\"resource_config\":{\"current_host\":\"algo-1\",\"hosts\":[\"algo-1\"],\"network_interface_name\":\"eth0\"},\"user_entry_point\":\"train.py\"}\u001b[0m\n",
      "\u001b[31mSM_CHANNELS=[\"training\"]\u001b[0m\n",
      "\u001b[31mSM_LOG_LEVEL=20\n",
      "\u001b[0m\n",
      "\u001b[31mInvoking script with the following command:\n",
      "\u001b[0m\n",
      "\u001b[31m/usr/bin/python -m train --epochs 10 --hidden_dim 200\n",
      "\n",
      "\u001b[0m\n",
      "\u001b[31mUsing device cuda.\u001b[0m\n",
      "\u001b[31mGet train data loader.\u001b[0m\n",
      "\u001b[31mModel loaded with embedding_dim 32, hidden_dim 200, vocab_size 5000.\u001b[0m\n",
      "\u001b[31mEpoch: 1, BCELoss: 0.6936941317149571\u001b[0m\n",
      "\u001b[31mEpoch: 2, BCELoss: 0.6928423363335279\u001b[0m\n",
      "\u001b[31mEpoch: 3, BCELoss: 0.6926024762951598\u001b[0m\n",
      "\u001b[31mEpoch: 4, BCELoss: 0.6923572262939142\u001b[0m\n",
      "\u001b[31mEpoch: 5, BCELoss: 0.6920872549621426\u001b[0m\n",
      "\u001b[31mEpoch: 6, BCELoss: 0.6932836868325059\u001b[0m\n",
      "\u001b[31mEpoch: 7, BCELoss: 0.6920647718468491\u001b[0m\n",
      "\u001b[31mEpoch: 8, BCELoss: 0.6917847966661259\u001b[0m\n",
      "\u001b[31mEpoch: 9, BCELoss: 0.6914477713254034\u001b[0m\n",
      "\u001b[31mEpoch: 10, BCELoss: 0.6906747817993164\u001b[0m\n",
      "\u001b[31m2019-07-10 10:10:59,662 sagemaker-containers INFO     Reporting training SUCCESS\u001b[0m\n",
      "\n",
      "2019-07-10 10:11:27 Uploading - Uploading generated training model\n",
      "2019-07-10 10:11:27 Completed - Training job completed\n",
      "Billable seconds: 373\n"
     ]
    }
   ],
   "source": [
    "estimator.fit({'training': input_data})"
   ]
  },
  {
   "cell_type": "markdown",
   "metadata": {},
   "source": [
    "## Step 5: Testing the model\n",
    "\n",
    "As mentioned at the top of this notebook, we will be testing this model by first deploying it and then sending the testing data to the deployed endpoint. We will do this so that we can make sure that the deployed model is working correctly.\n",
    "\n",
    "## Step 6: Deploy the model for testing\n",
    "\n",
    "Now that we have trained our model, we would like to test it to see how it performs. Currently our model takes input of the form `review_length, review[500]` where `review[500]` is a sequence of `500` integers which describe the words present in the review, encoded using `word_dict`. Fortunately for us, SageMaker provides built-in inference code for models with simple inputs such as this.\n",
    "\n",
    "There is one thing that we need to provide, however, and that is a function which loads the saved model. This function must be called `model_fn()` and takes as its only parameter a path to the directory where the model artifacts are stored. This function must also be present in the python file which we specified as the entry point. In our case the model loading function has been provided and so no changes need to be made.\n",
    "\n",
    "**NOTE**: When the built-in inference code is run it must import the `model_fn()` method from the `train.py` file. This is why the training code is wrapped in a main guard ( ie, `if __name__ == '__main__':` )\n",
    "\n",
    "Since we don't need to change anything in the code that was uploaded during training, we can simply deploy the current model as-is.\n",
    "\n",
    "**NOTE:** When deploying a model you are asking SageMaker to launch an compute instance that will wait for data to be sent to it. As a result, this compute instance will continue to run until *you* shut it down. This is important to know since the cost of a deployed endpoint depends on how long it has been running for.\n",
    "\n",
    "In other words **If you are no longer using a deployed endpoint, shut it down!**\n",
    "\n",
    "**TODO:** Deploy the trained model."
   ]
  },
  {
   "cell_type": "code",
   "execution_count": 35,
   "metadata": {},
   "outputs": [
    {
     "name": "stderr",
     "output_type": "stream",
     "text": [
      "Using already existing model: sagemaker-pytorch-2019-07-10-10-03-05-076\n"
     ]
    },
    {
     "ename": "ClientError",
     "evalue": "An error occurred (ValidationException) when calling the CreateEndpoint operation: Cannot create already existing endpoint \"arn:aws:sagemaker:us-east-2:618582783151:endpoint/sagemaker-pytorch-2019-07-10-10-03-05-076\".",
     "output_type": "error",
     "traceback": [
      "\u001b[0;31m---------------------------------------------------------------------------\u001b[0m",
      "\u001b[0;31mClientError\u001b[0m                               Traceback (most recent call last)",
      "\u001b[0;32m<ipython-input-35-5bbfacfa3709>\u001b[0m in \u001b[0;36m<module>\u001b[0;34m()\u001b[0m\n\u001b[1;32m      1\u001b[0m \u001b[0;31m# TODO: Deploy the trained model\u001b[0m\u001b[0;34m\u001b[0m\u001b[0;34m\u001b[0m\u001b[0m\n\u001b[0;32m----> 2\u001b[0;31m \u001b[0mpredictor\u001b[0m \u001b[0;34m=\u001b[0m \u001b[0mestimator\u001b[0m\u001b[0;34m.\u001b[0m\u001b[0mdeploy\u001b[0m\u001b[0;34m(\u001b[0m\u001b[0minitial_instance_count\u001b[0m \u001b[0;34m=\u001b[0m \u001b[0;36m1\u001b[0m\u001b[0;34m,\u001b[0m \u001b[0minstance_type\u001b[0m \u001b[0;34m=\u001b[0m \u001b[0;34m'ml.m4.xlarge'\u001b[0m\u001b[0;34m)\u001b[0m\u001b[0;34m\u001b[0m\u001b[0m\n\u001b[0m",
      "\u001b[0;32m~/anaconda3/envs/pytorch_p36/lib/python3.6/site-packages/sagemaker/estimator.py\u001b[0m in \u001b[0;36mdeploy\u001b[0;34m(self, initial_instance_count, instance_type, accelerator_type, endpoint_name, use_compiled_model, update_endpoint, wait, **kwargs)\u001b[0m\n\u001b[1;32m    448\u001b[0m             \u001b[0mupdate_endpoint\u001b[0m\u001b[0;34m=\u001b[0m\u001b[0mupdate_endpoint\u001b[0m\u001b[0;34m,\u001b[0m\u001b[0;34m\u001b[0m\u001b[0m\n\u001b[1;32m    449\u001b[0m             \u001b[0mtags\u001b[0m\u001b[0;34m=\u001b[0m\u001b[0mself\u001b[0m\u001b[0;34m.\u001b[0m\u001b[0mtags\u001b[0m\u001b[0;34m,\u001b[0m\u001b[0;34m\u001b[0m\u001b[0m\n\u001b[0;32m--> 450\u001b[0;31m             \u001b[0mwait\u001b[0m\u001b[0;34m=\u001b[0m\u001b[0mwait\u001b[0m\u001b[0;34m,\u001b[0m\u001b[0;34m\u001b[0m\u001b[0m\n\u001b[0m\u001b[1;32m    451\u001b[0m         )\n\u001b[1;32m    452\u001b[0m \u001b[0;34m\u001b[0m\u001b[0m\n",
      "\u001b[0;32m~/anaconda3/envs/pytorch_p36/lib/python3.6/site-packages/sagemaker/model.py\u001b[0m in \u001b[0;36mdeploy\u001b[0;34m(self, initial_instance_count, instance_type, accelerator_type, endpoint_name, update_endpoint, tags, kms_key, wait)\u001b[0m\n\u001b[1;32m    385\u001b[0m         \u001b[0;32melse\u001b[0m\u001b[0;34m:\u001b[0m\u001b[0;34m\u001b[0m\u001b[0m\n\u001b[1;32m    386\u001b[0m             self.sagemaker_session.endpoint_from_production_variants(\n\u001b[0;32m--> 387\u001b[0;31m                 \u001b[0mself\u001b[0m\u001b[0;34m.\u001b[0m\u001b[0mendpoint_name\u001b[0m\u001b[0;34m,\u001b[0m \u001b[0;34m[\u001b[0m\u001b[0mproduction_variant\u001b[0m\u001b[0;34m]\u001b[0m\u001b[0;34m,\u001b[0m \u001b[0mtags\u001b[0m\u001b[0;34m,\u001b[0m \u001b[0mkms_key\u001b[0m\u001b[0;34m,\u001b[0m \u001b[0mwait\u001b[0m\u001b[0;34m\u001b[0m\u001b[0m\n\u001b[0m\u001b[1;32m    388\u001b[0m             )\n\u001b[1;32m    389\u001b[0m \u001b[0;34m\u001b[0m\u001b[0m\n",
      "\u001b[0;32m~/anaconda3/envs/pytorch_p36/lib/python3.6/site-packages/sagemaker/session.py\u001b[0m in \u001b[0;36mendpoint_from_production_variants\u001b[0;34m(self, name, production_variants, tags, kms_key, wait)\u001b[0m\n\u001b[1;32m   1217\u001b[0m \u001b[0;34m\u001b[0m\u001b[0m\n\u001b[1;32m   1218\u001b[0m             \u001b[0mself\u001b[0m\u001b[0;34m.\u001b[0m\u001b[0msagemaker_client\u001b[0m\u001b[0;34m.\u001b[0m\u001b[0mcreate_endpoint_config\u001b[0m\u001b[0;34m(\u001b[0m\u001b[0;34m**\u001b[0m\u001b[0mconfig_options\u001b[0m\u001b[0;34m)\u001b[0m\u001b[0;34m\u001b[0m\u001b[0m\n\u001b[0;32m-> 1219\u001b[0;31m         \u001b[0;32mreturn\u001b[0m \u001b[0mself\u001b[0m\u001b[0;34m.\u001b[0m\u001b[0mcreate_endpoint\u001b[0m\u001b[0;34m(\u001b[0m\u001b[0mendpoint_name\u001b[0m\u001b[0;34m=\u001b[0m\u001b[0mname\u001b[0m\u001b[0;34m,\u001b[0m \u001b[0mconfig_name\u001b[0m\u001b[0;34m=\u001b[0m\u001b[0mname\u001b[0m\u001b[0;34m,\u001b[0m \u001b[0mtags\u001b[0m\u001b[0;34m=\u001b[0m\u001b[0mtags\u001b[0m\u001b[0;34m,\u001b[0m \u001b[0mwait\u001b[0m\u001b[0;34m=\u001b[0m\u001b[0mwait\u001b[0m\u001b[0;34m)\u001b[0m\u001b[0;34m\u001b[0m\u001b[0m\n\u001b[0m\u001b[1;32m   1220\u001b[0m \u001b[0;34m\u001b[0m\u001b[0m\n\u001b[1;32m   1221\u001b[0m     \u001b[0;32mdef\u001b[0m \u001b[0mexpand_role\u001b[0m\u001b[0;34m(\u001b[0m\u001b[0mself\u001b[0m\u001b[0;34m,\u001b[0m \u001b[0mrole\u001b[0m\u001b[0;34m)\u001b[0m\u001b[0;34m:\u001b[0m\u001b[0;34m\u001b[0m\u001b[0m\n",
      "\u001b[0;32m~/anaconda3/envs/pytorch_p36/lib/python3.6/site-packages/sagemaker/session.py\u001b[0m in \u001b[0;36mcreate_endpoint\u001b[0;34m(self, endpoint_name, config_name, tags, wait)\u001b[0m\n\u001b[1;32m    878\u001b[0m \u001b[0;34m\u001b[0m\u001b[0m\n\u001b[1;32m    879\u001b[0m         self.sagemaker_client.create_endpoint(\n\u001b[0;32m--> 880\u001b[0;31m             \u001b[0mEndpointName\u001b[0m\u001b[0;34m=\u001b[0m\u001b[0mendpoint_name\u001b[0m\u001b[0;34m,\u001b[0m \u001b[0mEndpointConfigName\u001b[0m\u001b[0;34m=\u001b[0m\u001b[0mconfig_name\u001b[0m\u001b[0;34m,\u001b[0m \u001b[0mTags\u001b[0m\u001b[0;34m=\u001b[0m\u001b[0mtags\u001b[0m\u001b[0;34m\u001b[0m\u001b[0m\n\u001b[0m\u001b[1;32m    881\u001b[0m         )\n\u001b[1;32m    882\u001b[0m         \u001b[0;32mif\u001b[0m \u001b[0mwait\u001b[0m\u001b[0;34m:\u001b[0m\u001b[0;34m\u001b[0m\u001b[0m\n",
      "\u001b[0;32m~/anaconda3/envs/pytorch_p36/lib/python3.6/site-packages/botocore/client.py\u001b[0m in \u001b[0;36m_api_call\u001b[0;34m(self, *args, **kwargs)\u001b[0m\n\u001b[1;32m    355\u001b[0m                     \"%s() only accepts keyword arguments.\" % py_operation_name)\n\u001b[1;32m    356\u001b[0m             \u001b[0;31m# The \"self\" in this scope is referring to the BaseClient.\u001b[0m\u001b[0;34m\u001b[0m\u001b[0;34m\u001b[0m\u001b[0m\n\u001b[0;32m--> 357\u001b[0;31m             \u001b[0;32mreturn\u001b[0m \u001b[0mself\u001b[0m\u001b[0;34m.\u001b[0m\u001b[0m_make_api_call\u001b[0m\u001b[0;34m(\u001b[0m\u001b[0moperation_name\u001b[0m\u001b[0;34m,\u001b[0m \u001b[0mkwargs\u001b[0m\u001b[0;34m)\u001b[0m\u001b[0;34m\u001b[0m\u001b[0m\n\u001b[0m\u001b[1;32m    358\u001b[0m \u001b[0;34m\u001b[0m\u001b[0m\n\u001b[1;32m    359\u001b[0m         \u001b[0m_api_call\u001b[0m\u001b[0;34m.\u001b[0m\u001b[0m__name__\u001b[0m \u001b[0;34m=\u001b[0m \u001b[0mstr\u001b[0m\u001b[0;34m(\u001b[0m\u001b[0mpy_operation_name\u001b[0m\u001b[0;34m)\u001b[0m\u001b[0;34m\u001b[0m\u001b[0m\n",
      "\u001b[0;32m~/anaconda3/envs/pytorch_p36/lib/python3.6/site-packages/botocore/client.py\u001b[0m in \u001b[0;36m_make_api_call\u001b[0;34m(self, operation_name, api_params)\u001b[0m\n\u001b[1;32m    659\u001b[0m             \u001b[0merror_code\u001b[0m \u001b[0;34m=\u001b[0m \u001b[0mparsed_response\u001b[0m\u001b[0;34m.\u001b[0m\u001b[0mget\u001b[0m\u001b[0;34m(\u001b[0m\u001b[0;34m\"Error\"\u001b[0m\u001b[0;34m,\u001b[0m \u001b[0;34m{\u001b[0m\u001b[0;34m}\u001b[0m\u001b[0;34m)\u001b[0m\u001b[0;34m.\u001b[0m\u001b[0mget\u001b[0m\u001b[0;34m(\u001b[0m\u001b[0;34m\"Code\"\u001b[0m\u001b[0;34m)\u001b[0m\u001b[0;34m\u001b[0m\u001b[0m\n\u001b[1;32m    660\u001b[0m             \u001b[0merror_class\u001b[0m \u001b[0;34m=\u001b[0m \u001b[0mself\u001b[0m\u001b[0;34m.\u001b[0m\u001b[0mexceptions\u001b[0m\u001b[0;34m.\u001b[0m\u001b[0mfrom_code\u001b[0m\u001b[0;34m(\u001b[0m\u001b[0merror_code\u001b[0m\u001b[0;34m)\u001b[0m\u001b[0;34m\u001b[0m\u001b[0m\n\u001b[0;32m--> 661\u001b[0;31m             \u001b[0;32mraise\u001b[0m \u001b[0merror_class\u001b[0m\u001b[0;34m(\u001b[0m\u001b[0mparsed_response\u001b[0m\u001b[0;34m,\u001b[0m \u001b[0moperation_name\u001b[0m\u001b[0;34m)\u001b[0m\u001b[0;34m\u001b[0m\u001b[0m\n\u001b[0m\u001b[1;32m    662\u001b[0m         \u001b[0;32melse\u001b[0m\u001b[0;34m:\u001b[0m\u001b[0;34m\u001b[0m\u001b[0m\n\u001b[1;32m    663\u001b[0m             \u001b[0;32mreturn\u001b[0m \u001b[0mparsed_response\u001b[0m\u001b[0;34m\u001b[0m\u001b[0m\n",
      "\u001b[0;31mClientError\u001b[0m: An error occurred (ValidationException) when calling the CreateEndpoint operation: Cannot create already existing endpoint \"arn:aws:sagemaker:us-east-2:618582783151:endpoint/sagemaker-pytorch-2019-07-10-10-03-05-076\"."
     ]
    }
   ],
   "source": [
    "# TODO: Deploy the trained model\n",
    "predictor = estimator.deploy(initial_instance_count = 1, instance_type = 'ml.m4.xlarge')"
   ]
  },
  {
   "cell_type": "markdown",
   "metadata": {},
   "source": [
    "## Step 7 - Use the model for testing\n",
    "\n",
    "Once deployed, we can read in the test data and send it off to our deployed model to get some results. Once we collect all of the results we can determine how accurate our model is."
   ]
  },
  {
   "cell_type": "code",
   "execution_count": 36,
   "metadata": {},
   "outputs": [],
   "source": [
    "test_X = pd.concat([pd.DataFrame(test_X_len), pd.DataFrame(test_X)], axis=1)"
   ]
  },
  {
   "cell_type": "code",
   "execution_count": 37,
   "metadata": {},
   "outputs": [],
   "source": [
    "# We split the data into chunks and send each chunk seperately, accumulating the results.\n",
    "\n",
    "def predict(data, rows=512):\n",
    "    split_array = np.array_split(data, int(data.shape[0] / float(rows) + 1))\n",
    "    predictions = np.array([])\n",
    "    for array in split_array:\n",
    "        predictions = np.append(predictions, predictor.predict(array))\n",
    "    \n",
    "    return predictions"
   ]
  },
  {
   "cell_type": "code",
   "execution_count": 38,
   "metadata": {},
   "outputs": [],
   "source": [
    "predictions = predict(test_X.values)\n",
    "predictions = [round(num) for num in predictions]"
   ]
  },
  {
   "cell_type": "code",
   "execution_count": 39,
   "metadata": {},
   "outputs": [
    {
     "data": {
      "text/plain": [
       "0.5174"
      ]
     },
     "execution_count": 39,
     "metadata": {},
     "output_type": "execute_result"
    }
   ],
   "source": [
    "from sklearn.metrics import accuracy_score\n",
    "accuracy_score(test_y, predictions)"
   ]
  },
  {
   "cell_type": "markdown",
   "metadata": {},
   "source": [
    "**Question:** How does this model compare to the XGBoost model you created earlier? Why might these two models perform differently on this dataset? Which do *you* think is better for sentiment analysis?"
   ]
  },
  {
   "cell_type": "markdown",
   "metadata": {},
   "source": [
    "**Answer:** The RNN model should be better than the XGBoost"
   ]
  },
  {
   "cell_type": "markdown",
   "metadata": {},
   "source": [
    "### (TODO) More testing\n",
    "\n",
    "We now have a trained model which has been deployed and which we can send processed reviews to and which returns the predicted sentiment. However, ultimately we would like to be able to send our model an unprocessed review. That is, we would like to send the review itself as a string. For example, suppose we wish to send the following review to our model."
   ]
  },
  {
   "cell_type": "code",
   "execution_count": 40,
   "metadata": {},
   "outputs": [],
   "source": [
    "test_review = 'The simplest pleasures in life are the best, and this film is one of them. Combining a rather basic storyline of love and adventure this movie transcends the usual weekend fair with wit and unmitigated charm.'"
   ]
  },
  {
   "cell_type": "markdown",
   "metadata": {},
   "source": [
    "The question we now need to answer is, how do we send this review to our model?\n",
    "\n",
    "Recall in the first section of this notebook we did a bunch of data processing to the IMDb dataset. In particular, we did two specific things to the provided reviews.\n",
    " - Removed any html tags and stemmed the input\n",
    " - Encoded the review as a sequence of integers using `word_dict`\n",
    " \n",
    "In order process the review we will need to repeat these two steps.\n",
    "\n",
    "**TODO**: Using the `review_to_words` and `convert_and_pad` methods from section one, convert `test_review` into a numpy array `test_data` suitable to send to our model. Remember that our model expects input of the form `review_length, review[500]`."
   ]
  },
  {
   "cell_type": "code",
   "execution_count": 46,
   "metadata": {},
   "outputs": [],
   "source": [
    "# TODO: Convert test_review into a form usable by the model and save the results in test_data\n",
    "review_words = review_to_words(test_review)\n",
    "test_data = convert_and_pad(word_dict, review_words)"
   ]
  },
  {
   "cell_type": "markdown",
   "metadata": {},
   "source": [
    "Now that we have processed the review, we can send the resulting array to our model to predict the sentiment of the review."
   ]
  },
  {
   "cell_type": "code",
   "execution_count": 47,
   "metadata": {},
   "outputs": [
    {
     "ename": "ModelError",
     "evalue": "An error occurred (ModelError) when calling the InvokeEndpoint operation: Received server error (500) from model with message \"<!DOCTYPE HTML PUBLIC \"-//W3C//DTD HTML 3.2 Final//EN\">\n<title>500 Internal Server Error</title>\n<h1>Internal Server Error</h1>\n<p>The server encountered an internal error and was unable to complete your request.  Either the server is overloaded or there is an error in the application.</p>\n\". See https://us-east-2.console.aws.amazon.com/cloudwatch/home?region=us-east-2#logEventViewer:group=/aws/sagemaker/Endpoints/sagemaker-pytorch-2019-07-10-10-03-05-076 in account 618582783151 for more information.",
     "output_type": "error",
     "traceback": [
      "\u001b[0;31m---------------------------------------------------------------------------\u001b[0m",
      "\u001b[0;31mModelError\u001b[0m                                Traceback (most recent call last)",
      "\u001b[0;32m<ipython-input-47-61ff0951d88d>\u001b[0m in \u001b[0;36m<module>\u001b[0;34m()\u001b[0m\n\u001b[0;32m----> 1\u001b[0;31m \u001b[0mpredictor\u001b[0m\u001b[0;34m.\u001b[0m\u001b[0mpredict\u001b[0m\u001b[0;34m(\u001b[0m\u001b[0mtest_data\u001b[0m\u001b[0;34m)\u001b[0m\u001b[0;34m\u001b[0m\u001b[0m\n\u001b[0m",
      "\u001b[0;32m~/anaconda3/envs/pytorch_p36/lib/python3.6/site-packages/sagemaker/predictor.py\u001b[0m in \u001b[0;36mpredict\u001b[0;34m(self, data, initial_args)\u001b[0m\n\u001b[1;32m     85\u001b[0m \u001b[0;34m\u001b[0m\u001b[0m\n\u001b[1;32m     86\u001b[0m         \u001b[0mrequest_args\u001b[0m \u001b[0;34m=\u001b[0m \u001b[0mself\u001b[0m\u001b[0;34m.\u001b[0m\u001b[0m_create_request_args\u001b[0m\u001b[0;34m(\u001b[0m\u001b[0mdata\u001b[0m\u001b[0;34m,\u001b[0m \u001b[0minitial_args\u001b[0m\u001b[0;34m)\u001b[0m\u001b[0;34m\u001b[0m\u001b[0m\n\u001b[0;32m---> 87\u001b[0;31m         \u001b[0mresponse\u001b[0m \u001b[0;34m=\u001b[0m \u001b[0mself\u001b[0m\u001b[0;34m.\u001b[0m\u001b[0msagemaker_session\u001b[0m\u001b[0;34m.\u001b[0m\u001b[0msagemaker_runtime_client\u001b[0m\u001b[0;34m.\u001b[0m\u001b[0minvoke_endpoint\u001b[0m\u001b[0;34m(\u001b[0m\u001b[0;34m**\u001b[0m\u001b[0mrequest_args\u001b[0m\u001b[0;34m)\u001b[0m\u001b[0;34m\u001b[0m\u001b[0m\n\u001b[0m\u001b[1;32m     88\u001b[0m         \u001b[0;32mreturn\u001b[0m \u001b[0mself\u001b[0m\u001b[0;34m.\u001b[0m\u001b[0m_handle_response\u001b[0m\u001b[0;34m(\u001b[0m\u001b[0mresponse\u001b[0m\u001b[0;34m)\u001b[0m\u001b[0;34m\u001b[0m\u001b[0m\n\u001b[1;32m     89\u001b[0m \u001b[0;34m\u001b[0m\u001b[0m\n",
      "\u001b[0;32m~/anaconda3/envs/pytorch_p36/lib/python3.6/site-packages/botocore/client.py\u001b[0m in \u001b[0;36m_api_call\u001b[0;34m(self, *args, **kwargs)\u001b[0m\n\u001b[1;32m    355\u001b[0m                     \"%s() only accepts keyword arguments.\" % py_operation_name)\n\u001b[1;32m    356\u001b[0m             \u001b[0;31m# The \"self\" in this scope is referring to the BaseClient.\u001b[0m\u001b[0;34m\u001b[0m\u001b[0;34m\u001b[0m\u001b[0m\n\u001b[0;32m--> 357\u001b[0;31m             \u001b[0;32mreturn\u001b[0m \u001b[0mself\u001b[0m\u001b[0;34m.\u001b[0m\u001b[0m_make_api_call\u001b[0m\u001b[0;34m(\u001b[0m\u001b[0moperation_name\u001b[0m\u001b[0;34m,\u001b[0m \u001b[0mkwargs\u001b[0m\u001b[0;34m)\u001b[0m\u001b[0;34m\u001b[0m\u001b[0m\n\u001b[0m\u001b[1;32m    358\u001b[0m \u001b[0;34m\u001b[0m\u001b[0m\n\u001b[1;32m    359\u001b[0m         \u001b[0m_api_call\u001b[0m\u001b[0;34m.\u001b[0m\u001b[0m__name__\u001b[0m \u001b[0;34m=\u001b[0m \u001b[0mstr\u001b[0m\u001b[0;34m(\u001b[0m\u001b[0mpy_operation_name\u001b[0m\u001b[0;34m)\u001b[0m\u001b[0;34m\u001b[0m\u001b[0m\n",
      "\u001b[0;32m~/anaconda3/envs/pytorch_p36/lib/python3.6/site-packages/botocore/client.py\u001b[0m in \u001b[0;36m_make_api_call\u001b[0;34m(self, operation_name, api_params)\u001b[0m\n\u001b[1;32m    659\u001b[0m             \u001b[0merror_code\u001b[0m \u001b[0;34m=\u001b[0m \u001b[0mparsed_response\u001b[0m\u001b[0;34m.\u001b[0m\u001b[0mget\u001b[0m\u001b[0;34m(\u001b[0m\u001b[0;34m\"Error\"\u001b[0m\u001b[0;34m,\u001b[0m \u001b[0;34m{\u001b[0m\u001b[0;34m}\u001b[0m\u001b[0;34m)\u001b[0m\u001b[0;34m.\u001b[0m\u001b[0mget\u001b[0m\u001b[0;34m(\u001b[0m\u001b[0;34m\"Code\"\u001b[0m\u001b[0;34m)\u001b[0m\u001b[0;34m\u001b[0m\u001b[0m\n\u001b[1;32m    660\u001b[0m             \u001b[0merror_class\u001b[0m \u001b[0;34m=\u001b[0m \u001b[0mself\u001b[0m\u001b[0;34m.\u001b[0m\u001b[0mexceptions\u001b[0m\u001b[0;34m.\u001b[0m\u001b[0mfrom_code\u001b[0m\u001b[0;34m(\u001b[0m\u001b[0merror_code\u001b[0m\u001b[0;34m)\u001b[0m\u001b[0;34m\u001b[0m\u001b[0m\n\u001b[0;32m--> 661\u001b[0;31m             \u001b[0;32mraise\u001b[0m \u001b[0merror_class\u001b[0m\u001b[0;34m(\u001b[0m\u001b[0mparsed_response\u001b[0m\u001b[0;34m,\u001b[0m \u001b[0moperation_name\u001b[0m\u001b[0;34m)\u001b[0m\u001b[0;34m\u001b[0m\u001b[0m\n\u001b[0m\u001b[1;32m    662\u001b[0m         \u001b[0;32melse\u001b[0m\u001b[0;34m:\u001b[0m\u001b[0;34m\u001b[0m\u001b[0m\n\u001b[1;32m    663\u001b[0m             \u001b[0;32mreturn\u001b[0m \u001b[0mparsed_response\u001b[0m\u001b[0;34m\u001b[0m\u001b[0m\n",
      "\u001b[0;31mModelError\u001b[0m: An error occurred (ModelError) when calling the InvokeEndpoint operation: Received server error (500) from model with message \"<!DOCTYPE HTML PUBLIC \"-//W3C//DTD HTML 3.2 Final//EN\">\n<title>500 Internal Server Error</title>\n<h1>Internal Server Error</h1>\n<p>The server encountered an internal error and was unable to complete your request.  Either the server is overloaded or there is an error in the application.</p>\n\". See https://us-east-2.console.aws.amazon.com/cloudwatch/home?region=us-east-2#logEventViewer:group=/aws/sagemaker/Endpoints/sagemaker-pytorch-2019-07-10-10-03-05-076 in account 618582783151 for more information."
     ]
    }
   ],
   "source": [
    "predictor.predict(test_data)"
   ]
  },
  {
   "cell_type": "markdown",
   "metadata": {},
   "source": [
    "Since the return value of our model is close to `1`, we can be certain that the review we submitted is positive."
   ]
  },
  {
   "cell_type": "markdown",
   "metadata": {},
   "source": [
    "### Delete the endpoint\n",
    "\n",
    "Of course, just like in the XGBoost notebook, once we've deployed an endpoint it continues to run until we tell it to shut down. Since we are done using our endpoint for now, we can delete it."
   ]
  },
  {
   "cell_type": "code",
   "execution_count": null,
   "metadata": {},
   "outputs": [],
   "source": [
    "estimator.delete_endpoint()"
   ]
  },
  {
   "cell_type": "markdown",
   "metadata": {},
   "source": [
    "## Step 6 (again) - Deploy the model for the web app\n",
    "\n",
    "Now that we know that our model is working, it's time to create some custom inference code so that we can send the model a review which has not been processed and have it determine the sentiment of the review.\n",
    "\n",
    "As we saw above, by default the estimator which we created, when deployed, will use the entry script and directory which we provided when creating the model. However, since we now wish to accept a string as input and our model expects a processed review, we need to write some custom inference code.\n",
    "\n",
    "We will store the code that we write in the `serve` directory. Provided in this directory is the `model.py` file that we used to construct our model, a `utils.py` file which contains the `review_to_words` and `convert_and_pad` pre-processing functions which we used during the initial data processing, and `predict.py`, the file which will contain our custom inference code. Note also that `requirements.txt` is present which will tell SageMaker what Python libraries are required by our custom inference code.\n",
    "\n",
    "When deploying a PyTorch model in SageMaker, you are expected to provide four functions which the SageMaker inference container will use.\n",
    " - `model_fn`: This function is the same function that we used in the training script and it tells SageMaker how to load our model.\n",
    " - `input_fn`: This function receives the raw serialized input that has been sent to the model's endpoint and its job is to de-serialize and make the input available for the inference code.\n",
    " - `output_fn`: This function takes the output of the inference code and its job is to serialize this output and return it to the caller of the model's endpoint.\n",
    " - `predict_fn`: The heart of the inference script, this is where the actual prediction is done and is the function which you will need to complete.\n",
    "\n",
    "For the simple website that we are constructing during this project, the `input_fn` and `output_fn` methods are relatively straightforward. We only require being able to accept a string as input and we expect to return a single value as output. You might imagine though that in a more complex application the input or output may be image data or some other binary data which would require some effort to serialize.\n",
    "\n",
    "### (TODO) Writing inference code\n",
    "\n",
    "Before writing our custom inference code, we will begin by taking a look at the code which has been provided."
   ]
  },
  {
   "cell_type": "code",
   "execution_count": null,
   "metadata": {},
   "outputs": [],
   "source": [
    "!pygmentize serve/predict.py"
   ]
  },
  {
   "cell_type": "markdown",
   "metadata": {},
   "source": [
    "As mentioned earlier, the `model_fn` method is the same as the one provided in the training code and the `input_fn` and `output_fn` methods are very simple and your task will be to complete the `predict_fn` method. Make sure that you save the completed file as `predict.py` in the `serve` directory.\n",
    "\n",
    "**TODO**: Complete the `predict_fn()` method in the `serve/predict.py` file."
   ]
  },
  {
   "cell_type": "markdown",
   "metadata": {},
   "source": [
    "### Deploying the model\n",
    "\n",
    "Now that the custom inference code has been written, we will create and deploy our model. To begin with, we need to construct a new PyTorchModel object which points to the model artifacts created during training and also points to the inference code that we wish to use. Then we can call the deploy method to launch the deployment container.\n",
    "\n",
    "**NOTE**: The default behaviour for a deployed PyTorch model is to assume that any input passed to the predictor is a `numpy` array. In our case we want to send a string so we need to construct a simple wrapper around the `RealTimePredictor` class to accomodate simple strings. In a more complicated situation you may want to provide a serialization object, for example if you wanted to sent image data."
   ]
  },
  {
   "cell_type": "code",
   "execution_count": null,
   "metadata": {},
   "outputs": [],
   "source": [
    "from sagemaker.predictor import RealTimePredictor\n",
    "from sagemaker.pytorch import PyTorchModel\n",
    "\n",
    "class StringPredictor(RealTimePredictor):\n",
    "    def __init__(self, endpoint_name, sagemaker_session):\n",
    "        super(StringPredictor, self).__init__(endpoint_name, sagemaker_session, content_type='text/plain')\n",
    "\n",
    "model = PyTorchModel(model_data=estimator.model_data,\n",
    "                     role = role,\n",
    "                     framework_version='0.4.0',\n",
    "                     entry_point='predict.py',\n",
    "                     source_dir='serve',\n",
    "                     predictor_cls=StringPredictor)\n",
    "predictor = model.deploy(initial_instance_count=1, instance_type='ml.m4.xlarge')"
   ]
  },
  {
   "cell_type": "markdown",
   "metadata": {},
   "source": [
    "### Testing the model\n",
    "\n",
    "Now that we have deployed our model with the custom inference code, we should test to see if everything is working. Here we test our model by loading the first `250` positive and negative reviews and send them to the endpoint, then collect the results. The reason for only sending some of the data is that the amount of time it takes for our model to process the input and then perform inference is quite long and so testing the entire data set would be prohibitive."
   ]
  },
  {
   "cell_type": "code",
   "execution_count": null,
   "metadata": {},
   "outputs": [],
   "source": [
    "import glob\n",
    "\n",
    "def test_reviews(data_dir='../data/aclImdb', stop=250):\n",
    "    \n",
    "    results = []\n",
    "    ground = []\n",
    "    \n",
    "    # We make sure to test both positive and negative reviews    \n",
    "    for sentiment in ['pos', 'neg']:\n",
    "        \n",
    "        path = os.path.join(data_dir, 'test', sentiment, '*.txt')\n",
    "        files = glob.glob(path)\n",
    "        \n",
    "        files_read = 0\n",
    "        \n",
    "        print('Starting ', sentiment, ' files')\n",
    "        \n",
    "        # Iterate through the files and send them to the predictor\n",
    "        for f in files:\n",
    "            with open(f) as review:\n",
    "                # First, we store the ground truth (was the review positive or negative)\n",
    "                if sentiment == 'pos':\n",
    "                    ground.append(1)\n",
    "                else:\n",
    "                    ground.append(0)\n",
    "                # Read in the review and convert to 'utf-8' for transmission via HTTP\n",
    "                review_input = review.read().encode('utf-8')\n",
    "                # Send the review to the predictor and store the results\n",
    "                results.append(int(predictor.predict(review_input)))\n",
    "                \n",
    "            # Sending reviews to our endpoint one at a time takes a while so we\n",
    "            # only send a small number of reviews\n",
    "            files_read += 1\n",
    "            if files_read == stop:\n",
    "                break\n",
    "            \n",
    "    return ground, results"
   ]
  },
  {
   "cell_type": "code",
   "execution_count": null,
   "metadata": {},
   "outputs": [],
   "source": [
    "ground, results = test_reviews()"
   ]
  },
  {
   "cell_type": "code",
   "execution_count": null,
   "metadata": {},
   "outputs": [],
   "source": [
    "from sklearn.metrics import accuracy_score\n",
    "accuracy_score(ground, results)"
   ]
  },
  {
   "cell_type": "markdown",
   "metadata": {},
   "source": [
    "As an additional test, we can try sending the `test_review` that we looked at earlier."
   ]
  },
  {
   "cell_type": "code",
   "execution_count": null,
   "metadata": {},
   "outputs": [],
   "source": [
    "predictor.predict(test_review)"
   ]
  },
  {
   "cell_type": "markdown",
   "metadata": {},
   "source": [
    "Now that we know our endpoint is working as expected, we can set up the web page that will interact with it. If you don't have time to finish the project now, make sure to skip down to the end of this notebook and shut down your endpoint. You can deploy it again when you come back."
   ]
  },
  {
   "cell_type": "markdown",
   "metadata": {},
   "source": [
    "## Step 7 (again): Use the model for the web app\n",
    "\n",
    "> **TODO:** This entire section and the next contain tasks for you to complete, mostly using the AWS console.\n",
    "\n",
    "So far we have been accessing our model endpoint by constructing a predictor object which uses the endpoint and then just using the predictor object to perform inference. What if we wanted to create a web app which accessed our model? The way things are set up currently makes that not possible since in order to access a SageMaker endpoint the app would first have to authenticate with AWS using an IAM role which included access to SageMaker endpoints. However, there is an easier way! We just need to use some additional AWS services.\n",
    "\n",
    "<img src=\"Web App Diagram.svg\">\n",
    "\n",
    "The diagram above gives an overview of how the various services will work together. On the far right is the model which we trained above and which is deployed using SageMaker. On the far left is our web app that collects a user's movie review, sends it off and expects a positive or negative sentiment in return.\n",
    "\n",
    "In the middle is where some of the magic happens. We will construct a Lambda function, which you can think of as a straightforward Python function that can be executed whenever a specified event occurs. We will give this function permission to send and recieve data from a SageMaker endpoint.\n",
    "\n",
    "Lastly, the method we will use to execute the Lambda function is a new endpoint that we will create using API Gateway. This endpoint will be a url that listens for data to be sent to it. Once it gets some data it will pass that data on to the Lambda function and then return whatever the Lambda function returns. Essentially it will act as an interface that lets our web app communicate with the Lambda function.\n",
    "\n",
    "### Setting up a Lambda function\n",
    "\n",
    "The first thing we are going to do is set up a Lambda function. This Lambda function will be executed whenever our public API has data sent to it. When it is executed it will receive the data, perform any sort of processing that is required, send the data (the review) to the SageMaker endpoint we've created and then return the result.\n",
    "\n",
    "#### Part A: Create an IAM Role for the Lambda function\n",
    "\n",
    "Since we want the Lambda function to call a SageMaker endpoint, we need to make sure that it has permission to do so. To do this, we will construct a role that we can later give the Lambda function.\n",
    "\n",
    "Using the AWS Console, navigate to the **IAM** page and click on **Roles**. Then, click on **Create role**. Make sure that the **AWS service** is the type of trusted entity selected and choose **Lambda** as the service that will use this role, then click **Next: Permissions**.\n",
    "\n",
    "In the search box type `sagemaker` and select the check box next to the **AmazonSageMakerFullAccess** policy. Then, click on **Next: Review**.\n",
    "\n",
    "Lastly, give this role a name. Make sure you use a name that you will remember later on, for example `LambdaSageMakerRole`. Then, click on **Create role**.\n",
    "\n",
    "#### Part B: Create a Lambda function\n",
    "\n",
    "Now it is time to actually create the Lambda function.\n",
    "\n",
    "Using the AWS Console, navigate to the AWS Lambda page and click on **Create a function**. When you get to the next page, make sure that **Author from scratch** is selected. Now, name your Lambda function, using a name that you will remember later on, for example `sentiment_analysis_func`. Make sure that the **Python 3.6** runtime is selected and then choose the role that you created in the previous part. Then, click on **Create Function**.\n",
    "\n",
    "On the next page you will see some information about the Lambda function you've just created. If you scroll down you should see an editor in which you can write the code that will be executed when your Lambda function is triggered. In our example, we will use the code below. \n",
    "\n",
    "```python\n",
    "# We need to use the low-level library to interact with SageMaker since the SageMaker API\n",
    "# is not available natively through Lambda.\n",
    "import boto3\n",
    "\n",
    "def lambda_handler(event, context):\n",
    "\n",
    "    # The SageMaker runtime is what allows us to invoke the endpoint that we've created.\n",
    "    runtime = boto3.Session().client('sagemaker-runtime')\n",
    "\n",
    "    # Now we use the SageMaker runtime to invoke our endpoint, sending the review we were given\n",
    "    response = runtime.invoke_endpoint(EndpointName = '**ENDPOINT NAME HERE**',    # The name of the endpoint we created\n",
    "                                       ContentType = 'text/plain',                 # The data format that is expected\n",
    "                                       Body = event['body'])                       # The actual review\n",
    "\n",
    "    # The response is an HTTP response whose body contains the result of our inference\n",
    "    result = response['Body'].read().decode('utf-8')\n",
    "\n",
    "    return {\n",
    "        'statusCode' : 200,\n",
    "        'headers' : { 'Content-Type' : 'text/plain', 'Access-Control-Allow-Origin' : '*' },\n",
    "        'body' : result\n",
    "    }\n",
    "```\n",
    "\n",
    "Once you have copy and pasted the code above into the Lambda code editor, replace the `**ENDPOINT NAME HERE**` portion with the name of the endpoint that we deployed earlier. You can determine the name of the endpoint using the code cell below."
   ]
  },
  {
   "cell_type": "code",
   "execution_count": null,
   "metadata": {},
   "outputs": [],
   "source": [
    "predictor.endpoint"
   ]
  },
  {
   "cell_type": "markdown",
   "metadata": {},
   "source": [
    "Once you have added the endpoint name to the Lambda function, click on **Save**. Your Lambda function is now up and running. Next we need to create a way for our web app to execute the Lambda function.\n",
    "\n",
    "### Setting up API Gateway\n",
    "\n",
    "Now that our Lambda function is set up, it is time to create a new API using API Gateway that will trigger the Lambda function we have just created.\n",
    "\n",
    "Using AWS Console, navigate to **Amazon API Gateway** and then click on **Get started**.\n",
    "\n",
    "On the next page, make sure that **New API** is selected and give the new api a name, for example, `sentiment_analysis_api`. Then, click on **Create API**.\n",
    "\n",
    "Now we have created an API, however it doesn't currently do anything. What we want it to do is to trigger the Lambda function that we created earlier.\n",
    "\n",
    "Select the **Actions** dropdown menu and click **Create Method**. A new blank method will be created, select its dropdown menu and select **POST**, then click on the check mark beside it.\n",
    "\n",
    "For the integration point, make sure that **Lambda Function** is selected and click on the **Use Lambda Proxy integration**. This option makes sure that the data that is sent to the API is then sent directly to the Lambda function with no processing. It also means that the return value must be a proper response object as it will also not be processed by API Gateway.\n",
    "\n",
    "Type the name of the Lambda function you created earlier into the **Lambda Function** text entry box and then click on **Save**. Click on **OK** in the pop-up box that then appears, giving permission to API Gateway to invoke the Lambda function you created.\n",
    "\n",
    "The last step in creating the API Gateway is to select the **Actions** dropdown and click on **Deploy API**. You will need to create a new Deployment stage and name it anything you like, for example `prod`.\n",
    "\n",
    "You have now successfully set up a public API to access your SageMaker model. Make sure to copy or write down the URL provided to invoke your newly created public API as this will be needed in the next step. This URL can be found at the top of the page, highlighted in blue next to the text **Invoke URL**."
   ]
  },
  {
   "cell_type": "markdown",
   "metadata": {},
   "source": [
    "## Step 4: Deploying our web app\n",
    "\n",
    "Now that we have a publicly available API, we can start using it in a web app. For our purposes, we have provided a simple static html file which can make use of the public api you created earlier.\n",
    "\n",
    "In the `website` folder there should be a file called `index.html`. Download the file to your computer and open that file up in a text editor of your choice. There should be a line which contains **\\*\\*REPLACE WITH PUBLIC API URL\\*\\***. Replace this string with the url that you wrote down in the last step and then save the file.\n",
    "\n",
    "Now, if you open `index.html` on your local computer, your browser will behave as a local web server and you can use the provided site to interact with your SageMaker model.\n",
    "\n",
    "If you'd like to go further, you can host this html file anywhere you'd like, for example using github or hosting a static site on Amazon's S3. Once you have done this you can share the link with anyone you'd like and have them play with it too!\n",
    "\n",
    "> **Important Note** In order for the web app to communicate with the SageMaker endpoint, the endpoint has to actually be deployed and running. This means that you are paying for it. Make sure that the endpoint is running when you want to use the web app but that you shut it down when you don't need it, otherwise you will end up with a surprisingly large AWS bill.\n",
    "\n",
    "**TODO:** Make sure that you include the edited `index.html` file in your project submission."
   ]
  },
  {
   "cell_type": "markdown",
   "metadata": {},
   "source": [
    "Now that your web app is working, trying playing around with it and see how well it works.\n",
    "\n",
    "**Question**: Give an example of a review that you entered into your web app. What was the predicted sentiment of your example review?"
   ]
  },
  {
   "cell_type": "markdown",
   "metadata": {},
   "source": [
    "**Answer:**"
   ]
  },
  {
   "cell_type": "markdown",
   "metadata": {},
   "source": [
    "### Delete the endpoint\n",
    "\n",
    "Remember to always shut down your endpoint if you are no longer using it. You are charged for the length of time that the endpoint is running so if you forget and leave it on you could end up with an unexpectedly large bill."
   ]
  },
  {
   "cell_type": "code",
   "execution_count": null,
   "metadata": {},
   "outputs": [],
   "source": [
    "predictor.delete_endpoint()"
   ]
  },
  {
   "cell_type": "code",
   "execution_count": null,
   "metadata": {},
   "outputs": [],
   "source": []
  }
 ],
 "metadata": {
  "kernelspec": {
   "display_name": "conda_pytorch_p36",
   "language": "python",
   "name": "conda_pytorch_p36"
  },
  "language_info": {
   "codemirror_mode": {
    "name": "ipython",
    "version": 3
   },
   "file_extension": ".py",
   "mimetype": "text/x-python",
   "name": "python",
   "nbconvert_exporter": "python",
   "pygments_lexer": "ipython3",
   "version": "3.6.5"
  }
 },
 "nbformat": 4,
 "nbformat_minor": 2
}
